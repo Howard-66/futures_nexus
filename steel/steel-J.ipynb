{
 "cells": [
  {
   "cell_type": "markdown",
   "metadata": {},
   "source": [
    "# 黑色金属 - 焦炭"
   ]
  },
  {
   "cell_type": "code",
   "execution_count": 2,
   "metadata": {},
   "outputs": [],
   "source": [
    "# 设置工作目录\n",
    "import os\n",
    "os.getcwd()\n",
    "if os.name == 'posix':\n",
    "    os.chdir('/Volumes/Repository/Projects/ffa/')\n",
    "else:\n",
    "    os.chdir(\"E:\\\\Document\\\\Project\\\\ffa\")"
   ]
  },
  {
   "cell_type": "code",
   "execution_count": 3,
   "metadata": {},
   "outputs": [],
   "source": [
    "# 加载依赖模块\n",
    "import pandas as pd\n",
    "import akshare as ak\n",
    "import plotly.graph_objects as go\n",
    "import plotly.express as px\n",
    "from plotly.subplots import make_subplots\n",
    "from datetime import datetime, date\n",
    "import importlib\n",
    "import commodity\n",
    "import json\n",
    "import dataworks as dw"
   ]
  },
  {
   "cell_type": "code",
   "execution_count": 45,
   "metadata": {},
   "outputs": [
    {
     "data": {
      "text/plain": [
       "<module 'commodity' from '/Volumes/Repository/Projects/ffa/commodity.py'>"
      ]
     },
     "execution_count": 45,
     "metadata": {},
     "output_type": "execute_result"
    }
   ],
   "source": [
    "# 重新加载salary计算模块\n",
    "importlib.reload(commodity)"
   ]
  },
  {
   "cell_type": "markdown",
   "metadata": {},
   "source": [
    "## 数据准备与预处理"
   ]
  },
  {
   "cell_type": "code",
   "execution_count": 4,
   "metadata": {},
   "outputs": [],
   "source": [
    "symbol_id = 'J'\n",
    "symbol_name = '焦炭'\n",
    "fBasePath = 'steel/data/up-stream/焦炭/'\n",
    "json_file = './steel/setting.json'"
   ]
  },
  {
   "cell_type": "markdown",
   "metadata": {},
   "source": [
    "### 数据索引设置"
   ]
  },
  {
   "cell_type": "code",
   "execution_count": 5,
   "metadata": {},
   "outputs": [],
   "source": [
    "# 品种数据索引初始化\n",
    "# 首次使用json配置文件存取品种的数据索引\n",
    "data_index = {#'主力合约': {'Name': \"dominant_contract\", 'Source':'AKShare', 'Path': fBasePath + '.xlsx', 'Field':'dominant_contract', 'DataFrame': \"df_basis\"},\n",
    "                #'近月合约': {'Name': \"near_contract\", 'Source':'AKShare', 'Path': fBasePath + '.xlsx', 'Field':'near_contract', 'DataFrame': \"df_basis\"},\n",
    "                '主力合约收盘价': {'Name': \"dominant_close_price\", 'Source':'SQLite', 'Path': 'dominant', 'Field':'收盘价', 'DataFrame': \"df_dominant\"},\n",
    "                '主力合约结算价': {'Name': \"dominant_settle_price\", 'Source':'SQLite', 'Path': 'dominant', 'Field':'动态结算价', 'DataFrame': \"df_dominant\"},\n",
    "                '主力合约持仓量': {'Name': \"dominant_open_interest\", 'Source':'SQLite', 'Path': 'dominant', 'Field':'持仓量', 'DataFrame': \"df_dominant\"},\n",
    "                '近月合约收盘价': {'Name': \"near_close_price\", 'Source':'SQLite', 'Path': 'near', 'Field':'close', 'DataFrame': \"df_near\"},\n",
    "                '近月合约结算价': {'Name': \"near_settle_price\", 'Source':'SQLite', 'Path': 'near', 'Field':'settle', 'DataFrame': \"df_near\"},\n",
    "                '近月合约持仓量': {'Name': \"near_open_interest\", 'Source':'SQLite', 'Path': 'near', 'Field':'open_interest', 'DataFrame': \"df_near\"}, \n",
    "                '现货价格': {'Name': \"spot_price\", 'Source':'Choice', 'Path': fBasePath + '焦炭基差.xlsx', 'Field':'现货价格:焦炭', 'DataFrame': \"df_basis\"},\n",
    "                #'基差': {'Name': \"basis\", 'Source':'AKShare', 'Path': fBasePath + '.xlsx', 'Field':'dom_basis', 'DataFrame': \"df_basis\"},\n",
    "                #'基差率': {'Name': \"basis_rate\", 'Source':'AKShare', 'Path': fBasePath + '.xlsx', 'Field':'dom_basis_rate', 'DataFrame': \"df_basis\"},\n",
    "                '产量': {'Name': \"production\", 'Source':'Choice', 'Path': fBasePath + '焦炭产量.xlsx', 'Field':'产量:焦炭:当月值', 'DataFrame': \"df_prodoction\"},\n",
    "                '销量': {'Name': \"sales\", 'Source':'Choice', 'Path': fBasePath + '焦炭销量.xlsx', 'Field':'焦炭消费量:总计', 'DataFrame': \"df_sales\"},\n",
    "                '库存': {'Name': \"instock\", 'Source':'Choice', 'Path': fBasePath + '焦炭库存.xlsx', 'Field':'焦炭库存:样本钢厂:全国', 'DataFrame': \"df_instock\"}, #需要求和\n",
    "                '仓单': {'Name': \"receipt\", 'Source':'Choice', 'Path': fBasePath + '焦炭库存.xlsx', 'Field':'仓单数量:焦炭', 'DataFrame': \"df_instock\"}\n",
    "                }\n",
    "profit_formula = {'Name': 'profit_formula', 'Factor': {'X': 1.0, 'Y': 1.0}, '其他成本': 0}\n",
    "dominant_months = [1, 5, 10]\n",
    "exchange_id = 'dce'\n",
    "symbol_setting = {'DataIndex': data_index,\n",
    "                  'ProfitFormula': profit_formula,\n",
    "                  'DominantMonths': dominant_months,\n",
    "                  'ExchangeID': exchange_id}\n"
   ]
  },
  {
   "cell_type": "markdown",
   "metadata": {},
   "source": [
    "### 数据预处理"
   ]
  },
  {
   "cell_type": "code",
   "execution_count": 6,
   "metadata": {},
   "outputs": [],
   "source": [
    "# 构造品种数据访问对象\n",
    "symbol = commodity.SymbolData(symbol_id, symbol_name, json_file, symbol_setting)\n",
    "# symbol = commodity.SymbolData(symbol_id, symbol_name, json_file)\n",
    "dws = dw.DataWorks()\n",
    "merged_data = symbol.merge_data(dws)"
   ]
  },
  {
   "cell_type": "markdown",
   "metadata": {},
   "source": [
    "### 更新数据\n",
    "\n",
    "- 通过AKshare接口更新现货价格数据\n",
    "- 手动更新Choice导出数据（使用Microsoft Excel打开，自动更新后保存）"
   ]
  },
  {
   "cell_type": "code",
   "execution_count": null,
   "metadata": {},
   "outputs": [],
   "source": [
    "# 更新现货价格数据 - AKShare\n",
    "# 追加最新数据\n",
    "df_basis = symbol.update_akshare_file(mode='append')\n",
    "# 2011、2012年数据待更新\n",
    "# symbol_data.update_akshare_file(mode='period', start_date='20120101', end_date='20121231')"
   ]
  },
  {
   "cell_type": "code",
   "execution_count": 17,
   "metadata": {},
   "outputs": [],
   "source": [
    "futures_spot_price_df = ak.futures_spot_price(\"20231130\")"
   ]
  },
  {
   "cell_type": "code",
   "execution_count": null,
   "metadata": {},
   "outputs": [],
   "source": [
    "df_append = ak.futures_spot_price_daily(start_day='20231101', end_day='20231130', vars_list=[symbol_id])"
   ]
  }
 ],
 "metadata": {
  "kernelspec": {
   "display_name": "base",
   "language": "python",
   "name": "python3"
  },
  "language_info": {
   "codemirror_mode": {
    "name": "ipython",
    "version": 3
   },
   "file_extension": ".py",
   "mimetype": "text/x-python",
   "name": "python",
   "nbconvert_exporter": "python",
   "pygments_lexer": "ipython3",
   "version": "3.10.9"
  },
  "orig_nbformat": 4
 },
 "nbformat": 4,
 "nbformat_minor": 2
}
