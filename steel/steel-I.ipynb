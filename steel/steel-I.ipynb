{
 "cells": [
  {
   "cell_type": "markdown",
   "metadata": {},
   "source": [
    "# 黑色金属 - 铁矿石"
   ]
  },
  {
   "cell_type": "code",
   "execution_count": 1,
   "metadata": {},
   "outputs": [],
   "source": [
    "# 设置工作目录\n",
    "import os\n",
    "os.getcwd()\n",
    "if os.name == 'posix':\n",
    "    os.chdir('/Volumes/Repository/Projects/ffa/')\n",
    "else:\n",
    "    os.chdir(\"E:\\\\Document\\\\Project\\\\ffa\")"
   ]
  },
  {
   "cell_type": "code",
   "execution_count": 2,
   "metadata": {},
   "outputs": [],
   "source": [
    "# 加载依赖模块\n",
    "import pandas as pd\n",
    "import akshare as ak\n",
    "import plotly.graph_objects as go\n",
    "import plotly.express as px\n",
    "from plotly.subplots import make_subplots\n",
    "from datetime import datetime, date\n",
    "import importlib\n",
    "import commodity\n",
    "import json\n",
    "import dataworks as dw"
   ]
  },
  {
   "cell_type": "code",
   "execution_count": 22,
   "metadata": {},
   "outputs": [
    {
     "data": {
      "text/plain": [
       "<module 'commodity' from 'E:\\\\Document\\\\Project\\\\ffa\\\\commodity.py'>"
      ]
     },
     "execution_count": 22,
     "metadata": {},
     "output_type": "execute_result"
    }
   ],
   "source": [
    "# 重新加载salary计算模块\n",
    "importlib.reload(commodity)"
   ]
  },
  {
   "cell_type": "markdown",
   "metadata": {},
   "source": [
    "## 数据准备与预处理"
   ]
  },
  {
   "cell_type": "code",
   "execution_count": 3,
   "metadata": {},
   "outputs": [],
   "source": [
    "symbol_id = 'I'\n",
    "symbol_name = '铁矿石'\n",
    "fBasePath = 'steel/data/up-stream/铁矿石/'\n",
    "json_file = './steel/setting.json'"
   ]
  },
  {
   "cell_type": "markdown",
   "metadata": {},
   "source": [
    "### 数据索引设置"
   ]
  },
  {
   "cell_type": "code",
   "execution_count": 4,
   "metadata": {},
   "outputs": [],
   "source": [
    "# 品种数据索引初始化\n",
    "# 首次使用json配置文件存取品种的数据索引\n",
    "data_index = {'产量': {'Name': \"production\", 'Source':'Choice', 'Path': fBasePath + '铁矿石产量.xlsx', 'Field':'产量:铁矿石原矿:当月值', 'DataFrame': \"df_prodoction\"},\n",
    "              #'销量': {'Name': \"sales\", 'Source':'Choice', 'Path': fBasePath + '螺纹钢销量.xlsx', 'Field':'销量：钢筋：累计值', 'DataFrame': \"df_sales\"},\n",
    "              '库存': {'Name': \"instock\", 'Source':'Choice', 'Path': fBasePath + '铁矿石库存.xlsx', 'Field':'国内铁矿石港口库存量', 'DataFrame': \"df_instock\"},\n",
    "              '库存消费比': {'Name': \"instock_consumption_ratio\", 'Source':'Choice', 'Path': fBasePath + '铁矿石库存.xlsx', 'Field':'全国:进口铁矿石:库存消费比', 'DataFrame': \"df_instock_consumption_ratio\"},\n",
    "              # TODO: 校验Choice提供的另外一套库存和仓单数据\n",
    "              '仓单': {'Name': \"receipt\", 'Source':'Choice', 'Path': fBasePath + '铁矿石库存.xlsx', 'Field':'仓单数量:铁矿石', 'DataFrame': \"df_instock\"}\n",
    "              }\n",
    "profit_formula = {'Name': 'profit_formula', 'Factor': {'X': 1.0, 'Y': 1.0}, '其他成本': 0}\n",
    "dominant_months = [1, 5, 10]\n",
    "exchange_id = 'dce'\n",
    "symbol_setting = {'DataIndex': data_index,\n",
    "                  'ProfitFormula': profit_formula,\n",
    "                  'DominantMonths': dominant_months,\n",
    "                  'ExchangeID': exchange_id}\n"
   ]
  },
  {
   "cell_type": "code",
   "execution_count": 5,
   "metadata": {},
   "outputs": [],
   "source": [
    "# 构造品种数据访问对象\n",
    "symbol = commodity.SymbolData(symbol_id, symbol_name, json_file, symbol_setting)\n",
    "# symbol = commodity.SymbolData(symbol_id, symbol_name, json_file)\n",
    "dws = dw.DataWorks()\n",
    "merged_data = symbol.merge_data(dws)"
   ]
  },
  {
   "cell_type": "markdown",
   "metadata": {},
   "source": [
    "### 更新数据\n",
    "\n",
    "- 通过AKshare接口更新现货价格数据\n",
    "- 手动更新Choice导出数据（使用Microsoft Excel打开，自动更新后保存）"
   ]
  },
  {
   "cell_type": "code",
   "execution_count": null,
   "metadata": {},
   "outputs": [],
   "source": [
    "# 更新现货价格数据 - AKShare\n",
    "# 追加最新数据\n",
    "df_basis = symbol.update_akshare_file(mode='append')\n",
    "# 2011、2012年数据待更新\n",
    "# symbol_data.update_akshare_file(mode='period', start_date='20120101', end_date='20121231')"
   ]
  },
  {
   "cell_type": "markdown",
   "metadata": {},
   "source": [
    "## 基差分析"
   ]
  },
  {
   "cell_type": "markdown",
   "metadata": {},
   "source": [
    "### 基差走势"
   ]
  },
  {
   "cell_type": "code",
   "execution_count": null,
   "metadata": {},
   "outputs": [],
   "source": [
    "# 加载基差数据（奇货可居网）\n",
    "df_rb_basis = pd.read_csv('data/rb-main-basis-20231028.csv')\n",
    "df_rb_basis['基差'] = df_rb_basis['现货'] - df_rb_basis['期货']\n",
    "# 加载库存数据（AK-Share网站）\n",
    "futures_inventory_em_df = ak.futures_inventory_em(symbol=\"螺纹钢\")\n",
    "futures_inventory_em_df['日期'] = pd.to_datetime(futures_inventory_em_df['日期'], format=\"%Y-%m-%d\")\n",
    "# 统一日期格式\n",
    "df_rb_basis['日期'] = pd.to_datetime(df_rb_basis['日期'], format=\"%Y-%m-%d\")\n",
    "# 合并基差和库存数据\n",
    "df_rb0 = pd.merge(df_rb_basis, futures_inventory_em_df, on='日期', how='outer')\n",
    "# 空数据清理\n",
    "df_rb0 = df_rb0.fillna(0)\n",
    "# 为基差率（正负值）标记颜色\n",
    "df_rb0['基差率颜色'] = df_rb0['基差率'] > 0\n",
    "df_rb0['基差率颜色'] = df_rb0['基差率颜色'].replace({True:1, False:0})\n",
    "max_y = df_rb0['期货'].max() * 1.05\n",
    "min_y = df_rb0['期货'].min() * 0.95\n",
    "\n",
    "fig = make_subplots(rows=3, cols=1, shared_xaxes=True, specs=[[{\"secondary_y\": True}], [{\"secondary_y\": True}], [{\"secondary_y\": True}]],\n",
    "                   vertical_spacing=0.01, subplot_titles=('基差分析', '基差率', '库存'), \n",
    "                   row_width=[0.15, 0.15, 0.7])\n",
    "\n",
    "#fig_main = make_subplots(specs=[[{\"secondary_y\": True}]])\n",
    "fig_future_price = go.Scatter(x=df_rb0['日期'], y=df_rb0['期货'], name='期货价格', marker_color='rgb(84,134,240)')\n",
    "fig_spot_price = go.Scatter(x=df_rb0['日期'], y=df_rb0['现货'], name='现货价格', marker_color='rgb(105,206,159)')\n",
    "fig_basis = go.Scatter(x=df_rb0['日期'], y=df_rb0['基差'], stackgroup='one', name='基差', marker_color='rgb(239,181,59)')\n",
    "#fig_main.add_trace(fig_future_price)\n",
    "#fig_main.add_trace(fig_basis_rate, secondary_y=True)\n",
    "\n",
    "fig.add_trace(fig_basis, secondary_y=True)\n",
    "fig.add_trace(fig_future_price, row = 1, col = 1)\n",
    "fig.add_trace(fig_spot_price, row = 1, col = 1)\n",
    "\n",
    "fig_basis_rate = go.Bar(x=df_rb0['日期'], y = df_rb0['基差率'], name='基差率', marker_color='rgb(244,128,68)')\n",
    "#fig_basis_rate = go.Bar()\n",
    "#fig_basis_rate.mode = 'markers'\n",
    "# fig_basis_rate.x = df_rb0['日期']\n",
    "# fig_basis_rate.y = df_rb0['基差率']\n",
    "fig_basis_rate.marker.colorscale = ['green', 'red']\n",
    "fig_basis_rate.marker.color = df_rb0['基差率颜色']\n",
    "#fig_basis_rate.marker.size = 2\n",
    "fig_basis_rate.marker.showscale = False\n",
    "fig_basis_rate.showlegend = False\n",
    "\n",
    "fig.add_trace(fig_basis_rate, row = 2, col = 1)\n",
    "fig_storage = go.Bar(x=df_rb0['日期'], y=df_rb0['库存'], name='库存', marker_color='rgb(234,69,70)')\n",
    "#fig_storage = px.bar(df_rb0, x='日期', y='库存')\n",
    "fig.add_trace(fig_storage, row = 3, col = 1)\n",
    "\n",
    "trade_date = ak.tool_trade_date_hist_sina()['trade_date']\n",
    "trade_date = [d.strftime(\"%Y-%m-%d\") for d in trade_date]\n",
    "dt_all = pd.date_range(start=df_rb0['日期'].iloc[0],end=df_rb0['日期'].iloc[-1])\n",
    "dt_all = [d.strftime(\"%Y-%m-%d\") for d in dt_all]\n",
    "dt_breaks = list(set(dt_all) - set(trade_date))\n",
    "\n",
    "# X轴坐标按照年-月显示\n",
    "fig.update_xaxes(\n",
    "    showgrid=True,\n",
    "    zeroline=True,\n",
    "    showline=True,\n",
    "    dtick=\"M1\",  # 按月显示\n",
    "    ticklabelmode=\"period\",   # instant  period\n",
    "    tickformat=\"%b\\n%Y\",\n",
    "    rangebreaks=[dict(values=dt_breaks)],\n",
    "    rangeslider_visible = False, # 下方滑动条缩放\n",
    "    rangeselector = dict(\n",
    "        # 增加固定范围选择\n",
    "        buttons = list([\n",
    "            dict(count = 1, label = '1M', step = 'month', stepmode = 'backward'),\n",
    "            dict(count = 6, label = '6M', step = 'month', stepmode = 'backward'),\n",
    "            dict(count = 1, label = '1Y', step = 'year', stepmode = 'backward'),\n",
    "            dict(count = 1, label = 'YTD', step = 'year', stepmode = 'todate'),\n",
    "            dict(step = 'all')\n",
    "            ]))\n",
    ")\n",
    "#fig.update_traces(xbins_size=\"M1\")\n",
    "fig.update_layout(\n",
    "    yaxis_range=[min_y,max_y],\n",
    "    #autosize=False,\n",
    "    #width=800,\n",
    "    height=800,\n",
    "    margin=dict(l=0, r=0, t=0, b=0)\n",
    ")\n",
    "\n",
    "fig.show()"
   ]
  },
  {
   "cell_type": "code",
   "execution_count": null,
   "metadata": {},
   "outputs": [],
   "source": []
  },
  {
   "cell_type": "markdown",
   "metadata": {},
   "source": [
    "## 基差率分析"
   ]
  },
  {
   "cell_type": "markdown",
   "metadata": {},
   "source": [
    "### 基差率季节分析"
   ]
  },
  {
   "cell_type": "code",
   "execution_count": null,
   "metadata": {},
   "outputs": [],
   "source": [
    "df_rb0['年度'] = df_rb0['日期'].dt.year\n",
    "df_rb0['年内日期'] = df_rb0['日期'].dt.strftime('1900-%m-%d')\n",
    "fig_basis_rate_season = px.line(df_rb0,\n",
    "                                x='年内日期',\n",
    "                                y='基差率',\n",
    "                                color='年度',\n",
    "                                #color_discrete_sequence=px.colors.qualitative.G10)\n",
    "                                color_discrete_sequence=['lightgray', 'lightblue', 'orange', 'red'])\n",
    "fig_basis_rate_season.update_layout(\n",
    "    title={\n",
    "        'text':'基差率季节分析',\n",
    "        'xanchor':'center'},\n",
    "    margin=dict(l=10, r=10, t=40, b=10)\n",
    ")\n",
    "\n",
    "fig_basis_rate_season.show()"
   ]
  },
  {
   "cell_type": "code",
   "execution_count": null,
   "metadata": {},
   "outputs": [],
   "source": [
    "df1 = hd.load_choice_file('data/钢铁产业链/中游数据/螺纹钢/螺纹钢库存.xlsx')\n",
    "df1"
   ]
  },
  {
   "cell_type": "markdown",
   "metadata": {},
   "source": [
    "### 基差率月度涨跌统计"
   ]
  },
  {
   "cell_type": "markdown",
   "metadata": {},
   "source": [
    "### 基差率频率分布"
   ]
  },
  {
   "cell_type": "markdown",
   "metadata": {},
   "source": [
    "## 跨期分析"
   ]
  },
  {
   "cell_type": "markdown",
   "metadata": {},
   "source": [
    "### 期限结构"
   ]
  },
  {
   "cell_type": "code",
   "execution_count": null,
   "metadata": {},
   "outputs": [],
   "source": [
    "# 加载合约基础数据\n",
    "futures_comm_info = pd.read_excel('data/common_info.xlsx')\n",
    "spec_contact_list = futures_comm_info[futures_comm_info.合约名称.str.startswith('螺纹钢')]\n",
    "fig_term = make_subplots(specs=[[{\"secondary_y\": True}]])\n",
    "fig_term.add_trace(go.Scatter(x=spec_contact_list['合约代码'], y=spec_contact_list['现价']))\n",
    "# 获取最新现货价格\n",
    "spot_price = df_rb0[df_rb0['现货']!=0]['现货'].iloc[-1]\n",
    "fig_term.add_hline(y=spot_price)\n",
    "fig_term.update_layout(\n",
    "    title={\n",
    "        'text':'期限结构'\n",
    "    },\n",
    "    #autosize=False,\n",
    "    width=800,\n",
    "    #height=800,\n",
    "    margin=dict(l=10, r=10, t=40, b=10)\n",
    ")\n",
    "fig_term.show()"
   ]
  },
  {
   "cell_type": "markdown",
   "metadata": {},
   "source": [
    "### 套利分析"
   ]
  },
  {
   "cell_type": "markdown",
   "metadata": {},
   "source": [
    "#### 价差分析-多期排列"
   ]
  },
  {
   "cell_type": "markdown",
   "metadata": {},
   "source": [
    "#### 价差分析-跨期价差矩阵"
   ]
  },
  {
   "cell_type": "markdown",
   "metadata": {},
   "source": [
    "#### 基差-月差分析"
   ]
  },
  {
   "cell_type": "markdown",
   "metadata": {},
   "source": [
    "#### 价差季节性分析"
   ]
  },
  {
   "cell_type": "markdown",
   "metadata": {},
   "source": [
    "## 库存"
   ]
  },
  {
   "cell_type": "markdown",
   "metadata": {},
   "source": [
    "### 库存数据"
   ]
  },
  {
   "cell_type": "code",
   "execution_count": null,
   "metadata": {},
   "outputs": [],
   "source": [
    "futures_inventory_em_df = ak.futures_inventory_em(symbol=\"螺纹钢\")\n",
    "futures_inventory_em_df['日期'] = pd.to_datetime(futures_inventory_em_df['日期'], format=\"%Y-%m-%d\")\n",
    "df_rb_basis['日期'] = pd.to_datetime(df_rb_basis['日期'], format=\"%Y-%m-%d\")\n",
    "df_rb0 = pd.merge(df_rb_basis, futures_inventory_em_df, on='日期', how='outer')"
   ]
  },
  {
   "cell_type": "markdown",
   "metadata": {},
   "source": [
    "### 库存周期"
   ]
  },
  {
   "cell_type": "markdown",
   "metadata": {},
   "source": [
    "### 库存效费比"
   ]
  },
  {
   "cell_type": "markdown",
   "metadata": {},
   "source": [
    "### 仓单"
   ]
  },
  {
   "cell_type": "markdown",
   "metadata": {},
   "source": [
    "#### 注册仓单"
   ]
  },
  {
   "cell_type": "code",
   "execution_count": null,
   "metadata": {},
   "outputs": [],
   "source": [
    "#future_receipt = ak.get_receipt(start_day=\"20230101\", end_day=\"20231031\", vars_list=[\"RB\"])\n",
    "#future_receipt"
   ]
  },
  {
   "cell_type": "markdown",
   "metadata": {},
   "source": [
    "#### 仓单日报"
   ]
  },
  {
   "cell_type": "markdown",
   "metadata": {},
   "source": [
    "#### 期转现"
   ]
  },
  {
   "cell_type": "markdown",
   "metadata": {},
   "source": [
    "#### 交割统计"
   ]
  },
  {
   "cell_type": "markdown",
   "metadata": {},
   "source": [
    "## 利润"
   ]
  },
  {
   "cell_type": "markdown",
   "metadata": {},
   "source": [
    "### 现货利润"
   ]
  },
  {
   "cell_type": "markdown",
   "metadata": {},
   "source": [
    "### 期货盘面利润"
   ]
  },
  {
   "cell_type": "markdown",
   "metadata": {},
   "source": [
    "### 利润期限结构"
   ]
  },
  {
   "cell_type": "markdown",
   "metadata": {},
   "source": [
    "## 综合分析"
   ]
  },
  {
   "cell_type": "markdown",
   "metadata": {},
   "source": [
    "### 基差-库存-利润分析"
   ]
  },
  {
   "cell_type": "markdown",
   "metadata": {},
   "source": [
    "### 基差-月差分析"
   ]
  },
  {
   "cell_type": "markdown",
   "metadata": {},
   "source": [
    "### 期限结构-库存/仓单分析"
   ]
  }
 ],
 "metadata": {
  "kernelspec": {
   "display_name": "base",
   "language": "python",
   "name": "python3"
  },
  "language_info": {
   "codemirror_mode": {
    "name": "ipython",
    "version": 3
   },
   "file_extension": ".py",
   "mimetype": "text/x-python",
   "name": "python",
   "nbconvert_exporter": "python",
   "pygments_lexer": "ipython3",
   "version": "3.10.9"
  },
  "orig_nbformat": 4
 },
 "nbformat": 4,
 "nbformat_minor": 2
}
