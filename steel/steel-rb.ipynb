{
 "cells": [
  {
   "cell_type": "markdown",
   "metadata": {},
   "source": [
    "# 黑色金属 - 螺纹钢"
   ]
  },
  {
   "cell_type": "code",
   "execution_count": 1,
   "metadata": {},
   "outputs": [],
   "source": [
    "# 设置工作目录\n",
    "import os\n",
    "os.getcwd()\n",
    "if os.name == 'posix':\n",
    "    os.chdir('/Volumes/Repository/Projects/ffa/')\n",
    "else:\n",
    "    os.chdir(\"E:\\\\Document\\\\Project\\\\ffa\")"
   ]
  },
  {
   "cell_type": "code",
   "execution_count": 2,
   "metadata": {},
   "outputs": [],
   "source": [
    "# 加载依赖模块\n",
    "import pandas as pd\n",
    "import numpy as np\n",
    "import akshare as ak\n",
    "import plotly.graph_objects as go\n",
    "import plotly.express as px\n",
    "from plotly.subplots import make_subplots\n",
    "from datetime import datetime, date\n",
    "import importlib\n",
    "import commodity\n",
    "import json\n",
    "from datetime import timedelta\n",
    "import dataworks as dw\n",
    "    "
   ]
  },
  {
   "cell_type": "code",
   "execution_count": 6,
   "metadata": {},
   "outputs": [
    {
     "data": {
      "text/plain": [
       "<module 'dataworks' from 'E:\\\\Document\\\\Project\\\\ffa\\\\dataworks.py'>"
      ]
     },
     "execution_count": 6,
     "metadata": {},
     "output_type": "execute_result"
    }
   ],
   "source": [
    "# 重新加载salary计算模块\n",
    "importlib.reload(commodity)\n",
    "importlib.reload(dw)"
   ]
  },
  {
   "cell_type": "markdown",
   "metadata": {},
   "source": [
    "## 数据准备与预处理"
   ]
  },
  {
   "cell_type": "code",
   "execution_count": 3,
   "metadata": {},
   "outputs": [],
   "source": [
    "symbol_id = 'RB'\n",
    "symbol_name = '螺纹钢'\n",
    "fBasePath = 'steel/data/mid-stream/螺纹钢/'\n",
    "json_file = './steel/setting.json'"
   ]
  },
  {
   "cell_type": "markdown",
   "metadata": {},
   "source": [
    "### 数据索引设置"
   ]
  },
  {
   "cell_type": "code",
   "execution_count": 4,
   "metadata": {},
   "outputs": [],
   "source": [
    "# 品种数据索引初始化\n",
    "# 首次使用json配置文件存取品种的数据索引\n",
    "data_index = {'产量': {'Name': \"production\", 'Source':'Choice', 'Path': fBasePath + '螺纹钢产量.xlsx', 'Field':'产量：钢筋：全国：当月值', 'DataFrame': \"df_prodoction\"},\n",
    "              '销量': {'Name': \"sales\", 'Source':'Choice', 'Path': fBasePath + '螺纹钢销量.xlsx', 'Field':'销量：钢筋：累计值', 'DataFrame': \"df_sales\"},\n",
    "              '库存': {'Name': \"instock\", 'Source':'Choice', 'Path': fBasePath + '螺纹钢库存.xlsx', 'Field':'库存：螺纹钢：合计', 'DataFrame': \"df_instock\"},\n",
    "              '仓单': {'Name': \"receipt\", 'Source':'Choice', 'Path': fBasePath + '螺纹钢库存.xlsx', 'Field':'仓单数量：螺纹钢', 'DataFrame': \"df_instock\"},                \n",
    "              }\n",
    "profit_formula = {'Name': 'profit_formula', 'Factor': {'铁矿石': 1.6, '焦炭': 0.6}, '其他成本': 1200}\n",
    "dominant_months = [1, 5, 10]\n",
    "exchange_id = 'shfe'\n",
    "symbol_setting = {'DataIndex': data_index,\n",
    "                  'ProfitFormula': profit_formula,\n",
    "                  'DominantMonths': dominant_months,\n",
    "                  'ExchangeID': exchange_id}\n"
   ]
  },
  {
   "cell_type": "code",
   "execution_count": 7,
   "metadata": {},
   "outputs": [],
   "source": [
    "# 构造品种数据访问对象\n",
    "dws = dw.DataWorks()\n",
    "# symbol = commodity.SymbolData(symbol_id, symbol_name, json_file, symbol_setting)\n",
    "symbol = commodity.SymbolData(symbol_id, symbol_name)\n",
    "df_symbol_rb = symbol.merge_data(dws)"
   ]
  },
  {
   "cell_type": "code",
   "execution_count": null,
   "metadata": {},
   "outputs": [],
   "source": [
    "symbol.get_spot_months()\n",
    "symbol_j = commodity.SymbolData('J', '焦炭', json_file)\n",
    "symbol_j.merge_data(dws)\n",
    "symbol_i = commodity.SymbolData('I', '铁矿石', json_file)\n",
    "symbol_i.merge_data(dws)"
   ]
  },
  {
   "cell_type": "code",
   "execution_count": 10,
   "metadata": {},
   "outputs": [
    {
     "data": {
      "text/html": [
       "<div>\n",
       "<style scoped>\n",
       "    .dataframe tbody tr th:only-of-type {\n",
       "        vertical-align: middle;\n",
       "    }\n",
       "\n",
       "    .dataframe tbody tr th {\n",
       "        vertical-align: top;\n",
       "    }\n",
       "\n",
       "    .dataframe thead th {\n",
       "        text-align: right;\n",
       "    }\n",
       "</style>\n",
       "<table border=\"1\" class=\"dataframe\">\n",
       "  <thead>\n",
       "    <tr style=\"text-align: right;\">\n",
       "      <th></th>\n",
       "      <th>date</th>\n",
       "      <th>库存历史时间百分位</th>\n",
       "      <th>库存历史时间分位</th>\n",
       "      <th>库存</th>\n",
       "      <th>仓单历史时间百分位</th>\n",
       "      <th>仓单历史时间分位</th>\n",
       "      <th>仓单</th>\n",
       "      <th>现货利润历史时间百分位</th>\n",
       "      <th>现货利润历史时间分位</th>\n",
       "      <th>现货利润</th>\n",
       "      <th>盘面利润历史时间百分位</th>\n",
       "      <th>盘面利润历史时间分位</th>\n",
       "      <th>盘面利润</th>\n",
       "    </tr>\n",
       "  </thead>\n",
       "  <tbody>\n",
       "    <tr>\n",
       "      <th>0</th>\n",
       "      <td>2010-03-29</td>\n",
       "      <td>NaN</td>\n",
       "      <td>NaN</td>\n",
       "      <td>NaN</td>\n",
       "      <td>1.000000</td>\n",
       "      <td>NaN</td>\n",
       "      <td>140971</td>\n",
       "      <td>NaN</td>\n",
       "      <td>NaN</td>\n",
       "      <td>NaN</td>\n",
       "      <td>NaN</td>\n",
       "      <td>NaN</td>\n",
       "      <td>NaN</td>\n",
       "    </tr>\n",
       "    <tr>\n",
       "      <th>1</th>\n",
       "      <td>2010-03-30</td>\n",
       "      <td>NaN</td>\n",
       "      <td>NaN</td>\n",
       "      <td>NaN</td>\n",
       "      <td>1.000000</td>\n",
       "      <td>NaN</td>\n",
       "      <td>152633</td>\n",
       "      <td>NaN</td>\n",
       "      <td>NaN</td>\n",
       "      <td>NaN</td>\n",
       "      <td>NaN</td>\n",
       "      <td>NaN</td>\n",
       "      <td>NaN</td>\n",
       "    </tr>\n",
       "    <tr>\n",
       "      <th>2</th>\n",
       "      <td>2010-03-31</td>\n",
       "      <td>NaN</td>\n",
       "      <td>NaN</td>\n",
       "      <td>NaN</td>\n",
       "      <td>1.000000</td>\n",
       "      <td>NaN</td>\n",
       "      <td>154121</td>\n",
       "      <td>NaN</td>\n",
       "      <td>NaN</td>\n",
       "      <td>NaN</td>\n",
       "      <td>NaN</td>\n",
       "      <td>NaN</td>\n",
       "      <td>NaN</td>\n",
       "    </tr>\n",
       "    <tr>\n",
       "      <th>3</th>\n",
       "      <td>2010-04-01</td>\n",
       "      <td>NaN</td>\n",
       "      <td>NaN</td>\n",
       "      <td>NaN</td>\n",
       "      <td>1.000000</td>\n",
       "      <td>NaN</td>\n",
       "      <td>166995</td>\n",
       "      <td>NaN</td>\n",
       "      <td>NaN</td>\n",
       "      <td>NaN</td>\n",
       "      <td>NaN</td>\n",
       "      <td>NaN</td>\n",
       "      <td>NaN</td>\n",
       "    </tr>\n",
       "    <tr>\n",
       "      <th>4</th>\n",
       "      <td>2010-04-02</td>\n",
       "      <td>1.000000</td>\n",
       "      <td>NaN</td>\n",
       "      <td>691.40</td>\n",
       "      <td>1.000000</td>\n",
       "      <td>NaN</td>\n",
       "      <td>178067</td>\n",
       "      <td>NaN</td>\n",
       "      <td>NaN</td>\n",
       "      <td>NaN</td>\n",
       "      <td>NaN</td>\n",
       "      <td>NaN</td>\n",
       "      <td>NaN</td>\n",
       "    </tr>\n",
       "    <tr>\n",
       "      <th>...</th>\n",
       "      <td>...</td>\n",
       "      <td>...</td>\n",
       "      <td>...</td>\n",
       "      <td>...</td>\n",
       "      <td>...</td>\n",
       "      <td>...</td>\n",
       "      <td>...</td>\n",
       "      <td>...</td>\n",
       "      <td>...</td>\n",
       "      <td>...</td>\n",
       "      <td>...</td>\n",
       "      <td>...</td>\n",
       "      <td>...</td>\n",
       "    </tr>\n",
       "    <tr>\n",
       "      <th>3432</th>\n",
       "      <td>2023-12-27</td>\n",
       "      <td>0.135000</td>\n",
       "      <td>2</td>\n",
       "      <td>366.46</td>\n",
       "      <td>0.357449</td>\n",
       "      <td>2</td>\n",
       "      <td>15588</td>\n",
       "      <td>0.047414</td>\n",
       "      <td>1</td>\n",
       "      <td>-358.5</td>\n",
       "      <td>0.092545</td>\n",
       "      <td>1</td>\n",
       "      <td>-257.6</td>\n",
       "    </tr>\n",
       "    <tr>\n",
       "      <th>3433</th>\n",
       "      <td>2023-12-28</td>\n",
       "      <td>0.175000</td>\n",
       "      <td>2</td>\n",
       "      <td>395.29</td>\n",
       "      <td>0.363014</td>\n",
       "      <td>2</td>\n",
       "      <td>15889</td>\n",
       "      <td>0.045690</td>\n",
       "      <td>1</td>\n",
       "      <td>-364.016</td>\n",
       "      <td>0.095116</td>\n",
       "      <td>1</td>\n",
       "      <td>-255.5</td>\n",
       "    </tr>\n",
       "    <tr>\n",
       "      <th>3434</th>\n",
       "      <td>2023-12-29</td>\n",
       "      <td>0.175417</td>\n",
       "      <td>2</td>\n",
       "      <td>395.29</td>\n",
       "      <td>0.384418</td>\n",
       "      <td>3</td>\n",
       "      <td>17090</td>\n",
       "      <td>0.038793</td>\n",
       "      <td>1</td>\n",
       "      <td>-380.452</td>\n",
       "      <td>0.106255</td>\n",
       "      <td>1</td>\n",
       "      <td>-244.7</td>\n",
       "    </tr>\n",
       "    <tr>\n",
       "      <th>3435</th>\n",
       "      <td>2024-01-02</td>\n",
       "      <td>0.175833</td>\n",
       "      <td>2</td>\n",
       "      <td>395.29</td>\n",
       "      <td>NaN</td>\n",
       "      <td>NaN</td>\n",
       "      <td>NaN</td>\n",
       "      <td>NaN</td>\n",
       "      <td>NaN</td>\n",
       "      <td>NaN</td>\n",
       "      <td>0.095116</td>\n",
       "      <td>1</td>\n",
       "      <td>-256.8</td>\n",
       "    </tr>\n",
       "    <tr>\n",
       "      <th>3436</th>\n",
       "      <td>2024-01-03</td>\n",
       "      <td>0.176250</td>\n",
       "      <td>2</td>\n",
       "      <td>395.29</td>\n",
       "      <td>NaN</td>\n",
       "      <td>NaN</td>\n",
       "      <td>NaN</td>\n",
       "      <td>NaN</td>\n",
       "      <td>NaN</td>\n",
       "      <td>NaN</td>\n",
       "      <td>0.064267</td>\n",
       "      <td>1</td>\n",
       "      <td>-306.9</td>\n",
       "    </tr>\n",
       "  </tbody>\n",
       "</table>\n",
       "<p>3437 rows × 13 columns</p>\n",
       "</div>"
      ],
      "text/plain": [
       "           date  库存历史时间百分位 库存历史时间分位      库存  仓单历史时间百分位 仓单历史时间分位      仓单  \\\n",
       "0    2010-03-29        NaN      NaN     NaN   1.000000      NaN  140971   \n",
       "1    2010-03-30        NaN      NaN     NaN   1.000000      NaN  152633   \n",
       "2    2010-03-31        NaN      NaN     NaN   1.000000      NaN  154121   \n",
       "3    2010-04-01        NaN      NaN     NaN   1.000000      NaN  166995   \n",
       "4    2010-04-02   1.000000      NaN  691.40   1.000000      NaN  178067   \n",
       "...         ...        ...      ...     ...        ...      ...     ...   \n",
       "3432 2023-12-27   0.135000        2  366.46   0.357449        2   15588   \n",
       "3433 2023-12-28   0.175000        2  395.29   0.363014        2   15889   \n",
       "3434 2023-12-29   0.175417        2  395.29   0.384418        3   17090   \n",
       "3435 2024-01-02   0.175833        2  395.29        NaN      NaN     NaN   \n",
       "3436 2024-01-03   0.176250        2  395.29        NaN      NaN     NaN   \n",
       "\n",
       "      现货利润历史时间百分位 现货利润历史时间分位     现货利润  盘面利润历史时间百分位 盘面利润历史时间分位   盘面利润  \n",
       "0             NaN        NaN      NaN          NaN        NaN    NaN  \n",
       "1             NaN        NaN      NaN          NaN        NaN    NaN  \n",
       "2             NaN        NaN      NaN          NaN        NaN    NaN  \n",
       "3             NaN        NaN      NaN          NaN        NaN    NaN  \n",
       "4             NaN        NaN      NaN          NaN        NaN    NaN  \n",
       "...           ...        ...      ...          ...        ...    ...  \n",
       "3432     0.047414          1   -358.5     0.092545          1 -257.6  \n",
       "3433     0.045690          1 -364.016     0.095116          1 -255.5  \n",
       "3434     0.038793          1 -380.452     0.106255          1 -244.7  \n",
       "3435          NaN        NaN      NaN     0.095116          1 -256.8  \n",
       "3436          NaN        NaN      NaN     0.064267          1 -306.9  \n",
       "\n",
       "[3437 rows x 13 columns]"
      ]
     },
     "execution_count": 10,
     "metadata": {},
     "output_type": "execute_result"
    }
   ],
   "source": [
    "symbol_chain = commodity.SymbolChain('Steel', '黑色金属', json_file)\n",
    "symbol_chain.add_symbol(symbol)\n",
    "symbol_chain.add_symbol(symbol_i)\n",
    "symbol_chain.add_symbol(symbol_j)\n",
    "df_profit_c = symbol.get_profits(symbol_chain)\n",
    "# df_profit_c.dropna(axis=0, how='all', subset=['现货利润', '盘面利润'], inplace=True)\n",
    "symbol.calculate_data_rank(trace_back_months=60)"
   ]
  },
  {
   "cell_type": "markdown",
   "metadata": {},
   "source": [
    "## 基差-库存/仓单-利润分析"
   ]
  },
  {
   "cell_type": "markdown",
   "metadata": {},
   "source": [
    "### 历史走势分析"
   ]
  },
  {
   "cell_type": "markdown",
   "metadata": {},
   "source": [
    "前置条件：\n",
    "- 非季节性品种确认\n",
    "\n",
    "分析内容：\n",
    "- 现货价格/期货价格（收盘价）、基差的历史趋势\n",
    "- 基差率历史趋势，基差率历史分位\n",
    "- 库存、仓单、库存消费比，库存、仓单的历史分位\n",
    "- 现货利润和盘面利润，及其历史分位\n",
    "- 现货月区域标记\n",
    "- 多维指标共振区域标记\n",
    "\n",
    "扩展功能：\n",
    "- 图表可配置化\n",
    "- 小图：时点跨期套利分析\n",
    "- 小图：时点期限结构分析"
   ]
  },
  {
   "cell_type": "code",
   "execution_count": null,
   "metadata": {},
   "outputs": [],
   "source": [
    "fig = make_subplots(rows=4, cols=1, shared_xaxes=True, \n",
    "                    specs=[[{\"secondary_y\": True}], [{\"secondary_y\": True}], [{\"secondary_y\": True}], [{\"secondary_y\": True}]],\n",
    "                   vertical_spacing=0.01, \n",
    "                   subplot_titles=('基差分析', '基差率', '库存/仓单历史分位', '现货利润/盘面利润'), \n",
    "                   row_width=[0.1, 0.1, 0.1, 0.7])\n",
    "\n",
    "# 创建主图：期货价格、现货价格、基差\n",
    "fig_future_price = go.Scatter(x=symbol.symbol_data['date'], y=symbol.symbol_data['主力合约收盘价'], name='期货价格', \n",
    "                              marker_color='rgb(84,134,240)')\n",
    "fig_spot_price = go.Scatter(x=symbol.symbol_data['date'], y=symbol.symbol_data['现货价格'], name='现货价格', marker_color='rgb(105,206,159)')\n",
    "fig_basis = go.Scatter(x=symbol.symbol_data['date'], y=symbol.symbol_data['基差'], stackgroup='one', name='基差', \n",
    "                       marker_color='rgb(239,181,59)', showlegend=False)\n",
    "fig.add_trace(fig_basis, secondary_y=True)\n",
    "fig.add_trace(fig_future_price, row = 1, col = 1)\n",
    "fig.add_trace(fig_spot_price, row = 1, col = 1)\n",
    "\n",
    "# 创建辅图-基差率，并根据基差率正负配色\n",
    "sign_color_mapping = {0:'green', 1:'red'}\n",
    "fig_basis_rate = go.Bar(x=symbol.symbol_data['date'], y = symbol.symbol_data['基差率'], name='基差率',\n",
    "                        marker=dict(color=symbol.basis_color['基差率颜色'], colorscale=list(sign_color_mapping.values()),\n",
    "                                    showscale=False),\n",
    "                        showlegend=False,\n",
    "                        hovertemplate='%{y:.2%}')\n",
    "fig.add_trace(fig_basis_rate, row = 2, col = 1)\n",
    "\n",
    "# 创建辅图-库存/仓单\n",
    "fig_receipt = go.Scatter(x=symbol.symbol_data['date'], y=symbol.symbol_data['仓单'], name='仓单', marker_color='rgb(239,181,59)')\n",
    "fig_storage = go.Bar(x=symbol.symbol_data['date'], y=symbol.symbol_data['库存'], name='库存', marker_color='rgb(234,69,70)')\n",
    "fig.add_trace(fig_receipt, row = 3, col = 1, secondary_y=True)\n",
    "fig.add_trace(fig_storage, row = 3, col = 1)\n",
    "\n",
    "# 创建辅图-库存/仓单历史时间百分位，并根据分位配色\n",
    "histroy_color_mapping ={1:'red', 2:'lightblue', 3:'lightblue', 4:'lightblue', 5:'green'}\n",
    "# df_rank['仓单分位颜色'] = df_rank['仓单历史时间分位'].map(histroy_color_mapping)\n",
    "# fig_receipt_rank = go.Scatter(x=df_rank['date'], y=df_rank['仓单历史时间百分位'], name='仓单分位', marker_color='rgb(239,181,59)')\n",
    "fig_receipt_rank = go.Scatter(x=symbol.data_rank['date'], y=symbol.data_rank['仓单历史时间百分位'], name='仓单分位', mode='markers',\n",
    "                              marker=dict(size=2, color=symbol.data_rank['仓单历史时间分位'], colorscale=list(histroy_color_mapping.values())),\n",
    "                              showlegend=False,\n",
    "                              hovertemplate='%{y:.2%}')\n",
    "# fig.add_trace(fig_receipt_rank, row = 3, col = 1, secondary_y=True)\n",
    "symbol.data_rank['库存分位颜色'] = symbol.data_rank['库存历史时间分位'].map(histroy_color_mapping)\n",
    "# fig_storage_rank = go.Bar(x=df_rank['date'], y=df_rank['库存历史时间百分位'], name='库存分位', marker_color='rgb(234,69,70)')\n",
    "fig_storage_rank = go.Bar(x=symbol.data_rank['date'], y=symbol.data_rank['库存历史时间百分位'], name='库存分位', marker_color=symbol.data_rank['库存分位颜色'],\n",
    "                          hovertemplate='%{y:.2%}')\n",
    "# fig.add_trace(fig_storage_rank, row = 3, col = 1)\n",
    "\n",
    "# 创建辅图-现货利润/盘面利润\n",
    "# fig_spot_profit = go.Scatter(x=df_profit['date'], y=df_profit['现货利润'], name='现货利润', marker_color='rgb(239,181,59)')\n",
    "# fig_future_profit = go.Bar(x=df_profit['date'], y=df_profit['盘面利润'], name='盘面利润', marker_color='rgb(234,69,70)')\n",
    "# fig.add_trace(fig_spot_profit, row = 4, col = 1, secondary_y=True)\n",
    "# fig.add_trace(fig_future_profit, row = 4, col = 1)\n",
    "\n",
    "# 创建辅图-现货利润/盘面利润历史时间分位\n",
    "symbol.data_rank['盘面利润分位颜色'] = symbol.data_rank['盘面利润历史时间分位'].map(histroy_color_mapping)\n",
    "fig_spot_profit = go.Scatter(x=symbol.data_rank['date'], y=symbol.data_rank['现货利润历史时间百分位'], name='现货利润', mode='markers',\n",
    "                             marker=dict(size=2, color=symbol.data_rank['现货利润历史时间分位'], colorscale=list(histroy_color_mapping.values())),\n",
    "                             hovertemplate='%{y:.2%}')\n",
    "fig.add_trace(fig_spot_profit, row = 4, col = 1, secondary_y=True)\n",
    "fig_future_profit = go.Bar(x=symbol.data_rank['date'], y=symbol.data_rank['盘面利润历史时间百分位'], name='盘面利润', marker_color=symbol.data_rank['盘面利润分位颜色'],\n",
    "                           showlegend=False,\n",
    "                           hovertemplate='%{y:.2%}')\n",
    "fig.add_trace(fig_future_profit, row = 4, col = 1)\n",
    "\n",
    "\n",
    "\n",
    "# 根据交易时间过滤空数据\n",
    "trade_date = ak.tool_trade_date_hist_sina()['trade_date']\n",
    "trade_date = [d.strftime(\"%Y-%m-%d\") for d in trade_date]\n",
    "dt_all = pd.date_range(start=symbol.symbol_data['date'].iloc[0],end=symbol.symbol_data['date'].iloc[-1])\n",
    "dt_all = [d.strftime(\"%Y-%m-%d\") for d in dt_all]\n",
    "dt_breaks = list(set(dt_all) - set(trade_date))\n",
    "\n",
    "for _, row in symbol.spot_months.iterrows():\n",
    "    fig.add_shape(\n",
    "        # 矩形\n",
    "        type=\"rect\",\n",
    "        # 矩形的坐标\n",
    "        x0=row['Start Date'],\n",
    "        x1=row['End Date'],\n",
    "        y0=0,\n",
    "        y1=1,\n",
    "        xref='x',\n",
    "        yref='paper',\n",
    "        # 矩形的颜色和透明度\n",
    "        fillcolor=\"LightBlue\",\n",
    "        opacity=0.1,\n",
    "        # 矩形的边框\n",
    "        line_width=0,\n",
    "        # 矩形在数据之下\n",
    "        layer=\"below\"\n",
    "    )\n",
    "\n",
    "select_synchronize_index_value = ['基差率', '库存|仓单', '现货利润|盘面利润']\n",
    "# df_signals =symbol.get_signals(select_synchronize_index_value)\n",
    "symbol.signals = pd.merge(symbol.symbol_data[['date', '基差率']],\n",
    "                        symbol.data_rank[['date', '库存历史时间分位', '仓单历史时间分位', '现货利润历史时间分位', '盘面利润历史时间分位']],\n",
    "                        on='date', how='outer')\n",
    "symbol.signals['基差率'] = symbol.signals['基差率'].map(lambda x: 1 if x > 0 else (-1 if x < 0 else 0))\n",
    "# print(symbol.signals)\n",
    "# # For other columns\n",
    "# for col in ['库存历史时间分位', '仓单历史时间分位', '现货利润历史时间分位', '盘面利润历史时间分位']:\n",
    "#     symbol.signals[col] = symbol.signals[col].map(lambda x: -1 if x == 5 else (0 if x != 1 else 1))\n",
    "for col in ['库存历史时间分位', '仓单历史时间分位', '现货利润历史时间分位', '盘面利润历史时间分位']:\n",
    "    symbol.signals[col] = symbol.signals[col].map(lambda x: -1 if x == 5 else (0 if x != 1 else 1)).fillna(0).astype(int)\n",
    "print(symbol.signals)\n",
    "symbol.signals['库存|仓单'] = symbol.signals['库存历史时间分位'] | symbol.signals['仓单历史时间分位']\n",
    "symbol.signals['现货利润|盘面利润'] = symbol.signals['现货利润历史时间分位'] | symbol.signals['盘面利润历史时间分位']\n",
    "if len(select_synchronize_index_value)!=0:\n",
    "    symbol.signals['信号数量'] = symbol.signals[select_synchronize_index_value].sum(axis=1)\n",
    "\n",
    "signal_nums = len(select_synchronize_index_value)\n",
    "df_short_signals = symbol.signals[symbol.signals['信号数量']==-signal_nums]        \n",
    "for _, row in df_short_signals.iterrows():\n",
    "    next_day = row['date'] + timedelta(days=1)\n",
    "    fig.add_shape(\n",
    "        type='circle',\n",
    "        x0=row['date'], x1=next_day,\n",
    "        y0=1, y1=0.99,\n",
    "        xref='x', yref='paper',\n",
    "        fillcolor='green',\n",
    "        line_color='green'\n",
    "    )\n",
    "\n",
    "# X轴坐标按照年-月显示\n",
    "fig.update_xaxes(\n",
    "    showgrid=True,\n",
    "    zeroline=True,\n",
    "    dtick=\"M1\",  # 按月显示\n",
    "    ticklabelmode=\"period\",   # instant  period\n",
    "    tickformat=\"%b\\n%Y\",\n",
    "    rangebreaks=[dict(values=dt_breaks)],\n",
    "    rangeslider_visible = False, # 下方滑动条缩放\n",
    "    # 增加固定范围选择\n",
    "    # rangeselector = dict(\n",
    "    #     buttons = list([\n",
    "    #         dict(count = 1, label = '1M', step = 'month', stepmode = 'backward'),\n",
    "    #         dict(count = 6, label = '6M', step = 'month', stepmode = 'backward'),\n",
    "    #         dict(count = 1, label = '1Y', step = 'year', stepmode = 'backward'),\n",
    "    #         dict(count = 1, label = 'YTD', step = 'year', stepmode = 'todate'),\n",
    "    #         dict(step = 'all')\n",
    "    #         ]))\n",
    ")\n",
    "#fig.update_traces(xbins_size=\"M1\")\n",
    "max_y = symbol.symbol_data['主力合约收盘价'] .max() * 1.05\n",
    "min_y = symbol.symbol_data['主力合约收盘价'] .min() * 0.95\n",
    "fig.update_layout(\n",
    "    yaxis_range=[min_y,max_y],\n",
    "    #autosize=False,\n",
    "    #width=800,\n",
    "    height=1000,\n",
    "    margin=dict(l=0, r=0, t=0, b=0),\n",
    "    plot_bgcolor='WhiteSmoke',\n",
    "    xaxis_showgrid=False,\n",
    "    yaxis_showgrid=False,\n",
    "    yaxis2_showgrid=False,\n",
    "    hovermode='x unified',\n",
    "    legend=dict(\n",
    "        orientation='h',\n",
    "        yanchor='bottom',\n",
    "        y=1.02,\n",
    "        xanchor='right',\n",
    "        x=1\n",
    "    )\n",
    ")\n",
    "\n",
    "fig.show()"
   ]
  },
  {
   "cell_type": "code",
   "execution_count": 7,
   "metadata": {},
   "outputs": [],
   "source": [
    "self = symbol\n",
    "df_rank = None\n",
    "mode='time'\n",
    "trace_back_months=3\n",
    "quantiles=[0, 20, 40, 60, 80, 100]\n",
    "ranks=[1, 2, 3, 4, 5]\n",
    "data_list=['库存', '仓单', '现货利润', '盘面利润']\n",
    "\n",
    "field = data_list[0]\n",
    "df_append= pd.DataFrame()\n",
    "df_append['date'] = self.symbol_data['date']\n",
    "if trace_back_months == 'all':\n",
    "    window_size = len(self.symbol_data)\n",
    "else:\n",
    "    window_size = trace_back_months * 20  # assuming 30 days per month\n",
    "if mode=='time':\n",
    "    value_field = field + '历史时间百分位'\n",
    "    rank_field = field + '历史时间分位'\n",
    "    df_append[value_field] = self.symbol_data[field].rolling(window=window_size, min_periods=1).apply(lambda x: pd.Series(x).rank(pct=True).iloc[-1])\n",
    "    quantiles = np.percentile(df_append[value_field].dropna(), quantiles)\n",
    "elif mode=='value':\n",
    "    value_field = field + '历史数值百分位'\n",
    "    rank_field = field + '历史数值分位'\n",
    "    df_append[value_field] = self.symbol_data[field].rolling(window=window_size, min_periods=1).apply(lambda x: (x[-1] - np.min(x)) / (np.max(x) - np.min(x)))\n",
    "    quantiles = list(map(lambda x: x/100, quantiles))\n",
    "else:\n",
    "    None\n",
    "\n",
    "df_append[rank_field] = pd.cut(df_append[value_field].dropna(), bins=quantiles, labels=ranks, include_lowest=True, duplicates='drop', right=False)\n",
    "if df_rank==None:\n",
    "    df_rank = df_append\n",
    "else:\n",
    "    df_rank = pd.merge(df_rank, df_append, on='date', how='outer')\n",
    "\n",
    "df_rank = pd.merge(df_rank, symbol.symbol_data[['date', field]], on='date', how='outer')\n"
   ]
  },
  {
   "cell_type": "code",
   "execution_count": 31,
   "metadata": {},
   "outputs": [],
   "source": [
    "self = symbol\n",
    "df_rank = pd.DataFrame()\n",
    "mode='time'\n",
    "trace_back_months=1\n",
    "quantiles=[0, 20, 40, 60, 80, 100]\n",
    "ranks=[1, 2, 3, 4, 5]\n",
    "data_list=['库存', '仓单', '现货利润', '盘面利润']\n",
    "field = data_list[0]\n",
    "\n",
    "df_append= pd.DataFrame()\n",
    "df_append['date'] = self.symbol_data['date']\n",
    "if mode=='time':\n",
    "    value_field = field + '历史时间百分位'\n",
    "    rank_field = field + '历史时间分位'\n",
    "elif mode=='value':\n",
    "    value_field = field + '历史数值百分位'\n",
    "    rank_field = field + '历史数值分位'\n",
    "else:\n",
    "    None\n",
    "\n",
    "if trace_back_months == 'all':\n",
    "    window_size = len(self.symbol_data)\n",
    "else:\n",
    "    # Assuming that data is daily, convert months to days\n",
    "    window_size = trace_back_months * 20\n",
    "\n",
    "if mode=='time':\n",
    "    df_append[value_field] = self.symbol_data[field].expanding().apply(lambda x: (x.rank(method='min') / len(x)).iloc[-1])\n",
    "    quantiles = np.percentile(df_append[value_field].dropna(), quantiles)\n",
    "elif mode=='value':\n",
    "    df_append[value_field] = self.symbol_data[field].expanding().apply(lambda x: (x.iloc[-1] - x.min()) / (x.max() - x.min()))\n",
    "    quantiles = list(map(lambda x: x/100, quantiles))\n",
    "\n",
    "df_append[rank_field] = pd.cut(df_append[value_field].dropna(), bins=quantiles, labels=ranks, include_lowest=True, duplicates='drop', right=False)\n",
    "if df_rank.empty:\n",
    "    df_rank = df_append\n",
    "else:\n",
    "    df_rank = pd.merge(df_rank, df_append, on='date', how='outer')\n",
    "\n",
    "df_rank = pd.merge(df_rank, symbol.symbol_data[['date', field]], on='date', how='outer')"
   ]
  },
  {
   "cell_type": "markdown",
   "metadata": {},
   "source": [
    "### 历史水位分析\n",
    "\n",
    "基差率-库存消费比-利润率"
   ]
  },
  {
   "cell_type": "markdown",
   "metadata": {},
   "source": [
    "历史时间比例分位"
   ]
  },
  {
   "cell_type": "code",
   "execution_count": null,
   "metadata": {},
   "outputs": [],
   "source": [
    "# df1 = symbol.history_time_ratio('库存', df_rank=merged_data)\n",
    "# df2 = symbol.history_time_ratio('库存', df_rank=merged_data, mode='value')\n"
   ]
  },
  {
   "cell_type": "code",
   "execution_count": null,
   "metadata": {},
   "outputs": [],
   "source": [
    "# 将累计销量数据转化为当月销量数据\n",
    "\n",
    "# 假设您提供的数据保存在一个名为df的dataframe中，字段包含日期和累计销量\n",
    "# 例如，df的前五行如下：\n",
    "#          日期   累计销量\n",
    "# 0 2020-01-31  1000\n",
    "# 1 2020-02-29  1500\n",
    "# 2 2020-03-31  1800\n",
    "# 3 2020-04-30  2200\n",
    "# 4 2020-05-31  2500\n",
    "\n",
    "# 定义一个函数，计算当月销量值\n",
    "def calc_monthly_sales(df):\n",
    "    # 创建一个空的列表，用于存储当月销量值\n",
    "    monthly_sales = []\n",
    "    # 遍历dataframe的每一行，获取日期和累计销量\n",
    "    for i, row in df.iterrows():\n",
    "        # 获取日期\n",
    "        date = row['日期']\n",
    "        # 获取累计销量\n",
    "        cum_sales = row['累计销量']\n",
    "        # 如果是第一行，那么需要判断是否是1月份\n",
    "        if i == 0:\n",
    "            # 如果是1月份，那么当月销量值就等于累计销量\n",
    "            if date.month == 1:\n",
    "                monthly_sales.append(cum_sales)\n",
    "            # 如果不是1月份，那么当月销量值就设为NaN\n",
    "            else:\n",
    "                monthly_sales.append(np.nan)\n",
    "        # 如果不是第一行，那么需要判断当前月份与上一行的月份是否相邻\n",
    "        else:\n",
    "            # 获取上一行的日期\n",
    "            prev_date = df.loc[i-1, '日期']\n",
    "            # 如果当前月份与上一行的月份相邻，那么当月销量值就等于累计销量减去上一行的累计销量\n",
    "            if date.month == prev_date.month + 1 or (date.month == 1 and prev_date.month == 12):\n",
    "                monthly_sales.append(cum_sales - df.loc[i-1, '累计销量'])\n",
    "            # 如果当前月份与上一行的月份不相邻，那么当月销量值就设为NaN\n",
    "            else:\n",
    "                monthly_sales.append(np.nan)\n",
    "    # 返回列表\n",
    "    return monthly_sales\n",
    "\n",
    "# 调用函数，得到一个列表，存储当月销量值\n",
    "monthly_sales = calc_monthly_sales(df)\n",
    "\n",
    "# 在原始的dataframe中，创建一个新的列，存储当月销量值\n",
    "df['当月销量'] = monthly_sales\n",
    "\n",
    "# 打印dataframe的前五行，查看结果\n",
    "print(df.head())\n",
    "\n",
    "#          日期   累计销量  当月销量\n",
    "# 0 2020-01-31  1000   1000.0\n",
    "# 1 2020-02-29  1500    500.0\n",
    "# 2 2020-03-31  1800    300.0\n",
    "# 3 2020-04-30  2200    400.0\n",
    "# 4 2020-05-31  2500    300.0\n"
   ]
  },
  {
   "cell_type": "markdown",
   "metadata": {},
   "source": [
    "## 季节性分析"
   ]
  },
  {
   "cell_type": "markdown",
   "metadata": {},
   "source": [
    "### 基差率季节分析"
   ]
  },
  {
   "cell_type": "code",
   "execution_count": null,
   "metadata": {},
   "outputs": [],
   "source": [
    "df_rb0['年度'] = df_rb0['日期'].dt.year\n",
    "df_rb0['年内日期'] = df_rb0['日期'].dt.strftime('1900-%m-%d')\n",
    "fig_basis_rate_season = px.line(df_rb0,\n",
    "                                x='年内日期',\n",
    "                                y='基差率',\n",
    "                                color='年度',\n",
    "                                #color_discrete_sequence=px.colors.qualitative.G10)\n",
    "                                color_discrete_sequence=['lightgray', 'lightblue', 'orange', 'red'])\n",
    "fig_basis_rate_season.update_layout(\n",
    "    title={\n",
    "        'text':'基差率季节分析',\n",
    "        'xanchor':'center'},\n",
    "    margin=dict(l=10, r=10, t=40, b=10)\n",
    ")\n",
    "\n",
    "fig_basis_rate_season.show()"
   ]
  },
  {
   "cell_type": "markdown",
   "metadata": {},
   "source": [
    "### 基差率月度涨跌统计"
   ]
  },
  {
   "cell_type": "markdown",
   "metadata": {},
   "source": [
    "### 基差率频率分布"
   ]
  },
  {
   "cell_type": "markdown",
   "metadata": {},
   "source": [
    "### 库存季节性分析"
   ]
  },
  {
   "cell_type": "markdown",
   "metadata": {},
   "source": [
    "## 跨期分析"
   ]
  },
  {
   "cell_type": "markdown",
   "metadata": {},
   "source": [
    "### 期限结构"
   ]
  },
  {
   "cell_type": "code",
   "execution_count": null,
   "metadata": {},
   "outputs": [],
   "source": [
    "# 加载合约基础数据\n",
    "futures_comm_info = pd.read_excel('data/common_info.xlsx')\n",
    "spec_contact_list = futures_comm_info[futures_comm_info.合约名称.str.startswith('螺纹钢')]\n",
    "fig_term = make_subplots(specs=[[{\"secondary_y\": True}]])\n",
    "fig_term.add_trace(go.Scatter(x=spec_contact_list['合约代码'], y=spec_contact_list['现价']))\n",
    "# 获取最新现货价格\n",
    "spot_price = df_rb0[df_rb0['现货']!=0]['现货'].iloc[-1]\n",
    "fig_term.add_hline(y=spot_price)\n",
    "fig_term.update_layout(\n",
    "    title={\n",
    "        'text':'期限结构'\n",
    "    },\n",
    "    #autosize=False,\n",
    "    width=800,\n",
    "    #height=800,\n",
    "    margin=dict(l=10, r=10, t=40, b=10)\n",
    ")\n",
    "fig_term.show()"
   ]
  },
  {
   "cell_type": "markdown",
   "metadata": {},
   "source": [
    "### 套利分析"
   ]
  },
  {
   "cell_type": "markdown",
   "metadata": {},
   "source": [
    "#### 价差分析-多期排列"
   ]
  },
  {
   "cell_type": "markdown",
   "metadata": {},
   "source": [
    "#### 价差分析-跨期价差矩阵"
   ]
  },
  {
   "cell_type": "markdown",
   "metadata": {},
   "source": [
    "#### 基差-月差分析"
   ]
  },
  {
   "cell_type": "markdown",
   "metadata": {},
   "source": [
    "#### 价差季节性分析"
   ]
  },
  {
   "cell_type": "markdown",
   "metadata": {},
   "source": [
    "## 库存"
   ]
  },
  {
   "cell_type": "markdown",
   "metadata": {},
   "source": [
    "### 库存周期"
   ]
  },
  {
   "cell_type": "markdown",
   "metadata": {},
   "source": [
    "#### 期转现"
   ]
  },
  {
   "cell_type": "markdown",
   "metadata": {},
   "source": [
    "#### 交割统计"
   ]
  },
  {
   "cell_type": "markdown",
   "metadata": {},
   "source": [
    "## 利润"
   ]
  },
  {
   "cell_type": "markdown",
   "metadata": {},
   "source": [
    "### 现货利润"
   ]
  },
  {
   "cell_type": "markdown",
   "metadata": {},
   "source": [
    "### 期货盘面利润"
   ]
  },
  {
   "cell_type": "markdown",
   "metadata": {},
   "source": [
    "### 利润期限结构"
   ]
  },
  {
   "cell_type": "markdown",
   "metadata": {},
   "source": [
    "## 综合分析"
   ]
  },
  {
   "cell_type": "markdown",
   "metadata": {},
   "source": [
    "### 基差-库存-利润分析"
   ]
  },
  {
   "cell_type": "markdown",
   "metadata": {},
   "source": [
    "### 基差-月差分析"
   ]
  },
  {
   "cell_type": "markdown",
   "metadata": {},
   "source": [
    "### 期限结构-库存/仓单分析"
   ]
  }
 ],
 "metadata": {
  "kernelspec": {
   "display_name": "base",
   "language": "python",
   "name": "python3"
  },
  "language_info": {
   "codemirror_mode": {
    "name": "ipython",
    "version": 3
   },
   "file_extension": ".py",
   "mimetype": "text/x-python",
   "name": "python",
   "nbconvert_exporter": "python",
   "pygments_lexer": "ipython3",
   "version": "3.10.9"
  },
  "orig_nbformat": 4
 },
 "nbformat": 4,
 "nbformat_minor": 2
}
