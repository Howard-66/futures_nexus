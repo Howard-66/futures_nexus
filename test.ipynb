{
 "cells": [
  {
   "cell_type": "code",
   "execution_count": 1,
   "metadata": {},
   "outputs": [],
   "source": [
    "import pandas as pd\n",
    "from dataworks import DataWorks\n",
    "dws = DataWorks()\n",
    "\n"
   ]
  },
  {
   "cell_type": "code",
   "execution_count": 80,
   "metadata": {},
   "outputs": [],
   "source": [
    "def load_choice_file(path, field, name):\n",
    "    \"\"\"读取choice数据终端导出的数据文件.\n",
    "        Choiced导出文件格式对应的处理规则. \n",
    "        - 原文件第一行为“宏观数据“或类似内容,但read_excel方法未加载该行内容\n",
    "        - 数据的第一行作为指标标题\n",
    "        - 第一列作为日期\n",
    "        - 前六行和最后一行都不是数据内容\n",
    "        - 剔除“日期”字段为空的行和其他非数据内容（标识数据来源的文字内容）\n",
    "        \n",
    "        Choice文件导出注意事项:\n",
    "        - 导出字段选择:指标名称、频率、单位、来源\n",
    "        - 日期排序:降序\n",
    "        - 图形设置:不导出图形\n",
    "        - 勾选“使用函数方式导出”\n",
    "    Args:\n",
    "        file_path (str): Choice导出文件(.xlsx)的绝对路径\n",
    "\n",
    "    Returns:\n",
    "        dataframe: 将Choice导出文件内容加载到dataframe,并返回\n",
    "    \"\"\"\n",
    "    if path=='':\n",
    "        return None\n",
    "    df = pd.read_excel(path)\n",
    "    df.columns = df.iloc[0]\n",
    "    df.rename(columns={df.columns[0]: 'date'}, inplace=True)\n",
    "    df = df.iloc[6:]\n",
    "    if isinstance(field, list):\n",
    "        df[name] = df[field[0]] + df[field[1]]\n",
    "        df = df[['date', name]]\n",
    "    else:\n",
    "        df.rename(columns={field: name}, inplace=True)\n",
    "        df = df[['date', name]]\n",
    "        \n",
    "    # df.reset_index(drop=True, inplace=True)\n",
    "    # df.set_index('date', inplace=True)\n",
    "    df.dropna(axis=0, subset=['date'], inplace=True)\n",
    "    df = df[df['date'] != '数据来源：东方财富Choice数据']\n",
    "    df['date'] = pd.to_datetime(df['date'])\n",
    "    return df"
   ]
  },
  {
   "cell_type": "code",
   "execution_count": 3,
   "metadata": {},
   "outputs": [
    {
     "data": {
      "text/plain": [
       "datetime.date(1990, 12, 19)"
      ]
     },
     "execution_count": 3,
     "metadata": {},
     "output_type": "execute_result"
    }
   ],
   "source": [
    "import akshare as ak\n",
    "trade_date = ak.tool_trade_date_hist_sina()['trade_date']\n",
    "trade_date.iloc[0]"
   ]
  },
  {
   "cell_type": "code",
   "execution_count": 81,
   "metadata": {},
   "outputs": [],
   "source": [
    "config = dws.get_variety_setting('setting/variety.json')\n",
    "variety_config = config['RB']\n",
    "combined_df = None\n",
    "for data_type, data_info in variety_config['DataIndex'].items():\n",
    "    # 从文件中加载指定字段的数据\n",
    "    data_df = load_choice_file(data_info['Path'], data_info['Field'], data_info['Name'])\n",
    "    \n",
    "    # 将数据添加到combined_df中\n",
    "    # combined_df = pd.concat([combined_df, data_df], axis=1)\n",
    "    combined_df = pd.merge(combined_df, data_df, on='date', how='outer') if combined_df is not None else data_df\n",
    "# combined_df.dropna(axis=0, subset=['date'], inplace=True)"
   ]
  },
  {
   "cell_type": "code",
   "execution_count": 2,
   "metadata": {},
   "outputs": [],
   "source": [
    "import pandas as pd\n",
    "df_basis = dws.get_data_by_sql('SELECT * FROM basis')\n",
    "df_basis = df_basis[['date', 'dom_basis']]"
   ]
  },
  {
   "cell_type": "code",
   "execution_count": 3,
   "metadata": {},
   "outputs": [],
   "source": [
    "df_basis['date'] = pd.to_datetime(df_basis['date'])\n",
    "ts = df_basis.set_index('date')['dom_basis']"
   ]
  },
  {
   "cell_type": "code",
   "execution_count": 19,
   "metadata": {},
   "outputs": [
    {
     "name": "stdout",
     "output_type": "stream",
     "text": [
      "Extracted variables: ['abc:efg', '137a:mn']\n"
     ]
    }
   ],
   "source": [
    "import re\n",
    "\n",
    "def extract_variables(format_str):\n",
    "    # 正则表达式模式，匹配非空字符（即变量）\n",
    "    pattern = r'\\{.*?\\}'\n",
    "    # 使用正则表达式查找所有匹配的变量名\n",
    "    variables = re.findall(pattern, format_str)\n",
    "    # 去除花括号并返回结果\n",
    "    return [var[1:-1] for var in variables]\n",
    "\n",
    "# 示例四则运算公式字符串\n",
    "format_str = \"a * b / (c % d) + e - f ** g\"\n",
    "format_str2 = \"{abc:efg} + {137a:mn}\"\n",
    "\n",
    "# 提取并打印变量列表\n",
    "variables_list = extract_variables(format_str2)\n",
    "print(\"Extracted variables:\", variables_list)"
   ]
  },
  {
   "cell_type": "code",
   "execution_count": 12,
   "metadata": {},
   "outputs": [
    {
     "name": "stdout",
     "output_type": "stream",
     "text": [
      "Extracted variables: ['库存:热卷(板)']\n"
     ]
    }
   ],
   "source": [
    "import re\n",
    "def extract_variables(format_str):\n",
    "    \"\"\"\n",
    "    从格式字符串中提取变量名，包括可能包含冒号 \":\" 的变量。\n",
    "\n",
    "    参数:\n",
    "    format_str: 一个包含变量名的字符串。例如：\"abc:efg + 137a:mn + name + age\"\n",
    "\n",
    "    返回值:\n",
    "    一个包含所有提取出的变量名（可能含有冒号）的列表。例如：['abc:efg', '137a:mn', 'name', 'age']。\n",
    "    \"\"\"\n",
    "    # 定义用于匹配可能包含冒号的变量名的正则表达式模式\n",
    "    variable_pattern = r'\\w[\\w:()%]*'\n",
    "    # 使用正则表达式查找所有匹配的变量名\n",
    "    variables = re.findall(variable_pattern, format_str)\n",
    "    return variables  # 直接返回找到的变量名列表，无需额外处理\n",
    "\n",
    "format_str2 = \"库存:热卷(板)\"\n",
    "\n",
    "# 提取并打印变量列表\n",
    "variables_list = extract_variables(format_str2)\n",
    "print(\"Extracted variables:\", variables_list)"
   ]
  },
  {
   "cell_type": "code",
   "execution_count": 1,
   "metadata": {},
   "outputs": [],
   "source": [
    "import json\n",
    "import dataworks as dw\n",
    "dws = dw.DataWorks()"
   ]
  },
  {
   "cell_type": "code",
   "execution_count": 2,
   "metadata": {},
   "outputs": [],
   "source": [
    "def load_choice_file(file_path):\n",
    "    \"\"\"读取choice数据终端导出的数据文件.\n",
    "        Choiced导出文件格式对应的处理规则. \n",
    "        - 原文件第一行为“宏观数据“或类似内容,但read_excel方法未加载该行内容\n",
    "        - 数据的第一行作为指标标题\n",
    "        - 第一列作为日期\n",
    "        - 前六行和最后一行都不是数据内容\n",
    "        - 剔除“日期”字段为空的行和其他非数据内容（标识数据来源的文字内容）\n",
    "        \n",
    "        Choice文件导出注意事项:\n",
    "        - 导出字段选择:指标名称、频率、单位、来源\n",
    "        - 日期排序:降序\n",
    "        - 图形设置:不导出图形\n",
    "        - 勾选“使用函数方式导出”\n",
    "    Args:\n",
    "        file_path (str): Choice导出文件(.xlsx)的绝对路径\n",
    "\n",
    "    Returns:\n",
    "        dataframe: 将Choice导出文件内容加载到dataframe,并返回\n",
    "    \"\"\"\n",
    "    if file_path=='':\n",
    "        return None\n",
    "    df = pd.read_excel(file_path)\n",
    "    df.columns = df.iloc[0]\n",
    "    df.rename(columns={df.columns[0]: 'date'}, inplace=True)\n",
    "    df = df[6:]\n",
    "    df.reset_index(drop=True, inplace=True)\n",
    "    df.dropna(axis=0, subset=['date'], inplace=True)\n",
    "    df = df[df['date'] != '数据来源：东方财富Choice数据']\n",
    "    df['date'] = pd.to_datetime(df['date'])\n",
    "    return df"
   ]
  },
  {
   "cell_type": "code",
   "execution_count": null,
   "metadata": {},
   "outputs": [],
   "source": [
    "common_json = 'setting/common.json'\n",
    "variety_json = 'setting/variety.json'\n",
    "symbol_id = \"RB\"\n",
    "\n",
    "with open(common_json, encoding='utf-8') as common_file: \n",
    "    symbol_dataindex_setting = json.load(common_file)['DataIndex']\n",
    "with open(variety_json, encoding='utf-8') as variety_file:\n",
    "    variety_setting = json.load(variety_file)[symbol_id]     \n",
    "variety_setting['DataIndex'] = {**symbol_dataindex_setting, **variety_setting['DataIndex']} if 'DataIndex' in variety_setting else symbol_dataindex_setting\n",
    "symbol_setting = variety_setting\n"
   ]
  },
  {
   "cell_type": "code",
   "execution_count": 4,
   "metadata": {},
   "outputs": [
    {
     "name": "stdout",
     "output_type": "stream",
     "text": [
      "symbol: RB, key: 需求\n",
      "symbol: RB, key: 产量\n",
      "symbol: RB, key: 开工率\n",
      "symbol: RB, key: 产能利用率\n",
      "symbol: RB, key: 库存\n"
     ]
    },
    {
     "name": "stderr",
     "output_type": "stream",
     "text": [
      "/var/folders/hc/6dqjp7bs58s2pcb47s4xfsf80000gn/T/ipykernel_28136/3172956327.py:59: FutureWarning: Downcasting object dtype arrays on .fillna, .ffill, .bfill is deprecated and will change in a future version. Call result.infer_objects(copy=False) instead. To opt-in to the future behavior, set `pd.set_option('future.no_silent_downcasting', True)`\n",
      "  df[key] = df[key].ffill()\n",
      "/var/folders/hc/6dqjp7bs58s2pcb47s4xfsf80000gn/T/ipykernel_28136/3172956327.py:59: FutureWarning: Downcasting object dtype arrays on .fillna, .ffill, .bfill is deprecated and will change in a future version. Call result.infer_objects(copy=False) instead. To opt-in to the future behavior, set `pd.set_option('future.no_silent_downcasting', True)`\n",
      "  df[key] = df[key].ffill()\n"
     ]
    }
   ],
   "source": [
    "import pandas as pd\n",
    "import re\n",
    "from asteval import Interpreter\n",
    "\n",
    "def extract_variables(format_str):\n",
    "    \"\"\"从格式字符串中提取变量名\"\"\"\n",
    "    # 正则表达式模式，匹配非空字符（即变量）\n",
    "    variable_pattern = r'\\w[\\w:()%]*'\n",
    "    # 使用正则表达式查找所有匹配的变量名\n",
    "    variables = re.findall(variable_pattern, format_str)\n",
    "    return variables  # 直接返回找到的变量名列表，无需额外处理\n",
    "\n",
    "column_dict= {}\n",
    "data_frames = []\n",
    "data_index = symbol_setting['DataIndex']\n",
    "\n",
    "# dws = gs.dataworks\n",
    "dws = dw.DataWorks()\n",
    "for key, value_items in data_index.items():\n",
    "    # 按照配置文件中的DataFrame键值，将同类内容合并到同一张表中\n",
    "    df_name = value_items['DataFrame']            \n",
    "    fields = value_items['Field']\n",
    "    variables_list = extract_variables(fields)\n",
    "    if df_name in locals():        \n",
    "        # 键值是独立字段的，列名修改为key\n",
    "        if len(variables_list)==1:\n",
    "            locals()[df_name].rename(columns={variables_list[0]:key}, inplace=True)\n",
    "    else:\n",
    "        # 未加载的数据，整表读取到df_name中\n",
    "        data_source = value_items['Source']\n",
    "        if data_source=='Choice':\n",
    "            locals()[df_name] = load_choice_file(value_items['Path'])\n",
    "        elif data_source=='SQLite':\n",
    "            locals()[df_name] = dws.get_data_by_symbol(value_items['Path'], symbol_id, '*')\n",
    "            locals()[df_name]['date'] = pd.to_datetime(locals()[df_name]['date'])\n",
    "        else:\n",
    "            continue\n",
    "        column_dict[df_name] = ['date']\n",
    "    df = locals()[df_name]            \n",
    "    if len(variables_list)==1:\n",
    "        # Field是独立字段的，列名修改为key\n",
    "        df.rename(columns={variables_list[0]:key}, inplace=True)\n",
    "        column_dict[df_name].append(key)\n",
    "    else:                \n",
    "        # Field是公式表达的，进行解析计算\n",
    "        aeval = Interpreter()       \n",
    "        for var in variables_list:                    \n",
    "            safe_var = re.sub(r'[0-9:]', '', var)\n",
    "            df.rename(columns={var:safe_var}, inplace=True)                                     \n",
    "            aeval.symtable[safe_var] = df[safe_var]\n",
    "        safe_fields = re.sub(r'[0-9:]', '', fields)\n",
    "        df[key] = aeval.eval(safe_fields)\n",
    "        column_dict[df_name].append(key)\n",
    "    # 根据配置中指定的填充方式填充缺失值\n",
    "    if 'FillNa' in value_items:\n",
    "        fill_na = value_items['FillNa']\n",
    "        print(f\"symbol: {symbol_id}, key: {key}\")\n",
    "        if fill_na=='Forward':\n",
    "            df[key] = df[key].ffill()\n",
    "        elif fill_na=='Backward':\n",
    "            df[key] = df[key].bfill()\n",
    "        # elif fill_na=='Interpolate':"
   ]
  },
  {
   "cell_type": "code",
   "execution_count": 5,
   "metadata": {},
   "outputs": [],
   "source": [
    "from functools import reduce\n",
    "for df_key in column_dict:\n",
    "    df = locals()[df_key]\n",
    "    df = df[column_dict[df_key]]\n",
    "    data_frames.append(df)\n",
    "symbol_data = reduce(lambda left,right: pd.merge(left,right,on='date', how='outer'), data_frames)\n",
    "# if \"利润\" in self.symbol_setting:\n",
    "#     for key, value in enumerate(self.symbol_setting['利润'].items()):\n",
    "#         variables_list = extract_variables(value)\n",
    "#         aeval = Interpreter()       \n",
    "#         for var in variables_list:                                              \n",
    "#             aeval.symtable[var] = df[var]\n",
    "#         self.symbol_data[key] = aeval.eval(value)\n",
    "\n",
    "symbol_data.sort_values(by='date', ascending=True, inplace=True)\n",
    "columns_to_check = symbol_data.columns[1:]\n",
    "symbol_data.dropna(subset=columns_to_check, how='all', inplace=True)        "
   ]
  },
  {
   "cell_type": "code",
   "execution_count": 34,
   "metadata": {},
   "outputs": [],
   "source": [
    "import akshare as ak\n",
    "trade_date = ak.tool_trade_date_hist_sina()['trade_date']\n",
    "trade_date = pd.to_datetime(trade_date)\n"
   ]
  },
  {
   "cell_type": "code",
   "execution_count": 35,
   "metadata": {},
   "outputs": [],
   "source": [
    "date_column = 'date'\n",
    "# 筛选出 date 在 trade_date 中的行\n",
    "valid_dates_mask = symbol_data[date_column].isin(trade_date)\n",
    "# 删除不属于交易日的行\n",
    "new_symbol_data2 = symbol_data.loc[valid_dates_mask]\n",
    "\n",
    "# 或者，如果您希望直接在原数据框上进行修改（inplace=True）\n",
    "# symbol_data.drop(symbol_data.index[~valid_dates_mask], inplace=True)"
   ]
  },
  {
   "cell_type": "code",
   "execution_count": null,
   "metadata": {},
   "outputs": [],
   "source": [
    "from datetime import datetime, timedelta\n",
    "start_date = symbol_data['date'].iloc[0]\n",
    "end_date = symbol_data['date'].iloc[-1]\n",
    "interval = timedelta(days=1)  \n",
    "all_date = [start_date + i * interval for i in range((end_date - start_date).days + 1)]\n",
    "\n",
    "not_trade_date = sorted(set(all_date) - set(trade_date))"
   ]
  },
  {
   "cell_type": "code",
   "execution_count": 7,
   "metadata": {},
   "outputs": [
    {
     "data": {
      "text/plain": [
       "<module 'variety' from 'e:\\\\Document\\\\Project\\\\futures_nexus\\\\variety.py'>"
      ]
     },
     "execution_count": 7,
     "metadata": {},
     "output_type": "execute_result"
    }
   ],
   "source": [
    "# 重新加载salary计算模块\n",
    "import importlib\n",
    "importlib.reload(variety)"
   ]
  },
  {
   "cell_type": "code",
   "execution_count": 8,
   "metadata": {},
   "outputs": [
    {
     "name": "stdout",
     "output_type": "stream",
     "text": [
      "symbol: RB, key: 库存\n",
      "symbol: RB, key: 需求\n",
      "symbol: RB, key: 产量\n",
      "symbol: RB, key: 开工率\n",
      "symbol: RB, key: 产能利用率\n"
     ]
    },
    {
     "name": "stderr",
     "output_type": "stream",
     "text": [
      "e:\\Document\\Project\\futures_nexus\\variety.py:210: FutureWarning: Downcasting object dtype arrays on .fillna, .ffill, .bfill is deprecated and will change in a future version. Call result.infer_objects(copy=False) instead. To opt-in to the future behavior, set `pd.set_option('future.no_silent_downcasting', True)`\n",
      "  elif fill_na=='Backward':\n"
     ]
    },
    {
     "data": {
      "text/html": [
       "<div>\n",
       "<style scoped>\n",
       "    .dataframe tbody tr th:only-of-type {\n",
       "        vertical-align: middle;\n",
       "    }\n",
       "\n",
       "    .dataframe tbody tr th {\n",
       "        vertical-align: top;\n",
       "    }\n",
       "\n",
       "    .dataframe thead th {\n",
       "        text-align: right;\n",
       "    }\n",
       "</style>\n",
       "<table border=\"1\" class=\"dataframe\">\n",
       "  <thead>\n",
       "    <tr style=\"text-align: right;\">\n",
       "      <th></th>\n",
       "      <th>date</th>\n",
       "      <th>主力合约收盘价</th>\n",
       "      <th>主力合约结算价</th>\n",
       "      <th>主力合约持仓量</th>\n",
       "      <th>近月合约收盘价</th>\n",
       "      <th>近月合约结算价</th>\n",
       "      <th>近月合约持仓量</th>\n",
       "      <th>现货价格</th>\n",
       "      <th>基差</th>\n",
       "      <th>基差率</th>\n",
       "      <th>仓单</th>\n",
       "      <th>库存</th>\n",
       "      <th>需求</th>\n",
       "      <th>产量</th>\n",
       "      <th>开工率</th>\n",
       "      <th>产能利用率</th>\n",
       "    </tr>\n",
       "  </thead>\n",
       "  <tbody>\n",
       "    <tr>\n",
       "      <th>0</th>\n",
       "      <td>2010-03-29</td>\n",
       "      <td>NaN</td>\n",
       "      <td>NaN</td>\n",
       "      <td>NaN</td>\n",
       "      <td>NaN</td>\n",
       "      <td>NaN</td>\n",
       "      <td>NaN</td>\n",
       "      <td>NaN</td>\n",
       "      <td>NaN</td>\n",
       "      <td>NaN</td>\n",
       "      <td>NaN</td>\n",
       "      <td>NaN</td>\n",
       "      <td>NaN</td>\n",
       "      <td>NaN</td>\n",
       "      <td>NaN</td>\n",
       "      <td>NaN</td>\n",
       "    </tr>\n",
       "    <tr>\n",
       "      <th>1</th>\n",
       "      <td>2010-03-30</td>\n",
       "      <td>NaN</td>\n",
       "      <td>NaN</td>\n",
       "      <td>NaN</td>\n",
       "      <td>NaN</td>\n",
       "      <td>NaN</td>\n",
       "      <td>NaN</td>\n",
       "      <td>NaN</td>\n",
       "      <td>NaN</td>\n",
       "      <td>NaN</td>\n",
       "      <td>NaN</td>\n",
       "      <td>NaN</td>\n",
       "      <td>NaN</td>\n",
       "      <td>NaN</td>\n",
       "      <td>NaN</td>\n",
       "      <td>NaN</td>\n",
       "    </tr>\n",
       "    <tr>\n",
       "      <th>2</th>\n",
       "      <td>2010-03-31</td>\n",
       "      <td>NaN</td>\n",
       "      <td>NaN</td>\n",
       "      <td>NaN</td>\n",
       "      <td>NaN</td>\n",
       "      <td>NaN</td>\n",
       "      <td>NaN</td>\n",
       "      <td>NaN</td>\n",
       "      <td>NaN</td>\n",
       "      <td>NaN</td>\n",
       "      <td>NaN</td>\n",
       "      <td>NaN</td>\n",
       "      <td>NaN</td>\n",
       "      <td>NaN</td>\n",
       "      <td>NaN</td>\n",
       "      <td>NaN</td>\n",
       "    </tr>\n",
       "    <tr>\n",
       "      <th>3</th>\n",
       "      <td>2010-04-01</td>\n",
       "      <td>NaN</td>\n",
       "      <td>NaN</td>\n",
       "      <td>NaN</td>\n",
       "      <td>NaN</td>\n",
       "      <td>NaN</td>\n",
       "      <td>NaN</td>\n",
       "      <td>NaN</td>\n",
       "      <td>NaN</td>\n",
       "      <td>NaN</td>\n",
       "      <td>NaN</td>\n",
       "      <td>NaN</td>\n",
       "      <td>NaN</td>\n",
       "      <td>NaN</td>\n",
       "      <td>NaN</td>\n",
       "      <td>NaN</td>\n",
       "    </tr>\n",
       "    <tr>\n",
       "      <th>4</th>\n",
       "      <td>2010-04-02</td>\n",
       "      <td>NaN</td>\n",
       "      <td>NaN</td>\n",
       "      <td>NaN</td>\n",
       "      <td>NaN</td>\n",
       "      <td>NaN</td>\n",
       "      <td>NaN</td>\n",
       "      <td>NaN</td>\n",
       "      <td>NaN</td>\n",
       "      <td>NaN</td>\n",
       "      <td>NaN</td>\n",
       "      <td>NaN</td>\n",
       "      <td>NaN</td>\n",
       "      <td>NaN</td>\n",
       "      <td>NaN</td>\n",
       "      <td>NaN</td>\n",
       "    </tr>\n",
       "    <tr>\n",
       "      <th>...</th>\n",
       "      <td>...</td>\n",
       "      <td>...</td>\n",
       "      <td>...</td>\n",
       "      <td>...</td>\n",
       "      <td>...</td>\n",
       "      <td>...</td>\n",
       "      <td>...</td>\n",
       "      <td>...</td>\n",
       "      <td>...</td>\n",
       "      <td>...</td>\n",
       "      <td>...</td>\n",
       "      <td>...</td>\n",
       "      <td>...</td>\n",
       "      <td>...</td>\n",
       "      <td>...</td>\n",
       "      <td>...</td>\n",
       "    </tr>\n",
       "    <tr>\n",
       "      <th>4568</th>\n",
       "      <td>2024-03-19</td>\n",
       "      <td>NaN</td>\n",
       "      <td>NaN</td>\n",
       "      <td>NaN</td>\n",
       "      <td>NaN</td>\n",
       "      <td>NaN</td>\n",
       "      <td>NaN</td>\n",
       "      <td>NaN</td>\n",
       "      <td>NaN</td>\n",
       "      <td>NaN</td>\n",
       "      <td>NaN</td>\n",
       "      <td>1324.80</td>\n",
       "      <td>212.38</td>\n",
       "      <td>218.53</td>\n",
       "      <td>39.02</td>\n",
       "      <td>47.91</td>\n",
       "    </tr>\n",
       "    <tr>\n",
       "      <th>4569</th>\n",
       "      <td>2024-03-20</td>\n",
       "      <td>NaN</td>\n",
       "      <td>NaN</td>\n",
       "      <td>NaN</td>\n",
       "      <td>NaN</td>\n",
       "      <td>NaN</td>\n",
       "      <td>NaN</td>\n",
       "      <td>NaN</td>\n",
       "      <td>NaN</td>\n",
       "      <td>NaN</td>\n",
       "      <td>NaN</td>\n",
       "      <td>1289.97</td>\n",
       "      <td>246.44</td>\n",
       "      <td>211.61</td>\n",
       "      <td>39.67</td>\n",
       "      <td>46.39</td>\n",
       "    </tr>\n",
       "    <tr>\n",
       "      <th>4570</th>\n",
       "      <td>2024-03-21</td>\n",
       "      <td>NaN</td>\n",
       "      <td>NaN</td>\n",
       "      <td>NaN</td>\n",
       "      <td>NaN</td>\n",
       "      <td>NaN</td>\n",
       "      <td>NaN</td>\n",
       "      <td>NaN</td>\n",
       "      <td>NaN</td>\n",
       "      <td>NaN</td>\n",
       "      <td>NaN</td>\n",
       "      <td>1289.97</td>\n",
       "      <td>246.44</td>\n",
       "      <td>211.61</td>\n",
       "      <td>39.67</td>\n",
       "      <td>46.39</td>\n",
       "    </tr>\n",
       "    <tr>\n",
       "      <th>4571</th>\n",
       "      <td>2024-03-22</td>\n",
       "      <td>NaN</td>\n",
       "      <td>NaN</td>\n",
       "      <td>NaN</td>\n",
       "      <td>NaN</td>\n",
       "      <td>NaN</td>\n",
       "      <td>NaN</td>\n",
       "      <td>NaN</td>\n",
       "      <td>NaN</td>\n",
       "      <td>NaN</td>\n",
       "      <td>NaN</td>\n",
       "      <td>1289.97</td>\n",
       "      <td>246.44</td>\n",
       "      <td>211.61</td>\n",
       "      <td>39.67</td>\n",
       "      <td>46.39</td>\n",
       "    </tr>\n",
       "    <tr>\n",
       "      <th>4574</th>\n",
       "      <td>2024-03-25</td>\n",
       "      <td>NaN</td>\n",
       "      <td>NaN</td>\n",
       "      <td>NaN</td>\n",
       "      <td>NaN</td>\n",
       "      <td>NaN</td>\n",
       "      <td>NaN</td>\n",
       "      <td>NaN</td>\n",
       "      <td>NaN</td>\n",
       "      <td>NaN</td>\n",
       "      <td>NaN</td>\n",
       "      <td>1289.97</td>\n",
       "      <td>246.44</td>\n",
       "      <td>211.61</td>\n",
       "      <td>39.67</td>\n",
       "      <td>46.39</td>\n",
       "    </tr>\n",
       "  </tbody>\n",
       "</table>\n",
       "<p>3400 rows × 16 columns</p>\n",
       "</div>"
      ],
      "text/plain": [
       "           date  主力合约收盘价  主力合约结算价  主力合约持仓量  近月合约收盘价  近月合约结算价  近月合约持仓量  现货价格  \\\n",
       "0    2010-03-29      NaN      NaN      NaN      NaN      NaN      NaN   NaN   \n",
       "1    2010-03-30      NaN      NaN      NaN      NaN      NaN      NaN   NaN   \n",
       "2    2010-03-31      NaN      NaN      NaN      NaN      NaN      NaN   NaN   \n",
       "3    2010-04-01      NaN      NaN      NaN      NaN      NaN      NaN   NaN   \n",
       "4    2010-04-02      NaN      NaN      NaN      NaN      NaN      NaN   NaN   \n",
       "...         ...      ...      ...      ...      ...      ...      ...   ...   \n",
       "4568 2024-03-19      NaN      NaN      NaN      NaN      NaN      NaN   NaN   \n",
       "4569 2024-03-20      NaN      NaN      NaN      NaN      NaN      NaN   NaN   \n",
       "4570 2024-03-21      NaN      NaN      NaN      NaN      NaN      NaN   NaN   \n",
       "4571 2024-03-22      NaN      NaN      NaN      NaN      NaN      NaN   NaN   \n",
       "4574 2024-03-25      NaN      NaN      NaN      NaN      NaN      NaN   NaN   \n",
       "\n",
       "       基差  基差率  仓单       库存      需求      产量    开工率  产能利用率  \n",
       "0     NaN  NaN NaN      NaN     NaN     NaN    NaN    NaN  \n",
       "1     NaN  NaN NaN      NaN     NaN     NaN    NaN    NaN  \n",
       "2     NaN  NaN NaN      NaN     NaN     NaN    NaN    NaN  \n",
       "3     NaN  NaN NaN      NaN     NaN     NaN    NaN    NaN  \n",
       "4     NaN  NaN NaN      NaN     NaN     NaN    NaN    NaN  \n",
       "...   ...  ...  ..      ...     ...     ...    ...    ...  \n",
       "4568  NaN  NaN NaN  1324.80  212.38  218.53  39.02  47.91  \n",
       "4569  NaN  NaN NaN  1289.97  246.44  211.61  39.67  46.39  \n",
       "4570  NaN  NaN NaN  1289.97  246.44  211.61  39.67  46.39  \n",
       "4571  NaN  NaN NaN  1289.97  246.44  211.61  39.67  46.39  \n",
       "4574  NaN  NaN NaN  1289.97  246.44  211.61  39.67  46.39  \n",
       "\n",
       "[3400 rows x 16 columns]"
      ]
     },
     "execution_count": 8,
     "metadata": {},
     "output_type": "execute_result"
    }
   ],
   "source": [
    "import variety\n",
    "from variety import *\n",
    "rb = SymbolData('RB')\n",
    "rb.merge_data()\n",
    "# symbol_data = rb._calculate_basis('主力合约收盘价')"
   ]
  },
  {
   "cell_type": "code",
   "execution_count": 11,
   "metadata": {},
   "outputs": [],
   "source": [
    "field_list = rb.get_data_fields()"
   ]
  },
  {
   "cell_type": "code",
   "execution_count": 12,
   "metadata": {},
   "outputs": [
    {
     "name": "stdout",
     "output_type": "stream",
     "text": [
      "data_list: ['基差率', '主力合约持仓量', '仓单', '库存', '需求', '产量', '开工率', '产能利用率']\n"
     ]
    },
    {
     "name": "stderr",
     "output_type": "stream",
     "text": [
      "/Volumes/Repository/Projects/futures_nexus/variety.py:357: FutureWarning: Downcasting behavior in `replace` is deprecated and will be removed in a future version. To retain the old behavior, explicitly call `result.infer_objects(copy=False)`. To opt-in to the future behavior, set `pd.set_option('future.no_silent_downcasting', True)`\n",
      "  df_rank = pd.DataFrame()\n"
     ]
    }
   ],
   "source": [
    "data_rank = rb.calculate_data_rank('主力合约',field_list,6)"
   ]
  },
  {
   "cell_type": "code",
   "execution_count": null,
   "metadata": {},
   "outputs": [],
   "source": [
    "signals = rb.get_signals(field_list)"
   ]
  },
  {
   "cell_type": "code",
   "execution_count": 1,
   "metadata": {},
   "outputs": [],
   "source": [
    "import dash_mantine_components as dmc\n",
    "from dash import Dash, html, Input, Output, State\n",
    "\n",
    "layout = html.Div([\n",
    "    dmc.Stack(\n",
    "        [\n",
    "            dmc.Button(\"Open\", id=\"open-modal\"),\n",
    "            dmc.Button(\"Close\", id=\"close-modal\"),\n",
    "        ],\n",
    "        spacing=\"md\",\n",
    "    )\n",
    "])"
   ]
  },
  {
   "cell_type": "markdown",
   "metadata": {},
   "source": [
    "## 并行计算测试"
   ]
  },
  {
   "cell_type": "markdown",
   "metadata": {},
   "source": [
    "### 使用Numba的并行功能"
   ]
  },
  {
   "cell_type": "code",
   "execution_count": 33,
   "metadata": {},
   "outputs": [
    {
     "name": "stdout",
     "output_type": "stream",
     "text": [
      "Computation of 100000000 elements to the power of 10 completed.\n",
      "Execution time with parallel Numba: 0.417245 seconds\n"
     ]
    }
   ],
   "source": [
    "import numpy as np\n",
    "import time\n",
    "from numba import jit, prange\n",
    "\n",
    "# 定义一个计算大数组元素10次方的函数，使用Numba并行\n",
    "@jit(nopython=True, parallel=True)\n",
    "def compute_powers(numbers, power=10):\n",
    "    result = np.zeros_like(numbers)\n",
    "    for i in prange(len(numbers)):\n",
    "        result[i] = numbers[i] ** power\n",
    "    return result\n",
    "\n",
    "# 创建一个大数组\n",
    "size = 100000000\n",
    "numbers = np.random.rand(size)\n",
    "\n",
    "start_time = time.time()\n",
    "powered_numbers = compute_powers(numbers)\n",
    "end_time = time.time()\n",
    "\n",
    "print(f\"Computation of {size} elements to the power of 10 completed.\")\n",
    "print(f\"Execution time with parallel Numba: {end_time - start_time:.6f} seconds\")"
   ]
  },
  {
   "cell_type": "code",
   "execution_count": 27,
   "metadata": {},
   "outputs": [
    {
     "name": "stdout",
     "output_type": "stream",
     "text": [
      "Computation of 100000000 elements to the power of 10 completed.\n",
      "Execution time with parallel Numba: 12.351819 seconds\n"
     ]
    }
   ],
   "source": [
    "def compute_powers(numbers, power=10):\n",
    "    result = np.zeros_like(numbers)\n",
    "    for i in prange(len(numbers)):\n",
    "        result[i] = numbers[i] ** power\n",
    "    return result\n",
    "\n",
    "# 创建一个大数组\n",
    "size = 100000000\n",
    "numbers = np.random.rand(size)\n",
    "\n",
    "start_time = time.time()\n",
    "powered_numbers = compute_powers(numbers)\n",
    "end_time = time.time()\n",
    "\n",
    "print(f\"Computation of {size} elements to the power of 10 completed.\")\n",
    "print(f\"Execution time with parallel Numba: {end_time - start_time:.6f} seconds\")"
   ]
  },
  {
   "cell_type": "markdown",
   "metadata": {},
   "source": [
    "## 季节性分析"
   ]
  },
  {
   "cell_type": "markdown",
   "metadata": {},
   "source": [
    "### 趋势-周期-残差分析\n",
    "- 趋势部分的图表展示了时间序列数据中的长期变化趋势，消除了季节性波动和随机噪声的影响。\n",
    "- 节性部分的图表显示了数据的周期性波动模式，这种模式在每个周期内重复出现。\n",
    "- 残差部分包括了数据中除去趋势和季节性之后的剩余波动，通常认为这部分是随机噪声。\n",
    "\n",
    "如果残差部分相对较小且随机，说明季节性和趋势的分解较为成功，模型有效捕捉了数据的主要特征。反之，则可能需要考虑模型的调整或寻找其他影响因素（异常的残差波动可能暗示重大的市场事件或未被模型捕捉的信息）。"
   ]
  },
  {
   "cell_type": "code",
   "execution_count": 9,
   "metadata": {},
   "outputs": [
    {
     "data": {
      "application/vnd.plotly.v1+json": {
       "config": {
        "plotlyServerURL": "https://plot.ly"
       },
       "data": [
        {
         "mode": "lines",
         "name": "Original",
         "type": "scatter",
         "x": [
          "2010-01-31T00:00:00",
          "2010-02-28T00:00:00",
          "2010-03-31T00:00:00",
          "2010-04-30T00:00:00",
          "2010-05-31T00:00:00",
          "2010-06-30T00:00:00",
          "2010-07-31T00:00:00",
          "2010-08-31T00:00:00",
          "2010-09-30T00:00:00",
          "2010-10-31T00:00:00",
          "2010-11-30T00:00:00",
          "2010-12-31T00:00:00",
          "2011-01-31T00:00:00",
          "2011-02-28T00:00:00",
          "2011-03-31T00:00:00",
          "2011-04-30T00:00:00",
          "2011-05-31T00:00:00",
          "2011-06-30T00:00:00",
          "2011-07-31T00:00:00",
          "2011-08-31T00:00:00",
          "2011-09-30T00:00:00",
          "2011-10-31T00:00:00",
          "2011-11-30T00:00:00",
          "2011-12-31T00:00:00",
          "2012-01-31T00:00:00",
          "2012-02-29T00:00:00",
          "2012-03-31T00:00:00",
          "2012-04-30T00:00:00",
          "2012-05-31T00:00:00",
          "2012-06-30T00:00:00",
          "2012-07-31T00:00:00",
          "2012-08-31T00:00:00",
          "2012-09-30T00:00:00",
          "2012-10-31T00:00:00",
          "2012-11-30T00:00:00",
          "2012-12-31T00:00:00",
          "2013-01-31T00:00:00",
          "2013-02-28T00:00:00",
          "2013-03-31T00:00:00",
          "2013-04-30T00:00:00",
          "2013-05-31T00:00:00",
          "2013-06-30T00:00:00",
          "2013-07-31T00:00:00",
          "2013-08-31T00:00:00",
          "2013-09-30T00:00:00",
          "2013-10-31T00:00:00",
          "2013-11-30T00:00:00",
          "2013-12-31T00:00:00",
          "2014-01-31T00:00:00",
          "2014-02-28T00:00:00",
          "2014-03-31T00:00:00",
          "2014-04-30T00:00:00",
          "2014-05-31T00:00:00",
          "2014-06-30T00:00:00",
          "2014-07-31T00:00:00",
          "2014-08-31T00:00:00",
          "2014-09-30T00:00:00",
          "2014-10-31T00:00:00",
          "2014-11-30T00:00:00",
          "2014-12-31T00:00:00",
          "2015-01-31T00:00:00",
          "2015-02-28T00:00:00",
          "2015-03-31T00:00:00",
          "2015-04-30T00:00:00",
          "2015-05-31T00:00:00",
          "2015-06-30T00:00:00",
          "2015-07-31T00:00:00",
          "2015-08-31T00:00:00",
          "2015-09-30T00:00:00",
          "2015-10-31T00:00:00",
          "2015-11-30T00:00:00",
          "2015-12-31T00:00:00",
          "2016-01-31T00:00:00",
          "2016-02-29T00:00:00",
          "2016-03-31T00:00:00",
          "2016-04-30T00:00:00",
          "2016-05-31T00:00:00",
          "2016-06-30T00:00:00",
          "2016-07-31T00:00:00",
          "2016-08-31T00:00:00",
          "2016-09-30T00:00:00",
          "2016-10-31T00:00:00",
          "2016-11-30T00:00:00",
          "2016-12-31T00:00:00",
          "2017-01-31T00:00:00",
          "2017-02-28T00:00:00",
          "2017-03-31T00:00:00",
          "2017-04-30T00:00:00",
          "2017-05-31T00:00:00",
          "2017-06-30T00:00:00",
          "2017-07-31T00:00:00",
          "2017-08-31T00:00:00",
          "2017-09-30T00:00:00",
          "2017-10-31T00:00:00",
          "2017-11-30T00:00:00",
          "2017-12-31T00:00:00",
          "2018-01-31T00:00:00",
          "2018-02-28T00:00:00",
          "2018-03-31T00:00:00",
          "2018-04-30T00:00:00",
          "2018-05-31T00:00:00",
          "2018-06-30T00:00:00",
          "2018-07-31T00:00:00",
          "2018-08-31T00:00:00",
          "2018-09-30T00:00:00",
          "2018-10-31T00:00:00",
          "2018-11-30T00:00:00",
          "2018-12-31T00:00:00",
          "2019-01-31T00:00:00",
          "2019-02-28T00:00:00",
          "2019-03-31T00:00:00",
          "2019-04-30T00:00:00",
          "2019-05-31T00:00:00",
          "2019-06-30T00:00:00",
          "2019-07-31T00:00:00",
          "2019-08-31T00:00:00",
          "2019-09-30T00:00:00",
          "2019-10-31T00:00:00",
          "2019-11-30T00:00:00",
          "2019-12-31T00:00:00"
         ],
         "xaxis": "x",
         "y": [
          101.76405234596767,
          105.90015720836722,
          110.63899202195012,
          113.74089319920145,
          112.52781202799434,
          106.52272212012359,
          103.95008841752559,
          98.3486427917023,
          95.23652711036206,
          94.91059850193837,
          96.4837895333165,
          101.95427350696298,
          106.76103772514699,
          111.62167501649283,
          116.10411727058981,
          117.83367432737427,
          118.154333111002,
          113.2948417362342,
          109.31306770165091,
          103.64590426069829,
          98.78675614632154,
          101.15361859544036,
          103.20418216101511,
          105.75783497959354,
          114.26975462398761,
          116.04563432540124,
          121.70601255514583,
          123.31281614997417,
          124.19303325220285,
          120.96935876990028,
          115.15494742569695,
          110.87816251960218,
          106.4519602145255,
          104.51920353177607,
          107.99183381282947,
          112.65634896910397,
          119.2302906807277,
          124.7023798487844,
          127.27292722043643,
          129.19769724942466,
          127.61170107277731,
          124.07998206282106,
          119.29372980937501,
          118.4507753952318,
          112.83009378040397,
          112.06192569838882,
          113.08695060210567,
          119.27749035583192,
          122.38610215244204,
          129.28725971978602,
          132.76478747665072,
          135.88690249785927,
          134.14944890027553,
          130.3193678158776,
          126.97181777166136,
          122.9283318705304,
          119.4062631845388,
          118.80247189773978,
          119.70542386847465,
          124.13725883401287,
          129.32753955222398,
          135.14044683845944,
          138.84710775579993,
          139.77371739766832,
          140.83768018009815,
          137.09821906379173,
          131.36980165303393,
          128.9627822555258,
          124.43244759777237,
          124.55194539579614,
          127.06883652433314,
          130.62898291075743,
          137.13940068454326,
          140.2651741796463,
          146.0625956790219,
          146.81518990905968,
          145.78945688866253,
          142.92115033523558,
          138.6884474678727,
          134.55616534222978,
          130.17459612137225,
          131.40082648695417,
          132.80540840188604,
          134.9637563137228,
          143.48825219379557,
          149.39588917603058,
          152.83903360900402,
          153.32007516418764,
          151.58950141633386,
          150.55445172693115,
          144.59682305302678,
          141.72244507038246,
          137.5480209402325,
          137.4766390364837,
          138.69611235933002,
          143.20657316819197,
          148.0105000207208,
          155.28587049390578,
          157.787166130548,
          159.9019893634447,
          160.54340473490063,
          154.15224093885755,
          149.72951500151433,
          147.46939670815803,
          142.16662255704145,
          144.4436211856493,
          143.92612698139587,
          147.7525451885592,
          155.92294202648034,
          160.98051479143436,
          165.52781299827097,
          166.4060446582754,
          163.7990283527897,
          163.41006495309904,
          156.73199662904867,
          153.30245639579636,
          150.28699792992936,
          148.34498990690918,
          150.95382533250168,
          155.42220667156647
         ],
         "yaxis": "y"
        },
        {
         "mode": "lines",
         "name": "Trend",
         "type": "scatter",
         "x": [
          "2010-01-31T00:00:00",
          "2010-02-28T00:00:00",
          "2010-03-31T00:00:00",
          "2010-04-30T00:00:00",
          "2010-05-31T00:00:00",
          "2010-06-30T00:00:00",
          "2010-07-31T00:00:00",
          "2010-08-31T00:00:00",
          "2010-09-30T00:00:00",
          "2010-10-31T00:00:00",
          "2010-11-30T00:00:00",
          "2010-12-31T00:00:00",
          "2011-01-31T00:00:00",
          "2011-02-28T00:00:00",
          "2011-03-31T00:00:00",
          "2011-04-30T00:00:00",
          "2011-05-31T00:00:00",
          "2011-06-30T00:00:00",
          "2011-07-31T00:00:00",
          "2011-08-31T00:00:00",
          "2011-09-30T00:00:00",
          "2011-10-31T00:00:00",
          "2011-11-30T00:00:00",
          "2011-12-31T00:00:00",
          "2012-01-31T00:00:00",
          "2012-02-29T00:00:00",
          "2012-03-31T00:00:00",
          "2012-04-30T00:00:00",
          "2012-05-31T00:00:00",
          "2012-06-30T00:00:00",
          "2012-07-31T00:00:00",
          "2012-08-31T00:00:00",
          "2012-09-30T00:00:00",
          "2012-10-31T00:00:00",
          "2012-11-30T00:00:00",
          "2012-12-31T00:00:00",
          "2013-01-31T00:00:00",
          "2013-02-28T00:00:00",
          "2013-03-31T00:00:00",
          "2013-04-30T00:00:00",
          "2013-05-31T00:00:00",
          "2013-06-30T00:00:00",
          "2013-07-31T00:00:00",
          "2013-08-31T00:00:00",
          "2013-09-30T00:00:00",
          "2013-10-31T00:00:00",
          "2013-11-30T00:00:00",
          "2013-12-31T00:00:00",
          "2014-01-31T00:00:00",
          "2014-02-28T00:00:00",
          "2014-03-31T00:00:00",
          "2014-04-30T00:00:00",
          "2014-05-31T00:00:00",
          "2014-06-30T00:00:00",
          "2014-07-31T00:00:00",
          "2014-08-31T00:00:00",
          "2014-09-30T00:00:00",
          "2014-10-31T00:00:00",
          "2014-11-30T00:00:00",
          "2014-12-31T00:00:00",
          "2015-01-31T00:00:00",
          "2015-02-28T00:00:00",
          "2015-03-31T00:00:00",
          "2015-04-30T00:00:00",
          "2015-05-31T00:00:00",
          "2015-06-30T00:00:00",
          "2015-07-31T00:00:00",
          "2015-08-31T00:00:00",
          "2015-09-30T00:00:00",
          "2015-10-31T00:00:00",
          "2015-11-30T00:00:00",
          "2015-12-31T00:00:00",
          "2016-01-31T00:00:00",
          "2016-02-29T00:00:00",
          "2016-03-31T00:00:00",
          "2016-04-30T00:00:00",
          "2016-05-31T00:00:00",
          "2016-06-30T00:00:00",
          "2016-07-31T00:00:00",
          "2016-08-31T00:00:00",
          "2016-09-30T00:00:00",
          "2016-10-31T00:00:00",
          "2016-11-30T00:00:00",
          "2016-12-31T00:00:00",
          "2017-01-31T00:00:00",
          "2017-02-28T00:00:00",
          "2017-03-31T00:00:00",
          "2017-04-30T00:00:00",
          "2017-05-31T00:00:00",
          "2017-06-30T00:00:00",
          "2017-07-31T00:00:00",
          "2017-08-31T00:00:00",
          "2017-09-30T00:00:00",
          "2017-10-31T00:00:00",
          "2017-11-30T00:00:00",
          "2017-12-31T00:00:00",
          "2018-01-31T00:00:00",
          "2018-02-28T00:00:00",
          "2018-03-31T00:00:00",
          "2018-04-30T00:00:00",
          "2018-05-31T00:00:00",
          "2018-06-30T00:00:00",
          "2018-07-31T00:00:00",
          "2018-08-31T00:00:00",
          "2018-09-30T00:00:00",
          "2018-10-31T00:00:00",
          "2018-11-30T00:00:00",
          "2018-12-31T00:00:00",
          "2019-01-31T00:00:00",
          "2019-02-28T00:00:00",
          "2019-03-31T00:00:00",
          "2019-04-30T00:00:00",
          "2019-05-31T00:00:00",
          "2019-06-30T00:00:00",
          "2019-07-31T00:00:00",
          "2019-08-31T00:00:00",
          "2019-09-30T00:00:00",
          "2019-10-31T00:00:00",
          "2019-11-30T00:00:00",
          "2019-12-31T00:00:00"
         ],
         "xaxis": "x",
         "y": [
          null,
          null,
          null,
          null,
          null,
          null,
          103.70642012291681,
          104.15302442238786,
          104.61913454975307,
          105.01738064878693,
          105.42235157425277,
          105.93896160338271,
          106.44459072422588,
          106.8887674222726,
          107.25741285997908,
          107.66546490703996,
          108.20560710375665,
          108.64410519127038,
          109.115450123415,
          109.61264496540454,
          110.0303889067989,
          110.49209878626374,
          110.97200886808876,
          111.54339291704154,
          112.10657611527955,
          112.65133186456914,
          113.27205946153197,
          113.73167567005447,
          114.07139386122739,
          114.55831742961593,
          115.05244451487637,
          115.6198312473815,
          116.21248375524289,
          116.68964191210709,
          117.07728978377482,
          117.34934358017044,
          117.65140215002872,
          118.13937695249987,
          118.72065805422938,
          119.30069370974985,
          119.8272703329119,
          120.31544775691206,
          120.72282079268047,
          121.04534959862696,
          121.46521377059429,
          121.97275816662135,
          122.5238812114519,
          123.05626177730834,
          123.63615651544762,
          124.142641700347,
          124.60321361199004,
          125.15807676213531,
          125.71470257320696,
          126.19296264589653,
          126.68467955747835,
          127.21778891241398,
          127.71510172065659,
          128.13048235311317,
          128.57110927726447,
          129.13223771592018,
          129.59793917964046,
          130.03262394073914,
          130.49348372399868,
          130.94246947030243,
          131.48883972671553,
          132.066137090574,
          132.66211980761835,
          133.20114432734775,
          133.7153199633648,
          134.3093599814737,
          134.80907869897183,
          135.2580248648055,
          135.80559057673395,
          136.3435917809649,
          136.81590559806088,
          137.34053183200913,
          137.86492570570542,
          138.28456509239368,
          138.72971613040275,
          139.3746980681376,
          140.03749610673623,
          140.59088457278247,
          141.1035899803991,
          141.6633127270394,
          142.22754926774147,
          142.77232657246256,
          143.3781475952548,
          143.93853248560433,
          144.4371373400616,
          145.02603404055796,
          145.55791173561607,
          145.9917546166494,
          146.4433426932919,
          146.9237613066586,
          147.57108703656792,
          148.0940742253385,
          148.45784427368903,
          148.91116275645,
          149.34306080872435,
          149.82579346563998,
          150.33400166444127,
          150.74133444120935,
          151.26043502563127,
          151.82739695493495,
          152.3872007534871,
          152.98073001026017,
          153.38738329829016,
          153.90877694962893,
          154.5862896847029,
          155.12110390616846,
          155.70249703369038,
          156.2034030376132,
          156.65878083229512,
          157.2711708253831,
          null,
          null,
          null,
          null,
          null,
          null
         ],
         "yaxis": "y"
        },
        {
         "mode": "lines",
         "name": "Seasonal",
         "type": "scatter",
         "x": [
          "2010-01-31T00:00:00",
          "2010-02-28T00:00:00",
          "2010-03-31T00:00:00",
          "2010-04-30T00:00:00",
          "2010-05-31T00:00:00",
          "2010-06-30T00:00:00",
          "2010-07-31T00:00:00",
          "2010-08-31T00:00:00",
          "2010-09-30T00:00:00",
          "2010-10-31T00:00:00",
          "2010-11-30T00:00:00",
          "2010-12-31T00:00:00",
          "2011-01-31T00:00:00",
          "2011-02-28T00:00:00",
          "2011-03-31T00:00:00",
          "2011-04-30T00:00:00",
          "2011-05-31T00:00:00",
          "2011-06-30T00:00:00",
          "2011-07-31T00:00:00",
          "2011-08-31T00:00:00",
          "2011-09-30T00:00:00",
          "2011-10-31T00:00:00",
          "2011-11-30T00:00:00",
          "2011-12-31T00:00:00",
          "2012-01-31T00:00:00",
          "2012-02-29T00:00:00",
          "2012-03-31T00:00:00",
          "2012-04-30T00:00:00",
          "2012-05-31T00:00:00",
          "2012-06-30T00:00:00",
          "2012-07-31T00:00:00",
          "2012-08-31T00:00:00",
          "2012-09-30T00:00:00",
          "2012-10-31T00:00:00",
          "2012-11-30T00:00:00",
          "2012-12-31T00:00:00",
          "2013-01-31T00:00:00",
          "2013-02-28T00:00:00",
          "2013-03-31T00:00:00",
          "2013-04-30T00:00:00",
          "2013-05-31T00:00:00",
          "2013-06-30T00:00:00",
          "2013-07-31T00:00:00",
          "2013-08-31T00:00:00",
          "2013-09-30T00:00:00",
          "2013-10-31T00:00:00",
          "2013-11-30T00:00:00",
          "2013-12-31T00:00:00",
          "2014-01-31T00:00:00",
          "2014-02-28T00:00:00",
          "2014-03-31T00:00:00",
          "2014-04-30T00:00:00",
          "2014-05-31T00:00:00",
          "2014-06-30T00:00:00",
          "2014-07-31T00:00:00",
          "2014-08-31T00:00:00",
          "2014-09-30T00:00:00",
          "2014-10-31T00:00:00",
          "2014-11-30T00:00:00",
          "2014-12-31T00:00:00",
          "2015-01-31T00:00:00",
          "2015-02-28T00:00:00",
          "2015-03-31T00:00:00",
          "2015-04-30T00:00:00",
          "2015-05-31T00:00:00",
          "2015-06-30T00:00:00",
          "2015-07-31T00:00:00",
          "2015-08-31T00:00:00",
          "2015-09-30T00:00:00",
          "2015-10-31T00:00:00",
          "2015-11-30T00:00:00",
          "2015-12-31T00:00:00",
          "2016-01-31T00:00:00",
          "2016-02-29T00:00:00",
          "2016-03-31T00:00:00",
          "2016-04-30T00:00:00",
          "2016-05-31T00:00:00",
          "2016-06-30T00:00:00",
          "2016-07-31T00:00:00",
          "2016-08-31T00:00:00",
          "2016-09-30T00:00:00",
          "2016-10-31T00:00:00",
          "2016-11-30T00:00:00",
          "2016-12-31T00:00:00",
          "2017-01-31T00:00:00",
          "2017-02-28T00:00:00",
          "2017-03-31T00:00:00",
          "2017-04-30T00:00:00",
          "2017-05-31T00:00:00",
          "2017-06-30T00:00:00",
          "2017-07-31T00:00:00",
          "2017-08-31T00:00:00",
          "2017-09-30T00:00:00",
          "2017-10-31T00:00:00",
          "2017-11-30T00:00:00",
          "2017-12-31T00:00:00",
          "2018-01-31T00:00:00",
          "2018-02-28T00:00:00",
          "2018-03-31T00:00:00",
          "2018-04-30T00:00:00",
          "2018-05-31T00:00:00",
          "2018-06-30T00:00:00",
          "2018-07-31T00:00:00",
          "2018-08-31T00:00:00",
          "2018-09-30T00:00:00",
          "2018-10-31T00:00:00",
          "2018-11-30T00:00:00",
          "2018-12-31T00:00:00",
          "2019-01-31T00:00:00",
          "2019-02-28T00:00:00",
          "2019-03-31T00:00:00",
          "2019-04-30T00:00:00",
          "2019-05-31T00:00:00",
          "2019-06-30T00:00:00",
          "2019-07-31T00:00:00",
          "2019-08-31T00:00:00",
          "2019-09-30T00:00:00",
          "2019-10-31T00:00:00",
          "2019-11-30T00:00:00",
          "2019-12-31T00:00:00"
         ],
         "xaxis": "x2",
         "y": [
          0.6671252076309866,
          5.300462576618601,
          8.811929738234248,
          9.813745674802178,
          8.671908273868985,
          4.8535387316705965,
          -0.4935015347975248,
          -4.566531244791479,
          -9.512238763472796,
          -9.756000190200037,
          -8.720763309808344,
          -5.069675159755411,
          0.6671252076309866,
          5.300462576618601,
          8.811929738234248,
          9.813745674802178,
          8.671908273868985,
          4.8535387316705965,
          -0.4935015347975248,
          -4.566531244791479,
          -9.512238763472796,
          -9.756000190200037,
          -8.720763309808344,
          -5.069675159755411,
          0.6671252076309866,
          5.300462576618601,
          8.811929738234248,
          9.813745674802178,
          8.671908273868985,
          4.8535387316705965,
          -0.4935015347975248,
          -4.566531244791479,
          -9.512238763472796,
          -9.756000190200037,
          -8.720763309808344,
          -5.069675159755411,
          0.6671252076309866,
          5.300462576618601,
          8.811929738234248,
          9.813745674802178,
          8.671908273868985,
          4.8535387316705965,
          -0.4935015347975248,
          -4.566531244791479,
          -9.512238763472796,
          -9.756000190200037,
          -8.720763309808344,
          -5.069675159755411,
          0.6671252076309866,
          5.300462576618601,
          8.811929738234248,
          9.813745674802178,
          8.671908273868985,
          4.8535387316705965,
          -0.4935015347975248,
          -4.566531244791479,
          -9.512238763472796,
          -9.756000190200037,
          -8.720763309808344,
          -5.069675159755411,
          0.6671252076309866,
          5.300462576618601,
          8.811929738234248,
          9.813745674802178,
          8.671908273868985,
          4.8535387316705965,
          -0.4935015347975248,
          -4.566531244791479,
          -9.512238763472796,
          -9.756000190200037,
          -8.720763309808344,
          -5.069675159755411,
          0.6671252076309866,
          5.300462576618601,
          8.811929738234248,
          9.813745674802178,
          8.671908273868985,
          4.8535387316705965,
          -0.4935015347975248,
          -4.566531244791479,
          -9.512238763472796,
          -9.756000190200037,
          -8.720763309808344,
          -5.069675159755411,
          0.6671252076309866,
          5.300462576618601,
          8.811929738234248,
          9.813745674802178,
          8.671908273868985,
          4.8535387316705965,
          -0.4935015347975248,
          -4.566531244791479,
          -9.512238763472796,
          -9.756000190200037,
          -8.720763309808344,
          -5.069675159755411,
          0.6671252076309866,
          5.300462576618601,
          8.811929738234248,
          9.813745674802178,
          8.671908273868985,
          4.8535387316705965,
          -0.4935015347975248,
          -4.566531244791479,
          -9.512238763472796,
          -9.756000190200037,
          -8.720763309808344,
          -5.069675159755411,
          0.6671252076309866,
          5.300462576618601,
          8.811929738234248,
          9.813745674802178,
          8.671908273868985,
          4.8535387316705965,
          -0.4935015347975248,
          -4.566531244791479,
          -9.512238763472796,
          -9.756000190200037,
          -8.720763309808344,
          -5.069675159755411
         ],
         "yaxis": "y2"
        },
        {
         "mode": "markers",
         "name": "Residual",
         "type": "scatter",
         "x": [
          "2010-01-31T00:00:00",
          "2010-02-28T00:00:00",
          "2010-03-31T00:00:00",
          "2010-04-30T00:00:00",
          "2010-05-31T00:00:00",
          "2010-06-30T00:00:00",
          "2010-07-31T00:00:00",
          "2010-08-31T00:00:00",
          "2010-09-30T00:00:00",
          "2010-10-31T00:00:00",
          "2010-11-30T00:00:00",
          "2010-12-31T00:00:00",
          "2011-01-31T00:00:00",
          "2011-02-28T00:00:00",
          "2011-03-31T00:00:00",
          "2011-04-30T00:00:00",
          "2011-05-31T00:00:00",
          "2011-06-30T00:00:00",
          "2011-07-31T00:00:00",
          "2011-08-31T00:00:00",
          "2011-09-30T00:00:00",
          "2011-10-31T00:00:00",
          "2011-11-30T00:00:00",
          "2011-12-31T00:00:00",
          "2012-01-31T00:00:00",
          "2012-02-29T00:00:00",
          "2012-03-31T00:00:00",
          "2012-04-30T00:00:00",
          "2012-05-31T00:00:00",
          "2012-06-30T00:00:00",
          "2012-07-31T00:00:00",
          "2012-08-31T00:00:00",
          "2012-09-30T00:00:00",
          "2012-10-31T00:00:00",
          "2012-11-30T00:00:00",
          "2012-12-31T00:00:00",
          "2013-01-31T00:00:00",
          "2013-02-28T00:00:00",
          "2013-03-31T00:00:00",
          "2013-04-30T00:00:00",
          "2013-05-31T00:00:00",
          "2013-06-30T00:00:00",
          "2013-07-31T00:00:00",
          "2013-08-31T00:00:00",
          "2013-09-30T00:00:00",
          "2013-10-31T00:00:00",
          "2013-11-30T00:00:00",
          "2013-12-31T00:00:00",
          "2014-01-31T00:00:00",
          "2014-02-28T00:00:00",
          "2014-03-31T00:00:00",
          "2014-04-30T00:00:00",
          "2014-05-31T00:00:00",
          "2014-06-30T00:00:00",
          "2014-07-31T00:00:00",
          "2014-08-31T00:00:00",
          "2014-09-30T00:00:00",
          "2014-10-31T00:00:00",
          "2014-11-30T00:00:00",
          "2014-12-31T00:00:00",
          "2015-01-31T00:00:00",
          "2015-02-28T00:00:00",
          "2015-03-31T00:00:00",
          "2015-04-30T00:00:00",
          "2015-05-31T00:00:00",
          "2015-06-30T00:00:00",
          "2015-07-31T00:00:00",
          "2015-08-31T00:00:00",
          "2015-09-30T00:00:00",
          "2015-10-31T00:00:00",
          "2015-11-30T00:00:00",
          "2015-12-31T00:00:00",
          "2016-01-31T00:00:00",
          "2016-02-29T00:00:00",
          "2016-03-31T00:00:00",
          "2016-04-30T00:00:00",
          "2016-05-31T00:00:00",
          "2016-06-30T00:00:00",
          "2016-07-31T00:00:00",
          "2016-08-31T00:00:00",
          "2016-09-30T00:00:00",
          "2016-10-31T00:00:00",
          "2016-11-30T00:00:00",
          "2016-12-31T00:00:00",
          "2017-01-31T00:00:00",
          "2017-02-28T00:00:00",
          "2017-03-31T00:00:00",
          "2017-04-30T00:00:00",
          "2017-05-31T00:00:00",
          "2017-06-30T00:00:00",
          "2017-07-31T00:00:00",
          "2017-08-31T00:00:00",
          "2017-09-30T00:00:00",
          "2017-10-31T00:00:00",
          "2017-11-30T00:00:00",
          "2017-12-31T00:00:00",
          "2018-01-31T00:00:00",
          "2018-02-28T00:00:00",
          "2018-03-31T00:00:00",
          "2018-04-30T00:00:00",
          "2018-05-31T00:00:00",
          "2018-06-30T00:00:00",
          "2018-07-31T00:00:00",
          "2018-08-31T00:00:00",
          "2018-09-30T00:00:00",
          "2018-10-31T00:00:00",
          "2018-11-30T00:00:00",
          "2018-12-31T00:00:00",
          "2019-01-31T00:00:00",
          "2019-02-28T00:00:00",
          "2019-03-31T00:00:00",
          "2019-04-30T00:00:00",
          "2019-05-31T00:00:00",
          "2019-06-30T00:00:00",
          "2019-07-31T00:00:00",
          "2019-08-31T00:00:00",
          "2019-09-30T00:00:00",
          "2019-10-31T00:00:00",
          "2019-11-30T00:00:00",
          "2019-12-31T00:00:00"
         ],
         "xaxis": "x2",
         "y": [
          null,
          null,
          null,
          null,
          null,
          null,
          0.7371698294063062,
          -1.2378503858940757,
          0.129631324081787,
          -0.35078195664852174,
          -0.2177987311279317,
          1.0849870633356797,
          -0.3506782067098708,
          -0.5675549823983648,
          0.03477467237647858,
          0.35446374553212934,
          1.2768177333763706,
          -0.2028021867067764,
          0.6911191130334312,
          -1.400209459914775,
          -1.731393997004572,
          0.41751999937666184,
          0.9529366027346917,
          -0.7158827776925936,
          1.4960533010770707,
          -1.9061601157865073,
          -0.3779766446203823,
          -0.23260519488248121,
          1.4497311171064755,
          1.5575026086137598,
          0.5960044456181005,
          -0.17513748298783405,
          -0.24828477724459042,
          -2.4144381901309835,
          -0.3646926611370027,
          0.3766805486889435,
          0.9117633230680031,
          1.2625403196659288,
          -0.25966057202719384,
          0.08325786487263542,
          -0.8874775340035708,
          -1.0890044257616012,
          -0.9355894485079322,
          1.9719570413963243,
          0.8771187732824774,
          -0.15483227803249022,
          -0.7161672995378758,
          1.29090373827899,
          -1.9171795706365753,
          -0.155844557179579,
          -0.6503558735735666,
          0.9150800609217811,
          -0.23716194680041802,
          -0.7271335616895271,
          0.7806397489805416,
          0.2770742029078992,
          1.2034002273550062,
          0.4279897348266495,
          -0.14492209898147124,
          0.07469627784809596,
          -0.9375248350474674,
          -0.19263967889830447,
          -0.45830570643300206,
          -0.9824977474362839,
          0.6769321795136367,
          0.17854324154714618,
          -0.7988166197868968,
          0.32816917296953996,
          0.22936639788035684,
          -0.0014143954775285295,
          0.9805211351696492,
          0.4406332057073481,
          0.6666849001783266,
          -1.378880177937221,
          0.43476034272678277,
          -0.3390875977516288,
          -0.7473770909118738,
          -0.21695348882869325,
          0.4522328722674668,
          -0.25200148111635023,
          -0.3506612218911851,
          0.5659421043717394,
          0.42258173129527776,
          -1.629881253561189,
          0.5935777184231217,
          1.323100026949417,
          0.6489562755149691,
          -0.43220299621886227,
          -1.5195441975967352,
          0.6748789547025922,
          -0.46758714779176713,
          0.29722169852455416,
          0.6169170104134043,
          0.3088779200251359,
          -0.1542113674295571,
          0.18217410260888833,
          -1.1144694605992225,
          1.0742451608371635,
          -0.36782441641059194,
          0.2624502230025456,
          1.5374947965903747,
          -1.4426322340223976,
          -1.0374184893194132,
          0.20853099801455421,
          -0.7083394329728474,
          1.2188913655891689,
          -0.7404930070859486,
          -1.0865566013143226,
          0.6695271341464508,
          0.5589483086473006,
          1.0133862263463485,
          0.38889594585999987,
          -1.5316607533744158,
          1.2853553960453326,
          null,
          null,
          null,
          null,
          null,
          null
         ],
         "yaxis": "y2"
        }
       ],
       "layout": {
        "annotations": [
         {
          "font": {
           "size": 16
          },
          "showarrow": false,
          "text": "Original and Trend Data",
          "x": 0.5,
          "xanchor": "center",
          "xref": "paper",
          "y": 1,
          "yanchor": "bottom",
          "yref": "paper"
         },
         {
          "font": {
           "size": 16
          },
          "showarrow": false,
          "text": "Seasonal and Residual Data",
          "x": 0.5,
          "xanchor": "center",
          "xref": "paper",
          "y": 0.375,
          "yanchor": "bottom",
          "yref": "paper"
         }
        ],
        "height": 800,
        "showlegend": true,
        "template": {
         "data": {
          "bar": [
           {
            "error_x": {
             "color": "#2a3f5f"
            },
            "error_y": {
             "color": "#2a3f5f"
            },
            "marker": {
             "line": {
              "color": "#E5ECF6",
              "width": 0.5
             },
             "pattern": {
              "fillmode": "overlay",
              "size": 10,
              "solidity": 0.2
             }
            },
            "type": "bar"
           }
          ],
          "barpolar": [
           {
            "marker": {
             "line": {
              "color": "#E5ECF6",
              "width": 0.5
             },
             "pattern": {
              "fillmode": "overlay",
              "size": 10,
              "solidity": 0.2
             }
            },
            "type": "barpolar"
           }
          ],
          "carpet": [
           {
            "aaxis": {
             "endlinecolor": "#2a3f5f",
             "gridcolor": "white",
             "linecolor": "white",
             "minorgridcolor": "white",
             "startlinecolor": "#2a3f5f"
            },
            "baxis": {
             "endlinecolor": "#2a3f5f",
             "gridcolor": "white",
             "linecolor": "white",
             "minorgridcolor": "white",
             "startlinecolor": "#2a3f5f"
            },
            "type": "carpet"
           }
          ],
          "choropleth": [
           {
            "colorbar": {
             "outlinewidth": 0,
             "ticks": ""
            },
            "type": "choropleth"
           }
          ],
          "contour": [
           {
            "colorbar": {
             "outlinewidth": 0,
             "ticks": ""
            },
            "colorscale": [
             [
              0,
              "#0d0887"
             ],
             [
              0.1111111111111111,
              "#46039f"
             ],
             [
              0.2222222222222222,
              "#7201a8"
             ],
             [
              0.3333333333333333,
              "#9c179e"
             ],
             [
              0.4444444444444444,
              "#bd3786"
             ],
             [
              0.5555555555555556,
              "#d8576b"
             ],
             [
              0.6666666666666666,
              "#ed7953"
             ],
             [
              0.7777777777777778,
              "#fb9f3a"
             ],
             [
              0.8888888888888888,
              "#fdca26"
             ],
             [
              1,
              "#f0f921"
             ]
            ],
            "type": "contour"
           }
          ],
          "contourcarpet": [
           {
            "colorbar": {
             "outlinewidth": 0,
             "ticks": ""
            },
            "type": "contourcarpet"
           }
          ],
          "heatmap": [
           {
            "colorbar": {
             "outlinewidth": 0,
             "ticks": ""
            },
            "colorscale": [
             [
              0,
              "#0d0887"
             ],
             [
              0.1111111111111111,
              "#46039f"
             ],
             [
              0.2222222222222222,
              "#7201a8"
             ],
             [
              0.3333333333333333,
              "#9c179e"
             ],
             [
              0.4444444444444444,
              "#bd3786"
             ],
             [
              0.5555555555555556,
              "#d8576b"
             ],
             [
              0.6666666666666666,
              "#ed7953"
             ],
             [
              0.7777777777777778,
              "#fb9f3a"
             ],
             [
              0.8888888888888888,
              "#fdca26"
             ],
             [
              1,
              "#f0f921"
             ]
            ],
            "type": "heatmap"
           }
          ],
          "heatmapgl": [
           {
            "colorbar": {
             "outlinewidth": 0,
             "ticks": ""
            },
            "colorscale": [
             [
              0,
              "#0d0887"
             ],
             [
              0.1111111111111111,
              "#46039f"
             ],
             [
              0.2222222222222222,
              "#7201a8"
             ],
             [
              0.3333333333333333,
              "#9c179e"
             ],
             [
              0.4444444444444444,
              "#bd3786"
             ],
             [
              0.5555555555555556,
              "#d8576b"
             ],
             [
              0.6666666666666666,
              "#ed7953"
             ],
             [
              0.7777777777777778,
              "#fb9f3a"
             ],
             [
              0.8888888888888888,
              "#fdca26"
             ],
             [
              1,
              "#f0f921"
             ]
            ],
            "type": "heatmapgl"
           }
          ],
          "histogram": [
           {
            "marker": {
             "pattern": {
              "fillmode": "overlay",
              "size": 10,
              "solidity": 0.2
             }
            },
            "type": "histogram"
           }
          ],
          "histogram2d": [
           {
            "colorbar": {
             "outlinewidth": 0,
             "ticks": ""
            },
            "colorscale": [
             [
              0,
              "#0d0887"
             ],
             [
              0.1111111111111111,
              "#46039f"
             ],
             [
              0.2222222222222222,
              "#7201a8"
             ],
             [
              0.3333333333333333,
              "#9c179e"
             ],
             [
              0.4444444444444444,
              "#bd3786"
             ],
             [
              0.5555555555555556,
              "#d8576b"
             ],
             [
              0.6666666666666666,
              "#ed7953"
             ],
             [
              0.7777777777777778,
              "#fb9f3a"
             ],
             [
              0.8888888888888888,
              "#fdca26"
             ],
             [
              1,
              "#f0f921"
             ]
            ],
            "type": "histogram2d"
           }
          ],
          "histogram2dcontour": [
           {
            "colorbar": {
             "outlinewidth": 0,
             "ticks": ""
            },
            "colorscale": [
             [
              0,
              "#0d0887"
             ],
             [
              0.1111111111111111,
              "#46039f"
             ],
             [
              0.2222222222222222,
              "#7201a8"
             ],
             [
              0.3333333333333333,
              "#9c179e"
             ],
             [
              0.4444444444444444,
              "#bd3786"
             ],
             [
              0.5555555555555556,
              "#d8576b"
             ],
             [
              0.6666666666666666,
              "#ed7953"
             ],
             [
              0.7777777777777778,
              "#fb9f3a"
             ],
             [
              0.8888888888888888,
              "#fdca26"
             ],
             [
              1,
              "#f0f921"
             ]
            ],
            "type": "histogram2dcontour"
           }
          ],
          "mesh3d": [
           {
            "colorbar": {
             "outlinewidth": 0,
             "ticks": ""
            },
            "type": "mesh3d"
           }
          ],
          "parcoords": [
           {
            "line": {
             "colorbar": {
              "outlinewidth": 0,
              "ticks": ""
             }
            },
            "type": "parcoords"
           }
          ],
          "pie": [
           {
            "automargin": true,
            "type": "pie"
           }
          ],
          "scatter": [
           {
            "fillpattern": {
             "fillmode": "overlay",
             "size": 10,
             "solidity": 0.2
            },
            "type": "scatter"
           }
          ],
          "scatter3d": [
           {
            "line": {
             "colorbar": {
              "outlinewidth": 0,
              "ticks": ""
             }
            },
            "marker": {
             "colorbar": {
              "outlinewidth": 0,
              "ticks": ""
             }
            },
            "type": "scatter3d"
           }
          ],
          "scattercarpet": [
           {
            "marker": {
             "colorbar": {
              "outlinewidth": 0,
              "ticks": ""
             }
            },
            "type": "scattercarpet"
           }
          ],
          "scattergeo": [
           {
            "marker": {
             "colorbar": {
              "outlinewidth": 0,
              "ticks": ""
             }
            },
            "type": "scattergeo"
           }
          ],
          "scattergl": [
           {
            "marker": {
             "colorbar": {
              "outlinewidth": 0,
              "ticks": ""
             }
            },
            "type": "scattergl"
           }
          ],
          "scattermapbox": [
           {
            "marker": {
             "colorbar": {
              "outlinewidth": 0,
              "ticks": ""
             }
            },
            "type": "scattermapbox"
           }
          ],
          "scatterpolar": [
           {
            "marker": {
             "colorbar": {
              "outlinewidth": 0,
              "ticks": ""
             }
            },
            "type": "scatterpolar"
           }
          ],
          "scatterpolargl": [
           {
            "marker": {
             "colorbar": {
              "outlinewidth": 0,
              "ticks": ""
             }
            },
            "type": "scatterpolargl"
           }
          ],
          "scatterternary": [
           {
            "marker": {
             "colorbar": {
              "outlinewidth": 0,
              "ticks": ""
             }
            },
            "type": "scatterternary"
           }
          ],
          "surface": [
           {
            "colorbar": {
             "outlinewidth": 0,
             "ticks": ""
            },
            "colorscale": [
             [
              0,
              "#0d0887"
             ],
             [
              0.1111111111111111,
              "#46039f"
             ],
             [
              0.2222222222222222,
              "#7201a8"
             ],
             [
              0.3333333333333333,
              "#9c179e"
             ],
             [
              0.4444444444444444,
              "#bd3786"
             ],
             [
              0.5555555555555556,
              "#d8576b"
             ],
             [
              0.6666666666666666,
              "#ed7953"
             ],
             [
              0.7777777777777778,
              "#fb9f3a"
             ],
             [
              0.8888888888888888,
              "#fdca26"
             ],
             [
              1,
              "#f0f921"
             ]
            ],
            "type": "surface"
           }
          ],
          "table": [
           {
            "cells": {
             "fill": {
              "color": "#EBF0F8"
             },
             "line": {
              "color": "white"
             }
            },
            "header": {
             "fill": {
              "color": "#C8D4E3"
             },
             "line": {
              "color": "white"
             }
            },
            "type": "table"
           }
          ]
         },
         "layout": {
          "annotationdefaults": {
           "arrowcolor": "#2a3f5f",
           "arrowhead": 0,
           "arrowwidth": 1
          },
          "autotypenumbers": "strict",
          "coloraxis": {
           "colorbar": {
            "outlinewidth": 0,
            "ticks": ""
           }
          },
          "colorscale": {
           "diverging": [
            [
             0,
             "#8e0152"
            ],
            [
             0.1,
             "#c51b7d"
            ],
            [
             0.2,
             "#de77ae"
            ],
            [
             0.3,
             "#f1b6da"
            ],
            [
             0.4,
             "#fde0ef"
            ],
            [
             0.5,
             "#f7f7f7"
            ],
            [
             0.6,
             "#e6f5d0"
            ],
            [
             0.7,
             "#b8e186"
            ],
            [
             0.8,
             "#7fbc41"
            ],
            [
             0.9,
             "#4d9221"
            ],
            [
             1,
             "#276419"
            ]
           ],
           "sequential": [
            [
             0,
             "#0d0887"
            ],
            [
             0.1111111111111111,
             "#46039f"
            ],
            [
             0.2222222222222222,
             "#7201a8"
            ],
            [
             0.3333333333333333,
             "#9c179e"
            ],
            [
             0.4444444444444444,
             "#bd3786"
            ],
            [
             0.5555555555555556,
             "#d8576b"
            ],
            [
             0.6666666666666666,
             "#ed7953"
            ],
            [
             0.7777777777777778,
             "#fb9f3a"
            ],
            [
             0.8888888888888888,
             "#fdca26"
            ],
            [
             1,
             "#f0f921"
            ]
           ],
           "sequentialminus": [
            [
             0,
             "#0d0887"
            ],
            [
             0.1111111111111111,
             "#46039f"
            ],
            [
             0.2222222222222222,
             "#7201a8"
            ],
            [
             0.3333333333333333,
             "#9c179e"
            ],
            [
             0.4444444444444444,
             "#bd3786"
            ],
            [
             0.5555555555555556,
             "#d8576b"
            ],
            [
             0.6666666666666666,
             "#ed7953"
            ],
            [
             0.7777777777777778,
             "#fb9f3a"
            ],
            [
             0.8888888888888888,
             "#fdca26"
            ],
            [
             1,
             "#f0f921"
            ]
           ]
          },
          "colorway": [
           "#636efa",
           "#EF553B",
           "#00cc96",
           "#ab63fa",
           "#FFA15A",
           "#19d3f3",
           "#FF6692",
           "#B6E880",
           "#FF97FF",
           "#FECB52"
          ],
          "font": {
           "color": "#2a3f5f"
          },
          "geo": {
           "bgcolor": "white",
           "lakecolor": "white",
           "landcolor": "#E5ECF6",
           "showlakes": true,
           "showland": true,
           "subunitcolor": "white"
          },
          "hoverlabel": {
           "align": "left"
          },
          "hovermode": "closest",
          "mapbox": {
           "style": "light"
          },
          "paper_bgcolor": "white",
          "plot_bgcolor": "#E5ECF6",
          "polar": {
           "angularaxis": {
            "gridcolor": "white",
            "linecolor": "white",
            "ticks": ""
           },
           "bgcolor": "#E5ECF6",
           "radialaxis": {
            "gridcolor": "white",
            "linecolor": "white",
            "ticks": ""
           }
          },
          "scene": {
           "xaxis": {
            "backgroundcolor": "#E5ECF6",
            "gridcolor": "white",
            "gridwidth": 2,
            "linecolor": "white",
            "showbackground": true,
            "ticks": "",
            "zerolinecolor": "white"
           },
           "yaxis": {
            "backgroundcolor": "#E5ECF6",
            "gridcolor": "white",
            "gridwidth": 2,
            "linecolor": "white",
            "showbackground": true,
            "ticks": "",
            "zerolinecolor": "white"
           },
           "zaxis": {
            "backgroundcolor": "#E5ECF6",
            "gridcolor": "white",
            "gridwidth": 2,
            "linecolor": "white",
            "showbackground": true,
            "ticks": "",
            "zerolinecolor": "white"
           }
          },
          "shapedefaults": {
           "line": {
            "color": "#2a3f5f"
           }
          },
          "ternary": {
           "aaxis": {
            "gridcolor": "white",
            "linecolor": "white",
            "ticks": ""
           },
           "baxis": {
            "gridcolor": "white",
            "linecolor": "white",
            "ticks": ""
           },
           "bgcolor": "#E5ECF6",
           "caxis": {
            "gridcolor": "white",
            "linecolor": "white",
            "ticks": ""
           }
          },
          "title": {
           "x": 0.05
          },
          "xaxis": {
           "automargin": true,
           "gridcolor": "white",
           "linecolor": "white",
           "ticks": "",
           "title": {
            "standoff": 15
           },
           "zerolinecolor": "white",
           "zerolinewidth": 2
          },
          "yaxis": {
           "automargin": true,
           "gridcolor": "white",
           "linecolor": "white",
           "ticks": "",
           "title": {
            "standoff": 15
           },
           "zerolinecolor": "white",
           "zerolinewidth": 2
          }
         }
        },
        "title": {
         "text": "Seasonal Decomposition of Time Series"
        },
        "width": 700,
        "xaxis": {
         "anchor": "y",
         "domain": [
          0,
          1
         ]
        },
        "xaxis2": {
         "anchor": "y2",
         "domain": [
          0,
          1
         ],
         "title": {
          "text": "Date"
         }
        },
        "yaxis": {
         "anchor": "x",
         "domain": [
          0.625,
          1
         ]
        },
        "yaxis2": {
         "anchor": "x2",
         "domain": [
          0,
          0.375
         ]
        }
       }
      }
     },
     "metadata": {},
     "output_type": "display_data"
    }
   ],
   "source": [
    "import pandas as pd\n",
    "import numpy as np\n",
    "import plotly.graph_objs as go\n",
    "from plotly.subplots import make_subplots\n",
    "from statsmodels.tsa.seasonal import seasonal_decompose\n",
    "\n",
    "# 生成示例数据\n",
    "np.random.seed(0)\n",
    "dates = pd.date_range(start='2010-01-01', periods=120, freq='ME')\n",
    "data = pd.Series(100 + 0.5 * np.arange(120) + 10 * np.sin(2 * np.pi * np.arange(120) / 12) + np.random.normal(size=120), index=dates)\n",
    "\n",
    "# 应用季节性分解\n",
    "result = seasonal_decompose(data, model='additive', period=12)\n",
    "\n",
    "# 创建子图\n",
    "fig = make_subplots(rows=2, cols=1, subplot_titles=('Original and Trend Data', 'Seasonal and Residual Data'))\n",
    "\n",
    "# 添加原始数据图表和趋势数据到第一个子图\n",
    "fig.add_trace(go.Scatter(x=dates, y=data, mode='lines', name='Original'), row=1, col=1)\n",
    "fig.add_trace(go.Scatter(x=dates, y=result.trend, mode='lines', name='Trend'), row=1, col=1)\n",
    "\n",
    "# 添加季节性数据到第二个子图\n",
    "fig.add_trace(go.Scatter(x=dates, y=result.seasonal, mode='lines', name='Seasonal'), row=2, col=1)\n",
    "\n",
    "# 添加残差数据到第二个子图，使用散点图表示\n",
    "fig.add_trace(go.Scatter(x=dates, y=result.resid, mode='markers', name='Residual'), row=2, col=1)\n",
    "\n",
    "# 更新布局设置\n",
    "fig.update_layout(height=800, width=700, title_text=\"Seasonal Decomposition of Time Series\", showlegend=True)\n",
    "fig.update_xaxes(title_text=\"Date\", row=2, col=1)  # Add x-axis label to the last chart for clarity\n",
    "\n",
    "# 显示图表\n",
    "fig.show()\n"
   ]
  },
  {
   "cell_type": "markdown",
   "metadata": {},
   "source": [
    "### 周期性分析\n",
    "\n",
    "ACF（自相关函数）图表解读\n",
    "ACF图表显示了时间序列与其自身过去值的相关性。图表的Y轴表示自相关系数，X轴表示滞后数（lag），即时间间隔数。\n",
    "\n",
    "- 横轴（Lag）：表示时间延迟的数量。例如，Lag 1表示一个时间单位的延迟。\n",
    "- 纵轴（Correlation）：表示给定滞后的自相关系数，范围从-1到+1。接近+1或-1表示强相关，接近0表示几乎无相关。\n",
    "如何解读\n",
    "- 缓慢下降的ACF：如果ACF值缓慢下降，这通常表明数据中存在较长时间的影响，可能是一个随机漫步过程。\n",
    "- 截尾（Cut-off）：如果ACF在某个点之后突然下降到零并持续为零，这通常表明时间序列是一个较短的自回归过程。\n",
    "- 季节性波动：如果ACF显示出周期性的峰值，这表明数据中存在季节性模式。\n",
    "\n",
    "PACF（偏自相关函数）图表解读\n",
    "PACF图表显示了时间序列与其自身过去值的相关性，但在计算时已经排除了中间滞后的影响。PACF可以帮助识别适合的AR（自回归）项数。\n",
    "\n",
    "- 横轴（Lag）：同ACF。\n",
    "- 纵轴（Partial Correlation）：表示给定滞后的偏自相关系数。\n",
    "\n",
    "如何解读\n",
    "- 显著性斑点：PACF图中的某个滞后显著不为零（通常超出蓝色置信区间），表明模型可能需要包括该数量的滞后作为AR项。\n",
    "- 截尾现象：如果PACF在某个滞后后突然下降并接近零，这通常表明自回归模型的合适阶数。\n",
    "\n",
    "实例解析\n",
    "假设你正在分析月度销售数据，发现ACF在12个月处有显著的峰值，这表明可能有年度季节性。PACF在Lag 1处显著不为零后迅速接近零，暗示一个AR(1)模型可能适用于描述该时间序列。\n",
    "\n",
    "结合ACF和PACF\n",
    "- 如果ACF和PACF都逐渐衰减，可能需要使用ARMA模型。\n",
    "- 如果ACF逐渐衰减，而PACF在某个点后截尾，可能适合使用AR模型。\n",
    "- 如果PACF逐渐衰减，而ACF在某个点后截尾，可能适合使用MA模型。"
   ]
  },
  {
   "cell_type": "code",
   "execution_count": null,
   "metadata": {},
   "outputs": [],
   "source": [
    "import matplotlib.pyplot as plt\n",
    "from statsmodels.tsa.stattools import acf, pacf\n",
    "from statsmodels.graphics.tsaplots import plot_acf, plot_pacf\n",
    "\n",
    "# 计算ACF和PACF\n",
    "lag_acf = acf(data, nlags=20)\n",
    "lag_pacf = pacf(data, nlags=20, method='ols')\n",
    "\n",
    "# 绘制ACF图\n",
    "plt.figure(figsize=(15, 6))\n",
    "plt.subplot(121)\n",
    "plot_acf(data, ax=plt.gca(), lags=20)\n",
    "plt.title('Autocorrelation Function')\n",
    "\n",
    "# 绘制PACF图\n",
    "plt.subplot(122)\n",
    "plot_pacf(data, ax=plt.gca(), lags=20)\n",
    "plt.title('Partial Autocorrelation Function')\n",
    "\n",
    "plt.tight_layout()\n",
    "plt.show()"
   ]
  },
  {
   "cell_type": "markdown",
   "metadata": {},
   "source": [
    "### 频域分析\n",
    "对数据进行傅里叶变换，分析其频域特性。这可以帮助识别数据中的主要频率，从而揭示隐藏的周期性。\n",
    "\n",
    "通过对时间序列数据进行傅里叶变换，我们获得了频域的表示。在生成的频域图中，X轴表示频率，Y轴表示每个频率对应的幅度。\n",
    "\n",
    "从这张图表中，我们可以观察到以下几点：\n",
    "\n",
    "- 主要频率：幅度较大的峰值对应的频率代表了数据中的主要周期。在这个例子中，如果有一个显著的峰值，那么它可能对应于数据中的主要周期性成分。例如，如果12个单位的频率处有一个峰值，这可能代表一个每12个时间单位重复一次的周期，与年度季节性相对应。\n",
    "- 幅度：峰值的幅度表示该频率成分在数据中的强度。更高的幅度意味着该频率的周期性成分更为显著。\n",
    "- 噪声：除了主要的周期性峰值之外，其他小的幅度波动可能代表噪声或不那么显著的周期性成分。\n",
    "\n"
   ]
  },
  {
   "cell_type": "code",
   "execution_count": 15,
   "metadata": {},
   "outputs": [
    {
     "data": {
      "image/png": "[encoded data removed]",
      "text/plain": [
       "<Figure size 1400x500 with 1 Axes>"
      ]
     },
     "metadata": {},
     "output_type": "display_data"
    }
   ],
   "source": [
    "import numpy as np\n",
    "import matplotlib.pyplot as plt\n",
    "\n",
    "# 生成示例数据，之前例子中用于产生时间序列的参数\n",
    "np.random.seed(0)\n",
    "data_length = 120\n",
    "time = np.arange(data_length)\n",
    "data = 100 + 0.5 * time + 10 * np.sin(2 * np.pi * time / 12) + np.random.normal(size=data_length)\n",
    "\n",
    "# 傅里叶变换\n",
    "fft_result = np.fft.fft(data)\n",
    "fft_freq = np.fft.fftfreq(data_length, d=1)  # 使用默认的时间步长1个单位\n",
    "\n",
    "# 因为FFT结果是对称的，我们只关心正频率部分\n",
    "positive_freqs = fft_freq[:data_length // 2]\n",
    "positive_fft = np.abs(fft_result)[:data_length // 2]\n",
    "\n",
    "# 创建一个用于展示结果的图表\n",
    "plt.figure(figsize=(14, 5))\n",
    "\n",
    "# 绘制频率和幅度\n",
    "plt.stem(positive_freqs, positive_fft, 'b', markerfmt=\" \", basefmt=\"-b\")\n",
    "plt.title('Frequency Domain Representation')\n",
    "plt.xlabel('Frequency')\n",
    "plt.ylabel('Amplitude')\n",
    "plt.show()\n",
    "\n"
   ]
  }
 ],
 "metadata": {
  "kernelspec": {
   "display_name": "base",
   "language": "python",
   "name": "python3"
  },
  "language_info": {
   "codemirror_mode": {
    "name": "ipython",
    "version": 3
   },
   "file_extension": ".py",
   "mimetype": "text/x-python",
   "name": "python",
   "nbconvert_exporter": "python",
   "pygments_lexer": "ipython3",
   "version": "3.10.13"
  }
 },
 "nbformat": 4,
 "nbformat_minor": 2
}
