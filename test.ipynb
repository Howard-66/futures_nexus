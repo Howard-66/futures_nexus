{
 "cells": [
  {
   "cell_type": "code",
   "execution_count": 1,
   "metadata": {},
   "outputs": [],
   "source": [
    "import pandas as pd\n",
    "from dataworks import DataWorks\n",
    "dws = DataWorks()\n",
    "\n"
   ]
  },
  {
   "cell_type": "code",
   "execution_count": 80,
   "metadata": {},
   "outputs": [],
   "source": [
    "def load_choice_file(path, field, name):\n",
    "    \"\"\"读取choice数据终端导出的数据文件.\n",
    "        Choiced导出文件格式对应的处理规则. \n",
    "        - 原文件第一行为“宏观数据“或类似内容,但read_excel方法未加载该行内容\n",
    "        - 数据的第一行作为指标标题\n",
    "        - 第一列作为日期\n",
    "        - 前六行和最后一行都不是数据内容\n",
    "        - 剔除“日期”字段为空的行和其他非数据内容（标识数据来源的文字内容）\n",
    "        \n",
    "        Choice文件导出注意事项:\n",
    "        - 导出字段选择:指标名称、频率、单位、来源\n",
    "        - 日期排序:降序\n",
    "        - 图形设置:不导出图形\n",
    "        - 勾选“使用函数方式导出”\n",
    "    Args:\n",
    "        file_path (str): Choice导出文件(.xlsx)的绝对路径\n",
    "\n",
    "    Returns:\n",
    "        dataframe: 将Choice导出文件内容加载到dataframe,并返回\n",
    "    \"\"\"\n",
    "    if path=='':\n",
    "        return None\n",
    "    df = pd.read_excel(path)\n",
    "    df.columns = df.iloc[0]\n",
    "    df.rename(columns={df.columns[0]: 'date'}, inplace=True)\n",
    "    df = df.iloc[6:]\n",
    "    if isinstance(field, list):\n",
    "        df[name] = df[field[0]] + df[field[1]]\n",
    "        df = df[['date', name]]\n",
    "    else:\n",
    "        df.rename(columns={field: name}, inplace=True)\n",
    "        df = df[['date', name]]\n",
    "        \n",
    "    # df.reset_index(drop=True, inplace=True)\n",
    "    # df.set_index('date', inplace=True)\n",
    "    df.dropna(axis=0, subset=['date'], inplace=True)\n",
    "    df = df[df['date'] != '数据来源：东方财富Choice数据']\n",
    "    df['date'] = pd.to_datetime(df['date'])\n",
    "    return df"
   ]
  },
  {
   "cell_type": "code",
   "execution_count": 3,
   "metadata": {},
   "outputs": [
    {
     "data": {
      "text/plain": [
       "datetime.date(1990, 12, 19)"
      ]
     },
     "execution_count": 3,
     "metadata": {},
     "output_type": "execute_result"
    }
   ],
   "source": [
    "import akshare as ak\n",
    "trade_date = ak.tool_trade_date_hist_sina()['trade_date']\n",
    "trade_date.iloc[0]"
   ]
  },
  {
   "cell_type": "code",
   "execution_count": 81,
   "metadata": {},
   "outputs": [],
   "source": [
    "config = dws.get_variety_setting('setting/variety.json')\n",
    "variety_config = config['RB']\n",
    "combined_df = None\n",
    "for data_type, data_info in variety_config['DataIndex'].items():\n",
    "    # 从文件中加载指定字段的数据\n",
    "    data_df = load_choice_file(data_info['Path'], data_info['Field'], data_info['Name'])\n",
    "    \n",
    "    # 将数据添加到combined_df中\n",
    "    # combined_df = pd.concat([combined_df, data_df], axis=1)\n",
    "    combined_df = pd.merge(combined_df, data_df, on='date', how='outer') if combined_df is not None else data_df\n",
    "# combined_df.dropna(axis=0, subset=['date'], inplace=True)"
   ]
  },
  {
   "cell_type": "code",
   "execution_count": 2,
   "metadata": {},
   "outputs": [],
   "source": [
    "import pandas as pd\n",
    "df_basis = dws.get_data_by_sql('SELECT * FROM basis')\n",
    "df_basis = df_basis[['date', 'dom_basis']]"
   ]
  },
  {
   "cell_type": "code",
   "execution_count": 3,
   "metadata": {},
   "outputs": [],
   "source": [
    "df_basis['date'] = pd.to_datetime(df_basis['date'])\n",
    "ts = df_basis.set_index('date')['dom_basis']"
   ]
  },
  {
   "cell_type": "code",
   "execution_count": 19,
   "metadata": {},
   "outputs": [
    {
     "name": "stdout",
     "output_type": "stream",
     "text": [
      "Extracted variables: ['abc:efg', '137a:mn']\n"
     ]
    }
   ],
   "source": [
    "import re\n",
    "\n",
    "def extract_variables(format_str):\n",
    "    # 正则表达式模式，匹配非空字符（即变量）\n",
    "    pattern = r'\\{.*?\\}'\n",
    "    # 使用正则表达式查找所有匹配的变量名\n",
    "    variables = re.findall(pattern, format_str)\n",
    "    # 去除花括号并返回结果\n",
    "    return [var[1:-1] for var in variables]\n",
    "\n",
    "# 示例四则运算公式字符串\n",
    "format_str = \"a * b / (c % d) + e - f ** g\"\n",
    "format_str2 = \"{abc:efg} + {137a:mn}\"\n",
    "\n",
    "# 提取并打印变量列表\n",
    "variables_list = extract_variables(format_str2)\n",
    "print(\"Extracted variables:\", variables_list)"
   ]
  },
  {
   "cell_type": "code",
   "execution_count": 12,
   "metadata": {},
   "outputs": [
    {
     "name": "stdout",
     "output_type": "stream",
     "text": [
      "Extracted variables: ['库存:热卷(板)']\n"
     ]
    }
   ],
   "source": [
    "import re\n",
    "def extract_variables(format_str):\n",
    "    \"\"\"\n",
    "    从格式字符串中提取变量名，包括可能包含冒号 \":\" 的变量。\n",
    "\n",
    "    参数:\n",
    "    format_str: 一个包含变量名的字符串。例如：\"abc:efg + 137a:mn + name + age\"\n",
    "\n",
    "    返回值:\n",
    "    一个包含所有提取出的变量名（可能含有冒号）的列表。例如：['abc:efg', '137a:mn', 'name', 'age']。\n",
    "    \"\"\"\n",
    "    # 定义用于匹配可能包含冒号的变量名的正则表达式模式\n",
    "    variable_pattern = r'\\w[\\w:()%]*'\n",
    "    # 使用正则表达式查找所有匹配的变量名\n",
    "    variables = re.findall(variable_pattern, format_str)\n",
    "    return variables  # 直接返回找到的变量名列表，无需额外处理\n",
    "\n",
    "format_str2 = \"库存:热卷(板)\"\n",
    "\n",
    "# 提取并打印变量列表\n",
    "variables_list = extract_variables(format_str2)\n",
    "print(\"Extracted variables:\", variables_list)"
   ]
  },
  {
   "cell_type": "code",
   "execution_count": 1,
   "metadata": {},
   "outputs": [],
   "source": [
    "import json\n",
    "import dataworks as dw\n",
    "dws = dw.DataWorks()"
   ]
  },
  {
   "cell_type": "code",
   "execution_count": 2,
   "metadata": {},
   "outputs": [],
   "source": [
    "def load_choice_file(file_path):\n",
    "    \"\"\"读取choice数据终端导出的数据文件.\n",
    "        Choiced导出文件格式对应的处理规则. \n",
    "        - 原文件第一行为“宏观数据“或类似内容,但read_excel方法未加载该行内容\n",
    "        - 数据的第一行作为指标标题\n",
    "        - 第一列作为日期\n",
    "        - 前六行和最后一行都不是数据内容\n",
    "        - 剔除“日期”字段为空的行和其他非数据内容（标识数据来源的文字内容）\n",
    "        \n",
    "        Choice文件导出注意事项:\n",
    "        - 导出字段选择:指标名称、频率、单位、来源\n",
    "        - 日期排序:降序\n",
    "        - 图形设置:不导出图形\n",
    "        - 勾选“使用函数方式导出”\n",
    "    Args:\n",
    "        file_path (str): Choice导出文件(.xlsx)的绝对路径\n",
    "\n",
    "    Returns:\n",
    "        dataframe: 将Choice导出文件内容加载到dataframe,并返回\n",
    "    \"\"\"\n",
    "    if file_path=='':\n",
    "        return None\n",
    "    df = pd.read_excel(file_path)\n",
    "    df.columns = df.iloc[0]\n",
    "    df.rename(columns={df.columns[0]: 'date'}, inplace=True)\n",
    "    df = df[6:]\n",
    "    df.reset_index(drop=True, inplace=True)\n",
    "    df.dropna(axis=0, subset=['date'], inplace=True)\n",
    "    df = df[df['date'] != '数据来源：东方财富Choice数据']\n",
    "    df['date'] = pd.to_datetime(df['date'])\n",
    "    return df"
   ]
  },
  {
   "cell_type": "code",
   "execution_count": null,
   "metadata": {},
   "outputs": [],
   "source": [
    "common_json = 'setting/common.json'\n",
    "variety_json = 'setting/variety.json'\n",
    "symbol_id = \"RB\"\n",
    "\n",
    "with open(common_json, encoding='utf-8') as common_file: \n",
    "    symbol_dataindex_setting = json.load(common_file)['DataIndex']\n",
    "with open(variety_json, encoding='utf-8') as variety_file:\n",
    "    variety_setting = json.load(variety_file)[symbol_id]     \n",
    "variety_setting['DataIndex'] = {**symbol_dataindex_setting, **variety_setting['DataIndex']} if 'DataIndex' in variety_setting else symbol_dataindex_setting\n",
    "symbol_setting = variety_setting\n"
   ]
  },
  {
   "cell_type": "code",
   "execution_count": 4,
   "metadata": {},
   "outputs": [
    {
     "name": "stdout",
     "output_type": "stream",
     "text": [
      "symbol: RB, key: 需求\n",
      "symbol: RB, key: 产量\n",
      "symbol: RB, key: 开工率\n",
      "symbol: RB, key: 产能利用率\n",
      "symbol: RB, key: 库存\n"
     ]
    },
    {
     "name": "stderr",
     "output_type": "stream",
     "text": [
      "/var/folders/hc/6dqjp7bs58s2pcb47s4xfsf80000gn/T/ipykernel_28136/3172956327.py:59: FutureWarning: Downcasting object dtype arrays on .fillna, .ffill, .bfill is deprecated and will change in a future version. Call result.infer_objects(copy=False) instead. To opt-in to the future behavior, set `pd.set_option('future.no_silent_downcasting', True)`\n",
      "  df[key] = df[key].ffill()\n",
      "/var/folders/hc/6dqjp7bs58s2pcb47s4xfsf80000gn/T/ipykernel_28136/3172956327.py:59: FutureWarning: Downcasting object dtype arrays on .fillna, .ffill, .bfill is deprecated and will change in a future version. Call result.infer_objects(copy=False) instead. To opt-in to the future behavior, set `pd.set_option('future.no_silent_downcasting', True)`\n",
      "  df[key] = df[key].ffill()\n"
     ]
    }
   ],
   "source": [
    "import pandas as pd\n",
    "import re\n",
    "from asteval import Interpreter\n",
    "\n",
    "def extract_variables(format_str):\n",
    "    \"\"\"从格式字符串中提取变量名\"\"\"\n",
    "    # 正则表达式模式，匹配非空字符（即变量）\n",
    "    variable_pattern = r'\\w[\\w:()%]*'\n",
    "    # 使用正则表达式查找所有匹配的变量名\n",
    "    variables = re.findall(variable_pattern, format_str)\n",
    "    return variables  # 直接返回找到的变量名列表，无需额外处理\n",
    "\n",
    "column_dict= {}\n",
    "data_frames = []\n",
    "data_index = symbol_setting['DataIndex']\n",
    "\n",
    "# dws = gs.dataworks\n",
    "dws = dw.DataWorks()\n",
    "for key, value_items in data_index.items():\n",
    "    # 按照配置文件中的DataFrame键值，将同类内容合并到同一张表中\n",
    "    df_name = value_items['DataFrame']            \n",
    "    fields = value_items['Field']\n",
    "    variables_list = extract_variables(fields)\n",
    "    if df_name in locals():        \n",
    "        # 键值是独立字段的，列名修改为key\n",
    "        if len(variables_list)==1:\n",
    "            locals()[df_name].rename(columns={variables_list[0]:key}, inplace=True)\n",
    "    else:\n",
    "        # 未加载的数据，整表读取到df_name中\n",
    "        data_source = value_items['Source']\n",
    "        if data_source=='Choice':\n",
    "            locals()[df_name] = load_choice_file(value_items['Path'])\n",
    "        elif data_source=='SQLite':\n",
    "            locals()[df_name] = dws.get_data_by_symbol(value_items['Path'], symbol_id, '*')\n",
    "            locals()[df_name]['date'] = pd.to_datetime(locals()[df_name]['date'])\n",
    "        else:\n",
    "            continue\n",
    "        column_dict[df_name] = ['date']\n",
    "    df = locals()[df_name]            \n",
    "    if len(variables_list)==1:\n",
    "        # Field是独立字段的，列名修改为key\n",
    "        df.rename(columns={variables_list[0]:key}, inplace=True)\n",
    "        column_dict[df_name].append(key)\n",
    "    else:                \n",
    "        # Field是公式表达的，进行解析计算\n",
    "        aeval = Interpreter()       \n",
    "        for var in variables_list:                    \n",
    "            safe_var = re.sub(r'[0-9:]', '', var)\n",
    "            df.rename(columns={var:safe_var}, inplace=True)                                     \n",
    "            aeval.symtable[safe_var] = df[safe_var]\n",
    "        safe_fields = re.sub(r'[0-9:]', '', fields)\n",
    "        df[key] = aeval.eval(safe_fields)\n",
    "        column_dict[df_name].append(key)\n",
    "    # 根据配置中指定的填充方式填充缺失值\n",
    "    if 'FillNa' in value_items:\n",
    "        fill_na = value_items['FillNa']\n",
    "        print(f\"symbol: {symbol_id}, key: {key}\")\n",
    "        if fill_na=='Forward':\n",
    "            df[key] = df[key].ffill()\n",
    "        elif fill_na=='Backward':\n",
    "            df[key] = df[key].bfill()\n",
    "        # elif fill_na=='Interpolate':"
   ]
  },
  {
   "cell_type": "code",
   "execution_count": 5,
   "metadata": {},
   "outputs": [],
   "source": [
    "from functools import reduce\n",
    "for df_key in column_dict:\n",
    "    df = locals()[df_key]\n",
    "    df = df[column_dict[df_key]]\n",
    "    data_frames.append(df)\n",
    "symbol_data = reduce(lambda left,right: pd.merge(left,right,on='date', how='outer'), data_frames)\n",
    "# if \"利润\" in self.symbol_setting:\n",
    "#     for key, value in enumerate(self.symbol_setting['利润'].items()):\n",
    "#         variables_list = extract_variables(value)\n",
    "#         aeval = Interpreter()       \n",
    "#         for var in variables_list:                                              \n",
    "#             aeval.symtable[var] = df[var]\n",
    "#         self.symbol_data[key] = aeval.eval(value)\n",
    "\n",
    "symbol_data.sort_values(by='date', ascending=True, inplace=True)\n",
    "columns_to_check = symbol_data.columns[1:]\n",
    "symbol_data.dropna(subset=columns_to_check, how='all', inplace=True)        "
   ]
  },
  {
   "cell_type": "code",
   "execution_count": 34,
   "metadata": {},
   "outputs": [],
   "source": [
    "import akshare as ak\n",
    "trade_date = ak.tool_trade_date_hist_sina()['trade_date']\n",
    "trade_date = pd.to_datetime(trade_date)\n"
   ]
  },
  {
   "cell_type": "code",
   "execution_count": 35,
   "metadata": {},
   "outputs": [],
   "source": [
    "date_column = 'date'\n",
    "# 筛选出 date 在 trade_date 中的行\n",
    "valid_dates_mask = symbol_data[date_column].isin(trade_date)\n",
    "# 删除不属于交易日的行\n",
    "new_symbol_data2 = symbol_data.loc[valid_dates_mask]\n",
    "\n",
    "# 或者，如果您希望直接在原数据框上进行修改（inplace=True）\n",
    "# symbol_data.drop(symbol_data.index[~valid_dates_mask], inplace=True)"
   ]
  },
  {
   "cell_type": "code",
   "execution_count": null,
   "metadata": {},
   "outputs": [],
   "source": [
    "from datetime import datetime, timedelta\n",
    "start_date = symbol_data['date'].iloc[0]\n",
    "end_date = symbol_data['date'].iloc[-1]\n",
    "interval = timedelta(days=1)  \n",
    "all_date = [start_date + i * interval for i in range((end_date - start_date).days + 1)]\n",
    "\n",
    "not_trade_date = sorted(set(all_date) - set(trade_date))"
   ]
  },
  {
   "cell_type": "code",
   "execution_count": 7,
   "metadata": {},
   "outputs": [
    {
     "data": {
      "text/plain": [
       "<module 'variety' from 'e:\\\\Document\\\\Project\\\\futures_nexus\\\\variety.py'>"
      ]
     },
     "execution_count": 7,
     "metadata": {},
     "output_type": "execute_result"
    }
   ],
   "source": [
    "# 重新加载salary计算模块\n",
    "import importlib\n",
    "importlib.reload(variety)"
   ]
  },
  {
   "cell_type": "code",
   "execution_count": 8,
   "metadata": {},
   "outputs": [
    {
     "name": "stdout",
     "output_type": "stream",
     "text": [
      "symbol: RB, key: 库存\n",
      "symbol: RB, key: 需求\n",
      "symbol: RB, key: 产量\n",
      "symbol: RB, key: 开工率\n",
      "symbol: RB, key: 产能利用率\n"
     ]
    },
    {
     "name": "stderr",
     "output_type": "stream",
     "text": [
      "e:\\Document\\Project\\futures_nexus\\variety.py:210: FutureWarning: Downcasting object dtype arrays on .fillna, .ffill, .bfill is deprecated and will change in a future version. Call result.infer_objects(copy=False) instead. To opt-in to the future behavior, set `pd.set_option('future.no_silent_downcasting', True)`\n",
      "  elif fill_na=='Backward':\n"
     ]
    },
    {
     "data": {
      "text/html": [
       "<div>\n",
       "<style scoped>\n",
       "    .dataframe tbody tr th:only-of-type {\n",
       "        vertical-align: middle;\n",
       "    }\n",
       "\n",
       "    .dataframe tbody tr th {\n",
       "        vertical-align: top;\n",
       "    }\n",
       "\n",
       "    .dataframe thead th {\n",
       "        text-align: right;\n",
       "    }\n",
       "</style>\n",
       "<table border=\"1\" class=\"dataframe\">\n",
       "  <thead>\n",
       "    <tr style=\"text-align: right;\">\n",
       "      <th></th>\n",
       "      <th>date</th>\n",
       "      <th>主力合约收盘价</th>\n",
       "      <th>主力合约结算价</th>\n",
       "      <th>主力合约持仓量</th>\n",
       "      <th>近月合约收盘价</th>\n",
       "      <th>近月合约结算价</th>\n",
       "      <th>近月合约持仓量</th>\n",
       "      <th>现货价格</th>\n",
       "      <th>基差</th>\n",
       "      <th>基差率</th>\n",
       "      <th>仓单</th>\n",
       "      <th>库存</th>\n",
       "      <th>需求</th>\n",
       "      <th>产量</th>\n",
       "      <th>开工率</th>\n",
       "      <th>产能利用率</th>\n",
       "    </tr>\n",
       "  </thead>\n",
       "  <tbody>\n",
       "    <tr>\n",
       "      <th>0</th>\n",
       "      <td>2010-03-29</td>\n",
       "      <td>NaN</td>\n",
       "      <td>NaN</td>\n",
       "      <td>NaN</td>\n",
       "      <td>NaN</td>\n",
       "      <td>NaN</td>\n",
       "      <td>NaN</td>\n",
       "      <td>NaN</td>\n",
       "      <td>NaN</td>\n",
       "      <td>NaN</td>\n",
       "      <td>NaN</td>\n",
       "      <td>NaN</td>\n",
       "      <td>NaN</td>\n",
       "      <td>NaN</td>\n",
       "      <td>NaN</td>\n",
       "      <td>NaN</td>\n",
       "    </tr>\n",
       "    <tr>\n",
       "      <th>1</th>\n",
       "      <td>2010-03-30</td>\n",
       "      <td>NaN</td>\n",
       "      <td>NaN</td>\n",
       "      <td>NaN</td>\n",
       "      <td>NaN</td>\n",
       "      <td>NaN</td>\n",
       "      <td>NaN</td>\n",
       "      <td>NaN</td>\n",
       "      <td>NaN</td>\n",
       "      <td>NaN</td>\n",
       "      <td>NaN</td>\n",
       "      <td>NaN</td>\n",
       "      <td>NaN</td>\n",
       "      <td>NaN</td>\n",
       "      <td>NaN</td>\n",
       "      <td>NaN</td>\n",
       "    </tr>\n",
       "    <tr>\n",
       "      <th>2</th>\n",
       "      <td>2010-03-31</td>\n",
       "      <td>NaN</td>\n",
       "      <td>NaN</td>\n",
       "      <td>NaN</td>\n",
       "      <td>NaN</td>\n",
       "      <td>NaN</td>\n",
       "      <td>NaN</td>\n",
       "      <td>NaN</td>\n",
       "      <td>NaN</td>\n",
       "      <td>NaN</td>\n",
       "      <td>NaN</td>\n",
       "      <td>NaN</td>\n",
       "      <td>NaN</td>\n",
       "      <td>NaN</td>\n",
       "      <td>NaN</td>\n",
       "      <td>NaN</td>\n",
       "    </tr>\n",
       "    <tr>\n",
       "      <th>3</th>\n",
       "      <td>2010-04-01</td>\n",
       "      <td>NaN</td>\n",
       "      <td>NaN</td>\n",
       "      <td>NaN</td>\n",
       "      <td>NaN</td>\n",
       "      <td>NaN</td>\n",
       "      <td>NaN</td>\n",
       "      <td>NaN</td>\n",
       "      <td>NaN</td>\n",
       "      <td>NaN</td>\n",
       "      <td>NaN</td>\n",
       "      <td>NaN</td>\n",
       "      <td>NaN</td>\n",
       "      <td>NaN</td>\n",
       "      <td>NaN</td>\n",
       "      <td>NaN</td>\n",
       "    </tr>\n",
       "    <tr>\n",
       "      <th>4</th>\n",
       "      <td>2010-04-02</td>\n",
       "      <td>NaN</td>\n",
       "      <td>NaN</td>\n",
       "      <td>NaN</td>\n",
       "      <td>NaN</td>\n",
       "      <td>NaN</td>\n",
       "      <td>NaN</td>\n",
       "      <td>NaN</td>\n",
       "      <td>NaN</td>\n",
       "      <td>NaN</td>\n",
       "      <td>NaN</td>\n",
       "      <td>NaN</td>\n",
       "      <td>NaN</td>\n",
       "      <td>NaN</td>\n",
       "      <td>NaN</td>\n",
       "      <td>NaN</td>\n",
       "    </tr>\n",
       "    <tr>\n",
       "      <th>...</th>\n",
       "      <td>...</td>\n",
       "      <td>...</td>\n",
       "      <td>...</td>\n",
       "      <td>...</td>\n",
       "      <td>...</td>\n",
       "      <td>...</td>\n",
       "      <td>...</td>\n",
       "      <td>...</td>\n",
       "      <td>...</td>\n",
       "      <td>...</td>\n",
       "      <td>...</td>\n",
       "      <td>...</td>\n",
       "      <td>...</td>\n",
       "      <td>...</td>\n",
       "      <td>...</td>\n",
       "      <td>...</td>\n",
       "    </tr>\n",
       "    <tr>\n",
       "      <th>4568</th>\n",
       "      <td>2024-03-19</td>\n",
       "      <td>NaN</td>\n",
       "      <td>NaN</td>\n",
       "      <td>NaN</td>\n",
       "      <td>NaN</td>\n",
       "      <td>NaN</td>\n",
       "      <td>NaN</td>\n",
       "      <td>NaN</td>\n",
       "      <td>NaN</td>\n",
       "      <td>NaN</td>\n",
       "      <td>NaN</td>\n",
       "      <td>1324.80</td>\n",
       "      <td>212.38</td>\n",
       "      <td>218.53</td>\n",
       "      <td>39.02</td>\n",
       "      <td>47.91</td>\n",
       "    </tr>\n",
       "    <tr>\n",
       "      <th>4569</th>\n",
       "      <td>2024-03-20</td>\n",
       "      <td>NaN</td>\n",
       "      <td>NaN</td>\n",
       "      <td>NaN</td>\n",
       "      <td>NaN</td>\n",
       "      <td>NaN</td>\n",
       "      <td>NaN</td>\n",
       "      <td>NaN</td>\n",
       "      <td>NaN</td>\n",
       "      <td>NaN</td>\n",
       "      <td>NaN</td>\n",
       "      <td>1289.97</td>\n",
       "      <td>246.44</td>\n",
       "      <td>211.61</td>\n",
       "      <td>39.67</td>\n",
       "      <td>46.39</td>\n",
       "    </tr>\n",
       "    <tr>\n",
       "      <th>4570</th>\n",
       "      <td>2024-03-21</td>\n",
       "      <td>NaN</td>\n",
       "      <td>NaN</td>\n",
       "      <td>NaN</td>\n",
       "      <td>NaN</td>\n",
       "      <td>NaN</td>\n",
       "      <td>NaN</td>\n",
       "      <td>NaN</td>\n",
       "      <td>NaN</td>\n",
       "      <td>NaN</td>\n",
       "      <td>NaN</td>\n",
       "      <td>1289.97</td>\n",
       "      <td>246.44</td>\n",
       "      <td>211.61</td>\n",
       "      <td>39.67</td>\n",
       "      <td>46.39</td>\n",
       "    </tr>\n",
       "    <tr>\n",
       "      <th>4571</th>\n",
       "      <td>2024-03-22</td>\n",
       "      <td>NaN</td>\n",
       "      <td>NaN</td>\n",
       "      <td>NaN</td>\n",
       "      <td>NaN</td>\n",
       "      <td>NaN</td>\n",
       "      <td>NaN</td>\n",
       "      <td>NaN</td>\n",
       "      <td>NaN</td>\n",
       "      <td>NaN</td>\n",
       "      <td>NaN</td>\n",
       "      <td>1289.97</td>\n",
       "      <td>246.44</td>\n",
       "      <td>211.61</td>\n",
       "      <td>39.67</td>\n",
       "      <td>46.39</td>\n",
       "    </tr>\n",
       "    <tr>\n",
       "      <th>4574</th>\n",
       "      <td>2024-03-25</td>\n",
       "      <td>NaN</td>\n",
       "      <td>NaN</td>\n",
       "      <td>NaN</td>\n",
       "      <td>NaN</td>\n",
       "      <td>NaN</td>\n",
       "      <td>NaN</td>\n",
       "      <td>NaN</td>\n",
       "      <td>NaN</td>\n",
       "      <td>NaN</td>\n",
       "      <td>NaN</td>\n",
       "      <td>1289.97</td>\n",
       "      <td>246.44</td>\n",
       "      <td>211.61</td>\n",
       "      <td>39.67</td>\n",
       "      <td>46.39</td>\n",
       "    </tr>\n",
       "  </tbody>\n",
       "</table>\n",
       "<p>3400 rows × 16 columns</p>\n",
       "</div>"
      ],
      "text/plain": [
       "           date  主力合约收盘价  主力合约结算价  主力合约持仓量  近月合约收盘价  近月合约结算价  近月合约持仓量  现货价格  \\\n",
       "0    2010-03-29      NaN      NaN      NaN      NaN      NaN      NaN   NaN   \n",
       "1    2010-03-30      NaN      NaN      NaN      NaN      NaN      NaN   NaN   \n",
       "2    2010-03-31      NaN      NaN      NaN      NaN      NaN      NaN   NaN   \n",
       "3    2010-04-01      NaN      NaN      NaN      NaN      NaN      NaN   NaN   \n",
       "4    2010-04-02      NaN      NaN      NaN      NaN      NaN      NaN   NaN   \n",
       "...         ...      ...      ...      ...      ...      ...      ...   ...   \n",
       "4568 2024-03-19      NaN      NaN      NaN      NaN      NaN      NaN   NaN   \n",
       "4569 2024-03-20      NaN      NaN      NaN      NaN      NaN      NaN   NaN   \n",
       "4570 2024-03-21      NaN      NaN      NaN      NaN      NaN      NaN   NaN   \n",
       "4571 2024-03-22      NaN      NaN      NaN      NaN      NaN      NaN   NaN   \n",
       "4574 2024-03-25      NaN      NaN      NaN      NaN      NaN      NaN   NaN   \n",
       "\n",
       "       基差  基差率  仓单       库存      需求      产量    开工率  产能利用率  \n",
       "0     NaN  NaN NaN      NaN     NaN     NaN    NaN    NaN  \n",
       "1     NaN  NaN NaN      NaN     NaN     NaN    NaN    NaN  \n",
       "2     NaN  NaN NaN      NaN     NaN     NaN    NaN    NaN  \n",
       "3     NaN  NaN NaN      NaN     NaN     NaN    NaN    NaN  \n",
       "4     NaN  NaN NaN      NaN     NaN     NaN    NaN    NaN  \n",
       "...   ...  ...  ..      ...     ...     ...    ...    ...  \n",
       "4568  NaN  NaN NaN  1324.80  212.38  218.53  39.02  47.91  \n",
       "4569  NaN  NaN NaN  1289.97  246.44  211.61  39.67  46.39  \n",
       "4570  NaN  NaN NaN  1289.97  246.44  211.61  39.67  46.39  \n",
       "4571  NaN  NaN NaN  1289.97  246.44  211.61  39.67  46.39  \n",
       "4574  NaN  NaN NaN  1289.97  246.44  211.61  39.67  46.39  \n",
       "\n",
       "[3400 rows x 16 columns]"
      ]
     },
     "execution_count": 8,
     "metadata": {},
     "output_type": "execute_result"
    }
   ],
   "source": [
    "import variety\n",
    "from variety import *\n",
    "rb = SymbolData('RB')\n",
    "rb.merge_data()\n",
    "# symbol_data = rb._calculate_basis('主力合约收盘价')"
   ]
  },
  {
   "cell_type": "code",
   "execution_count": 11,
   "metadata": {},
   "outputs": [],
   "source": [
    "field_list = rb.get_data_fields()"
   ]
  },
  {
   "cell_type": "code",
   "execution_count": 12,
   "metadata": {},
   "outputs": [
    {
     "name": "stdout",
     "output_type": "stream",
     "text": [
      "data_list: ['基差率', '主力合约持仓量', '仓单', '库存', '需求', '产量', '开工率', '产能利用率']\n"
     ]
    },
    {
     "name": "stderr",
     "output_type": "stream",
     "text": [
      "/Volumes/Repository/Projects/futures_nexus/variety.py:357: FutureWarning: Downcasting behavior in `replace` is deprecated and will be removed in a future version. To retain the old behavior, explicitly call `result.infer_objects(copy=False)`. To opt-in to the future behavior, set `pd.set_option('future.no_silent_downcasting', True)`\n",
      "  df_rank = pd.DataFrame()\n"
     ]
    }
   ],
   "source": [
    "data_rank = rb.calculate_data_rank('主力合约',field_list,6)"
   ]
  },
  {
   "cell_type": "code",
   "execution_count": null,
   "metadata": {},
   "outputs": [],
   "source": [
    "signals = rb.get_signals(field_list)"
   ]
  },
  {
   "cell_type": "code",
   "execution_count": 1,
   "metadata": {},
   "outputs": [],
   "source": [
    "import dash_mantine_components as dmc\n",
    "from dash import Dash, html, Input, Output, State\n",
    "\n",
    "layout = html.Div([\n",
    "    dmc.Stack(\n",
    "        [\n",
    "            dmc.Button(\"Open\", id=\"open-modal\"),\n",
    "            dmc.Button(\"Close\", id=\"close-modal\"),\n",
    "        ],\n",
    "        spacing=\"md\",\n",
    "    )\n",
    "])"
   ]
  },
  {
   "cell_type": "markdown",
   "metadata": {},
   "source": [
    "## 并行计算测试"
   ]
  },
  {
   "cell_type": "markdown",
   "metadata": {},
   "source": [
    "### 使用Numba的并行功能"
   ]
  },
  {
   "cell_type": "code",
   "execution_count": 33,
   "metadata": {},
   "outputs": [
    {
     "name": "stdout",
     "output_type": "stream",
     "text": [
      "Computation of 100000000 elements to the power of 10 completed.\n",
      "Execution time with parallel Numba: 0.417245 seconds\n"
     ]
    }
   ],
   "source": [
    "import numpy as np\n",
    "import time\n",
    "from numba import jit, prange\n",
    "\n",
    "# 定义一个计算大数组元素10次方的函数，使用Numba并行\n",
    "@jit(nopython=True, parallel=True)\n",
    "def compute_powers(numbers, power=10):\n",
    "    result = np.zeros_like(numbers)\n",
    "    for i in prange(len(numbers)):\n",
    "        result[i] = numbers[i] ** power\n",
    "    return result\n",
    "\n",
    "# 创建一个大数组\n",
    "size = 100000000\n",
    "numbers = np.random.rand(size)\n",
    "\n",
    "start_time = time.time()\n",
    "powered_numbers = compute_powers(numbers)\n",
    "end_time = time.time()\n",
    "\n",
    "print(f\"Computation of {size} elements to the power of 10 completed.\")\n",
    "print(f\"Execution time with parallel Numba: {end_time - start_time:.6f} seconds\")"
   ]
  },
  {
   "cell_type": "code",
   "execution_count": 27,
   "metadata": {},
   "outputs": [
    {
     "name": "stdout",
     "output_type": "stream",
     "text": [
      "Computation of 100000000 elements to the power of 10 completed.\n",
      "Execution time with parallel Numba: 12.351819 seconds\n"
     ]
    }
   ],
   "source": [
    "def compute_powers(numbers, power=10):\n",
    "    result = np.zeros_like(numbers)\n",
    "    for i in prange(len(numbers)):\n",
    "        result[i] = numbers[i] ** power\n",
    "    return result\n",
    "\n",
    "# 创建一个大数组\n",
    "size = 100000000\n",
    "numbers = np.random.rand(size)\n",
    "\n",
    "start_time = time.time()\n",
    "powered_numbers = compute_powers(numbers)\n",
    "end_time = time.time()\n",
    "\n",
    "print(f\"Computation of {size} elements to the power of 10 completed.\")\n",
    "print(f\"Execution time with parallel Numba: {end_time - start_time:.6f} seconds\")"
   ]
  }
 ],
 "metadata": {
  "kernelspec": {
   "display_name": "base",
   "language": "python",
   "name": "python3"
  },
  "language_info": {
   "codemirror_mode": {
    "name": "ipython",
    "version": 3
   },
   "file_extension": ".py",
   "mimetype": "text/x-python",
   "name": "python",
   "nbconvert_exporter": "python",
   "pygments_lexer": "ipython3",
   "version": "3.10.10"
  }
 },
 "nbformat": 4,
 "nbformat_minor": 2
}
