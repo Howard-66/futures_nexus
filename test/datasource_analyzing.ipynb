{
 "cells": [
  {
   "cell_type": "markdown",
   "metadata": {},
   "source": [
    "## Profiling分析"
   ]
  },
  {
   "cell_type": "code",
   "execution_count": 1,
   "metadata": {},
   "outputs": [
    {
     "name": "stderr",
     "output_type": "stream",
     "text": [
      "e:\\Document\\Project\\.conda\\lib\\site-packages\\tqdm\\auto.py:21: TqdmWarning: IProgress not found. Please update jupyter and ipywidgets. See https://ipywidgets.readthedocs.io/en/stable/user_install.html\n",
      "  from .autonotebook import tqdm as notebook_tqdm\n"
     ]
    }
   ],
   "source": [
    "import dataworks as dw\n",
    "import ydata_profiling\n",
    "dws = dw.DataWorks()"
   ]
  },
  {
   "cell_type": "code",
   "execution_count": null,
   "metadata": {},
   "outputs": [],
   "source": [
    "db_tables = ['basis', 'czce', 'dce', 'shfe', 'dominant', 'inventory', 'receipt', 'near']\n",
    "db_fields = ['variety', 'symbol', 'symbol', 'symbol', 'variety', 'variety', 'variety', 'symbol']\n",
    "for table in db_tables:\n",
    "    data = dws.get_data_by_sql(f'SELECT * FROM {table}')\n",
    "    list = data['variety'].unique()\n",
    "    for field in list:\n",
    "        field_data = data[data['variety']==field]\n",
    "        profile = ydata_profiling.ProfileReport(field_data, title=f'{table}-{field} Dataset Profile', explorative=True)\n",
    "        profile.to_file(output_file=f\"reports/{table}/{field}-report.html\")\n"
   ]
  }
 ],
 "metadata": {
  "kernelspec": {
   "display_name": "Python 3",
   "language": "python",
   "name": "python3"
  },
  "language_info": {
   "codemirror_mode": {
    "name": "ipython",
    "version": 3
   },
   "file_extension": ".py",
   "mimetype": "text/x-python",
   "name": "python",
   "nbconvert_exporter": "python",
   "pygments_lexer": "ipython3",
   "version": "3.10.13"
  }
 },
 "nbformat": 4,
 "nbformat_minor": 2
}
