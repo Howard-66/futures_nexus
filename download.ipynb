{
 "cells": [
  {
   "cell_type": "code",
   "execution_count": 2,
   "metadata": {},
   "outputs": [],
   "source": [
    "import pandas as pd\n",
    "import numpy as np\n",
    "import akshare as ak\n",
    "from dateutil.relativedelta import relativedelta\n",
    "from datetime import datetime, date, timedelta\n",
    "import dataworks as dw"
   ]
  },
  {
   "cell_type": "code",
   "execution_count": 3,
   "metadata": {},
   "outputs": [],
   "source": [
    "dws = dw.DataWorks()"
   ]
  },
  {
   "cell_type": "markdown",
   "metadata": {},
   "source": [
    "# 期货数据下载"
   ]
  },
  {
   "cell_type": "markdown",
   "metadata": {},
   "source": [
    "## 期货历史合约数据"
   ]
  },
  {
   "cell_type": "markdown",
   "metadata": {},
   "source": [
    "### 大连商品交易所"
   ]
  },
  {
   "cell_type": "markdown",
   "metadata": {},
   "source": [
    "#### 按时间段下载"
   ]
  },
  {
   "cell_type": "code",
   "execution_count": 15,
   "metadata": {},
   "outputs": [
    {
     "data": {
      "text/html": [
       "<div>\n",
       "<style scoped>\n",
       "    .dataframe tbody tr th:only-of-type {\n",
       "        vertical-align: middle;\n",
       "    }\n",
       "\n",
       "    .dataframe tbody tr th {\n",
       "        vertical-align: top;\n",
       "    }\n",
       "\n",
       "    .dataframe thead th {\n",
       "        text-align: right;\n",
       "    }\n",
       "</style>\n",
       "<table border=\"1\" class=\"dataframe\">\n",
       "  <thead>\n",
       "    <tr style=\"text-align: right;\">\n",
       "      <th></th>\n",
       "      <th>symbol</th>\n",
       "      <th>date</th>\n",
       "      <th>open</th>\n",
       "      <th>high</th>\n",
       "      <th>low</th>\n",
       "      <th>close</th>\n",
       "      <th>volume</th>\n",
       "      <th>open_interest</th>\n",
       "      <th>turnover</th>\n",
       "      <th>settle</th>\n",
       "      <th>pre_settle</th>\n",
       "      <th>variety</th>\n",
       "    </tr>\n",
       "  </thead>\n",
       "  <tbody>\n",
       "    <tr>\n",
       "      <th>548990</th>\n",
       "      <td>y2501</td>\n",
       "      <td>2024-08-16</td>\n",
       "      <td>7336.0</td>\n",
       "      <td>7424.0</td>\n",
       "      <td>7328.0</td>\n",
       "      <td>7328.0</td>\n",
       "      <td>392335.0</td>\n",
       "      <td>572381.0</td>\n",
       "      <td>2894199.89</td>\n",
       "      <td>7376.0</td>\n",
       "      <td>7344.0</td>\n",
       "      <td>Y</td>\n",
       "    </tr>\n",
       "    <tr>\n",
       "      <th>548991</th>\n",
       "      <td>y2503</td>\n",
       "      <td>2024-08-16</td>\n",
       "      <td>7284.0</td>\n",
       "      <td>7352.0</td>\n",
       "      <td>7268.0</td>\n",
       "      <td>7272.0</td>\n",
       "      <td>297.0</td>\n",
       "      <td>3710.0</td>\n",
       "      <td>2172.69</td>\n",
       "      <td>7314.0</td>\n",
       "      <td>7284.0</td>\n",
       "      <td>Y</td>\n",
       "    </tr>\n",
       "    <tr>\n",
       "      <th>548992</th>\n",
       "      <td>y2505</td>\n",
       "      <td>2024-08-16</td>\n",
       "      <td>7148.0</td>\n",
       "      <td>7224.0</td>\n",
       "      <td>7148.0</td>\n",
       "      <td>7152.0</td>\n",
       "      <td>31924.0</td>\n",
       "      <td>143231.0</td>\n",
       "      <td>229488.17</td>\n",
       "      <td>7188.0</td>\n",
       "      <td>7170.0</td>\n",
       "      <td>Y</td>\n",
       "    </tr>\n",
       "    <tr>\n",
       "      <th>548993</th>\n",
       "      <td>y2507</td>\n",
       "      <td>2024-08-16</td>\n",
       "      <td>7166.0</td>\n",
       "      <td>7226.0</td>\n",
       "      <td>7160.0</td>\n",
       "      <td>7160.0</td>\n",
       "      <td>53.0</td>\n",
       "      <td>483.0</td>\n",
       "      <td>381.75</td>\n",
       "      <td>7202.0</td>\n",
       "      <td>7176.0</td>\n",
       "      <td>Y</td>\n",
       "    </tr>\n",
       "    <tr>\n",
       "      <th>548994</th>\n",
       "      <td>y2508</td>\n",
       "      <td>2024-08-16</td>\n",
       "      <td>7154.0</td>\n",
       "      <td>7154.0</td>\n",
       "      <td>7154.0</td>\n",
       "      <td>7154.0</td>\n",
       "      <td>1.0</td>\n",
       "      <td>1.0</td>\n",
       "      <td>7.15</td>\n",
       "      <td>7154.0</td>\n",
       "      <td>7154.0</td>\n",
       "      <td>Y</td>\n",
       "    </tr>\n",
       "  </tbody>\n",
       "</table>\n",
       "</div>"
      ],
      "text/plain": [
       "       symbol       date    open    high     low   close    volume  \\\n",
       "548990  y2501 2024-08-16  7336.0  7424.0  7328.0  7328.0  392335.0   \n",
       "548991  y2503 2024-08-16  7284.0  7352.0  7268.0  7272.0     297.0   \n",
       "548992  y2505 2024-08-16  7148.0  7224.0  7148.0  7152.0   31924.0   \n",
       "548993  y2507 2024-08-16  7166.0  7226.0  7160.0  7160.0      53.0   \n",
       "548994  y2508 2024-08-16  7154.0  7154.0  7154.0  7154.0       1.0   \n",
       "\n",
       "        open_interest    turnover  settle  pre_settle variety  \n",
       "548990       572381.0  2894199.89  7376.0      7344.0       Y  \n",
       "548991         3710.0     2172.69  7314.0      7284.0       Y  \n",
       "548992       143231.0   229488.17  7188.0      7170.0       Y  \n",
       "548993          483.0      381.75  7202.0      7176.0       Y  \n",
       "548994            1.0        7.15  7154.0      7154.0       Y  "
      ]
     },
     "execution_count": 15,
     "metadata": {},
     "output_type": "execute_result"
    }
   ],
   "source": [
    "df_futures_daily_dce = dws.get_data_by_sql('SELECT * FROM dce')\n",
    "df_futures_daily_dce['date'] = pd.to_datetime(df_futures_daily_dce['date'], format='ISO8601')\n",
    "df_futures_daily_dce.tail()"
   ]
  },
  {
   "cell_type": "code",
   "execution_count": 56,
   "metadata": {},
   "outputs": [
    {
     "data": {
      "text/plain": [
       "532850"
      ]
     },
     "execution_count": 56,
     "metadata": {},
     "output_type": "execute_result"
    }
   ],
   "source": [
    "len(df_futures_daily_dce)"
   ]
  },
  {
   "cell_type": "code",
   "execution_count": 3,
   "metadata": {},
   "outputs": [
    {
     "name": "stdout",
     "output_type": "stream",
     "text": [
      "Last Period:  20240817 20240831\n",
      "Current Period:  20240901 20240930\n"
     ]
    }
   ],
   "source": [
    "start_date = '20240817'\n",
    "end_date = '20240831'\n",
    "print('Last Period: ', start_date, end_date)\n",
    "start_date = datetime.strptime(start_date, '%Y%m%d')\n",
    "end_date = datetime.strptime(end_date, '%Y%m%d')\n",
    "start_date = (start_date + relativedelta(months=1)).replace(day=1)\n",
    "end_date = (end_date + relativedelta(months=2)).replace(day=1) - relativedelta(days=1)\n",
    "start_date = start_date.strftime('%Y%m%d')\n",
    "end_date = end_date.strftime('%Y%m%d')\n",
    "print('Current Period: ', start_date, end_date)"
   ]
  },
  {
   "cell_type": "code",
   "execution_count": 9,
   "metadata": {},
   "outputs": [
    {
     "name": "stdout",
     "output_type": "stream",
     "text": [
      "Current Period:  20241125 20241204\n",
      "Current Period:  20241205 20241206\n",
      "Current Period:  20241215 20241206\n",
      "Current Period:  20241225 20241206\n",
      "Current Period:  20250104 20241206\n",
      "Current Period:  20250114 20241206\n",
      "Current Period:  20250124 20241206\n",
      "Current Period:  20250203 20241206\n",
      "Current Period:  20250213 20241206\n",
      "Current Period:  20250223 20241206\n",
      "Current Period:  20250305 20241206\n",
      "Current Period:  20250315 20241206\n"
     ]
    }
   ],
   "source": [
    "start_date = '20241125'\n",
    "end_date = '20241204'\n",
    "# 初始化df_futures_daily_dce为空\n",
    "# df_futures_daily_dce = pd.DataFrame()\n",
    "\n",
    "for i in range(12):  \n",
    "    print('Current Period: ', start_date, end_date)\n",
    "    df_futures_daily_dce_append = ak.get_futures_daily(start_date=start_date, end_date=end_date, market=\"DCE\")\n",
    "    df_futures_daily_dce = pd.concat([df_futures_daily_dce, df_futures_daily_dce_append], ignore_index=True)\n",
    "    \n",
    "    start_date = datetime.strptime(start_date, '%Y%m%d')\n",
    "    end_date = datetime.strptime(end_date, '%Y%m%d')\n",
    "    # start_date = (start_date + relativedelta(months=1)).replace(day=1)\n",
    "    # end_date = (end_date + relativedelta(months=2)).replace(day=1) - relativedelta(days=1)\n",
    "    # 日期递增 10 天\n",
    "    start_date = start_date + timedelta(days=10)\n",
    "    end_date = end_date + timedelta(days=10)\n",
    "    \n",
    "    # 确保 end_date 不超过当前日期\n",
    "    if end_date > datetime.now():\n",
    "        end_date = datetime.now() - timedelta(days=1)\n",
    "    \n",
    "    start_date = start_date.strftime('%Y%m%d')\n",
    "    end_date = end_date.strftime('%Y%m%d')"
   ]
  },
  {
   "cell_type": "code",
   "execution_count": 10,
   "metadata": {},
   "outputs": [],
   "source": [
    "df_futures_daily_dce['date'] = pd.to_datetime(df_futures_daily_dce['date'], format='%Y%m%d')\n",
    "dws.save_data(df_futures_daily_dce, 'dce', 'append')"
   ]
  },
  {
   "cell_type": "code",
   "execution_count": null,
   "metadata": {},
   "outputs": [],
   "source": [
    "start_date = df_futures_daily_dce.iloc[-1]['date'] + timedelta(days=1)\n",
    "start_date = start_date.strftime('%Y%m%d')\n",
    "end_date = datetime.now() - timedelta(days=1)\n",
    "end_date = end_date.strftime('%Y%m%d')\n",
    "df_futures_daily_dce_append = ak.get_futures_daily(start_date=start_date, end_date=end_date, market=\"DCE\")\n",
    "df_futures_daily_dce_append['date'] = pd.to_datetime(df_futures_daily_dce_append['date'], format='%Y%m%d')\n",
    "# df_futures_daily_dce = pd.concat([df_futures_daily_dce, df_futures_daily_dce_append], ignore_index=True)"
   ]
  },
  {
   "cell_type": "markdown",
   "metadata": {},
   "source": [
    "#### 自动补全下载"
   ]
  },
  {
   "cell_type": "code",
   "execution_count": null,
   "metadata": {},
   "outputs": [
    {
     "name": "stdout",
     "output_type": "stream",
     "text": [
      "Current Period:  20240104 20240119\n"
     ]
    }
   ],
   "source": [
    "last_date = dws.get_last_date('dce')\n",
    "last_date = pd.to_datetime(last_date)\n",
    "start_date = last_date + timedelta(days=1)\n",
    "end_date = datetime.now() - timedelta(days=1)\n",
    "start_date = start_date.strftime('%Y%m%d')\n",
    "end_date = end_date.strftime('%Y%m%d')\n",
    "print('Current Period: ', start_date, end_date)\n",
    "df_futures_daily_dce_append = ak.get_futures_daily(start_date=start_date, end_date=end_date, market=\"DCE\")\n",
    "df_futures_daily_dce_append['date'] = pd.to_datetime(df_futures_daily_dce_append['date'], format='%Y%m%d')"
   ]
  },
  {
   "cell_type": "code",
   "execution_count": null,
   "metadata": {},
   "outputs": [],
   "source": [
    "dws.save_data(df_futures_daily_dce_append, 'dce', 'append')"
   ]
  },
  {
   "cell_type": "markdown",
   "metadata": {},
   "source": [
    "### 郑州商品交易所"
   ]
  },
  {
   "cell_type": "markdown",
   "metadata": {},
   "source": [
    "#### 按时间段下载"
   ]
  },
  {
   "cell_type": "code",
   "execution_count": null,
   "metadata": {},
   "outputs": [],
   "source": [
    "df_futures_daily_czce = dws.get_data_by_sql('SELECT * FROM czce')\n",
    "df_futures_daily_czce['date'] = pd.to_datetime(df_futures_daily_czce['date'])\n",
    "df_futures_daily_czce.tail()"
   ]
  },
  {
   "cell_type": "code",
   "execution_count": null,
   "metadata": {},
   "outputs": [],
   "source": [
    "start_date = '20231101'\n",
    "end_date = '20231130'\n",
    "print('Last Period: ', start_date, end_date)\n",
    "start_date = datetime.strptime(start_date, '%Y%m%d')\n",
    "end_date = datetime.strptime(end_date, '%Y%m%d')\n",
    "start_date = (start_date + relativedelta(months=1)).replace(day=1)\n",
    "end_date = (end_date + relativedelta(months=2)).replace(day=1) - relativedelta(days=1)\n",
    "start_date = start_date.strftime('%Y%m%d')\n",
    "end_date = end_date.strftime('%Y%m%d')\n",
    "print('Current Period: ', start_date, end_date)"
   ]
  },
  {
   "cell_type": "code",
   "execution_count": null,
   "metadata": {},
   "outputs": [],
   "source": [
    "for i in range(12):  \n",
    "    df_futures_daily_czce_append = ak.get_futures_daily(start_date=start_date, end_date=end_date, market=\"CZCE\")\n",
    "    df_futures_daily_czce = pd.concat([df_futures_daily_czce, df_futures_daily_czce_append], ignore_index=True)\n",
    "    print('Last Period: ', start_date, end_date)\n",
    "    start_date = datetime.strptime(start_date, '%Y%m%d')\n",
    "    end_date = datetime.strptime(end_date, '%Y%m%d')\n",
    "    start_date = (start_date + relativedelta(months=1)).replace(day=1)\n",
    "    end_date = (end_date + relativedelta(months=2)).replace(day=1) - relativedelta(days=1)\n",
    "    start_date = start_date.strftime('%Y%m%d')\n",
    "    end_date = end_date.strftime('%Y%m%d')\n",
    "    print('Current Period: ', start_date, end_date)"
   ]
  },
  {
   "cell_type": "code",
   "execution_count": null,
   "metadata": {},
   "outputs": [],
   "source": [
    "dws.save_data(df_futures_daily_czce, 'czce')"
   ]
  },
  {
   "cell_type": "code",
   "execution_count": null,
   "metadata": {},
   "outputs": [],
   "source": [
    "start_date = df_futures_daily_czce.iloc[-1]['date'] + timedelta(days=1)\n",
    "start_date = start_date.strftime('%Y%m%d')\n",
    "end_date = datetime.now() - timedelta(days=1)\n",
    "end_date = end_date.strftime('%Y%m%d')\n",
    "df_futures_daily_czce_append = ak.get_futures_daily(start_date=start_date, end_date=end_date, market=\"CZCE\")\n",
    "df_futures_daily_czce_append['date'] = pd.to_datetime(df_futures_daily_czce_append['date'], format='%Y%m%d')\n",
    "# df_futures_daily_czce = pd.concat([df_futures_daily_czce, df_futures_daily_czce_append], ignore_index=True)"
   ]
  },
  {
   "cell_type": "markdown",
   "metadata": {},
   "source": [
    "#### 自动补全下载"
   ]
  },
  {
   "cell_type": "code",
   "execution_count": null,
   "metadata": {},
   "outputs": [
    {
     "name": "stdout",
     "output_type": "stream",
     "text": [
      "Current Period:  20240104 20240119\n"
     ]
    }
   ],
   "source": [
    "last_date = dws.get_last_date('czce')\n",
    "last_date = pd.to_datetime(last_date)\n",
    "start_date = last_date + timedelta(days=1)\n",
    "end_date = datetime.now() - timedelta(days=1)\n",
    "start_date = start_date.strftime('%Y%m%d')\n",
    "end_date = end_date.strftime('%Y%m%d')\n",
    "print('Current Period: ', start_date, end_date)\n",
    "df_futures_daily_czce_append = ak.get_futures_daily(start_date=start_date, end_date=end_date, market=\"CZCE\")\n",
    "df_futures_daily_czce_append['date'] = pd.to_datetime(df_futures_daily_czce_append['date'], format='%Y%m%d')"
   ]
  },
  {
   "cell_type": "code",
   "execution_count": null,
   "metadata": {},
   "outputs": [],
   "source": [
    "dws.save_data(df_futures_daily_czce_append, 'czce', 'append')"
   ]
  },
  {
   "cell_type": "markdown",
   "metadata": {},
   "source": [
    "### 上海商品交易所"
   ]
  },
  {
   "cell_type": "markdown",
   "metadata": {},
   "source": [
    "#### 按时间段下载"
   ]
  },
  {
   "cell_type": "code",
   "execution_count": null,
   "metadata": {},
   "outputs": [],
   "source": [
    "df_futures_daily_shfe = dws.get_data_by_sql('SELECT * FROM shfe')\n",
    "df_futures_daily_shfe['date'] = pd.to_datetime(df_futures_daily_shfe['date'])\n",
    "df_futures_daily_shfe.tail()"
   ]
  },
  {
   "cell_type": "code",
   "execution_count": null,
   "metadata": {},
   "outputs": [],
   "source": [
    "start_date = '20231101'\n",
    "end_date = '20231130'\n",
    "print('Last Period: ', start_date, end_date)\n",
    "start_date = datetime.strptime(start_date, '%Y%m%d')\n",
    "end_date = datetime.strptime(end_date, '%Y%m%d')\n",
    "start_date = (start_date + relativedelta(months=1)).replace(day=1)\n",
    "end_date = (end_date + relativedelta(months=2)).replace(day=1) - relativedelta(days=1)\n",
    "start_date = start_date.strftime('%Y%m%d')\n",
    "end_date = end_date.strftime('%Y%m%d')\n",
    "print('Current Period: ', start_date, end_date)"
   ]
  },
  {
   "cell_type": "code",
   "execution_count": null,
   "metadata": {},
   "outputs": [],
   "source": [
    "df_futures_daily_shfe_append = ak.get_futures_daily(start_date=start_date, end_date=end_date, market=\"SHFE\")\n",
    "df_futures_daily_shfe = pd.concat([df_futures_daily_shfe, df_futures_daily_shfe_append], ignore_index=True)"
   ]
  },
  {
   "cell_type": "code",
   "execution_count": null,
   "metadata": {},
   "outputs": [],
   "source": [
    "dws.save_data(df_futures_daily_shfe, 'shfe')"
   ]
  },
  {
   "cell_type": "code",
   "execution_count": null,
   "metadata": {},
   "outputs": [],
   "source": [
    "start_date = df_futures_daily_shfe.iloc[-1]['date'] + timedelta(days=1)\n",
    "start_date = start_date.strftime('%Y%m%d')\n",
    "end_date = datetime.now() - timedelta(days=1)\n",
    "end_date = end_date.strftime('%Y%m%d')\n",
    "df_futures_daily_shfe_append = ak.get_futures_daily(start_date=start_date, end_date=end_date, market=\"SHFE\")\n",
    "df_futures_daily_shfe_append['date'] = pd.to_datetime(df_futures_daily_shfe_append['date'], format='%Y%m%d')\n",
    "# df_futures_daily_shfe = pd.concat([df_futures_daily_shfe, df_futures_daily_czce_append], ignore_index=True)"
   ]
  },
  {
   "cell_type": "markdown",
   "metadata": {},
   "source": [
    "#### 自动补全下载"
   ]
  },
  {
   "cell_type": "code",
   "execution_count": null,
   "metadata": {},
   "outputs": [
    {
     "name": "stdout",
     "output_type": "stream",
     "text": [
      "Current Period:  20240104 20240119\n"
     ]
    }
   ],
   "source": [
    "last_date = dws.get_last_date('shfe')\n",
    "last_date = pd.to_datetime(last_date)\n",
    "start_date = last_date + timedelta(days=1)\n",
    "end_date = datetime.now() - timedelta(days=1)\n",
    "start_date = start_date.strftime('%Y%m%d')\n",
    "end_date = end_date.strftime('%Y%m%d')\n",
    "print('Current Period: ', start_date, end_date)\n",
    "df_futures_daily_shfe_append = ak.get_futures_daily(start_date=start_date, end_date=end_date, market=\"SHFE\")\n",
    "df_futures_daily_shfe_append['date'] = pd.to_datetime(df_futures_daily_shfe_append['date'], format='%Y%m%d')"
   ]
  },
  {
   "cell_type": "code",
   "execution_count": null,
   "metadata": {},
   "outputs": [],
   "source": [
    "dws.save_data(df_futures_daily_shfe_append, 'shfe', 'append')"
   ]
  },
  {
   "cell_type": "markdown",
   "metadata": {},
   "source": [
    "## 期货合约基础信息"
   ]
  },
  {
   "cell_type": "markdown",
   "metadata": {},
   "source": [
    "### 合约基础信息"
   ]
  },
  {
   "cell_type": "code",
   "execution_count": null,
   "metadata": {},
   "outputs": [],
   "source": [
    "futures_comm_info_df = ak.futures_comm_info(symbol=\"所有\")\n",
    "futures_comm_info_df"
   ]
  },
  {
   "cell_type": "code",
   "execution_count": null,
   "metadata": {},
   "outputs": [],
   "source": [
    "dws.save_data(futures_comm_info_df, 'common')"
   ]
  },
  {
   "cell_type": "markdown",
   "metadata": {},
   "source": [
    "### 全品种信息"
   ]
  },
  {
   "cell_type": "code",
   "execution_count": null,
   "metadata": {},
   "outputs": [],
   "source": [
    "symbol_list = ak.futures_index_symbol_table_nh()\n",
    "symbol_list = symbol_list[symbol_list['exchange'].isin(['郑州商品交易所', '大连商品交易所', '上海期货交易所'])]\n",
    "symbol_list = symbol_list.drop('indexcategory', axis=1)\n",
    "exchange_replace_dict = {'郑州商品交易所': 'czce',\n",
    "                         '大连商品交易所': 'dce',\n",
    "                         '上海期货交易所': 'shfe'}\n",
    "symbol_list['exchange'] = symbol_list['exchange'].apply(lambda x: exchange_replace_dict.get(x, x))"
   ]
  },
  {
   "cell_type": "code",
   "execution_count": null,
   "metadata": {},
   "outputs": [],
   "source": [
    "dws.save_data(symbol_list, 'symbols')"
   ]
  },
  {
   "cell_type": "code",
   "execution_count": null,
   "metadata": {},
   "outputs": [],
   "source": [
    "symbol_list = dws.get_data_by_sql('SELECT * FROM symbols')"
   ]
  },
  {
   "cell_type": "markdown",
   "metadata": {},
   "source": [
    "### 主力合约"
   ]
  },
  {
   "cell_type": "code",
   "execution_count": null,
   "metadata": {},
   "outputs": [],
   "source": [
    "domain_contract_list = ak.match_main_contract(symbol='shfe')\n",
    "domain_contract_list"
   ]
  },
  {
   "cell_type": "code",
   "execution_count": null,
   "metadata": {},
   "outputs": [
    {
     "data": {
      "text/html": [
       "<div>\n",
       "<style scoped>\n",
       "    .dataframe tbody tr th:only-of-type {\n",
       "        vertical-align: middle;\n",
       "    }\n",
       "\n",
       "    .dataframe tbody tr th {\n",
       "        vertical-align: top;\n",
       "    }\n",
       "\n",
       "    .dataframe thead th {\n",
       "        text-align: right;\n",
       "    }\n",
       "</style>\n",
       "<table border=\"1\" class=\"dataframe\">\n",
       "  <thead>\n",
       "    <tr style=\"text-align: right;\">\n",
       "      <th></th>\n",
       "      <th>symbol</th>\n",
       "      <th>exchange</th>\n",
       "      <th>name</th>\n",
       "    </tr>\n",
       "  </thead>\n",
       "  <tbody>\n",
       "    <tr>\n",
       "      <th>0</th>\n",
       "      <td>V0</td>\n",
       "      <td>dce</td>\n",
       "      <td>PVC连续</td>\n",
       "    </tr>\n",
       "    <tr>\n",
       "      <th>1</th>\n",
       "      <td>P0</td>\n",
       "      <td>dce</td>\n",
       "      <td>棕榈油连续</td>\n",
       "    </tr>\n",
       "    <tr>\n",
       "      <th>2</th>\n",
       "      <td>B0</td>\n",
       "      <td>dce</td>\n",
       "      <td>豆二连续</td>\n",
       "    </tr>\n",
       "    <tr>\n",
       "      <th>3</th>\n",
       "      <td>M0</td>\n",
       "      <td>dce</td>\n",
       "      <td>豆粕连续</td>\n",
       "    </tr>\n",
       "    <tr>\n",
       "      <th>4</th>\n",
       "      <td>I0</td>\n",
       "      <td>dce</td>\n",
       "      <td>铁矿石连续</td>\n",
       "    </tr>\n",
       "    <tr>\n",
       "      <th>...</th>\n",
       "      <td>...</td>\n",
       "      <td>...</td>\n",
       "      <td>...</td>\n",
       "    </tr>\n",
       "    <tr>\n",
       "      <th>57</th>\n",
       "      <td>NI0</td>\n",
       "      <td>shfe</td>\n",
       "      <td>镍连续</td>\n",
       "    </tr>\n",
       "    <tr>\n",
       "      <th>58</th>\n",
       "      <td>SP0</td>\n",
       "      <td>shfe</td>\n",
       "      <td>纸浆连续</td>\n",
       "    </tr>\n",
       "    <tr>\n",
       "      <th>60</th>\n",
       "      <td>SS0</td>\n",
       "      <td>shfe</td>\n",
       "      <td>不锈钢连续</td>\n",
       "    </tr>\n",
       "    <tr>\n",
       "      <th>63</th>\n",
       "      <td>AO0</td>\n",
       "      <td>shfe</td>\n",
       "      <td>氧化铝连续</td>\n",
       "    </tr>\n",
       "    <tr>\n",
       "      <th>64</th>\n",
       "      <td>BR0</td>\n",
       "      <td>shfe</td>\n",
       "      <td>丁二烯橡胶连续</td>\n",
       "    </tr>\n",
       "  </tbody>\n",
       "</table>\n",
       "<p>61 rows × 3 columns</p>\n",
       "</div>"
      ],
      "text/plain": [
       "   symbol exchange     name\n",
       "0      V0      dce    PVC连续\n",
       "1      P0      dce    棕榈油连续\n",
       "2      B0      dce     豆二连续\n",
       "3      M0      dce     豆粕连续\n",
       "4      I0      dce    铁矿石连续\n",
       "..    ...      ...      ...\n",
       "57    NI0     shfe      镍连续\n",
       "58    SP0     shfe     纸浆连续\n",
       "60    SS0     shfe    不锈钢连续\n",
       "63    AO0     shfe    氧化铝连续\n",
       "64    BR0     shfe  丁二烯橡胶连续\n",
       "\n",
       "[61 rows x 3 columns]"
      ]
     },
     "execution_count": 20,
     "metadata": {},
     "output_type": "execute_result"
    }
   ],
   "source": [
    "contract_list = ak.futures_display_main_sina()\n",
    "contract_list = contract_list[contract_list['exchange'].isin(['czce', 'dce', 'shfe'])]\n",
    "contract_list"
   ]
  },
  {
   "cell_type": "markdown",
   "metadata": {},
   "source": [
    "#### 全量/时间段下载"
   ]
  },
  {
   "cell_type": "code",
   "execution_count": null,
   "metadata": {},
   "outputs": [],
   "source": [
    "main_contract_data = []\n",
    "for _, contract in contract_list.iterrows():\n",
    "    symbol_hist = ak.futures_main_sina(symbol=contract['symbol'], start_date=\"20110101\", end_date=\"20231231\")\n",
    "    symbol_hist['variety'] = contract['symbol']\n",
    "    main_contract_data.append(symbol_hist)\n",
    "merged_main_contracts = pd.concat(main_contract_data)\n",
    "merged_main_contracts.rename(columns={'日期': 'date'}, inplace=True)"
   ]
  },
  {
   "cell_type": "code",
   "execution_count": null,
   "metadata": {},
   "outputs": [],
   "source": [
    "combined_main = merged_main_contracts.drop_duplicates(subset=['date', 'variety'], keep='last')\n",
    "merged_main_contracts['date'] = pd.to_datetime(merged_main_contracts['date'])\n",
    "merged_main_contracts['variety'] = merged_main_contracts['variety'].str.rstrip('0')"
   ]
  },
  {
   "cell_type": "code",
   "execution_count": null,
   "metadata": {},
   "outputs": [],
   "source": [
    "# 注意调整mode参数，全量下载使用‘replace’，增量下载使用‘append’\n",
    "dws.save_data(combined_main, 'dominant')"
   ]
  },
  {
   "cell_type": "markdown",
   "metadata": {},
   "source": [
    "#### 自动补齐下载"
   ]
  },
  {
   "cell_type": "code",
   "execution_count": null,
   "metadata": {},
   "outputs": [],
   "source": [
    "existed_contract_data = dws.get_data_by_sql('SELECT * FROM dominant')"
   ]
  },
  {
   "cell_type": "code",
   "execution_count": null,
   "metadata": {},
   "outputs": [
    {
     "name": "stdout",
     "output_type": "stream",
     "text": [
      "Current Period:  20240104 20240119\n"
     ]
    }
   ],
   "source": [
    "last_date = dws.get_last_date('dominant')\n",
    "last_date = pd.to_datetime(last_date)\n",
    "start_date = last_date + timedelta(days=1)\n",
    "end_date = datetime.now() - timedelta(days=1)\n",
    "start_date = start_date.strftime('%Y%m%d')\n",
    "end_date = end_date.strftime('%Y%m%d')\n",
    "print('Current Period: ', start_date, end_date)\n",
    "main_contract_data = []\n",
    "for symbol in contract_list['symbol']:\n",
    "    symbol_hist = ak.futures_main_sina(symbol=symbol, start_date=start_date, end_date=end_date)\n",
    "    symbol_hist['variety'] = symbol\n",
    "    main_contract_data.append(symbol_hist)\n",
    "merged_main_contracts = pd.concat(main_contract_data)\n",
    "merged_main_contracts.rename(columns={'日期': 'date'}, inplace=True)\n",
    "merged_main_contracts['date'] = pd.to_datetime(merged_main_contracts['date'])\n",
    "merged_main_contracts['variety'] = merged_main_contracts['variety'].str.rstrip('0')\n",
    "# combined_main = merged_main_contracts.drop_duplicates(subset=['日期', 'variety'], keep='last')"
   ]
  },
  {
   "cell_type": "code",
   "execution_count": null,
   "metadata": {},
   "outputs": [],
   "source": [
    "dws.save_data(merged_main_contracts, 'dominant', 'append')"
   ]
  },
  {
   "cell_type": "markdown",
   "metadata": {},
   "source": [
    "## 库存数据"
   ]
  },
  {
   "cell_type": "code",
   "execution_count": null,
   "metadata": {},
   "outputs": [],
   "source": [
    "# 库存数据来源于“东方财富网”，商品名称与常规命名有出入，通过字典映射\n",
    "symbol_replace_dict = {'鲜苹果': '苹果',\n",
    "                       '棉花': '郑棉',\n",
    "                       '动力煤': '郑煤',\n",
    "                       '早籼稻': '早籼',\n",
    "                       '烧碱': '纯碱',\n",
    "                       '郑醇': '甲醇',\n",
    "                       '晚籼稻': '晚籼',\n",
    "                       'PP': '聚丙烯',\n",
    "                       '大豆': '豆一',\n",
    "                       '铝': '沪铝',\n",
    "                       '铜': '沪铜',\n",
    "                       '锌': '沪锌',\n",
    "                       '棕榈油': '棕榈',\n",
    "                       '黄金': '沪金',\n",
    "                       '铅': '沪铅',\n",
    "                       '白银': '沪银',\n",
    "                       '菜籽油': '菜油',\n",
    "                       '油菜籽': '菜籽',\n",
    "                       '菜籽粕': '菜粕',\n",
    "                       '热轧卷板': '热卷',\n",
    "                       '沪锡': '锡',\n",
    "                       '沪镍': '镍',\n",
    "                       }\n",
    "symbol_list['name'] = symbol_list['name'].apply(lambda x: symbol_replace_dict.get(x, x))"
   ]
  },
  {
   "cell_type": "code",
   "execution_count": null,
   "metadata": {},
   "outputs": [],
   "source": [
    "inventory_data = []\n",
    "ignore_symbol = ['线材', '胶合板', '纤维板', '郑煤']\n",
    "# ignore_symbol = []\n",
    "for symbol in symbol_list['name']:\n",
    "   print(symbol)\n",
    "   if symbol in ignore_symbol:\n",
    "      continue\n",
    "   symbol_data = ak.futures_inventory_em(symbol=symbol)\n",
    "   symbol_data['variety'] = symbol\n",
    "   inventory_data.append(symbol_data)\n",
    "merged_data = pd.concat(inventory_data)\n",
    "symbol_mapping_dict = dict(zip(symbol_list['name'], symbol_list['code']))\n",
    "merged_data['variety'] = merged_data['variety'].apply(lambda x: symbol_mapping_dict.get(x, x))\n",
    "merged_data.rename(columns={'日期': 'date'}, inplace=True)\n",
    "merged_data['date'] = pd.to_datetime(merged_data['date'])"
   ]
  },
  {
   "cell_type": "code",
   "execution_count": null,
   "metadata": {},
   "outputs": [],
   "source": [
    "# 更新时按日期去重\n",
    "old_inventory_data = dws.get_data_by_sql('SELECT * FROM inventory')\n",
    "old_inventory_data['date'] = pd.to_datetime(old_inventory_data['date'])\n",
    "combined_df = pd.concat([old_inventory_data, merged_data])\n",
    "combined_df = combined_df.drop_duplicates(subset=['date', 'variety'], keep='last')"
   ]
  },
  {
   "cell_type": "code",
   "execution_count": null,
   "metadata": {},
   "outputs": [],
   "source": [
    "dws.save_data(combined_df, 'inventory')"
   ]
  },
  {
   "cell_type": "code",
   "execution_count": null,
   "metadata": {},
   "outputs": [],
   "source": [
    "futures_inventory_em_df = ak.futures_inventory_em(symbol=\"郑煤\")\n",
    "futures_inventory_em_df"
   ]
  },
  {
   "cell_type": "code",
   "execution_count": null,
   "metadata": {},
   "outputs": [],
   "source": [
    "from variety import SymbolData\n",
    "symbol = SymbolData('RB', '螺纹钢')\n",
    "df_inventory_rb = symbol.load_choice_file('black_metals/data/mid-stream/螺纹钢/螺纹钢库存.xlsx')\n"
   ]
  },
  {
   "cell_type": "markdown",
   "metadata": {},
   "source": [
    "### 注册仓单"
   ]
  },
  {
   "cell_type": "code",
   "execution_count": null,
   "metadata": {},
   "outputs": [],
   "source": [
    "code_list = list(symbol_list['code'])"
   ]
  },
  {
   "cell_type": "code",
   "execution_count": null,
   "metadata": {},
   "outputs": [],
   "source": [
    "dce =  ['C', 'CS', 'A', 'B', 'M', 'Y', 'P', 'FB', 'BB', 'JD', 'L', 'V', 'PP', 'J', 'JM', 'I', 'EG', 'RR', 'EB', 'PG', 'LH'] \n",
    "dce_in = ['A', 'M', 'C', 'Y', 'L', 'P', 'V', 'J', 'JM', 'I', 'JD', 'BB', 'FB', 'PP', 'CS', 'EG', 'RR', 'B', 'EB']\n",
    "czce = ['WH', 'PM', 'CF', 'SR', 'TA', 'OI', 'RI', 'MA', 'ME', 'FG', 'RS', 'RM', 'ZC', 'JR', 'LR', 'SF', 'SM', 'WT', 'TC', 'GN', 'RO', 'ER', 'SRX', 'SRY', 'WSX', 'WSY', 'CY', 'AP', 'UR', 'CJ', 'SA', 'PK', 'PF', 'PX', 'SH'] \n",
    "czce_in = ['CF', 'SR', 'TA', 'PM', 'RO', 'ER', 'FG', 'RS', 'RM', 'JR', 'LR', 'SM', 'SF', 'ME', 'TC', 'CY', 'AP', 'CJ', 'UR', 'SA']\n",
    "shfe = ['CU', 'AL', 'ZN', 'PB', 'NI', 'SN', 'AU', 'AG', 'RB', 'WR', 'HC', 'FU', 'BU', 'RU', 'SC', 'NR', 'SP', 'SS', 'LU', 'BC', 'AO', 'BR', 'EC']"
   ]
  },
  {
   "cell_type": "code",
   "execution_count": null,
   "metadata": {},
   "outputs": [
    {
     "name": "stdout",
     "output_type": "stream",
     "text": [
      "21 19 0 []\n"
     ]
    }
   ],
   "source": [
    "set1 = set(dce)\n",
    "set2 = set(dce_in)\n",
    "diff = set2 - set1\n",
    "result = list(diff)\n",
    "print(len(dce), len(dce_in), len(result), result)"
   ]
  },
  {
   "cell_type": "code",
   "execution_count": null,
   "metadata": {},
   "outputs": [
    {
     "data": {
      "text/html": [
       "<div>\n",
       "<style scoped>\n",
       "    .dataframe tbody tr th:only-of-type {\n",
       "        vertical-align: middle;\n",
       "    }\n",
       "\n",
       "    .dataframe tbody tr th {\n",
       "        vertical-align: top;\n",
       "    }\n",
       "\n",
       "    .dataframe thead th {\n",
       "        text-align: right;\n",
       "    }\n",
       "</style>\n",
       "<table border=\"1\" class=\"dataframe\">\n",
       "  <thead>\n",
       "    <tr style=\"text-align: right;\">\n",
       "      <th></th>\n",
       "      <th>variety</th>\n",
       "      <th>receipt</th>\n",
       "      <th>receipt_chg</th>\n",
       "      <th>date</th>\n",
       "    </tr>\n",
       "  </thead>\n",
       "  <tbody>\n",
       "    <tr>\n",
       "      <th>0</th>\n",
       "      <td>C</td>\n",
       "      <td>1350</td>\n",
       "      <td>0</td>\n",
       "      <td>2011-01-04 00:00:00</td>\n",
       "    </tr>\n",
       "    <tr>\n",
       "      <th>1</th>\n",
       "      <td>A</td>\n",
       "      <td>12586</td>\n",
       "      <td>0</td>\n",
       "      <td>2011-01-04 00:00:00</td>\n",
       "    </tr>\n",
       "    <tr>\n",
       "      <th>2</th>\n",
       "      <td>Y</td>\n",
       "      <td>745</td>\n",
       "      <td>745</td>\n",
       "      <td>2011-01-04 00:00:00</td>\n",
       "    </tr>\n",
       "    <tr>\n",
       "      <th>3</th>\n",
       "      <td>L</td>\n",
       "      <td>27743</td>\n",
       "      <td>95</td>\n",
       "      <td>2011-01-04 00:00:00</td>\n",
       "    </tr>\n",
       "    <tr>\n",
       "      <th>4</th>\n",
       "      <td>V</td>\n",
       "      <td>3784</td>\n",
       "      <td>0</td>\n",
       "      <td>2011-01-04 00:00:00</td>\n",
       "    </tr>\n",
       "    <tr>\n",
       "      <th>...</th>\n",
       "      <td>...</td>\n",
       "      <td>...</td>\n",
       "      <td>...</td>\n",
       "      <td>...</td>\n",
       "    </tr>\n",
       "    <tr>\n",
       "      <th>111286</th>\n",
       "      <td>CJ</td>\n",
       "      <td>15124</td>\n",
       "      <td>1006</td>\n",
       "      <td>20240104</td>\n",
       "    </tr>\n",
       "    <tr>\n",
       "      <th>111287</th>\n",
       "      <td>SA</td>\n",
       "      <td>0</td>\n",
       "      <td>0</td>\n",
       "      <td>20240104</td>\n",
       "    </tr>\n",
       "    <tr>\n",
       "      <th>111288</th>\n",
       "      <td>PK</td>\n",
       "      <td>0</td>\n",
       "      <td>0</td>\n",
       "      <td>20240104</td>\n",
       "    </tr>\n",
       "    <tr>\n",
       "      <th>111289</th>\n",
       "      <td>PK</td>\n",
       "      <td>1030</td>\n",
       "      <td>0</td>\n",
       "      <td>20240104</td>\n",
       "    </tr>\n",
       "    <tr>\n",
       "      <th>111290</th>\n",
       "      <td>PF</td>\n",
       "      <td>6936</td>\n",
       "      <td>0</td>\n",
       "      <td>20240104</td>\n",
       "    </tr>\n",
       "  </tbody>\n",
       "</table>\n",
       "<p>111291 rows × 4 columns</p>\n",
       "</div>"
      ],
      "text/plain": [
       "       variety  receipt  receipt_chg                 date\n",
       "0            C     1350            0  2011-01-04 00:00:00\n",
       "1            A    12586            0  2011-01-04 00:00:00\n",
       "2            Y      745          745  2011-01-04 00:00:00\n",
       "3            L    27743           95  2011-01-04 00:00:00\n",
       "4            V     3784            0  2011-01-04 00:00:00\n",
       "...        ...      ...          ...                  ...\n",
       "111286      CJ    15124         1006             20240104\n",
       "111287      SA        0            0             20240104\n",
       "111288      PK        0            0             20240104\n",
       "111289      PK     1030            0             20240104\n",
       "111290      PF     6936            0             20240104\n",
       "\n",
       "[111291 rows x 4 columns]"
      ]
     },
     "execution_count": 24,
     "metadata": {},
     "output_type": "execute_result"
    }
   ],
   "source": [
    "# 查看数据库中的仓单数据\n",
    "df_receipt = dws.get_data_by_sql('SELECT * FROM receipt')\n",
    "df_receipt['date'] = pd.to_datetime(df_receipt['date'], format='%Y%m%d')\n",
    "df_receipt"
   ]
  },
  {
   "cell_type": "markdown",
   "metadata": {},
   "source": [
    "#### DCE注册仓单下载"
   ]
  },
  {
   "cell_type": "code",
   "execution_count": 25,
   "metadata": {},
   "outputs": [],
   "source": [
    "df_receipt_dce = pd.DataFrame()"
   ]
  },
  {
   "cell_type": "code",
   "execution_count": 62,
   "metadata": {},
   "outputs": [],
   "source": [
    "start_date=\"20150101\"\n",
    "end_date=\"20150110\"\n",
    "dce = ['JD']"
   ]
  },
  {
   "cell_type": "code",
   "execution_count": 23,
   "metadata": {},
   "outputs": [
    {
     "name": "stdout",
     "output_type": "stream",
     "text": [
      "2008-01-02\n",
      "20090407 起，大连商品交易所每个交易日更新仓单数据\n",
      "20080303 起，郑州商品交易所每个交易日更新仓单数据\n",
      "20081006 起，上海期货交易所每个交易日更新仓单数据\n",
      "20081006 起，上海期货交易所每个交易日更新仓单数据\n",
      "2008-01-03\n",
      "20090407 起，大连商品交易所每个交易日更新仓单数据\n",
      "20080303 起，郑州商品交易所每个交易日更新仓单数据\n",
      "20081006 起，上海期货交易所每个交易日更新仓单数据\n",
      "20081006 起，上海期货交易所每个交易日更新仓单数据\n",
      "2008-01-04\n",
      "20090407 起，大连商品交易所每个交易日更新仓单数据\n",
      "20080303 起，郑州商品交易所每个交易日更新仓单数据\n",
      "20081006 起，上海期货交易所每个交易日更新仓单数据\n",
      "20081006 起，上海期货交易所每个交易日更新仓单数据\n",
      "2008-01-07\n",
      "20090407 起，大连商品交易所每个交易日更新仓单数据\n",
      "20080303 起，郑州商品交易所每个交易日更新仓单数据\n",
      "20081006 起，上海期货交易所每个交易日更新仓单数据\n",
      "20081006 起，上海期货交易所每个交易日更新仓单数据\n",
      "2008-01-08\n",
      "20090407 起，大连商品交易所每个交易日更新仓单数据\n",
      "20080303 起，郑州商品交易所每个交易日更新仓单数据\n",
      "20081006 起，上海期货交易所每个交易日更新仓单数据\n",
      "20081006 起，上海期货交易所每个交易日更新仓单数据\n",
      "2008-01-09\n",
      "20090407 起，大连商品交易所每个交易日更新仓单数据\n",
      "20080303 起，郑州商品交易所每个交易日更新仓单数据\n",
      "20081006 起，上海期货交易所每个交易日更新仓单数据\n",
      "20081006 起，上海期货交易所每个交易日更新仓单数据\n",
      "2008-01-10\n",
      "20090407 起，大连商品交易所每个交易日更新仓单数据\n",
      "20080303 起，郑州商品交易所每个交易日更新仓单数据\n",
      "20081006 起，上海期货交易所每个交易日更新仓单数据\n",
      "20081006 起，上海期货交易所每个交易日更新仓单数据\n",
      "2008-01-11\n",
      "20090407 起，大连商品交易所每个交易日更新仓单数据\n",
      "20080303 起，郑州商品交易所每个交易日更新仓单数据\n",
      "20081006 起，上海期货交易所每个交易日更新仓单数据\n",
      "20081006 起，上海期货交易所每个交易日更新仓单数据\n",
      "2008-01-14\n",
      "20090407 起，大连商品交易所每个交易日更新仓单数据\n",
      "20080303 起，郑州商品交易所每个交易日更新仓单数据\n",
      "20081006 起，上海期货交易所每个交易日更新仓单数据\n",
      "20081006 起，上海期货交易所每个交易日更新仓单数据\n",
      "2008-01-15\n",
      "20090407 起，大连商品交易所每个交易日更新仓单数据\n",
      "20080303 起，郑州商品交易所每个交易日更新仓单数据\n",
      "20081006 起，上海期货交易所每个交易日更新仓单数据\n",
      "20081006 起，上海期货交易所每个交易日更新仓单数据\n",
      "2008-01-16\n",
      "20090407 起，大连商品交易所每个交易日更新仓单数据\n",
      "20080303 起，郑州商品交易所每个交易日更新仓单数据\n",
      "20081006 起，上海期货交易所每个交易日更新仓单数据\n",
      "20081006 起，上海期货交易所每个交易日更新仓单数据\n",
      "2008-01-17\n",
      "20090407 起，大连商品交易所每个交易日更新仓单数据\n",
      "20080303 起，郑州商品交易所每个交易日更新仓单数据\n",
      "20081006 起，上海期货交易所每个交易日更新仓单数据\n",
      "20081006 起，上海期货交易所每个交易日更新仓单数据\n",
      "2008-01-18\n",
      "20090407 起，大连商品交易所每个交易日更新仓单数据\n",
      "20080303 起，郑州商品交易所每个交易日更新仓单数据\n",
      "20081006 起，上海期货交易所每个交易日更新仓单数据\n",
      "20081006 起，上海期货交易所每个交易日更新仓单数据\n",
      "2008-01-21\n",
      "20090407 起，大连商品交易所每个交易日更新仓单数据\n",
      "20080303 起，郑州商品交易所每个交易日更新仓单数据\n",
      "20081006 起，上海期货交易所每个交易日更新仓单数据\n",
      "20081006 起，上海期货交易所每个交易日更新仓单数据\n",
      "2008-01-22\n",
      "20090407 起，大连商品交易所每个交易日更新仓单数据\n",
      "20080303 起，郑州商品交易所每个交易日更新仓单数据\n",
      "20081006 起，上海期货交易所每个交易日更新仓单数据\n",
      "20081006 起，上海期货交易所每个交易日更新仓单数据\n",
      "2008-01-23\n",
      "20090407 起，大连商品交易所每个交易日更新仓单数据\n",
      "20080303 起，郑州商品交易所每个交易日更新仓单数据\n",
      "20081006 起，上海期货交易所每个交易日更新仓单数据\n",
      "20081006 起，上海期货交易所每个交易日更新仓单数据\n",
      "2008-01-24\n",
      "20090407 起，大连商品交易所每个交易日更新仓单数据\n",
      "20080303 起，郑州商品交易所每个交易日更新仓单数据\n",
      "20081006 起，上海期货交易所每个交易日更新仓单数据\n",
      "20081006 起，上海期货交易所每个交易日更新仓单数据\n",
      "2008-01-25\n",
      "20090407 起，大连商品交易所每个交易日更新仓单数据\n",
      "20080303 起，郑州商品交易所每个交易日更新仓单数据\n",
      "20081006 起，上海期货交易所每个交易日更新仓单数据\n",
      "20081006 起，上海期货交易所每个交易日更新仓单数据\n",
      "2008-01-28\n",
      "20090407 起，大连商品交易所每个交易日更新仓单数据\n",
      "20080303 起，郑州商品交易所每个交易日更新仓单数据\n",
      "20081006 起，上海期货交易所每个交易日更新仓单数据\n",
      "20081006 起，上海期货交易所每个交易日更新仓单数据\n",
      "2008-01-29\n",
      "20090407 起，大连商品交易所每个交易日更新仓单数据\n",
      "20080303 起，郑州商品交易所每个交易日更新仓单数据\n",
      "20081006 起，上海期货交易所每个交易日更新仓单数据\n",
      "20081006 起，上海期货交易所每个交易日更新仓单数据\n",
      "2008-01-30\n",
      "20090407 起，大连商品交易所每个交易日更新仓单数据\n",
      "20080303 起，郑州商品交易所每个交易日更新仓单数据\n",
      "20081006 起，上海期货交易所每个交易日更新仓单数据\n",
      "20081006 起，上海期货交易所每个交易日更新仓单数据\n",
      "2008-01-31\n",
      "20090407 起，大连商品交易所每个交易日更新仓单数据\n",
      "20080303 起，郑州商品交易所每个交易日更新仓单数据\n",
      "20081006 起，上海期货交易所每个交易日更新仓单数据\n",
      "20081006 起，上海期货交易所每个交易日更新仓单数据\n"
     ]
    },
    {
     "name": "stderr",
     "output_type": "stream",
     "text": [
      "/Volumes/Repository/app/miniconda3/lib/python3.10/site-packages/akshare/futures/receipt.py:429: UserWarning: 20080101 非交易日\n",
      "  warnings.warn(f\"{start_date.strftime('%Y%m%d')} 非交易日\")\n",
      "/Volumes/Repository/app/miniconda3/lib/python3.10/site-packages/akshare/futures/receipt.py:429: UserWarning: 20080105 非交易日\n",
      "  warnings.warn(f\"{start_date.strftime('%Y%m%d')} 非交易日\")\n",
      "/Volumes/Repository/app/miniconda3/lib/python3.10/site-packages/akshare/futures/receipt.py:429: UserWarning: 20080106 非交易日\n",
      "  warnings.warn(f\"{start_date.strftime('%Y%m%d')} 非交易日\")\n",
      "/Volumes/Repository/app/miniconda3/lib/python3.10/site-packages/akshare/futures/receipt.py:429: UserWarning: 20080112 非交易日\n",
      "  warnings.warn(f\"{start_date.strftime('%Y%m%d')} 非交易日\")\n",
      "/Volumes/Repository/app/miniconda3/lib/python3.10/site-packages/akshare/futures/receipt.py:429: UserWarning: 20080113 非交易日\n",
      "  warnings.warn(f\"{start_date.strftime('%Y%m%d')} 非交易日\")\n",
      "/Volumes/Repository/app/miniconda3/lib/python3.10/site-packages/akshare/futures/receipt.py:429: UserWarning: 20080119 非交易日\n",
      "  warnings.warn(f\"{start_date.strftime('%Y%m%d')} 非交易日\")\n",
      "/Volumes/Repository/app/miniconda3/lib/python3.10/site-packages/akshare/futures/receipt.py:429: UserWarning: 20080120 非交易日\n",
      "  warnings.warn(f\"{start_date.strftime('%Y%m%d')} 非交易日\")\n",
      "/Volumes/Repository/app/miniconda3/lib/python3.10/site-packages/akshare/futures/receipt.py:429: UserWarning: 20080126 非交易日\n",
      "  warnings.warn(f\"{start_date.strftime('%Y%m%d')} 非交易日\")\n",
      "/Volumes/Repository/app/miniconda3/lib/python3.10/site-packages/akshare/futures/receipt.py:429: UserWarning: 20080127 非交易日\n",
      "  warnings.warn(f\"{start_date.strftime('%Y%m%d')} 非交易日\")\n"
     ]
    }
   ],
   "source": [
    "df_receipt_dce_append = ak.get_receipt(start_date=start_date, end_date=end_date, vars_list=dce)\n",
    "df_receipt_dce = pd.concat([df_receipt_dce, df_receipt_dce_append], ignore_index=True)"
   ]
  },
  {
   "cell_type": "code",
   "execution_count": null,
   "metadata": {},
   "outputs": [],
   "source": [
    "# 按时间去重\n",
    "combined_df = df_receipt_dce.drop_duplicates(subset=['date', 'var'], keep='first')"
   ]
  },
  {
   "cell_type": "code",
   "execution_count": null,
   "metadata": {},
   "outputs": [],
   "source": [
    "df_receipt_dce = combined_df"
   ]
  },
  {
   "cell_type": "code",
   "execution_count": null,
   "metadata": {},
   "outputs": [],
   "source": [
    "# 按月下载\n",
    "for i in range(12):  \n",
    "    df_receipt_dce_append = ak.get_receipt(start_date=start_date, end_date=end_date, vars_list=dce)\n",
    "    df_receipt_dce = pd.concat([df_receipt_dce, df_receipt_dce_append], ignore_index=True)\n",
    "    print('Last Period: ', start_date, end_date)\n",
    "    start_date = datetime.strptime(start_date, '%Y%m%d')\n",
    "    end_date = datetime.strptime(end_date, '%Y%m%d')\n",
    "    start_date = (start_date + relativedelta(months=1)).replace(day=1)\n",
    "    end_date = (end_date + relativedelta(months=2)).replace(day=1) - relativedelta(days=1)\n",
    "    start_date = start_date.strftime('%Y%m%d')\n",
    "    end_date = end_date.strftime('%Y%m%d')\n",
    "    print('Current Period: ', start_date, end_date)"
   ]
  },
  {
   "cell_type": "code",
   "execution_count": 77,
   "metadata": {},
   "outputs": [
    {
     "data": {
      "text/html": [
       "<div>\n",
       "<style scoped>\n",
       "    .dataframe tbody tr th:only-of-type {\n",
       "        vertical-align: middle;\n",
       "    }\n",
       "\n",
       "    .dataframe tbody tr th {\n",
       "        vertical-align: top;\n",
       "    }\n",
       "\n",
       "    .dataframe thead th {\n",
       "        text-align: right;\n",
       "    }\n",
       "</style>\n",
       "<table border=\"1\" class=\"dataframe\">\n",
       "  <thead>\n",
       "    <tr style=\"text-align: right;\">\n",
       "      <th></th>\n",
       "      <th>var</th>\n",
       "      <th>receipt</th>\n",
       "      <th>receipt_chg</th>\n",
       "      <th>date</th>\n",
       "    </tr>\n",
       "  </thead>\n",
       "  <tbody>\n",
       "    <tr>\n",
       "      <th>0</th>\n",
       "      <td>JD</td>\n",
       "      <td>1</td>\n",
       "      <td>1</td>\n",
       "      <td>20150119</td>\n",
       "    </tr>\n",
       "    <tr>\n",
       "      <th>1</th>\n",
       "      <td>JD</td>\n",
       "      <td>1</td>\n",
       "      <td>0</td>\n",
       "      <td>20150120</td>\n",
       "    </tr>\n",
       "    <tr>\n",
       "      <th>2</th>\n",
       "      <td>JD</td>\n",
       "      <td>0</td>\n",
       "      <td>-1</td>\n",
       "      <td>20150121</td>\n",
       "    </tr>\n",
       "    <tr>\n",
       "      <th>3</th>\n",
       "      <td>JD</td>\n",
       "      <td>1</td>\n",
       "      <td>1</td>\n",
       "      <td>20150313</td>\n",
       "    </tr>\n",
       "    <tr>\n",
       "      <th>4</th>\n",
       "      <td>JD</td>\n",
       "      <td>1</td>\n",
       "      <td>0</td>\n",
       "      <td>20150316</td>\n",
       "    </tr>\n",
       "    <tr>\n",
       "      <th>5</th>\n",
       "      <td>JD</td>\n",
       "      <td>1</td>\n",
       "      <td>0</td>\n",
       "      <td>20150317</td>\n",
       "    </tr>\n",
       "    <tr>\n",
       "      <th>6</th>\n",
       "      <td>JD</td>\n",
       "      <td>1</td>\n",
       "      <td>0</td>\n",
       "      <td>20150318</td>\n",
       "    </tr>\n",
       "    <tr>\n",
       "      <th>7</th>\n",
       "      <td>JD</td>\n",
       "      <td>0</td>\n",
       "      <td>-1</td>\n",
       "      <td>20150319</td>\n",
       "    </tr>\n",
       "    <tr>\n",
       "      <th>8</th>\n",
       "      <td>JD</td>\n",
       "      <td>15</td>\n",
       "      <td>15</td>\n",
       "      <td>20150512</td>\n",
       "    </tr>\n",
       "    <tr>\n",
       "      <th>9</th>\n",
       "      <td>JD</td>\n",
       "      <td>15</td>\n",
       "      <td>0</td>\n",
       "      <td>20150513</td>\n",
       "    </tr>\n",
       "    <tr>\n",
       "      <th>10</th>\n",
       "      <td>JD</td>\n",
       "      <td>20</td>\n",
       "      <td>5</td>\n",
       "      <td>20150514</td>\n",
       "    </tr>\n",
       "    <tr>\n",
       "      <th>11</th>\n",
       "      <td>JD</td>\n",
       "      <td>21</td>\n",
       "      <td>1</td>\n",
       "      <td>20150515</td>\n",
       "    </tr>\n",
       "    <tr>\n",
       "      <th>12</th>\n",
       "      <td>JD</td>\n",
       "      <td>21</td>\n",
       "      <td>0</td>\n",
       "      <td>20150518</td>\n",
       "    </tr>\n",
       "    <tr>\n",
       "      <th>13</th>\n",
       "      <td>JD</td>\n",
       "      <td>21</td>\n",
       "      <td>0</td>\n",
       "      <td>20150519</td>\n",
       "    </tr>\n",
       "    <tr>\n",
       "      <th>14</th>\n",
       "      <td>JD</td>\n",
       "      <td>16</td>\n",
       "      <td>-5</td>\n",
       "      <td>20150520</td>\n",
       "    </tr>\n",
       "    <tr>\n",
       "      <th>15</th>\n",
       "      <td>JD</td>\n",
       "      <td>0</td>\n",
       "      <td>-16</td>\n",
       "      <td>20150521</td>\n",
       "    </tr>\n",
       "  </tbody>\n",
       "</table>\n",
       "</div>"
      ],
      "text/plain": [
       "   var  receipt  receipt_chg      date\n",
       "0   JD        1            1  20150119\n",
       "1   JD        1            0  20150120\n",
       "2   JD        0           -1  20150121\n",
       "3   JD        1            1  20150313\n",
       "4   JD        1            0  20150316\n",
       "5   JD        1            0  20150317\n",
       "6   JD        1            0  20150318\n",
       "7   JD        0           -1  20150319\n",
       "8   JD       15           15  20150512\n",
       "9   JD       15            0  20150513\n",
       "10  JD       20            5  20150514\n",
       "11  JD       21            1  20150515\n",
       "12  JD       21            0  20150518\n",
       "13  JD       21            0  20150519\n",
       "14  JD       16           -5  20150520\n",
       "15  JD        0          -16  20150521"
      ]
     },
     "execution_count": 77,
     "metadata": {},
     "output_type": "execute_result"
    }
   ],
   "source": [
    "df_receipt_dce"
   ]
  },
  {
   "cell_type": "code",
   "execution_count": 75,
   "metadata": {},
   "outputs": [
    {
     "name": "stdout",
     "output_type": "stream",
     "text": [
      "2015-06-01\n",
      "20081006 起，上海期货交易所每个交易日更新仓单数据\n",
      "2015-06-02\n",
      "20081006 起，上海期货交易所每个交易日更新仓单数据\n",
      "2015-06-03\n",
      "20081006 起，上海期货交易所每个交易日更新仓单数据\n",
      "Last Period:  20150601 20150603\n",
      "Current Period:  20150604 20150606\n",
      "2015-06-04\n",
      "20081006 起，上海期货交易所每个交易日更新仓单数据\n",
      "2015-06-05\n",
      "20081006 起，上海期货交易所每个交易日更新仓单数据\n",
      "Last Period:  20150604 20150606\n",
      "Current Period:  20150607 20150609\n",
      "2015-06-08\n"
     ]
    },
    {
     "name": "stderr",
     "output_type": "stream",
     "text": [
      "/Volumes/Repository/app/miniconda3/lib/python3.10/site-packages/akshare/futures/receipt.py:429: UserWarning: 20150606 非交易日\n",
      "  warnings.warn(f\"{start_date.strftime('%Y%m%d')} 非交易日\")\n",
      "/Volumes/Repository/app/miniconda3/lib/python3.10/site-packages/akshare/futures/receipt.py:429: UserWarning: 20150607 非交易日\n",
      "  warnings.warn(f\"{start_date.strftime('%Y%m%d')} 非交易日\")\n"
     ]
    },
    {
     "name": "stdout",
     "output_type": "stream",
     "text": [
      "20081006 起，上海期货交易所每个交易日更新仓单数据\n",
      "2015-06-09\n",
      "20081006 起，上海期货交易所每个交易日更新仓单数据\n",
      "Last Period:  20150607 20150609\n",
      "Current Period:  20150610 20150612\n",
      "2015-06-10\n",
      "20081006 起，上海期货交易所每个交易日更新仓单数据\n",
      "2015-06-11\n",
      "20081006 起，上海期货交易所每个交易日更新仓单数据\n",
      "2015-06-12\n"
     ]
    },
    {
     "name": "stderr",
     "output_type": "stream",
     "text": [
      "/Volumes/Repository/app/miniconda3/lib/python3.10/site-packages/bs4/__init__.py:228: UserWarning: You provided Unicode markup but also provided a value for from_encoding. Your from_encoding will be ignored.\n",
      "  warnings.warn(\"You provided Unicode markup but also provided a value for from_encoding. Your from_encoding will be ignored.\")\n"
     ]
    },
    {
     "ename": "ValueError",
     "evalue": "No tables found",
     "output_type": "error",
     "traceback": [
      "\u001b[0;31m---------------------------------------------------------------------------\u001b[0m",
      "\u001b[0;31mValueError\u001b[0m                                Traceback (most recent call last)",
      "Cell \u001b[0;32mIn[75], line 3\u001b[0m\n\u001b[1;32m      1\u001b[0m \u001b[38;5;66;03m# 每3天下载\u001b[39;00m\n\u001b[1;32m      2\u001b[0m \u001b[38;5;28;01mfor\u001b[39;00m i \u001b[38;5;129;01min\u001b[39;00m \u001b[38;5;28mrange\u001b[39m(\u001b[38;5;241m360\u001b[39m): \n\u001b[0;32m----> 3\u001b[0m    df_receipt_dce_append \u001b[38;5;241m=\u001b[39m \u001b[43mak\u001b[49m\u001b[38;5;241;43m.\u001b[39;49m\u001b[43mget_receipt\u001b[49m\u001b[43m(\u001b[49m\u001b[43mstart_date\u001b[49m\u001b[38;5;241;43m=\u001b[39;49m\u001b[43mstart_date\u001b[49m\u001b[43m,\u001b[49m\u001b[43m \u001b[49m\u001b[43mend_date\u001b[49m\u001b[38;5;241;43m=\u001b[39;49m\u001b[43mend_date\u001b[49m\u001b[43m,\u001b[49m\u001b[43m \u001b[49m\u001b[43mvars_list\u001b[49m\u001b[38;5;241;43m=\u001b[39;49m\u001b[43mdce\u001b[49m\u001b[43m)\u001b[49m\n\u001b[1;32m      4\u001b[0m    df_receipt_dce \u001b[38;5;241m=\u001b[39m pd\u001b[38;5;241m.\u001b[39mconcat([df_receipt_dce, df_receipt_dce_append], ignore_index\u001b[38;5;241m=\u001b[39m\u001b[38;5;28;01mTrue\u001b[39;00m)\n\u001b[1;32m      5\u001b[0m    \u001b[38;5;28mprint\u001b[39m(\u001b[38;5;124m'\u001b[39m\u001b[38;5;124mLast Period: \u001b[39m\u001b[38;5;124m'\u001b[39m, start_date, end_date)\n",
      "File \u001b[0;32m/Volumes/Repository/app/miniconda3/lib/python3.10/site-packages/akshare/futures/receipt.py:466\u001b[0m, in \u001b[0;36mget_receipt\u001b[0;34m(start_date, end_date, vars_list)\u001b[0m\n\u001b[1;32m    464\u001b[0m             \u001b[38;5;28;01mif\u001b[39;00m market \u001b[38;5;241m!=\u001b[39m \u001b[38;5;124m'\u001b[39m\u001b[38;5;124mcffex\u001b[39m\u001b[38;5;124m'\u001b[39m \u001b[38;5;129;01mand\u001b[39;00m get_vars \u001b[38;5;241m!=\u001b[39m []:\n\u001b[1;32m    465\u001b[0m                 \u001b[38;5;28;01mif\u001b[39;00m f \u001b[38;5;129;01mis\u001b[39;00m \u001b[38;5;129;01mnot\u001b[39;00m \u001b[38;5;28;01mNone\u001b[39;00m:\n\u001b[0;32m--> 466\u001b[0m                     records \u001b[38;5;241m=\u001b[39m pd\u001b[38;5;241m.\u001b[39mconcat([records, \u001b[43mf\u001b[49m\u001b[43m(\u001b[49m\u001b[43mstart_date\u001b[49m\u001b[43m,\u001b[49m\u001b[43m \u001b[49m\u001b[43mget_vars\u001b[49m\u001b[43m)\u001b[49m])\n\u001b[1;32m    467\u001b[0m     start_date \u001b[38;5;241m+\u001b[39m\u001b[38;5;241m=\u001b[39m datetime\u001b[38;5;241m.\u001b[39mtimedelta(days\u001b[38;5;241m=\u001b[39m\u001b[38;5;241m1\u001b[39m)\n\u001b[1;32m    468\u001b[0m records\u001b[38;5;241m.\u001b[39mreset_index(drop\u001b[38;5;241m=\u001b[39m\u001b[38;5;28;01mTrue\u001b[39;00m, inplace\u001b[38;5;241m=\u001b[39m\u001b[38;5;28;01mTrue\u001b[39;00m)\n",
      "File \u001b[0;32m/Volumes/Repository/app/miniconda3/lib/python3.10/site-packages/akshare/futures/receipt.py:51\u001b[0m, in \u001b[0;36mget_dce_receipt\u001b[0;34m(date, vars_list)\u001b[0m\n\u001b[1;32m     44\u001b[0m     \u001b[38;5;28;01mreturn\u001b[39;00m \u001b[38;5;28;01mNone\u001b[39;00m\n\u001b[1;32m     45\u001b[0m payload \u001b[38;5;241m=\u001b[39m {\n\u001b[1;32m     46\u001b[0m     \u001b[38;5;124m\"\u001b[39m\u001b[38;5;124mweekQuotes.variety\u001b[39m\u001b[38;5;124m\"\u001b[39m: \u001b[38;5;124m\"\u001b[39m\u001b[38;5;124mall\u001b[39m\u001b[38;5;124m\"\u001b[39m,\n\u001b[1;32m     47\u001b[0m     \u001b[38;5;124m\"\u001b[39m\u001b[38;5;124myear\u001b[39m\u001b[38;5;124m\"\u001b[39m: date\u001b[38;5;241m.\u001b[39myear,\n\u001b[1;32m     48\u001b[0m     \u001b[38;5;124m\"\u001b[39m\u001b[38;5;124mmonth\u001b[39m\u001b[38;5;124m\"\u001b[39m: date\u001b[38;5;241m.\u001b[39mmonth \u001b[38;5;241m-\u001b[39m \u001b[38;5;241m1\u001b[39m,  \u001b[38;5;66;03m# 网站月份描述少 1 个月, 属于网站问题\u001b[39;00m\n\u001b[1;32m     49\u001b[0m     \u001b[38;5;124m\"\u001b[39m\u001b[38;5;124mday\u001b[39m\u001b[38;5;124m\"\u001b[39m: date\u001b[38;5;241m.\u001b[39mday\n\u001b[1;32m     50\u001b[0m }\n\u001b[0;32m---> 51\u001b[0m data \u001b[38;5;241m=\u001b[39m \u001b[43mpandas_read_html_link\u001b[49m\u001b[43m(\u001b[49m\u001b[43mcons\u001b[49m\u001b[38;5;241;43m.\u001b[39;49m\u001b[43mDCE_RECEIPT_URL\u001b[49m\u001b[43m,\u001b[49m\u001b[43m \u001b[49m\u001b[43mmethod\u001b[49m\u001b[38;5;241;43m=\u001b[39;49m\u001b[38;5;124;43m\"\u001b[39;49m\u001b[38;5;124;43mpost\u001b[39;49m\u001b[38;5;124;43m\"\u001b[39;49m\u001b[43m,\u001b[49m\u001b[43m \u001b[49m\u001b[43mdata\u001b[49m\u001b[38;5;241;43m=\u001b[39;49m\u001b[43mpayload\u001b[49m\u001b[43m,\u001b[49m\u001b[43m \u001b[49m\u001b[43mheaders\u001b[49m\u001b[38;5;241;43m=\u001b[39;49m\u001b[43mcons\u001b[49m\u001b[38;5;241;43m.\u001b[39;49m\u001b[43mdce_headers\u001b[49m\u001b[43m)\u001b[49m[\u001b[38;5;241m0\u001b[39m]\n\u001b[1;32m     52\u001b[0m records \u001b[38;5;241m=\u001b[39m pd\u001b[38;5;241m.\u001b[39mDataFrame()\n\u001b[1;32m     53\u001b[0m \u001b[38;5;28;01mfor\u001b[39;00m x \u001b[38;5;129;01min\u001b[39;00m data\u001b[38;5;241m.\u001b[39mto_dict(orient\u001b[38;5;241m=\u001b[39m\u001b[38;5;124m'\u001b[39m\u001b[38;5;124mrecords\u001b[39m\u001b[38;5;124m'\u001b[39m):\n",
      "File \u001b[0;32m/Volumes/Repository/app/miniconda3/lib/python3.10/site-packages/akshare/futures/requests_fun.py:67\u001b[0m, in \u001b[0;36mpandas_read_html_link\u001b[0;34m(url, encoding, method, data, headers)\u001b[0m\n\u001b[1;32m     65\u001b[0m     r \u001b[38;5;241m=\u001b[39m requests\u001b[38;5;241m.\u001b[39mpost(url, timeout\u001b[38;5;241m=\u001b[39m\u001b[38;5;241m20\u001b[39m, data\u001b[38;5;241m=\u001b[39mdata, headers\u001b[38;5;241m=\u001b[39mheaders)\n\u001b[1;32m     66\u001b[0m     r\u001b[38;5;241m.\u001b[39mencoding \u001b[38;5;241m=\u001b[39m encoding\n\u001b[0;32m---> 67\u001b[0m     r \u001b[38;5;241m=\u001b[39m \u001b[43mpd\u001b[49m\u001b[38;5;241;43m.\u001b[39;49m\u001b[43mread_html\u001b[49m\u001b[43m(\u001b[49m\u001b[43mStringIO\u001b[49m\u001b[43m(\u001b[49m\u001b[43mr\u001b[49m\u001b[38;5;241;43m.\u001b[39;49m\u001b[43mtext\u001b[49m\u001b[43m)\u001b[49m\u001b[43m,\u001b[49m\u001b[43m \u001b[49m\u001b[43mencoding\u001b[49m\u001b[38;5;241;43m=\u001b[39;49m\u001b[43mencoding\u001b[49m\u001b[43m)\u001b[49m\n\u001b[1;32m     68\u001b[0m     \u001b[38;5;28;01mreturn\u001b[39;00m r\n\u001b[1;32m     69\u001b[0m \u001b[38;5;28;01melse\u001b[39;00m:\n",
      "File \u001b[0;32m/Volumes/Repository/app/miniconda3/lib/python3.10/site-packages/pandas/io/html.py:1246\u001b[0m, in \u001b[0;36mread_html\u001b[0;34m(io, match, flavor, header, index_col, skiprows, attrs, parse_dates, thousands, encoding, decimal, converters, na_values, keep_default_na, displayed_only, extract_links, dtype_backend, storage_options)\u001b[0m\n\u001b[1;32m   1230\u001b[0m \u001b[38;5;28;01mif\u001b[39;00m \u001b[38;5;28misinstance\u001b[39m(io, \u001b[38;5;28mstr\u001b[39m) \u001b[38;5;129;01mand\u001b[39;00m \u001b[38;5;129;01mnot\u001b[39;00m \u001b[38;5;28many\u001b[39m(\n\u001b[1;32m   1231\u001b[0m     [\n\u001b[1;32m   1232\u001b[0m         is_file_like(io),\n\u001b[0;32m   (...)\u001b[0m\n\u001b[1;32m   1236\u001b[0m     ]\n\u001b[1;32m   1237\u001b[0m ):\n\u001b[1;32m   1238\u001b[0m     warnings\u001b[38;5;241m.\u001b[39mwarn(\n\u001b[1;32m   1239\u001b[0m         \u001b[38;5;124m\"\u001b[39m\u001b[38;5;124mPassing literal html to \u001b[39m\u001b[38;5;124m'\u001b[39m\u001b[38;5;124mread_html\u001b[39m\u001b[38;5;124m'\u001b[39m\u001b[38;5;124m is deprecated and \u001b[39m\u001b[38;5;124m\"\u001b[39m\n\u001b[1;32m   1240\u001b[0m         \u001b[38;5;124m\"\u001b[39m\u001b[38;5;124mwill be removed in a future version. To read from a \u001b[39m\u001b[38;5;124m\"\u001b[39m\n\u001b[0;32m   (...)\u001b[0m\n\u001b[1;32m   1243\u001b[0m         stacklevel\u001b[38;5;241m=\u001b[39mfind_stack_level(),\n\u001b[1;32m   1244\u001b[0m     )\n\u001b[0;32m-> 1246\u001b[0m \u001b[38;5;28;01mreturn\u001b[39;00m \u001b[43m_parse\u001b[49m\u001b[43m(\u001b[49m\n\u001b[1;32m   1247\u001b[0m \u001b[43m    \u001b[49m\u001b[43mflavor\u001b[49m\u001b[38;5;241;43m=\u001b[39;49m\u001b[43mflavor\u001b[49m\u001b[43m,\u001b[49m\n\u001b[1;32m   1248\u001b[0m \u001b[43m    \u001b[49m\u001b[43mio\u001b[49m\u001b[38;5;241;43m=\u001b[39;49m\u001b[43mio\u001b[49m\u001b[43m,\u001b[49m\n\u001b[1;32m   1249\u001b[0m \u001b[43m    \u001b[49m\u001b[43mmatch\u001b[49m\u001b[38;5;241;43m=\u001b[39;49m\u001b[43mmatch\u001b[49m\u001b[43m,\u001b[49m\n\u001b[1;32m   1250\u001b[0m \u001b[43m    \u001b[49m\u001b[43mheader\u001b[49m\u001b[38;5;241;43m=\u001b[39;49m\u001b[43mheader\u001b[49m\u001b[43m,\u001b[49m\n\u001b[1;32m   1251\u001b[0m \u001b[43m    \u001b[49m\u001b[43mindex_col\u001b[49m\u001b[38;5;241;43m=\u001b[39;49m\u001b[43mindex_col\u001b[49m\u001b[43m,\u001b[49m\n\u001b[1;32m   1252\u001b[0m \u001b[43m    \u001b[49m\u001b[43mskiprows\u001b[49m\u001b[38;5;241;43m=\u001b[39;49m\u001b[43mskiprows\u001b[49m\u001b[43m,\u001b[49m\n\u001b[1;32m   1253\u001b[0m \u001b[43m    \u001b[49m\u001b[43mparse_dates\u001b[49m\u001b[38;5;241;43m=\u001b[39;49m\u001b[43mparse_dates\u001b[49m\u001b[43m,\u001b[49m\n\u001b[1;32m   1254\u001b[0m \u001b[43m    \u001b[49m\u001b[43mthousands\u001b[49m\u001b[38;5;241;43m=\u001b[39;49m\u001b[43mthousands\u001b[49m\u001b[43m,\u001b[49m\n\u001b[1;32m   1255\u001b[0m \u001b[43m    \u001b[49m\u001b[43mattrs\u001b[49m\u001b[38;5;241;43m=\u001b[39;49m\u001b[43mattrs\u001b[49m\u001b[43m,\u001b[49m\n\u001b[1;32m   1256\u001b[0m \u001b[43m    \u001b[49m\u001b[43mencoding\u001b[49m\u001b[38;5;241;43m=\u001b[39;49m\u001b[43mencoding\u001b[49m\u001b[43m,\u001b[49m\n\u001b[1;32m   1257\u001b[0m \u001b[43m    \u001b[49m\u001b[43mdecimal\u001b[49m\u001b[38;5;241;43m=\u001b[39;49m\u001b[43mdecimal\u001b[49m\u001b[43m,\u001b[49m\n\u001b[1;32m   1258\u001b[0m \u001b[43m    \u001b[49m\u001b[43mconverters\u001b[49m\u001b[38;5;241;43m=\u001b[39;49m\u001b[43mconverters\u001b[49m\u001b[43m,\u001b[49m\n\u001b[1;32m   1259\u001b[0m \u001b[43m    \u001b[49m\u001b[43mna_values\u001b[49m\u001b[38;5;241;43m=\u001b[39;49m\u001b[43mna_values\u001b[49m\u001b[43m,\u001b[49m\n\u001b[1;32m   1260\u001b[0m \u001b[43m    \u001b[49m\u001b[43mkeep_default_na\u001b[49m\u001b[38;5;241;43m=\u001b[39;49m\u001b[43mkeep_default_na\u001b[49m\u001b[43m,\u001b[49m\n\u001b[1;32m   1261\u001b[0m \u001b[43m    \u001b[49m\u001b[43mdisplayed_only\u001b[49m\u001b[38;5;241;43m=\u001b[39;49m\u001b[43mdisplayed_only\u001b[49m\u001b[43m,\u001b[49m\n\u001b[1;32m   1262\u001b[0m \u001b[43m    \u001b[49m\u001b[43mextract_links\u001b[49m\u001b[38;5;241;43m=\u001b[39;49m\u001b[43mextract_links\u001b[49m\u001b[43m,\u001b[49m\n\u001b[1;32m   1263\u001b[0m \u001b[43m    \u001b[49m\u001b[43mdtype_backend\u001b[49m\u001b[38;5;241;43m=\u001b[39;49m\u001b[43mdtype_backend\u001b[49m\u001b[43m,\u001b[49m\n\u001b[1;32m   1264\u001b[0m \u001b[43m    \u001b[49m\u001b[43mstorage_options\u001b[49m\u001b[38;5;241;43m=\u001b[39;49m\u001b[43mstorage_options\u001b[49m\u001b[43m,\u001b[49m\n\u001b[1;32m   1265\u001b[0m \u001b[43m\u001b[49m\u001b[43m)\u001b[49m\n",
      "File \u001b[0;32m/Volumes/Repository/app/miniconda3/lib/python3.10/site-packages/pandas/io/html.py:1009\u001b[0m, in \u001b[0;36m_parse\u001b[0;34m(flavor, io, match, attrs, encoding, displayed_only, extract_links, storage_options, **kwargs)\u001b[0m\n\u001b[1;32m   1007\u001b[0m \u001b[38;5;28;01melse\u001b[39;00m:\n\u001b[1;32m   1008\u001b[0m     \u001b[38;5;28;01massert\u001b[39;00m retained \u001b[38;5;129;01mis\u001b[39;00m \u001b[38;5;129;01mnot\u001b[39;00m \u001b[38;5;28;01mNone\u001b[39;00m  \u001b[38;5;66;03m# for mypy\u001b[39;00m\n\u001b[0;32m-> 1009\u001b[0m     \u001b[38;5;28;01mraise\u001b[39;00m retained\n\u001b[1;32m   1011\u001b[0m ret \u001b[38;5;241m=\u001b[39m []\n\u001b[1;32m   1012\u001b[0m \u001b[38;5;28;01mfor\u001b[39;00m table \u001b[38;5;129;01min\u001b[39;00m tables:\n",
      "File \u001b[0;32m/Volumes/Repository/app/miniconda3/lib/python3.10/site-packages/pandas/io/html.py:989\u001b[0m, in \u001b[0;36m_parse\u001b[0;34m(flavor, io, match, attrs, encoding, displayed_only, extract_links, storage_options, **kwargs)\u001b[0m\n\u001b[1;32m    978\u001b[0m p \u001b[38;5;241m=\u001b[39m parser(\n\u001b[1;32m    979\u001b[0m     io,\n\u001b[1;32m    980\u001b[0m     compiled_match,\n\u001b[0;32m   (...)\u001b[0m\n\u001b[1;32m    985\u001b[0m     storage_options,\n\u001b[1;32m    986\u001b[0m )\n\u001b[1;32m    988\u001b[0m \u001b[38;5;28;01mtry\u001b[39;00m:\n\u001b[0;32m--> 989\u001b[0m     tables \u001b[38;5;241m=\u001b[39m \u001b[43mp\u001b[49m\u001b[38;5;241;43m.\u001b[39;49m\u001b[43mparse_tables\u001b[49m\u001b[43m(\u001b[49m\u001b[43m)\u001b[49m\n\u001b[1;32m    990\u001b[0m \u001b[38;5;28;01mexcept\u001b[39;00m \u001b[38;5;167;01mValueError\u001b[39;00m \u001b[38;5;28;01mas\u001b[39;00m caught:\n\u001b[1;32m    991\u001b[0m     \u001b[38;5;66;03m# if `io` is an io-like object, check if it's seekable\u001b[39;00m\n\u001b[1;32m    992\u001b[0m     \u001b[38;5;66;03m# and try to rewind it before trying the next parser\u001b[39;00m\n\u001b[1;32m    993\u001b[0m     \u001b[38;5;28;01mif\u001b[39;00m \u001b[38;5;28mhasattr\u001b[39m(io, \u001b[38;5;124m\"\u001b[39m\u001b[38;5;124mseekable\u001b[39m\u001b[38;5;124m\"\u001b[39m) \u001b[38;5;129;01mand\u001b[39;00m io\u001b[38;5;241m.\u001b[39mseekable():\n",
      "File \u001b[0;32m/Volumes/Repository/app/miniconda3/lib/python3.10/site-packages/pandas/io/html.py:249\u001b[0m, in \u001b[0;36m_HtmlFrameParser.parse_tables\u001b[0;34m(self)\u001b[0m\n\u001b[1;32m    241\u001b[0m \u001b[38;5;28;01mdef\u001b[39;00m \u001b[38;5;21mparse_tables\u001b[39m(\u001b[38;5;28mself\u001b[39m):\n\u001b[1;32m    242\u001b[0m \u001b[38;5;250m    \u001b[39m\u001b[38;5;124;03m\"\"\"\u001b[39;00m\n\u001b[1;32m    243\u001b[0m \u001b[38;5;124;03m    Parse and return all tables from the DOM.\u001b[39;00m\n\u001b[1;32m    244\u001b[0m \n\u001b[0;32m   (...)\u001b[0m\n\u001b[1;32m    247\u001b[0m \u001b[38;5;124;03m    list of parsed (header, body, footer) tuples from tables.\u001b[39;00m\n\u001b[1;32m    248\u001b[0m \u001b[38;5;124;03m    \"\"\"\u001b[39;00m\n\u001b[0;32m--> 249\u001b[0m     tables \u001b[38;5;241m=\u001b[39m \u001b[38;5;28;43mself\u001b[39;49m\u001b[38;5;241;43m.\u001b[39;49m\u001b[43m_parse_tables\u001b[49m\u001b[43m(\u001b[49m\u001b[38;5;28;43mself\u001b[39;49m\u001b[38;5;241;43m.\u001b[39;49m\u001b[43m_build_doc\u001b[49m\u001b[43m(\u001b[49m\u001b[43m)\u001b[49m\u001b[43m,\u001b[49m\u001b[43m \u001b[49m\u001b[38;5;28;43mself\u001b[39;49m\u001b[38;5;241;43m.\u001b[39;49m\u001b[43mmatch\u001b[49m\u001b[43m,\u001b[49m\u001b[43m \u001b[49m\u001b[38;5;28;43mself\u001b[39;49m\u001b[38;5;241;43m.\u001b[39;49m\u001b[43mattrs\u001b[49m\u001b[43m)\u001b[49m\n\u001b[1;32m    250\u001b[0m     \u001b[38;5;28;01mreturn\u001b[39;00m (\u001b[38;5;28mself\u001b[39m\u001b[38;5;241m.\u001b[39m_parse_thead_tbody_tfoot(table) \u001b[38;5;28;01mfor\u001b[39;00m table \u001b[38;5;129;01min\u001b[39;00m tables)\n",
      "File \u001b[0;32m/Volumes/Repository/app/miniconda3/lib/python3.10/site-packages/pandas/io/html.py:604\u001b[0m, in \u001b[0;36m_BeautifulSoupHtml5LibFrameParser._parse_tables\u001b[0;34m(self, document, match, attrs)\u001b[0m\n\u001b[1;32m    602\u001b[0m tables \u001b[38;5;241m=\u001b[39m document\u001b[38;5;241m.\u001b[39mfind_all(element_name, attrs\u001b[38;5;241m=\u001b[39mattrs)\n\u001b[1;32m    603\u001b[0m \u001b[38;5;28;01mif\u001b[39;00m \u001b[38;5;129;01mnot\u001b[39;00m tables:\n\u001b[0;32m--> 604\u001b[0m     \u001b[38;5;28;01mraise\u001b[39;00m \u001b[38;5;167;01mValueError\u001b[39;00m(\u001b[38;5;124m\"\u001b[39m\u001b[38;5;124mNo tables found\u001b[39m\u001b[38;5;124m\"\u001b[39m)\n\u001b[1;32m    606\u001b[0m result \u001b[38;5;241m=\u001b[39m []\n\u001b[1;32m    607\u001b[0m unique_tables \u001b[38;5;241m=\u001b[39m \u001b[38;5;28mset\u001b[39m()\n",
      "\u001b[0;31mValueError\u001b[0m: No tables found"
     ]
    }
   ],
   "source": [
    "# 每3天下载\n",
    "for i in range(360): \n",
    "   df_receipt_dce_append = ak.get_receipt(start_date=start_date, end_date=end_date, vars_list=dce)\n",
    "   df_receipt_dce = pd.concat([df_receipt_dce, df_receipt_dce_append], ignore_index=True)\n",
    "   print('Last Period: ', start_date, end_date)\n",
    "   start_date = datetime.strptime(start_date, '%Y%m%d')\n",
    "   end_date = datetime.strptime(end_date, '%Y%m%d')\n",
    "   start_date = (end_date + relativedelta(days=1)).strftime('%Y%m%d')\n",
    "   end_date = (end_date + relativedelta(days=3)).strftime('%Y%m%d')\n",
    "   # start_date = start_date.strftime('%Y%m%d')\n",
    "   # end_date = end_date.strftime('%Y%m%d')   \n",
    "   print('Current Period: ', start_date, end_date)"
   ]
  },
  {
   "cell_type": "code",
   "execution_count": null,
   "metadata": {},
   "outputs": [],
   "source": [
    "dws.save_data(df_receipt_dce, 'receipt')"
   ]
  },
  {
   "cell_type": "markdown",
   "metadata": {},
   "source": [
    "#### 自动补全下载"
   ]
  },
  {
   "cell_type": "code",
   "execution_count": null,
   "metadata": {},
   "outputs": [
    {
     "name": "stdout",
     "output_type": "stream",
     "text": [
      "Current Period:  20240106 20240119\n",
      "2024-01-08\n"
     ]
    },
    {
     "name": "stderr",
     "output_type": "stream",
     "text": [
      "/Volumes/Repository/app/miniconda3/lib/python3.10/site-packages/akshare/futures/receipt.py:418: UserWarning: 20240106 非交易日\n",
      "  warnings.warn(f\"{start_day.strftime('%Y%m%d')} 非交易日\")\n",
      "/Volumes/Repository/app/miniconda3/lib/python3.10/site-packages/akshare/futures/receipt.py:418: UserWarning: 20240107 非交易日\n",
      "  warnings.warn(f\"{start_day.strftime('%Y%m%d')} 非交易日\")\n"
     ]
    },
    {
     "name": "stdout",
     "output_type": "stream",
     "text": [
      "2024-01-09\n",
      "2024-01-10\n",
      "2024-01-11\n",
      "2024-01-12\n"
     ]
    },
    {
     "name": "stderr",
     "output_type": "stream",
     "text": [
      "/Volumes/Repository/app/miniconda3/lib/python3.10/site-packages/akshare/futures/receipt.py:418: UserWarning: 20240113 非交易日\n",
      "  warnings.warn(f\"{start_day.strftime('%Y%m%d')} 非交易日\")\n",
      "/Volumes/Repository/app/miniconda3/lib/python3.10/site-packages/akshare/futures/receipt.py:418: UserWarning: 20240114 非交易日\n",
      "  warnings.warn(f\"{start_day.strftime('%Y%m%d')} 非交易日\")\n"
     ]
    },
    {
     "name": "stdout",
     "output_type": "stream",
     "text": [
      "2024-01-15\n",
      "2024-01-16\n",
      "2024-01-17\n",
      "2024-01-18\n",
      "2024-01-19\n"
     ]
    }
   ],
   "source": [
    "last_date = dws.get_last_date('receipt')\n",
    "last_date = pd.to_datetime(last_date)\n",
    "start_date = last_date + timedelta(days=1)\n",
    "end_date = datetime.now() - timedelta(days=1)\n",
    "start_date = start_date.strftime('%Y%m%d')\n",
    "end_date = end_date.strftime('%Y%m%d')\n",
    "print('Current Period: ', start_date, end_date)\n",
    "df_receipt_dce_append = ak.get_receipt(start_day=start_date, end_day=end_date, vars_list=dce)\n",
    "df_receipt_dce = pd.concat([df_receipt_dce, df_receipt_dce_append], ignore_index=True)"
   ]
  },
  {
   "cell_type": "code",
   "execution_count": null,
   "metadata": {},
   "outputs": [],
   "source": [
    "df_receipt_dce.rename(columns={'var': 'variety'}, inplace=True)\n",
    "dws.save_data(df_receipt_dce, 'receipt', 'append')"
   ]
  },
  {
   "cell_type": "markdown",
   "metadata": {},
   "source": [
    "#### CZCE注册仓单下载"
   ]
  },
  {
   "cell_type": "code",
   "execution_count": null,
   "metadata": {},
   "outputs": [],
   "source": [
    "df_receipt_czce = ak.get_receipt(start_day=\"20151112\", end_day=\"20151231\", vars_list=czce)"
   ]
  },
  {
   "cell_type": "code",
   "execution_count": null,
   "metadata": {},
   "outputs": [],
   "source": [
    "df_receipt_czce_append = ak.get_receipt(start_day=\"20220101\", end_day=\"20240104\", vars_list=czce)\n",
    "df_receipt_czce = pd.concat([df_receipt_czce, df_receipt_czce_append], ignore_index=True)"
   ]
  },
  {
   "cell_type": "markdown",
   "metadata": {},
   "source": [
    "#### 自动补全下载"
   ]
  },
  {
   "cell_type": "code",
   "execution_count": null,
   "metadata": {},
   "outputs": [
    {
     "name": "stderr",
     "output_type": "stream",
     "text": [
      "/Volumes/Repository/app/miniconda3/lib/python3.10/site-packages/akshare/futures/receipt.py:418: UserWarning: 20240106 非交易日\n",
      "  warnings.warn(f\"{start_day.strftime('%Y%m%d')} 非交易日\")\n",
      "/Volumes/Repository/app/miniconda3/lib/python3.10/site-packages/akshare/futures/receipt.py:418: UserWarning: 20240107 非交易日\n",
      "  warnings.warn(f\"{start_day.strftime('%Y%m%d')} 非交易日\")\n"
     ]
    },
    {
     "name": "stdout",
     "output_type": "stream",
     "text": [
      "2024-01-08\n",
      "2024-01-09\n",
      "2024-01-10\n",
      "2024-01-11\n",
      "2024-01-12\n"
     ]
    },
    {
     "name": "stderr",
     "output_type": "stream",
     "text": [
      "/Volumes/Repository/app/miniconda3/lib/python3.10/site-packages/akshare/futures/receipt.py:418: UserWarning: 20240113 非交易日\n",
      "  warnings.warn(f\"{start_day.strftime('%Y%m%d')} 非交易日\")\n",
      "/Volumes/Repository/app/miniconda3/lib/python3.10/site-packages/akshare/futures/receipt.py:418: UserWarning: 20240114 非交易日\n",
      "  warnings.warn(f\"{start_day.strftime('%Y%m%d')} 非交易日\")\n"
     ]
    },
    {
     "name": "stdout",
     "output_type": "stream",
     "text": [
      "2024-01-15\n",
      "2024-01-16\n",
      "2024-01-17\n",
      "2024-01-18\n",
      "2024-01-19\n"
     ]
    }
   ],
   "source": [
    "df_receipt_czce_append = ak.get_receipt(start_day=start_date, end_day=end_date, vars_list=czce)\n",
    "# df_receipt_czce = pd.concat([df_receipt_czce, df_receipt_czce_append], ignore_index=True)"
   ]
  },
  {
   "cell_type": "code",
   "execution_count": null,
   "metadata": {},
   "outputs": [],
   "source": [
    "df_receipt_czce_append.rename(columns={'var': 'variety'}, inplace=True)\n",
    "dws.save_data(df_receipt_czce_append, 'receipt', 'append')"
   ]
  },
  {
   "cell_type": "markdown",
   "metadata": {},
   "source": [
    "#### SHFE注册仓单下载"
   ]
  },
  {
   "cell_type": "code",
   "execution_count": null,
   "metadata": {},
   "outputs": [],
   "source": [
    "df_receipt_shfe = ak.get_receipt(start_day=\"20140517\", end_day=\"20141231\", vars_list=shfe)"
   ]
  },
  {
   "cell_type": "code",
   "execution_count": null,
   "metadata": {},
   "outputs": [],
   "source": [
    "df_receipt_shfe_append = ak.get_receipt(start_day=\"20210101\", end_day=\"20240104\", vars_list=shfe)\n",
    "df_receipt_shfe = pd.concat([df_receipt_shfe, df_receipt_shfe_append], ignore_index=True)"
   ]
  },
  {
   "cell_type": "markdown",
   "metadata": {},
   "source": [
    "#### 自动补全下载"
   ]
  },
  {
   "cell_type": "code",
   "execution_count": null,
   "metadata": {},
   "outputs": [
    {
     "name": "stderr",
     "output_type": "stream",
     "text": [
      "/Volumes/Repository/app/miniconda3/lib/python3.10/site-packages/akshare/futures/receipt.py:418: UserWarning: 20240106 非交易日\n",
      "  warnings.warn(f\"{start_day.strftime('%Y%m%d')} 非交易日\")\n",
      "/Volumes/Repository/app/miniconda3/lib/python3.10/site-packages/akshare/futures/receipt.py:418: UserWarning: 20240107 非交易日\n",
      "  warnings.warn(f\"{start_day.strftime('%Y%m%d')} 非交易日\")\n"
     ]
    },
    {
     "name": "stdout",
     "output_type": "stream",
     "text": [
      "2024-01-08\n",
      "2024-01-09\n",
      "2024-01-10\n",
      "2024-01-11\n",
      "2024-01-12\n"
     ]
    },
    {
     "name": "stderr",
     "output_type": "stream",
     "text": [
      "/Volumes/Repository/app/miniconda3/lib/python3.10/site-packages/akshare/futures/receipt.py:418: UserWarning: 20240113 非交易日\n",
      "  warnings.warn(f\"{start_day.strftime('%Y%m%d')} 非交易日\")\n",
      "/Volumes/Repository/app/miniconda3/lib/python3.10/site-packages/akshare/futures/receipt.py:418: UserWarning: 20240114 非交易日\n",
      "  warnings.warn(f\"{start_day.strftime('%Y%m%d')} 非交易日\")\n"
     ]
    },
    {
     "name": "stdout",
     "output_type": "stream",
     "text": [
      "2024-01-15\n",
      "2024-01-16\n",
      "2024-01-17\n",
      "2024-01-18\n",
      "2024-01-19\n"
     ]
    }
   ],
   "source": [
    "df_receipt_shfe_append = ak.get_receipt(start_day=start_date, end_day=end_date, vars_list=shfe)"
   ]
  },
  {
   "cell_type": "code",
   "execution_count": null,
   "metadata": {},
   "outputs": [],
   "source": [
    "df_receipt_shfe_append.rename(columns={'var': 'variety'}, inplace=True)\n",
    "dws.save_data(df_receipt_shfe_append, 'receipt', 'append')"
   ]
  },
  {
   "cell_type": "markdown",
   "metadata": {},
   "source": [
    "## 基差数据"
   ]
  },
  {
   "cell_type": "markdown",
   "metadata": {},
   "source": [
    "### 接口调用示例"
   ]
  },
  {
   "cell_type": "code",
   "execution_count": null,
   "metadata": {},
   "outputs": [],
   "source": [
    "futures_spot_price_df = ak.futures_spot_price(\"20211025\")\n",
    "futures_spot_price_df"
   ]
  },
  {
   "cell_type": "markdown",
   "metadata": {},
   "source": [
    "### 按时间段补充数据"
   ]
  },
  {
   "cell_type": "code",
   "execution_count": null,
   "metadata": {},
   "outputs": [],
   "source": [
    "# 创建一个日期列表，包括今年的所有日期\n",
    "start_date = date(2023, 1, 1)\n",
    "end_date = date(2023, 12, 31)\n",
    "delta = timedelta(days=1)\n",
    "dates = []\n",
    "while start_date <= end_date:\n",
    "   dates.append(start_date.strftime(\"%Y%m%d\"))\n",
    "   start_date += delta\n",
    "\n",
    "# 初始化一个空的DataFrame来存储所有的数据\n",
    "all_data = pd.DataFrame()\n",
    "\n",
    "# 对每个日期调用ak.futures_spot_price()函数，并将结果添加到all_data中\n",
    "for d in dates:\n",
    "   df = ak.futures_spot_price(d)\n",
    "   all_data = pd.concat([all_data, df], ignore_index=True)\n",
    "all_data.rename(columns={'symbol': 'variety'}, inplace=True)\n",
    "all_data['date'] = pd.to_datetime(all_data['date'], format='%Y%m%d')\n",
    "# 纠正AKShare基差/基差率计算错误（正负号）\n",
    "all_data['near_basis'] = -all_data['near_basis']\n",
    "all_data['dom_basis'] = -all_data['dom_basis']\n",
    "all_data['near_basis_rate'] = -all_data['near_basis_rate']\n",
    "all_data['dom_basis_rate'] = -all_data['dom_basis_rate']\n",
    "# 打印所有的数据\n",
    "print(all_data)"
   ]
  },
  {
   "cell_type": "code",
   "execution_count": null,
   "metadata": {},
   "outputs": [],
   "source": [
    "dws.save_data(all_data, 'basis', 'append')"
   ]
  },
  {
   "cell_type": "markdown",
   "metadata": {},
   "source": [
    "#### 自动补全数据"
   ]
  },
  {
   "cell_type": "code",
   "execution_count": null,
   "metadata": {},
   "outputs": [
    {
     "name": "stderr",
     "output_type": "stream",
     "text": [
      "/Volumes/Repository/app/miniconda3/lib/python3.10/site-packages/akshare/futures/futures_basis.py:101: UserWarning: 20240106非交易日\n",
      "  warnings.warn(f\"{date.strftime('%Y%m%d')}非交易日\")\n",
      "/Volumes/Repository/app/miniconda3/lib/python3.10/site-packages/akshare/futures/futures_basis.py:101: UserWarning: 20240107非交易日\n",
      "  warnings.warn(f\"{date.strftime('%Y%m%d')}非交易日\")\n",
      "/Volumes/Repository/app/miniconda3/lib/python3.10/site-packages/akshare/futures/futures_basis.py:101: UserWarning: 20240113非交易日\n",
      "  warnings.warn(f\"{date.strftime('%Y%m%d')}非交易日\")\n",
      "/Volumes/Repository/app/miniconda3/lib/python3.10/site-packages/akshare/futures/futures_basis.py:101: UserWarning: 20240114非交易日\n",
      "  warnings.warn(f\"{date.strftime('%Y%m%d')}非交易日\")\n"
     ]
    }
   ],
   "source": [
    "last_date = dws.get_last_date('basis')\n",
    "last_date = pd.to_datetime(last_date)\n",
    "start_date = last_date + timedelta(days=1)\n",
    "end_date = datetime.now() - timedelta(days=1)\n",
    "delta = timedelta(days=1)\n",
    "dates = []\n",
    "while start_date <= end_date:\n",
    "   dates.append(start_date.strftime(\"%Y%m%d\"))\n",
    "   start_date += delta\n",
    "all_data = pd.DataFrame()\n",
    "for d in dates:\n",
    "   df = ak.futures_spot_price(d)\n",
    "   all_data = pd.concat([all_data, df], ignore_index=True)\n",
    "all_data['date'] = pd.to_datetime(all_data['date'])\n",
    "all_data.rename(columns={'symbol': 'variety'}, inplace=True)\n",
    "# 纠正AKShare基差/基差率计算错误（正负号）\n",
    "all_data['near_basis'] = -all_data['near_basis']\n",
    "all_data['dom_basis'] = -all_data['dom_basis']\n",
    "all_data['near_basis_rate'] = -all_data['near_basis_rate']\n",
    "all_data['dom_basis_rate'] = -all_data['dom_basis_rate']"
   ]
  },
  {
   "cell_type": "code",
   "execution_count": null,
   "metadata": {},
   "outputs": [],
   "source": [
    "dws.save_data(all_data, 'basis', 'append')"
   ]
  },
  {
   "cell_type": "markdown",
   "metadata": {},
   "source": [
    "# 全自动补全数据"
   ]
  },
  {
   "cell_type": "code",
   "execution_count": 35,
   "metadata": {},
   "outputs": [],
   "source": [
    "import pandas as pd\n",
    "import akshare as ak\n",
    "from dateutil.relativedelta import relativedelta\n",
    "from datetime import datetime, date, timedelta\n",
    "import dataworks as dw\n",
    "import json\n",
    "\n",
    "dws = dw.DataWorks()"
   ]
  },
  {
   "cell_type": "code",
   "execution_count": 19,
   "metadata": {},
   "outputs": [
    {
     "data": {
      "text/plain": [
       "<module 'dataworks' from '/Volumes/Repository/Projects/futures_nexus/dataworks.py'>"
      ]
     },
     "execution_count": 19,
     "metadata": {},
     "output_type": "execute_result"
    }
   ],
   "source": [
    "import importlib\n",
    "importlib.reload(dw)"
   ]
  },
  {
   "cell_type": "markdown",
   "metadata": {},
   "source": [
    "## 历史合约"
   ]
  },
  {
   "cell_type": "markdown",
   "metadata": {},
   "source": [
    "### DCE"
   ]
  },
  {
   "cell_type": "code",
   "execution_count": 38,
   "metadata": {},
   "outputs": [
    {
     "data": {
      "text/html": [
       "<div>\n",
       "<style scoped>\n",
       "    .dataframe tbody tr th:only-of-type {\n",
       "        vertical-align: middle;\n",
       "    }\n",
       "\n",
       "    .dataframe tbody tr th {\n",
       "        vertical-align: top;\n",
       "    }\n",
       "\n",
       "    .dataframe thead th {\n",
       "        text-align: right;\n",
       "    }\n",
       "</style>\n",
       "<table border=\"1\" class=\"dataframe\">\n",
       "  <thead>\n",
       "    <tr style=\"text-align: right;\">\n",
       "      <th></th>\n",
       "    </tr>\n",
       "  </thead>\n",
       "  <tbody>\n",
       "  </tbody>\n",
       "</table>\n",
       "</div>"
      ],
      "text/plain": [
       "Empty DataFrame\n",
       "Columns: []\n",
       "Index: []"
      ]
     },
     "execution_count": 38,
     "metadata": {},
     "output_type": "execute_result"
    }
   ],
   "source": [
    "df_futures_daily_dce_append"
   ]
  },
  {
   "cell_type": "code",
   "execution_count": null,
   "metadata": {},
   "outputs": [
    {
     "name": "stdout",
     "output_type": "stream",
     "text": [
      "No data to download\n",
      "Current Period:  20241207 20241206\n"
     ]
    },
    {
     "ename": "KeyError",
     "evalue": "'date'",
     "output_type": "error",
     "traceback": [
      "\u001b[0;31m---------------------------------------------------------------------------\u001b[0m",
      "\u001b[0;31mKeyError\u001b[0m                                  Traceback (most recent call last)",
      "Cell \u001b[0;32mIn[39], line 13\u001b[0m\n\u001b[1;32m     11\u001b[0m \u001b[38;5;28mprint\u001b[39m(\u001b[38;5;124m'\u001b[39m\u001b[38;5;124mCurrent Period: \u001b[39m\u001b[38;5;124m'\u001b[39m, start_date, end_date)\n\u001b[1;32m     12\u001b[0m df_futures_daily_dce_append \u001b[38;5;241m=\u001b[39m ak\u001b[38;5;241m.\u001b[39mget_futures_daily(start_date\u001b[38;5;241m=\u001b[39mstart_date, end_date\u001b[38;5;241m=\u001b[39mend_date, market\u001b[38;5;241m=\u001b[39m\u001b[38;5;124m\"\u001b[39m\u001b[38;5;124mDCE\u001b[39m\u001b[38;5;124m\"\u001b[39m)\n\u001b[0;32m---> 13\u001b[0m df_futures_daily_dce_append[\u001b[38;5;124m'\u001b[39m\u001b[38;5;124mdate\u001b[39m\u001b[38;5;124m'\u001b[39m] \u001b[38;5;241m=\u001b[39m pd\u001b[38;5;241m.\u001b[39mto_datetime(\u001b[43mdf_futures_daily_dce_append\u001b[49m\u001b[43m[\u001b[49m\u001b[38;5;124;43m'\u001b[39;49m\u001b[38;5;124;43mdate\u001b[39;49m\u001b[38;5;124;43m'\u001b[39;49m\u001b[43m]\u001b[49m, \u001b[38;5;28mformat\u001b[39m\u001b[38;5;241m=\u001b[39m\u001b[38;5;124m'\u001b[39m\u001b[38;5;124m%\u001b[39m\u001b[38;5;124mY\u001b[39m\u001b[38;5;124m%\u001b[39m\u001b[38;5;124mm\u001b[39m\u001b[38;5;132;01m%d\u001b[39;00m\u001b[38;5;124m'\u001b[39m)\n\u001b[1;32m     14\u001b[0m \u001b[38;5;66;03m# dws.save_data(df_futures_daily_dce_append, 'dce', 'append')\u001b[39;00m\n",
      "File \u001b[0;32m/Volumes/Repository/app/miniconda3/lib/python3.10/site-packages/pandas/core/frame.py:4102\u001b[0m, in \u001b[0;36mDataFrame.__getitem__\u001b[0;34m(self, key)\u001b[0m\n\u001b[1;32m   4100\u001b[0m \u001b[38;5;28;01mif\u001b[39;00m \u001b[38;5;28mself\u001b[39m\u001b[38;5;241m.\u001b[39mcolumns\u001b[38;5;241m.\u001b[39mnlevels \u001b[38;5;241m>\u001b[39m \u001b[38;5;241m1\u001b[39m:\n\u001b[1;32m   4101\u001b[0m     \u001b[38;5;28;01mreturn\u001b[39;00m \u001b[38;5;28mself\u001b[39m\u001b[38;5;241m.\u001b[39m_getitem_multilevel(key)\n\u001b[0;32m-> 4102\u001b[0m indexer \u001b[38;5;241m=\u001b[39m \u001b[38;5;28;43mself\u001b[39;49m\u001b[38;5;241;43m.\u001b[39;49m\u001b[43mcolumns\u001b[49m\u001b[38;5;241;43m.\u001b[39;49m\u001b[43mget_loc\u001b[49m\u001b[43m(\u001b[49m\u001b[43mkey\u001b[49m\u001b[43m)\u001b[49m\n\u001b[1;32m   4103\u001b[0m \u001b[38;5;28;01mif\u001b[39;00m is_integer(indexer):\n\u001b[1;32m   4104\u001b[0m     indexer \u001b[38;5;241m=\u001b[39m [indexer]\n",
      "File \u001b[0;32m/Volumes/Repository/app/miniconda3/lib/python3.10/site-packages/pandas/core/indexes/range.py:417\u001b[0m, in \u001b[0;36mRangeIndex.get_loc\u001b[0;34m(self, key)\u001b[0m\n\u001b[1;32m    415\u001b[0m         \u001b[38;5;28;01mraise\u001b[39;00m \u001b[38;5;167;01mKeyError\u001b[39;00m(key) \u001b[38;5;28;01mfrom\u001b[39;00m \u001b[38;5;21;01merr\u001b[39;00m\n\u001b[1;32m    416\u001b[0m \u001b[38;5;28;01mif\u001b[39;00m \u001b[38;5;28misinstance\u001b[39m(key, Hashable):\n\u001b[0;32m--> 417\u001b[0m     \u001b[38;5;28;01mraise\u001b[39;00m \u001b[38;5;167;01mKeyError\u001b[39;00m(key)\n\u001b[1;32m    418\u001b[0m \u001b[38;5;28mself\u001b[39m\u001b[38;5;241m.\u001b[39m_check_indexing_error(key)\n\u001b[1;32m    419\u001b[0m \u001b[38;5;28;01mraise\u001b[39;00m \u001b[38;5;167;01mKeyError\u001b[39;00m(key)\n",
      "\u001b[0;31mKeyError\u001b[0m: 'date'"
     ]
    },
    {
     "ename": "",
     "evalue": "",
     "output_type": "error",
     "traceback": [
      "\u001b[1;31m在当前单元格或上一个单元格中执行代码时 Kernel 崩溃。\n",
      "\u001b[1;31m请查看单元格中的代码，以确定故障的可能原因。\n",
      "\u001b[1;31m单击<a href='https://aka.ms/vscodeJupyterKernelCrash'>此处</a>了解详细信息。\n",
      "\u001b[1;31m有关更多详细信息，请查看 Jupyter <a href='command:jupyter.viewOutput'>log</a>。"
     ]
    }
   ],
   "source": [
    "dws.clear_cache()\n",
    "last_date = dws.get_last_date('dce')\n",
    "last_date = pd.to_datetime(last_date)\n",
    "start_date = last_date + timedelta(days=1)\n",
    "end_date = datetime.now() - timedelta(days=1)\n",
    "if start_date > end_date:\n",
    "    print('No data to download')\n",
    "    exit()\n",
    "start_date = start_date.strftime('%Y%m%d')\n",
    "end_date = end_date.strftime('%Y%m%d')\n",
    "print('Current Period: ', start_date, end_date)\n",
    "df_futures_daily_dce_append = ak.get_futures_daily(start_date=start_date, end_date=end_date, market=\"DCE\")\n",
    "df_futures_daily_dce_append['date'] = pd.to_datetime(df_futures_daily_dce_append['date'], format='%Y%m%d')\n",
    "# dws.save_data(df_futures_daily_dce_append, 'dce', 'append')"
   ]
  },
  {
   "cell_type": "markdown",
   "metadata": {},
   "source": [
    "### CZCE"
   ]
  },
  {
   "cell_type": "code",
   "execution_count": 12,
   "metadata": {},
   "outputs": [
    {
     "name": "stdout",
     "output_type": "stream",
     "text": [
      "Current Period:  20240817 20241206\n"
     ]
    }
   ],
   "source": [
    "last_date = dws.get_last_date('czce')\n",
    "last_date = pd.to_datetime(last_date)\n",
    "start_date = last_date + timedelta(days=1)\n",
    "end_date = datetime.now() - timedelta(days=1)\n",
    "start_date = start_date.strftime('%Y%m%d')\n",
    "end_date = end_date.strftime('%Y%m%d')\n",
    "print('Current Period: ', start_date, end_date)\n",
    "df_futures_daily_czce_append = ak.get_futures_daily(start_date=start_date, end_date=end_date, market=\"CZCE\")\n",
    "df_futures_daily_czce_append['date'] = pd.to_datetime(df_futures_daily_czce_append['date'], format='%Y%m%d')\n",
    "dws.save_data(df_futures_daily_czce_append, 'czce', 'append')"
   ]
  },
  {
   "cell_type": "markdown",
   "metadata": {},
   "source": [
    "### SHFE"
   ]
  },
  {
   "cell_type": "code",
   "execution_count": 13,
   "metadata": {},
   "outputs": [
    {
     "name": "stdout",
     "output_type": "stream",
     "text": [
      "Current Period:  20240817 20241206\n"
     ]
    }
   ],
   "source": [
    "last_date = dws.get_last_date('shfe')\n",
    "last_date = pd.to_datetime(last_date)\n",
    "start_date = last_date + timedelta(days=1)\n",
    "end_date = datetime.now() - timedelta(days=1)\n",
    "start_date = start_date.strftime('%Y%m%d')\n",
    "end_date = end_date.strftime('%Y%m%d')\n",
    "print('Current Period: ', start_date, end_date)\n",
    "df_futures_daily_shfe_append = ak.get_futures_daily(start_date=start_date, end_date=end_date, market=\"SHFE\")\n",
    "df_futures_daily_shfe_append['date'] = pd.to_datetime(df_futures_daily_shfe_append['date'], format='%Y%m%d')\n",
    "df_futures_daily_shfe_append = df_futures_daily_shfe_append.drop('index', axis=1)\n",
    "dws.save_data(df_futures_daily_shfe_append, 'shfe', 'append')"
   ]
  },
  {
   "cell_type": "code",
   "execution_count": 20,
   "metadata": {},
   "outputs": [
    {
     "data": {
      "text/html": [
       "<div>\n",
       "<style scoped>\n",
       "    .dataframe tbody tr th:only-of-type {\n",
       "        vertical-align: middle;\n",
       "    }\n",
       "\n",
       "    .dataframe tbody tr th {\n",
       "        vertical-align: top;\n",
       "    }\n",
       "\n",
       "    .dataframe thead th {\n",
       "        text-align: right;\n",
       "    }\n",
       "</style>\n",
       "<table border=\"1\" class=\"dataframe\">\n",
       "  <thead>\n",
       "    <tr style=\"text-align: right;\">\n",
       "      <th></th>\n",
       "      <th>symbol</th>\n",
       "      <th>date</th>\n",
       "      <th>open</th>\n",
       "      <th>high</th>\n",
       "      <th>low</th>\n",
       "      <th>close</th>\n",
       "      <th>volume</th>\n",
       "      <th>open_interest</th>\n",
       "      <th>turnover</th>\n",
       "      <th>settle</th>\n",
       "      <th>pre_settle</th>\n",
       "      <th>variety</th>\n",
       "    </tr>\n",
       "  </thead>\n",
       "  <tbody>\n",
       "    <tr>\n",
       "      <th>0</th>\n",
       "      <td>CU2409</td>\n",
       "      <td>2024-08-19</td>\n",
       "      <td>73410</td>\n",
       "      <td>74230</td>\n",
       "      <td>72970</td>\n",
       "      <td>73900</td>\n",
       "      <td>103534</td>\n",
       "      <td>147707</td>\n",
       "      <td>3.812073e+06</td>\n",
       "      <td>73630</td>\n",
       "      <td>73610</td>\n",
       "      <td>CU</td>\n",
       "    </tr>\n",
       "    <tr>\n",
       "      <th>1</th>\n",
       "      <td>CU2410</td>\n",
       "      <td>2024-08-19</td>\n",
       "      <td>73490</td>\n",
       "      <td>74300</td>\n",
       "      <td>73030</td>\n",
       "      <td>73940</td>\n",
       "      <td>87374</td>\n",
       "      <td>145210</td>\n",
       "      <td>3.219062e+06</td>\n",
       "      <td>73680</td>\n",
       "      <td>73700</td>\n",
       "      <td>CU</td>\n",
       "    </tr>\n",
       "    <tr>\n",
       "      <th>2</th>\n",
       "      <td>CU2411</td>\n",
       "      <td>2024-08-19</td>\n",
       "      <td>73470</td>\n",
       "      <td>74270</td>\n",
       "      <td>73050</td>\n",
       "      <td>73920</td>\n",
       "      <td>22488</td>\n",
       "      <td>67457</td>\n",
       "      <td>8.284681e+05</td>\n",
       "      <td>73680</td>\n",
       "      <td>73700</td>\n",
       "      <td>CU</td>\n",
       "    </tr>\n",
       "    <tr>\n",
       "      <th>3</th>\n",
       "      <td>CU2412</td>\n",
       "      <td>2024-08-19</td>\n",
       "      <td>73510</td>\n",
       "      <td>74240</td>\n",
       "      <td>73050</td>\n",
       "      <td>73900</td>\n",
       "      <td>20346</td>\n",
       "      <td>57745</td>\n",
       "      <td>7.498797e+05</td>\n",
       "      <td>73710</td>\n",
       "      <td>73740</td>\n",
       "      <td>CU</td>\n",
       "    </tr>\n",
       "    <tr>\n",
       "      <th>4</th>\n",
       "      <td>CU2501</td>\n",
       "      <td>2024-08-19</td>\n",
       "      <td>73610</td>\n",
       "      <td>74280</td>\n",
       "      <td>73080</td>\n",
       "      <td>73860</td>\n",
       "      <td>5573</td>\n",
       "      <td>24124</td>\n",
       "      <td>2.054482e+05</td>\n",
       "      <td>73720</td>\n",
       "      <td>73740</td>\n",
       "      <td>CU</td>\n",
       "    </tr>\n",
       "    <tr>\n",
       "      <th>...</th>\n",
       "      <td>...</td>\n",
       "      <td>...</td>\n",
       "      <td>...</td>\n",
       "      <td>...</td>\n",
       "      <td>...</td>\n",
       "      <td>...</td>\n",
       "      <td>...</td>\n",
       "      <td>...</td>\n",
       "      <td>...</td>\n",
       "      <td>...</td>\n",
       "      <td>...</td>\n",
       "      <td>...</td>\n",
       "    </tr>\n",
       "    <tr>\n",
       "      <th>19003</th>\n",
       "      <td>EC2508</td>\n",
       "      <td>2024-11-29</td>\n",
       "      <td>1970</td>\n",
       "      <td>2036.6</td>\n",
       "      <td>1955.4</td>\n",
       "      <td>1999.9</td>\n",
       "      <td>3768</td>\n",
       "      <td>7937</td>\n",
       "      <td>3.756184e+04</td>\n",
       "      <td>1993.7</td>\n",
       "      <td>1984.5</td>\n",
       "      <td>EC</td>\n",
       "    </tr>\n",
       "    <tr>\n",
       "      <th>19004</th>\n",
       "      <td>EC2510</td>\n",
       "      <td>2024-11-29</td>\n",
       "      <td>1630.1</td>\n",
       "      <td>1630.1</td>\n",
       "      <td>1561.8</td>\n",
       "      <td>1585.0</td>\n",
       "      <td>2508</td>\n",
       "      <td>6274</td>\n",
       "      <td>2.002174e+04</td>\n",
       "      <td>1596.6</td>\n",
       "      <td>1601.4</td>\n",
       "      <td>EC</td>\n",
       "    </tr>\n",
       "    <tr>\n",
       "      <th>19005</th>\n",
       "      <td>SC_TAS2501</td>\n",
       "      <td>2024-11-29</td>\n",
       "      <td></td>\n",
       "      <td></td>\n",
       "      <td></td>\n",
       "      <td>0.0</td>\n",
       "      <td>0</td>\n",
       "      <td></td>\n",
       "      <td>0.000000e+00</td>\n",
       "      <td></td>\n",
       "      <td></td>\n",
       "      <td>SC_TAS</td>\n",
       "    </tr>\n",
       "    <tr>\n",
       "      <th>19006</th>\n",
       "      <td>SC_TAS2502</td>\n",
       "      <td>2024-11-29</td>\n",
       "      <td></td>\n",
       "      <td></td>\n",
       "      <td></td>\n",
       "      <td>0.0</td>\n",
       "      <td>0</td>\n",
       "      <td></td>\n",
       "      <td>0.000000e+00</td>\n",
       "      <td></td>\n",
       "      <td></td>\n",
       "      <td>SC_TAS</td>\n",
       "    </tr>\n",
       "    <tr>\n",
       "      <th>19007</th>\n",
       "      <td>SC_TAS2503</td>\n",
       "      <td>2024-11-29</td>\n",
       "      <td></td>\n",
       "      <td></td>\n",
       "      <td></td>\n",
       "      <td>0.0</td>\n",
       "      <td>0</td>\n",
       "      <td></td>\n",
       "      <td>0.000000e+00</td>\n",
       "      <td></td>\n",
       "      <td></td>\n",
       "      <td>SC_TAS</td>\n",
       "    </tr>\n",
       "  </tbody>\n",
       "</table>\n",
       "<p>19008 rows × 12 columns</p>\n",
       "</div>"
      ],
      "text/plain": [
       "           symbol       date    open    high     low   close  volume  \\\n",
       "0          CU2409 2024-08-19   73410   74230   72970   73900  103534   \n",
       "1          CU2410 2024-08-19   73490   74300   73030   73940   87374   \n",
       "2          CU2411 2024-08-19   73470   74270   73050   73920   22488   \n",
       "3          CU2412 2024-08-19   73510   74240   73050   73900   20346   \n",
       "4          CU2501 2024-08-19   73610   74280   73080   73860    5573   \n",
       "...           ...        ...     ...     ...     ...     ...     ...   \n",
       "19003      EC2508 2024-11-29    1970  2036.6  1955.4  1999.9    3768   \n",
       "19004      EC2510 2024-11-29  1630.1  1630.1  1561.8  1585.0    2508   \n",
       "19005  SC_TAS2501 2024-11-29                             0.0       0   \n",
       "19006  SC_TAS2502 2024-11-29                             0.0       0   \n",
       "19007  SC_TAS2503 2024-11-29                             0.0       0   \n",
       "\n",
       "      open_interest      turnover  settle pre_settle variety  \n",
       "0            147707  3.812073e+06   73630      73610      CU  \n",
       "1            145210  3.219062e+06   73680      73700      CU  \n",
       "2             67457  8.284681e+05   73680      73700      CU  \n",
       "3             57745  7.498797e+05   73710      73740      CU  \n",
       "4             24124  2.054482e+05   73720      73740      CU  \n",
       "...             ...           ...     ...        ...     ...  \n",
       "19003          7937  3.756184e+04  1993.7     1984.5      EC  \n",
       "19004          6274  2.002174e+04  1596.6     1601.4      EC  \n",
       "19005                0.000000e+00                     SC_TAS  \n",
       "19006                0.000000e+00                     SC_TAS  \n",
       "19007                0.000000e+00                     SC_TAS  \n",
       "\n",
       "[19008 rows x 12 columns]"
      ]
     },
     "execution_count": 20,
     "metadata": {},
     "output_type": "execute_result"
    }
   ],
   "source": [
    "df_futures_daily_shfe_append"
   ]
  },
  {
   "cell_type": "markdown",
   "metadata": {},
   "source": [
    "## 合约信息"
   ]
  },
  {
   "cell_type": "code",
   "execution_count": 6,
   "metadata": {},
   "outputs": [
    {
     "ename": "AttributeError",
     "evalue": "module 'akshare' has no attribute 'futures_index_symbol_table_nh'",
     "output_type": "error",
     "traceback": [
      "\u001b[0;31m---------------------------------------------------------------------------\u001b[0m",
      "\u001b[0;31mAttributeError\u001b[0m                            Traceback (most recent call last)",
      "Cell \u001b[0;32mIn[6], line 1\u001b[0m\n\u001b[0;32m----> 1\u001b[0m symbol_list \u001b[38;5;241m=\u001b[39m \u001b[43mak\u001b[49m\u001b[38;5;241;43m.\u001b[39;49m\u001b[43mfutures_index_symbol_table_nh\u001b[49m()\n\u001b[1;32m      2\u001b[0m symbol_list \u001b[38;5;241m=\u001b[39m symbol_list[symbol_list[\u001b[38;5;124m'\u001b[39m\u001b[38;5;124mexchange\u001b[39m\u001b[38;5;124m'\u001b[39m]\u001b[38;5;241m.\u001b[39misin([\u001b[38;5;124m'\u001b[39m\u001b[38;5;124m郑州商品交易所\u001b[39m\u001b[38;5;124m'\u001b[39m, \u001b[38;5;124m'\u001b[39m\u001b[38;5;124m大连商品交易所\u001b[39m\u001b[38;5;124m'\u001b[39m, \u001b[38;5;124m'\u001b[39m\u001b[38;5;124m上海期货交易所\u001b[39m\u001b[38;5;124m'\u001b[39m])]\n\u001b[1;32m      3\u001b[0m symbol_list \u001b[38;5;241m=\u001b[39m symbol_list\u001b[38;5;241m.\u001b[39mdrop(\u001b[38;5;124m'\u001b[39m\u001b[38;5;124mindexcategory\u001b[39m\u001b[38;5;124m'\u001b[39m, axis\u001b[38;5;241m=\u001b[39m\u001b[38;5;241m1\u001b[39m)\n",
      "\u001b[0;31mAttributeError\u001b[0m: module 'akshare' has no attribute 'futures_index_symbol_table_nh'"
     ]
    }
   ],
   "source": [
    "symbol_list = ak.futures_index_symbol_table_nh()\n",
    "symbol_list = symbol_list[symbol_list['exchange'].isin(['郑州商品交易所', '大连商品交易所', '上海期货交易所'])]\n",
    "symbol_list = symbol_list.drop('indexcategory', axis=1)\n",
    "exchange_replace_dict = {'郑州商品交易所': 'czce',\n",
    "                        '大连商品交易所': 'dce',\n",
    "                        '上海期货交易所': 'shfe'}\n",
    "symbol_list['exchange'] = symbol_list['exchange'].apply(lambda x: exchange_replace_dict.get(x, x))\n",
    "dws.save_data(symbol_list, 'symbols')"
   ]
  },
  {
   "cell_type": "markdown",
   "metadata": {},
   "source": [
    "## 主力合约"
   ]
  },
  {
   "cell_type": "code",
   "execution_count": 14,
   "metadata": {},
   "outputs": [
    {
     "name": "stdout",
     "output_type": "stream",
     "text": [
      "Current Period:  20240817 20241206\n"
     ]
    }
   ],
   "source": [
    "contract_list = ak.futures_display_main_sina()\n",
    "contract_list = contract_list[contract_list['exchange'].isin(['czce', 'dce', 'shfe'])]\n",
    "\n",
    "last_date = dws.get_last_date('dominant')\n",
    "last_date = pd.to_datetime(last_date)\n",
    "start_date = last_date + timedelta(days=1)\n",
    "end_date = datetime.now() - timedelta(days=1)\n",
    "start_date = start_date.strftime('%Y%m%d')\n",
    "end_date = end_date.strftime('%Y%m%d')\n",
    "print('Current Period: ', start_date, end_date)\n",
    "main_contract_data = []\n",
    "for symbol in contract_list['symbol']:\n",
    "    symbol_hist = ak.futures_main_sina(symbol=symbol, start_date=start_date, end_date=end_date)\n",
    "    symbol_hist['variety'] = symbol\n",
    "    main_contract_data.append(symbol_hist)\n",
    "merged_main_contracts = pd.concat(main_contract_data)\n",
    "merged_main_contracts.rename(columns={'日期': 'date'}, inplace=True)\n",
    "merged_main_contracts['date'] = pd.to_datetime(merged_main_contracts['date'])\n",
    "merged_main_contracts['variety'] = merged_main_contracts['variety'].str.rstrip('0')\n",
    "# combined_main = merged_main_contracts.drop_duplicates(subset=['日期', 'variety'], keep='last')\n",
    "dws.save_data(merged_main_contracts, 'dominant', 'append')"
   ]
  },
  {
   "cell_type": "markdown",
   "metadata": {},
   "source": [
    "## 主力合约月（计算）"
   ]
  },
  {
   "cell_type": "code",
   "execution_count": null,
   "metadata": {},
   "outputs": [],
   "source": [
    "# # 根据历史合约的持仓量数据获得主力合约月份(推荐使用)\n",
    "# exchanges = ['dce', 'czce', 'shfe']\n",
    "# ignore_variety = ['SC_TAS']\n",
    "# variety_setting = {}\n",
    "# for ex in exchanges:\n",
    "#     sql = 'SELECT * FROM ' + ex\n",
    "#     df_history = dws.get_data_by_sql(sql)\n",
    "#     df_history['delivery_month'] = df_history['symbol'].str.slice(-2).astype(int)\n",
    "#     df_history['date'] = pd.to_datetime(df_history['date'])\n",
    "#     start_date = '20210101'\n",
    "#     end_date = '20231231'\n",
    "#     start_date = datetime.strptime(start_date, '%Y%m%d')\n",
    "#     end_date = datetime.strptime(end_date, '%Y%m%d')\n",
    "#     df_history = df_history[(df_history['date'] >= start_date) & (df_history['date'] <= end_date)]\n",
    "#     symbol_list = df_history['variety'].unique()    \n",
    "#     for variety in symbol_list:\n",
    "#         if variety in ignore_variety:\n",
    "#             continue\n",
    "#         dominant_month = []\n",
    "#         df = df_history[df_history['variety']==variety]\n",
    "#         trading_dates = df['date']\n",
    "#         for date in trading_dates:\n",
    "#             df_current_date = df[df['date']==date]\n",
    "#             max_open_interest_index= df_current_date['open_interest'].astype(int).idxmax()\n",
    "#             delivery_month = int(df_current_date.loc[max_open_interest_index]['delivery_month'])\n",
    "#             dominant_month.append(delivery_month)\n",
    "#         dominant_month = sorted(list(set(dominant_month)))\n",
    "#         variety_setting[variety] = {'DominantMonths': dominant_month,\n",
    "#                                     'ExchangeID': ex,}\n",
    "#         print(variety_setting[variety])\n",
    "# dws.save_variety_setting(variety_setting)"
   ]
  },
  {
   "cell_type": "code",
   "execution_count": null,
   "metadata": {},
   "outputs": [],
   "source": [
    "# 根据basis表获得主力合约月份（不推荐，因品种不全）\n",
    "# df_basis = dws.get_data_by_sql('SELECT * FROM basis')\n",
    "\n",
    "# df_basis['delivery_month'] = df_basis['dominant_contract'].str.slice(-2).astype(int)\n",
    "# dce_symbol_list = df_basis['variety'].unique()\n",
    "# dominant_contract = {}\n",
    "# for variety in dce_symbol_list:\n",
    "#     df = df_basis[df_basis['variety']==variety]\n",
    "#     dominant_contract[variety] = df['delivery_month'].unique()\n",
    "#     print(variety, dominant_contract[variety])"
   ]
  },
  {
   "cell_type": "code",
   "execution_count": null,
   "metadata": {},
   "outputs": [],
   "source": [
    "# # 将主力合约月写入数据库symbols表中(废弃使用)\n",
    "# df_symbol = dws.get_data_by_sql('SELECT * FROM symbols')\n",
    "# existed_variety = df_symbol['code'].to_list()\n",
    "# # symbols表中如果没有dominant_contract字典中的品种，则添加对应的记录\n",
    "# for variety, domant_months in dominant_contract.items():\n",
    "#     if variety not in existed_variety:\n",
    "#         symbol_row = pd.DataFrame({\n",
    "#             'name': [''],\n",
    "#             'firstday': [pd.NaT],\n",
    "#             'code': [variety],\n",
    "#             'exchange': [variety_exchange[variety]]\n",
    "#         })\n",
    "#         df_symbol = pd.concat([df_symbol, symbol_row])        \n",
    "# df_symbol['dominant_months'] = df_symbol['code'].map(dominant_contract)\n",
    "# # 因SQLite无法将list作为字段存储，需通过json进行序列化再存储至数据，从数据库读取时需要进行反序列化处理\n",
    "# df_symbol['dominant_months'] = df_symbol['dominant_months'].apply(json.dumps)\n",
    "# dws.save_data(df_symbol, 'symbols')"
   ]
  },
  {
   "cell_type": "markdown",
   "metadata": {},
   "source": [
    "## 近月合约（合成）"
   ]
  },
  {
   "cell_type": "code",
   "execution_count": 15,
   "metadata": {},
   "outputs": [
    {
     "name": "stdout",
     "output_type": "stream",
     "text": [
      "A dce\n",
      "B dce\n",
      "BB dce\n",
      "C dce\n",
      "CS dce\n",
      "EB dce\n",
      "EG dce\n",
      "FB dce\n",
      "I dce\n",
      "J dce\n",
      "JD dce\n",
      "JM dce\n",
      "L dce\n",
      "M dce\n",
      "P dce\n",
      "PG dce\n",
      "PP dce\n",
      "RR dce\n",
      "V dce\n",
      "Y dce\n",
      "LH dce\n",
      "AP czce\n",
      "CF czce\n",
      "CJ czce\n",
      "CY czce\n",
      "FG czce\n",
      "JR czce\n",
      "LR czce\n",
      "MA czce\n",
      "OI czce\n",
      "PF czce\n",
      "PM czce\n",
      "RI czce\n",
      "RM czce\n",
      "RS czce\n",
      "SA czce\n",
      "SF czce\n",
      "SM czce\n",
      "SR czce\n",
      "TA czce\n",
      "UR czce\n",
      "WH czce\n",
      "ZC czce\n",
      "PK czce\n",
      "PX czce\n",
      "SH czce\n",
      "CU shfe\n",
      "BC shfe\n",
      "AL shfe\n",
      "ZN shfe\n",
      "PB shfe\n",
      "NI shfe\n",
      "SN shfe\n",
      "AU shfe\n",
      "AG shfe\n",
      "RB shfe\n",
      "WR shfe\n",
      "HC shfe\n",
      "SS shfe\n",
      "SC shfe\n",
      "LU shfe\n",
      "FU shfe\n",
      "BU shfe\n",
      "RU shfe\n",
      "NR shfe\n",
      "SP shfe\n",
      "AO shfe\n",
      "BR shfe\n",
      "EC shfe\n"
     ]
    }
   ],
   "source": [
    "import re\n",
    "variety_setting = dws.get_variety_setting()\n",
    "ignore_variety = ['SC_TAS']\n",
    "df_near_contract = pd.DataFrame()\n",
    "for variety in variety_setting:\n",
    "    dominant_months = variety_setting[variety]['DominantMonths']\n",
    "    exchange = variety_setting[variety]['ExchangeID']\n",
    "    df_history_variety = dws.get_data_by_symbol(exchange, variety)\n",
    "    df_history_variety['delivery_month'] = df_history_variety['symbol'].str.slice(-2).astype(int)\n",
    "    print(variety, exchange)\n",
    "    df_history_variety['date'] = pd.to_datetime(df_history_variety['date'], format='ISO8601')\n",
    "    df_dominant_contract = df_history_variety[df_history_variety['delivery_month'].isin(dominant_months)]\n",
    "    df_dominant_contract = df_dominant_contract.sort_values(by=['date'], ascending=[True])\n",
    "    contract_list = df_dominant_contract['symbol'].unique()\n",
    "    first_symbol = True\n",
    "    for symbol in contract_list:\n",
    "        number_count = len(re.findall(r'\\d', symbol))\n",
    "        df_cuurent_near = df_dominant_contract[df_dominant_contract['symbol']==symbol]\n",
    "        if first_symbol:\n",
    "            first_symbol = False\n",
    "            start_date = df_cuurent_near['date'].min()        \n",
    "        if number_count==4:    \n",
    "            # 假设年月编码是symbol字符串的后四位\n",
    "            year_month_code = symbol[-4:]\n",
    "            year = int(year_month_code[:2])  # 提取年份编码\n",
    "            month = int(year_month_code[2:])  # 提取月份编码\n",
    "            year += 2000 if year < 50 else 1900\n",
    "            delivery_date = datetime(year, month, 1)\n",
    "        else:\n",
    "            # TODO: 合约编码3位数字的品种处理逻辑\n",
    "            year_month_code = symbol[-3:]\n",
    "            # year = int(year_month_code[:1])  # 提取年份编码\n",
    "            month = int(year_month_code[1:])  # 提取月份编码\n",
    "            delivery_date = df_cuurent_near['date'].max()    \n",
    "            delivery_date = delivery_date.replace(month=month, day=1)\n",
    "            # year += 2020\n",
    "        end_date = delivery_date - timedelta(days=1)    \n",
    "        if start_date > end_date:\n",
    "            continue        \n",
    "        df_cuurent_near = df_cuurent_near[(df_cuurent_near['date']>= start_date) & (df_cuurent_near['date']<=end_date)]\n",
    "        df_near_contract = pd.concat([df_near_contract, df_cuurent_near])\n",
    "        start_date = end_date + timedelta(days=1)            \n",
    "dws.save_data(df_near_contract, 'near') "
   ]
  },
  {
   "cell_type": "markdown",
   "metadata": {},
   "source": [
    "## 库存"
   ]
  },
  {
   "cell_type": "code",
   "execution_count": null,
   "metadata": {},
   "outputs": [],
   "source": [
    "# 库存数据来源于“东方财富网”，商品名称与常规命名有出入，通过字典映射\n",
    "symbol_replace_dict = {'鲜苹果': '苹果',\n",
    "                       '棉花': '郑棉',\n",
    "                       '动力煤': '郑煤',\n",
    "                       '早籼稻': '早籼',\n",
    "                       '烧碱': '纯碱',\n",
    "                       '郑醇': '甲醇',\n",
    "                       '晚籼稻': '晚籼',\n",
    "                       'PP': '聚丙烯',\n",
    "                       '大豆': '豆一',\n",
    "                       '铝': '沪铝',\n",
    "                       '铜': '沪铜',\n",
    "                       '锌': '沪锌',\n",
    "                       '棕榈油': '棕榈',\n",
    "                       '黄金': '沪金',\n",
    "                       '铅': '沪铅',\n",
    "                       '白银': '沪银',\n",
    "                       '菜籽油': '菜油',\n",
    "                       '油菜籽': '菜籽',\n",
    "                       '菜籽粕': '菜粕',\n",
    "                       '热轧卷板': '热卷',\n",
    "                       '沪锡': '锡',\n",
    "                       '沪镍': '镍',\n",
    "                       }\n",
    "symbol_list['name'] = symbol_list['name'].apply(lambda x: symbol_replace_dict.get(x, x))\n",
    "inventory_data = []\n",
    "ignore_symbol = ['线材', '胶合板', '纤维板', '郑煤', '普麦', '早籼', '强麦', '粳稻', '晚籼', '粳米']\n",
    "# ignore_symbol = []\n",
    "for symbol in symbol_list['name']:\n",
    "   print(symbol)\n",
    "   if symbol in ignore_symbol:\n",
    "      continue\n",
    "   symbol_data = ak.futures_inventory_em(symbol=symbol)\n",
    "   symbol_data['variety'] = symbol\n",
    "   inventory_data.append(symbol_data)\n",
    "merged_data = pd.concat(inventory_data)\n",
    "symbol_mapping_dict = dict(zip(symbol_list['name'], symbol_list['code']))\n",
    "merged_data['variety'] = merged_data['variety'].apply(lambda x: symbol_mapping_dict.get(x, x))\n",
    "merged_data.rename(columns={'日期': 'date'}, inplace=True)\n",
    "merged_data['date'] = pd.to_datetime(merged_data['date'])\n",
    "# 更新时按日期去重\n",
    "old_inventory_data = dws.get_data_by_sql('SELECT * FROM inventory')\n",
    "old_inventory_data['date'] = pd.to_datetime(old_inventory_data['date'])\n",
    "combined_df = pd.concat([old_inventory_data, merged_data])\n",
    "combined_df = combined_df.drop_duplicates(subset=['date', 'variety'], keep='last')\n",
    "dws.save_data(combined_df, 'inventory')"
   ]
  },
  {
   "cell_type": "markdown",
   "metadata": {},
   "source": [
    "## 注册仓单"
   ]
  },
  {
   "cell_type": "code",
   "execution_count": 16,
   "metadata": {},
   "outputs": [
    {
     "name": "stdout",
     "output_type": "stream",
     "text": [
      "Current Period:  20240817 20241206\n"
     ]
    }
   ],
   "source": [
    "last_date = dws.get_last_date('receipt')\n",
    "last_date = pd.to_datetime(last_date)\n",
    "start_date = last_date + timedelta(days=1)\n",
    "end_date = datetime.now() - timedelta(days=1)\n",
    "start_date = start_date.strftime('%Y%m%d')\n",
    "end_date = end_date.strftime('%Y%m%d')\n",
    "print('Current Period: ', start_date, end_date)"
   ]
  },
  {
   "cell_type": "code",
   "execution_count": 17,
   "metadata": {},
   "outputs": [],
   "source": [
    "dce =  ['C', 'CS', 'A', 'B', 'M', 'Y', 'P', 'FB', 'BB', 'JD', 'L', 'V', 'PP', 'J', 'JM', 'I', 'EG', 'RR', 'EB', 'PG', 'LH'] \n",
    "dce_in = ['A', 'M', 'C', 'Y', 'L', 'P', 'V', 'J', 'JM', 'I', 'JD', 'BB', 'FB', 'PP', 'CS', 'EG', 'RR', 'B', 'EB']\n",
    "czce = ['WH', 'PM', 'CF', 'SR', 'TA', 'OI', 'RI', 'MA', 'ME', 'FG', 'RS', 'RM', 'ZC', 'JR', 'LR', 'SF', 'SM', 'WT', 'TC', 'GN', 'RO', 'ER', 'SRX', 'SRY', 'WSX', 'WSY', 'CY', 'AP', 'UR', 'CJ', 'SA', 'PK', 'PF', 'PX', 'SH'] \n",
    "czce_in = ['CF', 'SR', 'TA', 'PM', 'RO', 'ER', 'FG', 'RS', 'RM', 'JR', 'LR', 'SM', 'SF', 'ME', 'TC', 'CY', 'AP', 'CJ', 'UR', 'SA']\n",
    "shfe = ['CU', 'AL', 'ZN', 'PB', 'NI', 'SN', 'AU', 'AG', 'RB', 'WR', 'HC', 'FU', 'BU', 'RU', 'SC', 'NR', 'SP', 'SS', 'LU', 'BC', 'AO', 'BR', 'EC']"
   ]
  },
  {
   "cell_type": "markdown",
   "metadata": {},
   "source": [
    "### DCE"
   ]
  },
  {
   "cell_type": "code",
   "execution_count": 18,
   "metadata": {},
   "outputs": [
    {
     "name": "stderr",
     "output_type": "stream",
     "text": [
      "/Volumes/Repository/app/miniconda3/lib/python3.10/site-packages/akshare/futures/receipt.py:429: UserWarning: 20240817 非交易日\n",
      "  warnings.warn(f\"{start_date.strftime('%Y%m%d')} 非交易日\")\n",
      "/Volumes/Repository/app/miniconda3/lib/python3.10/site-packages/akshare/futures/receipt.py:429: UserWarning: 20240818 非交易日\n",
      "  warnings.warn(f\"{start_date.strftime('%Y%m%d')} 非交易日\")\n"
     ]
    },
    {
     "name": "stdout",
     "output_type": "stream",
     "text": [
      "2024-08-19\n",
      "2024-08-20\n",
      "2024-08-21\n",
      "2024-08-22\n",
      "2024-08-23\n"
     ]
    },
    {
     "name": "stderr",
     "output_type": "stream",
     "text": [
      "/Volumes/Repository/app/miniconda3/lib/python3.10/site-packages/akshare/futures/receipt.py:429: UserWarning: 20240824 非交易日\n",
      "  warnings.warn(f\"{start_date.strftime('%Y%m%d')} 非交易日\")\n",
      "/Volumes/Repository/app/miniconda3/lib/python3.10/site-packages/akshare/futures/receipt.py:429: UserWarning: 20240825 非交易日\n",
      "  warnings.warn(f\"{start_date.strftime('%Y%m%d')} 非交易日\")\n"
     ]
    },
    {
     "name": "stdout",
     "output_type": "stream",
     "text": [
      "2024-08-26\n",
      "2024-08-27\n",
      "2024-08-28\n",
      "2024-08-29\n",
      "2024-08-30\n"
     ]
    },
    {
     "name": "stderr",
     "output_type": "stream",
     "text": [
      "/Volumes/Repository/app/miniconda3/lib/python3.10/site-packages/akshare/futures/receipt.py:429: UserWarning: 20240831 非交易日\n",
      "  warnings.warn(f\"{start_date.strftime('%Y%m%d')} 非交易日\")\n",
      "/Volumes/Repository/app/miniconda3/lib/python3.10/site-packages/akshare/futures/receipt.py:429: UserWarning: 20240901 非交易日\n",
      "  warnings.warn(f\"{start_date.strftime('%Y%m%d')} 非交易日\")\n"
     ]
    },
    {
     "name": "stdout",
     "output_type": "stream",
     "text": [
      "2024-09-02\n",
      "2024-09-03\n",
      "2024-09-04\n",
      "2024-09-05\n",
      "2024-09-06\n"
     ]
    },
    {
     "name": "stderr",
     "output_type": "stream",
     "text": [
      "/Volumes/Repository/app/miniconda3/lib/python3.10/site-packages/akshare/futures/receipt.py:429: UserWarning: 20240907 非交易日\n",
      "  warnings.warn(f\"{start_date.strftime('%Y%m%d')} 非交易日\")\n",
      "/Volumes/Repository/app/miniconda3/lib/python3.10/site-packages/akshare/futures/receipt.py:429: UserWarning: 20240908 非交易日\n",
      "  warnings.warn(f\"{start_date.strftime('%Y%m%d')} 非交易日\")\n"
     ]
    },
    {
     "name": "stdout",
     "output_type": "stream",
     "text": [
      "2024-09-09\n",
      "2024-09-10\n",
      "2024-09-11\n",
      "2024-09-12\n",
      "2024-09-13\n"
     ]
    },
    {
     "name": "stderr",
     "output_type": "stream",
     "text": [
      "/Volumes/Repository/app/miniconda3/lib/python3.10/site-packages/akshare/futures/receipt.py:429: UserWarning: 20240914 非交易日\n",
      "  warnings.warn(f\"{start_date.strftime('%Y%m%d')} 非交易日\")\n",
      "/Volumes/Repository/app/miniconda3/lib/python3.10/site-packages/akshare/futures/receipt.py:429: UserWarning: 20240915 非交易日\n",
      "  warnings.warn(f\"{start_date.strftime('%Y%m%d')} 非交易日\")\n",
      "/Volumes/Repository/app/miniconda3/lib/python3.10/site-packages/akshare/futures/receipt.py:429: UserWarning: 20240916 非交易日\n",
      "  warnings.warn(f\"{start_date.strftime('%Y%m%d')} 非交易日\")\n",
      "/Volumes/Repository/app/miniconda3/lib/python3.10/site-packages/akshare/futures/receipt.py:429: UserWarning: 20240917 非交易日\n",
      "  warnings.warn(f\"{start_date.strftime('%Y%m%d')} 非交易日\")\n"
     ]
    },
    {
     "name": "stdout",
     "output_type": "stream",
     "text": [
      "2024-09-18\n",
      "2024-09-19\n",
      "2024-09-20\n"
     ]
    },
    {
     "name": "stderr",
     "output_type": "stream",
     "text": [
      "/Volumes/Repository/app/miniconda3/lib/python3.10/site-packages/akshare/futures/receipt.py:429: UserWarning: 20240921 非交易日\n",
      "  warnings.warn(f\"{start_date.strftime('%Y%m%d')} 非交易日\")\n",
      "/Volumes/Repository/app/miniconda3/lib/python3.10/site-packages/akshare/futures/receipt.py:429: UserWarning: 20240922 非交易日\n",
      "  warnings.warn(f\"{start_date.strftime('%Y%m%d')} 非交易日\")\n"
     ]
    },
    {
     "name": "stdout",
     "output_type": "stream",
     "text": [
      "2024-09-23\n",
      "2024-09-24\n",
      "2024-09-25\n",
      "2024-09-26\n",
      "2024-09-27\n"
     ]
    },
    {
     "name": "stderr",
     "output_type": "stream",
     "text": [
      "/Volumes/Repository/app/miniconda3/lib/python3.10/site-packages/akshare/futures/receipt.py:429: UserWarning: 20240928 非交易日\n",
      "  warnings.warn(f\"{start_date.strftime('%Y%m%d')} 非交易日\")\n",
      "/Volumes/Repository/app/miniconda3/lib/python3.10/site-packages/akshare/futures/receipt.py:429: UserWarning: 20240929 非交易日\n",
      "  warnings.warn(f\"{start_date.strftime('%Y%m%d')} 非交易日\")\n"
     ]
    },
    {
     "name": "stdout",
     "output_type": "stream",
     "text": [
      "2024-09-30\n"
     ]
    },
    {
     "name": "stderr",
     "output_type": "stream",
     "text": [
      "/Volumes/Repository/app/miniconda3/lib/python3.10/site-packages/akshare/futures/receipt.py:429: UserWarning: 20241001 非交易日\n",
      "  warnings.warn(f\"{start_date.strftime('%Y%m%d')} 非交易日\")\n",
      "/Volumes/Repository/app/miniconda3/lib/python3.10/site-packages/akshare/futures/receipt.py:429: UserWarning: 20241002 非交易日\n",
      "  warnings.warn(f\"{start_date.strftime('%Y%m%d')} 非交易日\")\n",
      "/Volumes/Repository/app/miniconda3/lib/python3.10/site-packages/akshare/futures/receipt.py:429: UserWarning: 20241003 非交易日\n",
      "  warnings.warn(f\"{start_date.strftime('%Y%m%d')} 非交易日\")\n",
      "/Volumes/Repository/app/miniconda3/lib/python3.10/site-packages/akshare/futures/receipt.py:429: UserWarning: 20241004 非交易日\n",
      "  warnings.warn(f\"{start_date.strftime('%Y%m%d')} 非交易日\")\n",
      "/Volumes/Repository/app/miniconda3/lib/python3.10/site-packages/akshare/futures/receipt.py:429: UserWarning: 20241005 非交易日\n",
      "  warnings.warn(f\"{start_date.strftime('%Y%m%d')} 非交易日\")\n",
      "/Volumes/Repository/app/miniconda3/lib/python3.10/site-packages/akshare/futures/receipt.py:429: UserWarning: 20241006 非交易日\n",
      "  warnings.warn(f\"{start_date.strftime('%Y%m%d')} 非交易日\")\n",
      "/Volumes/Repository/app/miniconda3/lib/python3.10/site-packages/akshare/futures/receipt.py:429: UserWarning: 20241007 非交易日\n",
      "  warnings.warn(f\"{start_date.strftime('%Y%m%d')} 非交易日\")\n"
     ]
    },
    {
     "name": "stdout",
     "output_type": "stream",
     "text": [
      "2024-10-08\n",
      "2024-10-09\n",
      "2024-10-10\n",
      "2024-10-11\n"
     ]
    },
    {
     "name": "stderr",
     "output_type": "stream",
     "text": [
      "/Volumes/Repository/app/miniconda3/lib/python3.10/site-packages/akshare/futures/receipt.py:429: UserWarning: 20241012 非交易日\n",
      "  warnings.warn(f\"{start_date.strftime('%Y%m%d')} 非交易日\")\n",
      "/Volumes/Repository/app/miniconda3/lib/python3.10/site-packages/akshare/futures/receipt.py:429: UserWarning: 20241013 非交易日\n",
      "  warnings.warn(f\"{start_date.strftime('%Y%m%d')} 非交易日\")\n"
     ]
    },
    {
     "name": "stdout",
     "output_type": "stream",
     "text": [
      "2024-10-14\n",
      "2024-10-15\n",
      "2024-10-16\n",
      "2024-10-17\n",
      "2024-10-18\n"
     ]
    },
    {
     "name": "stderr",
     "output_type": "stream",
     "text": [
      "/Volumes/Repository/app/miniconda3/lib/python3.10/site-packages/akshare/futures/receipt.py:429: UserWarning: 20241019 非交易日\n",
      "  warnings.warn(f\"{start_date.strftime('%Y%m%d')} 非交易日\")\n",
      "/Volumes/Repository/app/miniconda3/lib/python3.10/site-packages/akshare/futures/receipt.py:429: UserWarning: 20241020 非交易日\n",
      "  warnings.warn(f\"{start_date.strftime('%Y%m%d')} 非交易日\")\n"
     ]
    },
    {
     "name": "stdout",
     "output_type": "stream",
     "text": [
      "2024-10-21\n",
      "2024-10-22\n",
      "2024-10-23\n",
      "2024-10-24\n",
      "2024-10-25\n"
     ]
    },
    {
     "name": "stderr",
     "output_type": "stream",
     "text": [
      "/Volumes/Repository/app/miniconda3/lib/python3.10/site-packages/akshare/futures/receipt.py:429: UserWarning: 20241026 非交易日\n",
      "  warnings.warn(f\"{start_date.strftime('%Y%m%d')} 非交易日\")\n",
      "/Volumes/Repository/app/miniconda3/lib/python3.10/site-packages/akshare/futures/receipt.py:429: UserWarning: 20241027 非交易日\n",
      "  warnings.warn(f\"{start_date.strftime('%Y%m%d')} 非交易日\")\n"
     ]
    },
    {
     "name": "stdout",
     "output_type": "stream",
     "text": [
      "2024-10-28\n",
      "2024-10-29\n",
      "2024-10-30\n",
      "2024-10-31\n",
      "2024-11-01\n"
     ]
    },
    {
     "name": "stderr",
     "output_type": "stream",
     "text": [
      "/Volumes/Repository/app/miniconda3/lib/python3.10/site-packages/akshare/futures/receipt.py:429: UserWarning: 20241102 非交易日\n",
      "  warnings.warn(f\"{start_date.strftime('%Y%m%d')} 非交易日\")\n",
      "/Volumes/Repository/app/miniconda3/lib/python3.10/site-packages/akshare/futures/receipt.py:429: UserWarning: 20241103 非交易日\n",
      "  warnings.warn(f\"{start_date.strftime('%Y%m%d')} 非交易日\")\n"
     ]
    },
    {
     "name": "stdout",
     "output_type": "stream",
     "text": [
      "2024-11-04\n",
      "2024-11-05\n",
      "2024-11-06\n",
      "2024-11-07\n",
      "2024-11-08\n"
     ]
    },
    {
     "name": "stderr",
     "output_type": "stream",
     "text": [
      "/Volumes/Repository/app/miniconda3/lib/python3.10/site-packages/akshare/futures/receipt.py:429: UserWarning: 20241109 非交易日\n",
      "  warnings.warn(f\"{start_date.strftime('%Y%m%d')} 非交易日\")\n",
      "/Volumes/Repository/app/miniconda3/lib/python3.10/site-packages/akshare/futures/receipt.py:429: UserWarning: 20241110 非交易日\n",
      "  warnings.warn(f\"{start_date.strftime('%Y%m%d')} 非交易日\")\n"
     ]
    },
    {
     "name": "stdout",
     "output_type": "stream",
     "text": [
      "2024-11-11\n",
      "2024-11-12\n",
      "2024-11-13\n",
      "2024-11-14\n",
      "2024-11-15\n"
     ]
    },
    {
     "name": "stderr",
     "output_type": "stream",
     "text": [
      "/Volumes/Repository/app/miniconda3/lib/python3.10/site-packages/akshare/futures/receipt.py:429: UserWarning: 20241116 非交易日\n",
      "  warnings.warn(f\"{start_date.strftime('%Y%m%d')} 非交易日\")\n",
      "/Volumes/Repository/app/miniconda3/lib/python3.10/site-packages/akshare/futures/receipt.py:429: UserWarning: 20241117 非交易日\n",
      "  warnings.warn(f\"{start_date.strftime('%Y%m%d')} 非交易日\")\n"
     ]
    },
    {
     "name": "stdout",
     "output_type": "stream",
     "text": [
      "2024-11-18\n",
      "2024-11-19\n",
      "2024-11-20\n",
      "2024-11-21\n",
      "2024-11-22\n"
     ]
    },
    {
     "name": "stderr",
     "output_type": "stream",
     "text": [
      "/Volumes/Repository/app/miniconda3/lib/python3.10/site-packages/akshare/futures/receipt.py:429: UserWarning: 20241123 非交易日\n",
      "  warnings.warn(f\"{start_date.strftime('%Y%m%d')} 非交易日\")\n",
      "/Volumes/Repository/app/miniconda3/lib/python3.10/site-packages/akshare/futures/receipt.py:429: UserWarning: 20241124 非交易日\n",
      "  warnings.warn(f\"{start_date.strftime('%Y%m%d')} 非交易日\")\n"
     ]
    },
    {
     "name": "stdout",
     "output_type": "stream",
     "text": [
      "2024-11-25\n",
      "2024-11-26\n",
      "2024-11-27\n",
      "2024-11-28\n",
      "2024-11-29\n"
     ]
    },
    {
     "name": "stderr",
     "output_type": "stream",
     "text": [
      "/Volumes/Repository/app/miniconda3/lib/python3.10/site-packages/akshare/futures/receipt.py:429: UserWarning: 20241130 非交易日\n",
      "  warnings.warn(f\"{start_date.strftime('%Y%m%d')} 非交易日\")\n",
      "/Volumes/Repository/app/miniconda3/lib/python3.10/site-packages/akshare/futures/receipt.py:429: UserWarning: 20241201 非交易日\n",
      "  warnings.warn(f\"{start_date.strftime('%Y%m%d')} 非交易日\")\n"
     ]
    },
    {
     "name": "stdout",
     "output_type": "stream",
     "text": [
      "2024-12-02\n",
      "2024-12-03\n",
      "2024-12-04\n",
      "2024-12-05\n",
      "2024-12-06\n"
     ]
    }
   ],
   "source": [
    "df_receipt_dce_append = ak.get_receipt(start_date, end_date, vars_list=dce)\n",
    "df_receipt_dce_append['date'] = pd.to_datetime(df_receipt_dce_append['date'])\n",
    "df_receipt_dce_append.rename(columns={'var': 'variety'}, inplace=True)\n",
    "dws.save_data(df_receipt_dce_append, 'receipt', 'append')"
   ]
  },
  {
   "cell_type": "markdown",
   "metadata": {},
   "source": [
    "### CZCE"
   ]
  },
  {
   "cell_type": "code",
   "execution_count": 19,
   "metadata": {},
   "outputs": [
    {
     "name": "stderr",
     "output_type": "stream",
     "text": [
      "/Volumes/Repository/app/miniconda3/lib/python3.10/site-packages/akshare/futures/receipt.py:429: UserWarning: 20240817 非交易日\n",
      "  warnings.warn(f\"{start_date.strftime('%Y%m%d')} 非交易日\")\n",
      "/Volumes/Repository/app/miniconda3/lib/python3.10/site-packages/akshare/futures/receipt.py:429: UserWarning: 20240818 非交易日\n",
      "  warnings.warn(f\"{start_date.strftime('%Y%m%d')} 非交易日\")\n"
     ]
    },
    {
     "name": "stdout",
     "output_type": "stream",
     "text": [
      "2024-08-19\n",
      "2024-08-20\n",
      "2024-08-21\n",
      "2024-08-22\n",
      "2024-08-23\n",
      "2024-08-26\n"
     ]
    },
    {
     "name": "stderr",
     "output_type": "stream",
     "text": [
      "/Volumes/Repository/app/miniconda3/lib/python3.10/site-packages/akshare/futures/receipt.py:429: UserWarning: 20240824 非交易日\n",
      "  warnings.warn(f\"{start_date.strftime('%Y%m%d')} 非交易日\")\n",
      "/Volumes/Repository/app/miniconda3/lib/python3.10/site-packages/akshare/futures/receipt.py:429: UserWarning: 20240825 非交易日\n",
      "  warnings.warn(f\"{start_date.strftime('%Y%m%d')} 非交易日\")\n"
     ]
    },
    {
     "name": "stdout",
     "output_type": "stream",
     "text": [
      "2024-08-27\n",
      "2024-08-28\n",
      "2024-08-29\n",
      "2024-08-30\n"
     ]
    },
    {
     "name": "stderr",
     "output_type": "stream",
     "text": [
      "/Volumes/Repository/app/miniconda3/lib/python3.10/site-packages/akshare/futures/receipt.py:429: UserWarning: 20240831 非交易日\n",
      "  warnings.warn(f\"{start_date.strftime('%Y%m%d')} 非交易日\")\n",
      "/Volumes/Repository/app/miniconda3/lib/python3.10/site-packages/akshare/futures/receipt.py:429: UserWarning: 20240901 非交易日\n",
      "  warnings.warn(f\"{start_date.strftime('%Y%m%d')} 非交易日\")\n"
     ]
    },
    {
     "name": "stdout",
     "output_type": "stream",
     "text": [
      "2024-09-02\n",
      "2024-09-03\n",
      "2024-09-04\n",
      "2024-09-05\n",
      "2024-09-06\n"
     ]
    },
    {
     "name": "stderr",
     "output_type": "stream",
     "text": [
      "/Volumes/Repository/app/miniconda3/lib/python3.10/site-packages/akshare/futures/receipt.py:429: UserWarning: 20240907 非交易日\n",
      "  warnings.warn(f\"{start_date.strftime('%Y%m%d')} 非交易日\")\n",
      "/Volumes/Repository/app/miniconda3/lib/python3.10/site-packages/akshare/futures/receipt.py:429: UserWarning: 20240908 非交易日\n",
      "  warnings.warn(f\"{start_date.strftime('%Y%m%d')} 非交易日\")\n"
     ]
    },
    {
     "name": "stdout",
     "output_type": "stream",
     "text": [
      "2024-09-09\n",
      "2024-09-10\n",
      "2024-09-11\n",
      "2024-09-12\n",
      "2024-09-13\n"
     ]
    },
    {
     "name": "stderr",
     "output_type": "stream",
     "text": [
      "/Volumes/Repository/app/miniconda3/lib/python3.10/site-packages/akshare/futures/receipt.py:429: UserWarning: 20240914 非交易日\n",
      "  warnings.warn(f\"{start_date.strftime('%Y%m%d')} 非交易日\")\n",
      "/Volumes/Repository/app/miniconda3/lib/python3.10/site-packages/akshare/futures/receipt.py:429: UserWarning: 20240915 非交易日\n",
      "  warnings.warn(f\"{start_date.strftime('%Y%m%d')} 非交易日\")\n",
      "/Volumes/Repository/app/miniconda3/lib/python3.10/site-packages/akshare/futures/receipt.py:429: UserWarning: 20240916 非交易日\n",
      "  warnings.warn(f\"{start_date.strftime('%Y%m%d')} 非交易日\")\n",
      "/Volumes/Repository/app/miniconda3/lib/python3.10/site-packages/akshare/futures/receipt.py:429: UserWarning: 20240917 非交易日\n",
      "  warnings.warn(f\"{start_date.strftime('%Y%m%d')} 非交易日\")\n"
     ]
    },
    {
     "name": "stdout",
     "output_type": "stream",
     "text": [
      "2024-09-18\n",
      "2024-09-19\n",
      "2024-09-20\n"
     ]
    },
    {
     "name": "stderr",
     "output_type": "stream",
     "text": [
      "/Volumes/Repository/app/miniconda3/lib/python3.10/site-packages/akshare/futures/receipt.py:429: UserWarning: 20240921 非交易日\n",
      "  warnings.warn(f\"{start_date.strftime('%Y%m%d')} 非交易日\")\n",
      "/Volumes/Repository/app/miniconda3/lib/python3.10/site-packages/akshare/futures/receipt.py:429: UserWarning: 20240922 非交易日\n",
      "  warnings.warn(f\"{start_date.strftime('%Y%m%d')} 非交易日\")\n"
     ]
    },
    {
     "name": "stdout",
     "output_type": "stream",
     "text": [
      "2024-09-23\n",
      "2024-09-24\n",
      "2024-09-25\n",
      "2024-09-26\n",
      "2024-09-27\n"
     ]
    },
    {
     "name": "stderr",
     "output_type": "stream",
     "text": [
      "/Volumes/Repository/app/miniconda3/lib/python3.10/site-packages/akshare/futures/receipt.py:429: UserWarning: 20240928 非交易日\n",
      "  warnings.warn(f\"{start_date.strftime('%Y%m%d')} 非交易日\")\n",
      "/Volumes/Repository/app/miniconda3/lib/python3.10/site-packages/akshare/futures/receipt.py:429: UserWarning: 20240929 非交易日\n",
      "  warnings.warn(f\"{start_date.strftime('%Y%m%d')} 非交易日\")\n"
     ]
    },
    {
     "name": "stdout",
     "output_type": "stream",
     "text": [
      "2024-09-30\n"
     ]
    },
    {
     "name": "stderr",
     "output_type": "stream",
     "text": [
      "/Volumes/Repository/app/miniconda3/lib/python3.10/site-packages/akshare/futures/receipt.py:429: UserWarning: 20241001 非交易日\n",
      "  warnings.warn(f\"{start_date.strftime('%Y%m%d')} 非交易日\")\n",
      "/Volumes/Repository/app/miniconda3/lib/python3.10/site-packages/akshare/futures/receipt.py:429: UserWarning: 20241002 非交易日\n",
      "  warnings.warn(f\"{start_date.strftime('%Y%m%d')} 非交易日\")\n",
      "/Volumes/Repository/app/miniconda3/lib/python3.10/site-packages/akshare/futures/receipt.py:429: UserWarning: 20241003 非交易日\n",
      "  warnings.warn(f\"{start_date.strftime('%Y%m%d')} 非交易日\")\n",
      "/Volumes/Repository/app/miniconda3/lib/python3.10/site-packages/akshare/futures/receipt.py:429: UserWarning: 20241004 非交易日\n",
      "  warnings.warn(f\"{start_date.strftime('%Y%m%d')} 非交易日\")\n",
      "/Volumes/Repository/app/miniconda3/lib/python3.10/site-packages/akshare/futures/receipt.py:429: UserWarning: 20241005 非交易日\n",
      "  warnings.warn(f\"{start_date.strftime('%Y%m%d')} 非交易日\")\n",
      "/Volumes/Repository/app/miniconda3/lib/python3.10/site-packages/akshare/futures/receipt.py:429: UserWarning: 20241006 非交易日\n",
      "  warnings.warn(f\"{start_date.strftime('%Y%m%d')} 非交易日\")\n",
      "/Volumes/Repository/app/miniconda3/lib/python3.10/site-packages/akshare/futures/receipt.py:429: UserWarning: 20241007 非交易日\n",
      "  warnings.warn(f\"{start_date.strftime('%Y%m%d')} 非交易日\")\n"
     ]
    },
    {
     "name": "stdout",
     "output_type": "stream",
     "text": [
      "2024-10-08\n",
      "2024-10-09\n",
      "2024-10-10\n",
      "2024-10-11\n"
     ]
    },
    {
     "name": "stderr",
     "output_type": "stream",
     "text": [
      "/Volumes/Repository/app/miniconda3/lib/python3.10/site-packages/akshare/futures/receipt.py:429: UserWarning: 20241012 非交易日\n",
      "  warnings.warn(f\"{start_date.strftime('%Y%m%d')} 非交易日\")\n",
      "/Volumes/Repository/app/miniconda3/lib/python3.10/site-packages/akshare/futures/receipt.py:429: UserWarning: 20241013 非交易日\n",
      "  warnings.warn(f\"{start_date.strftime('%Y%m%d')} 非交易日\")\n"
     ]
    },
    {
     "name": "stdout",
     "output_type": "stream",
     "text": [
      "2024-10-14\n",
      "2024-10-15\n",
      "2024-10-16\n",
      "2024-10-17\n",
      "2024-10-18\n"
     ]
    },
    {
     "name": "stderr",
     "output_type": "stream",
     "text": [
      "/Volumes/Repository/app/miniconda3/lib/python3.10/site-packages/akshare/futures/receipt.py:429: UserWarning: 20241019 非交易日\n",
      "  warnings.warn(f\"{start_date.strftime('%Y%m%d')} 非交易日\")\n",
      "/Volumes/Repository/app/miniconda3/lib/python3.10/site-packages/akshare/futures/receipt.py:429: UserWarning: 20241020 非交易日\n",
      "  warnings.warn(f\"{start_date.strftime('%Y%m%d')} 非交易日\")\n"
     ]
    },
    {
     "name": "stdout",
     "output_type": "stream",
     "text": [
      "2024-10-21\n",
      "2024-10-22\n",
      "2024-10-23\n",
      "2024-10-24\n",
      "2024-10-25\n"
     ]
    },
    {
     "name": "stderr",
     "output_type": "stream",
     "text": [
      "/Volumes/Repository/app/miniconda3/lib/python3.10/site-packages/akshare/futures/receipt.py:429: UserWarning: 20241026 非交易日\n",
      "  warnings.warn(f\"{start_date.strftime('%Y%m%d')} 非交易日\")\n",
      "/Volumes/Repository/app/miniconda3/lib/python3.10/site-packages/akshare/futures/receipt.py:429: UserWarning: 20241027 非交易日\n",
      "  warnings.warn(f\"{start_date.strftime('%Y%m%d')} 非交易日\")\n"
     ]
    },
    {
     "name": "stdout",
     "output_type": "stream",
     "text": [
      "2024-10-28\n",
      "2024-10-29\n",
      "2024-10-30\n",
      "2024-10-31\n",
      "2024-11-01\n"
     ]
    },
    {
     "name": "stderr",
     "output_type": "stream",
     "text": [
      "/Volumes/Repository/app/miniconda3/lib/python3.10/site-packages/akshare/futures/receipt.py:429: UserWarning: 20241102 非交易日\n",
      "  warnings.warn(f\"{start_date.strftime('%Y%m%d')} 非交易日\")\n",
      "/Volumes/Repository/app/miniconda3/lib/python3.10/site-packages/akshare/futures/receipt.py:429: UserWarning: 20241103 非交易日\n",
      "  warnings.warn(f\"{start_date.strftime('%Y%m%d')} 非交易日\")\n"
     ]
    },
    {
     "name": "stdout",
     "output_type": "stream",
     "text": [
      "2024-11-04\n",
      "2024-11-05\n",
      "2024-11-06\n",
      "2024-11-07\n",
      "2024-11-08\n"
     ]
    },
    {
     "name": "stderr",
     "output_type": "stream",
     "text": [
      "/Volumes/Repository/app/miniconda3/lib/python3.10/site-packages/akshare/futures/receipt.py:429: UserWarning: 20241109 非交易日\n",
      "  warnings.warn(f\"{start_date.strftime('%Y%m%d')} 非交易日\")\n",
      "/Volumes/Repository/app/miniconda3/lib/python3.10/site-packages/akshare/futures/receipt.py:429: UserWarning: 20241110 非交易日\n",
      "  warnings.warn(f\"{start_date.strftime('%Y%m%d')} 非交易日\")\n"
     ]
    },
    {
     "name": "stdout",
     "output_type": "stream",
     "text": [
      "2024-11-11\n",
      "2024-11-12\n",
      "2024-11-13\n",
      "2024-11-14\n",
      "2024-11-15\n"
     ]
    },
    {
     "name": "stderr",
     "output_type": "stream",
     "text": [
      "/Volumes/Repository/app/miniconda3/lib/python3.10/site-packages/akshare/futures/receipt.py:429: UserWarning: 20241116 非交易日\n",
      "  warnings.warn(f\"{start_date.strftime('%Y%m%d')} 非交易日\")\n",
      "/Volumes/Repository/app/miniconda3/lib/python3.10/site-packages/akshare/futures/receipt.py:429: UserWarning: 20241117 非交易日\n",
      "  warnings.warn(f\"{start_date.strftime('%Y%m%d')} 非交易日\")\n"
     ]
    },
    {
     "name": "stdout",
     "output_type": "stream",
     "text": [
      "2024-11-18\n",
      "2024-11-19\n",
      "2024-11-20\n",
      "2024-11-21\n",
      "2024-11-22\n"
     ]
    },
    {
     "name": "stderr",
     "output_type": "stream",
     "text": [
      "/Volumes/Repository/app/miniconda3/lib/python3.10/site-packages/akshare/futures/receipt.py:429: UserWarning: 20241123 非交易日\n",
      "  warnings.warn(f\"{start_date.strftime('%Y%m%d')} 非交易日\")\n",
      "/Volumes/Repository/app/miniconda3/lib/python3.10/site-packages/akshare/futures/receipt.py:429: UserWarning: 20241124 非交易日\n",
      "  warnings.warn(f\"{start_date.strftime('%Y%m%d')} 非交易日\")\n"
     ]
    },
    {
     "name": "stdout",
     "output_type": "stream",
     "text": [
      "2024-11-25\n",
      "2024-11-26\n",
      "2024-11-27\n",
      "2024-11-28\n",
      "2024-11-29\n",
      "2024-12-02\n"
     ]
    },
    {
     "name": "stderr",
     "output_type": "stream",
     "text": [
      "/Volumes/Repository/app/miniconda3/lib/python3.10/site-packages/akshare/futures/receipt.py:429: UserWarning: 20241130 非交易日\n",
      "  warnings.warn(f\"{start_date.strftime('%Y%m%d')} 非交易日\")\n",
      "/Volumes/Repository/app/miniconda3/lib/python3.10/site-packages/akshare/futures/receipt.py:429: UserWarning: 20241201 非交易日\n",
      "  warnings.warn(f\"{start_date.strftime('%Y%m%d')} 非交易日\")\n"
     ]
    },
    {
     "name": "stdout",
     "output_type": "stream",
     "text": [
      "2024-12-03\n",
      "2024-12-04\n",
      "2024-12-05\n",
      "2024-12-06\n"
     ]
    }
   ],
   "source": [
    "df_receipt_czce_append = ak.get_receipt(start_date, end_date, vars_list=czce)\n",
    "df_receipt_czce_append['date'] = pd.to_datetime(df_receipt_czce_append['date'])\n",
    "df_receipt_czce_append.rename(columns={'var': 'variety'}, inplace=True)\n",
    "dws.save_data(df_receipt_czce_append, 'receipt', 'append')"
   ]
  },
  {
   "cell_type": "markdown",
   "metadata": {},
   "source": [
    "### SHFE"
   ]
  },
  {
   "cell_type": "code",
   "execution_count": 20,
   "metadata": {},
   "outputs": [
    {
     "name": "stderr",
     "output_type": "stream",
     "text": [
      "/Volumes/Repository/app/miniconda3/lib/python3.10/site-packages/akshare/futures/receipt.py:429: UserWarning: 20240817 非交易日\n",
      "  warnings.warn(f\"{start_date.strftime('%Y%m%d')} 非交易日\")\n",
      "/Volumes/Repository/app/miniconda3/lib/python3.10/site-packages/akshare/futures/receipt.py:429: UserWarning: 20240818 非交易日\n",
      "  warnings.warn(f\"{start_date.strftime('%Y%m%d')} 非交易日\")\n"
     ]
    },
    {
     "name": "stdout",
     "output_type": "stream",
     "text": [
      "2024-08-19\n",
      "2024-08-20\n",
      "2024-08-21\n",
      "2024-08-22\n",
      "2024-08-23\n"
     ]
    },
    {
     "name": "stderr",
     "output_type": "stream",
     "text": [
      "/Volumes/Repository/app/miniconda3/lib/python3.10/site-packages/akshare/futures/receipt.py:429: UserWarning: 20240824 非交易日\n",
      "  warnings.warn(f\"{start_date.strftime('%Y%m%d')} 非交易日\")\n",
      "/Volumes/Repository/app/miniconda3/lib/python3.10/site-packages/akshare/futures/receipt.py:429: UserWarning: 20240825 非交易日\n",
      "  warnings.warn(f\"{start_date.strftime('%Y%m%d')} 非交易日\")\n"
     ]
    },
    {
     "name": "stdout",
     "output_type": "stream",
     "text": [
      "2024-08-26\n",
      "2024-08-27\n",
      "2024-08-28\n",
      "2024-08-29\n",
      "2024-08-30\n"
     ]
    },
    {
     "name": "stderr",
     "output_type": "stream",
     "text": [
      "/Volumes/Repository/app/miniconda3/lib/python3.10/site-packages/akshare/futures/receipt.py:429: UserWarning: 20240831 非交易日\n",
      "  warnings.warn(f\"{start_date.strftime('%Y%m%d')} 非交易日\")\n",
      "/Volumes/Repository/app/miniconda3/lib/python3.10/site-packages/akshare/futures/receipt.py:429: UserWarning: 20240901 非交易日\n",
      "  warnings.warn(f\"{start_date.strftime('%Y%m%d')} 非交易日\")\n"
     ]
    },
    {
     "name": "stdout",
     "output_type": "stream",
     "text": [
      "2024-09-02\n",
      "2024-09-03\n",
      "2024-09-04\n",
      "2024-09-05\n",
      "2024-09-06\n"
     ]
    },
    {
     "name": "stderr",
     "output_type": "stream",
     "text": [
      "/Volumes/Repository/app/miniconda3/lib/python3.10/site-packages/akshare/futures/receipt.py:429: UserWarning: 20240907 非交易日\n",
      "  warnings.warn(f\"{start_date.strftime('%Y%m%d')} 非交易日\")\n",
      "/Volumes/Repository/app/miniconda3/lib/python3.10/site-packages/akshare/futures/receipt.py:429: UserWarning: 20240908 非交易日\n",
      "  warnings.warn(f\"{start_date.strftime('%Y%m%d')} 非交易日\")\n"
     ]
    },
    {
     "name": "stdout",
     "output_type": "stream",
     "text": [
      "2024-09-09\n",
      "2024-09-10\n",
      "2024-09-11\n",
      "2024-09-12\n",
      "2024-09-13\n"
     ]
    },
    {
     "name": "stderr",
     "output_type": "stream",
     "text": [
      "/Volumes/Repository/app/miniconda3/lib/python3.10/site-packages/akshare/futures/receipt.py:429: UserWarning: 20240914 非交易日\n",
      "  warnings.warn(f\"{start_date.strftime('%Y%m%d')} 非交易日\")\n",
      "/Volumes/Repository/app/miniconda3/lib/python3.10/site-packages/akshare/futures/receipt.py:429: UserWarning: 20240915 非交易日\n",
      "  warnings.warn(f\"{start_date.strftime('%Y%m%d')} 非交易日\")\n",
      "/Volumes/Repository/app/miniconda3/lib/python3.10/site-packages/akshare/futures/receipt.py:429: UserWarning: 20240916 非交易日\n",
      "  warnings.warn(f\"{start_date.strftime('%Y%m%d')} 非交易日\")\n",
      "/Volumes/Repository/app/miniconda3/lib/python3.10/site-packages/akshare/futures/receipt.py:429: UserWarning: 20240917 非交易日\n",
      "  warnings.warn(f\"{start_date.strftime('%Y%m%d')} 非交易日\")\n"
     ]
    },
    {
     "name": "stdout",
     "output_type": "stream",
     "text": [
      "2024-09-18\n",
      "2024-09-19\n",
      "2024-09-20\n"
     ]
    },
    {
     "name": "stderr",
     "output_type": "stream",
     "text": [
      "/Volumes/Repository/app/miniconda3/lib/python3.10/site-packages/akshare/futures/receipt.py:429: UserWarning: 20240921 非交易日\n",
      "  warnings.warn(f\"{start_date.strftime('%Y%m%d')} 非交易日\")\n",
      "/Volumes/Repository/app/miniconda3/lib/python3.10/site-packages/akshare/futures/receipt.py:429: UserWarning: 20240922 非交易日\n",
      "  warnings.warn(f\"{start_date.strftime('%Y%m%d')} 非交易日\")\n"
     ]
    },
    {
     "name": "stdout",
     "output_type": "stream",
     "text": [
      "2024-09-23\n",
      "2024-09-24\n",
      "2024-09-25\n",
      "2024-09-26\n",
      "2024-09-27\n"
     ]
    },
    {
     "name": "stderr",
     "output_type": "stream",
     "text": [
      "/Volumes/Repository/app/miniconda3/lib/python3.10/site-packages/akshare/futures/receipt.py:429: UserWarning: 20240928 非交易日\n",
      "  warnings.warn(f\"{start_date.strftime('%Y%m%d')} 非交易日\")\n",
      "/Volumes/Repository/app/miniconda3/lib/python3.10/site-packages/akshare/futures/receipt.py:429: UserWarning: 20240929 非交易日\n",
      "  warnings.warn(f\"{start_date.strftime('%Y%m%d')} 非交易日\")\n"
     ]
    },
    {
     "name": "stdout",
     "output_type": "stream",
     "text": [
      "2024-09-30\n"
     ]
    },
    {
     "name": "stderr",
     "output_type": "stream",
     "text": [
      "/Volumes/Repository/app/miniconda3/lib/python3.10/site-packages/akshare/futures/receipt.py:429: UserWarning: 20241001 非交易日\n",
      "  warnings.warn(f\"{start_date.strftime('%Y%m%d')} 非交易日\")\n",
      "/Volumes/Repository/app/miniconda3/lib/python3.10/site-packages/akshare/futures/receipt.py:429: UserWarning: 20241002 非交易日\n",
      "  warnings.warn(f\"{start_date.strftime('%Y%m%d')} 非交易日\")\n",
      "/Volumes/Repository/app/miniconda3/lib/python3.10/site-packages/akshare/futures/receipt.py:429: UserWarning: 20241003 非交易日\n",
      "  warnings.warn(f\"{start_date.strftime('%Y%m%d')} 非交易日\")\n",
      "/Volumes/Repository/app/miniconda3/lib/python3.10/site-packages/akshare/futures/receipt.py:429: UserWarning: 20241004 非交易日\n",
      "  warnings.warn(f\"{start_date.strftime('%Y%m%d')} 非交易日\")\n",
      "/Volumes/Repository/app/miniconda3/lib/python3.10/site-packages/akshare/futures/receipt.py:429: UserWarning: 20241005 非交易日\n",
      "  warnings.warn(f\"{start_date.strftime('%Y%m%d')} 非交易日\")\n",
      "/Volumes/Repository/app/miniconda3/lib/python3.10/site-packages/akshare/futures/receipt.py:429: UserWarning: 20241006 非交易日\n",
      "  warnings.warn(f\"{start_date.strftime('%Y%m%d')} 非交易日\")\n",
      "/Volumes/Repository/app/miniconda3/lib/python3.10/site-packages/akshare/futures/receipt.py:429: UserWarning: 20241007 非交易日\n",
      "  warnings.warn(f\"{start_date.strftime('%Y%m%d')} 非交易日\")\n"
     ]
    },
    {
     "name": "stdout",
     "output_type": "stream",
     "text": [
      "2024-10-08\n",
      "2024-10-09\n",
      "2024-10-10\n",
      "2024-10-11\n"
     ]
    },
    {
     "name": "stderr",
     "output_type": "stream",
     "text": [
      "/Volumes/Repository/app/miniconda3/lib/python3.10/site-packages/akshare/futures/receipt.py:429: UserWarning: 20241012 非交易日\n",
      "  warnings.warn(f\"{start_date.strftime('%Y%m%d')} 非交易日\")\n",
      "/Volumes/Repository/app/miniconda3/lib/python3.10/site-packages/akshare/futures/receipt.py:429: UserWarning: 20241013 非交易日\n",
      "  warnings.warn(f\"{start_date.strftime('%Y%m%d')} 非交易日\")\n"
     ]
    },
    {
     "name": "stdout",
     "output_type": "stream",
     "text": [
      "2024-10-14\n",
      "2024-10-15\n",
      "2024-10-16\n",
      "2024-10-17\n",
      "2024-10-18\n"
     ]
    },
    {
     "name": "stderr",
     "output_type": "stream",
     "text": [
      "/Volumes/Repository/app/miniconda3/lib/python3.10/site-packages/akshare/futures/receipt.py:429: UserWarning: 20241019 非交易日\n",
      "  warnings.warn(f\"{start_date.strftime('%Y%m%d')} 非交易日\")\n",
      "/Volumes/Repository/app/miniconda3/lib/python3.10/site-packages/akshare/futures/receipt.py:429: UserWarning: 20241020 非交易日\n",
      "  warnings.warn(f\"{start_date.strftime('%Y%m%d')} 非交易日\")\n"
     ]
    },
    {
     "name": "stdout",
     "output_type": "stream",
     "text": [
      "2024-10-21\n",
      "2024-10-22\n",
      "2024-10-23\n",
      "2024-10-24\n",
      "2024-10-25\n"
     ]
    },
    {
     "name": "stderr",
     "output_type": "stream",
     "text": [
      "/Volumes/Repository/app/miniconda3/lib/python3.10/site-packages/akshare/futures/receipt.py:429: UserWarning: 20241026 非交易日\n",
      "  warnings.warn(f\"{start_date.strftime('%Y%m%d')} 非交易日\")\n",
      "/Volumes/Repository/app/miniconda3/lib/python3.10/site-packages/akshare/futures/receipt.py:429: UserWarning: 20241027 非交易日\n",
      "  warnings.warn(f\"{start_date.strftime('%Y%m%d')} 非交易日\")\n"
     ]
    },
    {
     "name": "stdout",
     "output_type": "stream",
     "text": [
      "2024-10-28\n",
      "2024-10-29\n",
      "2024-10-30\n",
      "2024-10-31\n",
      "2024-11-01\n"
     ]
    },
    {
     "name": "stderr",
     "output_type": "stream",
     "text": [
      "/Volumes/Repository/app/miniconda3/lib/python3.10/site-packages/akshare/futures/receipt.py:429: UserWarning: 20241102 非交易日\n",
      "  warnings.warn(f\"{start_date.strftime('%Y%m%d')} 非交易日\")\n",
      "/Volumes/Repository/app/miniconda3/lib/python3.10/site-packages/akshare/futures/receipt.py:429: UserWarning: 20241103 非交易日\n",
      "  warnings.warn(f\"{start_date.strftime('%Y%m%d')} 非交易日\")\n"
     ]
    },
    {
     "name": "stdout",
     "output_type": "stream",
     "text": [
      "2024-11-04\n",
      "2024-11-05\n",
      "2024-11-06\n",
      "2024-11-07\n",
      "2024-11-08\n"
     ]
    },
    {
     "name": "stderr",
     "output_type": "stream",
     "text": [
      "/Volumes/Repository/app/miniconda3/lib/python3.10/site-packages/akshare/futures/receipt.py:429: UserWarning: 20241109 非交易日\n",
      "  warnings.warn(f\"{start_date.strftime('%Y%m%d')} 非交易日\")\n",
      "/Volumes/Repository/app/miniconda3/lib/python3.10/site-packages/akshare/futures/receipt.py:429: UserWarning: 20241110 非交易日\n",
      "  warnings.warn(f\"{start_date.strftime('%Y%m%d')} 非交易日\")\n"
     ]
    },
    {
     "name": "stdout",
     "output_type": "stream",
     "text": [
      "2024-11-11\n",
      "2024-11-12\n",
      "2024-11-13\n",
      "2024-11-14\n",
      "2024-11-15\n"
     ]
    },
    {
     "name": "stderr",
     "output_type": "stream",
     "text": [
      "/Volumes/Repository/app/miniconda3/lib/python3.10/site-packages/akshare/futures/receipt.py:429: UserWarning: 20241116 非交易日\n",
      "  warnings.warn(f\"{start_date.strftime('%Y%m%d')} 非交易日\")\n",
      "/Volumes/Repository/app/miniconda3/lib/python3.10/site-packages/akshare/futures/receipt.py:429: UserWarning: 20241117 非交易日\n",
      "  warnings.warn(f\"{start_date.strftime('%Y%m%d')} 非交易日\")\n"
     ]
    },
    {
     "name": "stdout",
     "output_type": "stream",
     "text": [
      "2024-11-18\n",
      "2024-11-19\n",
      "2024-11-20\n",
      "2024-11-21\n",
      "2024-11-22\n"
     ]
    },
    {
     "name": "stderr",
     "output_type": "stream",
     "text": [
      "/Volumes/Repository/app/miniconda3/lib/python3.10/site-packages/akshare/futures/receipt.py:429: UserWarning: 20241123 非交易日\n",
      "  warnings.warn(f\"{start_date.strftime('%Y%m%d')} 非交易日\")\n",
      "/Volumes/Repository/app/miniconda3/lib/python3.10/site-packages/akshare/futures/receipt.py:429: UserWarning: 20241124 非交易日\n",
      "  warnings.warn(f\"{start_date.strftime('%Y%m%d')} 非交易日\")\n"
     ]
    },
    {
     "name": "stdout",
     "output_type": "stream",
     "text": [
      "2024-11-25\n",
      "2024-11-26\n",
      "2024-11-27\n",
      "2024-11-28\n",
      "2024-11-29\n"
     ]
    },
    {
     "name": "stderr",
     "output_type": "stream",
     "text": [
      "/Volumes/Repository/app/miniconda3/lib/python3.10/site-packages/akshare/futures/receipt.py:429: UserWarning: 20241130 非交易日\n",
      "  warnings.warn(f\"{start_date.strftime('%Y%m%d')} 非交易日\")\n",
      "/Volumes/Repository/app/miniconda3/lib/python3.10/site-packages/akshare/futures/receipt.py:429: UserWarning: 20241201 非交易日\n",
      "  warnings.warn(f\"{start_date.strftime('%Y%m%d')} 非交易日\")\n"
     ]
    },
    {
     "name": "stdout",
     "output_type": "stream",
     "text": [
      "2024-12-02\n",
      "2024-12-03\n",
      "2024-12-04\n",
      "2024-12-05\n",
      "2024-12-06\n"
     ]
    }
   ],
   "source": [
    "df_receipt_shfe_append = ak.get_receipt(start_date, end_date, vars_list=shfe)\n",
    "df_receipt_shfe_append['date'] = pd.to_datetime(df_receipt_shfe_append['date'])\n",
    "df_receipt_shfe_append.rename(columns={'var': 'variety'}, inplace=True)\n",
    "dws.save_data(df_receipt_shfe_append, 'receipt', 'append')"
   ]
  },
  {
   "cell_type": "code",
   "execution_count": 21,
   "metadata": {},
   "outputs": [],
   "source": [
    "# 按日期/品种去重\n",
    "receipt_data = dws.get_data_by_sql('SELECT * FROM receipt')\n",
    "receipt_data['date'] = pd.to_datetime(receipt_data['date'], format='ISO8601')\n",
    "receipt_data_drop_dup = receipt_data.drop_duplicates(subset=['date', 'variety'], keep='last')\n",
    "dws.save_data(receipt_data_drop_dup, 'receipt')"
   ]
  },
  {
   "cell_type": "markdown",
   "metadata": {},
   "source": [
    "## 基差"
   ]
  },
  {
   "cell_type": "code",
   "execution_count": null,
   "metadata": {},
   "outputs": [],
   "source": [
    "last_date = dws.get_last_date('basis')\n",
    "last_date = pd.to_datetime(last_date)\n",
    "start_date = last_date + timedelta(days=1)\n",
    "end_date = datetime.now() - timedelta(days=1)\n",
    "delta = timedelta(days=1)\n",
    "dates = []\n",
    "while start_date <= end_date:\n",
    "   dates.append(start_date.strftime(\"%Y%m%d\"))\n",
    "   start_date += delta\n",
    "all_data = pd.DataFrame()\n",
    "for d in dates:\n",
    "   df = ak.futures_spot_price(d)\n",
    "   all_data = pd.concat([all_data, df], ignore_index=True)\n",
    "all_data['date'] = pd.to_datetime(all_data['date'])\n",
    "all_data.rename(columns={'symbol': 'variety'}, inplace=True)\n",
    "# 纠正AKShare基差/基差率计算错误（正负号）\n",
    "all_data['near_basis'] = -all_data['near_basis']\n",
    "all_data['dom_basis'] = -all_data['dom_basis']\n",
    "all_data['near_basis_rate'] = -all_data['near_basis_rate']\n",
    "all_data['dom_basis_rate'] = -all_data['dom_basis_rate']\n",
    "dws.save_data(all_data, 'basis', 'append')"
   ]
  },
  {
   "cell_type": "markdown",
   "metadata": {},
   "source": [
    "## 期限结构（合成）"
   ]
  },
  {
   "cell_type": "markdown",
   "metadata": {},
   "source": [
    "### 全量生成"
   ]
  },
  {
   "cell_type": "code",
   "execution_count": 28,
   "metadata": {},
   "outputs": [
    {
     "name": "stdout",
     "output_type": "stream",
     "text": [
      "czce: CJ\n"
     ]
    },
    {
     "name": "stderr",
     "output_type": "stream",
     "text": [
      "/var/folders/hc/6dqjp7bs58s2pcb47s4xfsf80000gn/T/ipykernel_12183/4277855255.py:42: FutureWarning: The behavior of DataFrame concatenation with empty or all-NA entries is deprecated. In a future version, this will no longer exclude empty or all-NA columns when determining the result dtypes. To retain the old behavior, exclude the relevant entries before the concat operation.\n",
      "  df_term_structure = pd.concat([df_term_structure, pd.DataFrame([new_row])], ignore_index=True)\n"
     ]
    },
    {
     "name": "stdout",
     "output_type": "stream",
     "text": [
      "czce: AP\n",
      "czce: SA\n",
      "czce: JR\n",
      "czce: RS\n",
      "czce: UR\n",
      "czce: RI\n",
      "czce: LR\n",
      "czce: CF\n",
      "czce: TA\n",
      "czce: SF\n",
      "czce: PR\n",
      "czce: PF\n",
      "czce: OI\n",
      "czce: PX\n",
      "czce: CY\n",
      "czce: MA\n",
      "czce: SR\n"
     ]
    },
    {
     "ename": "KeyboardInterrupt",
     "evalue": "",
     "output_type": "error",
     "traceback": [
      "\u001b[0;31m---------------------------------------------------------------------------\u001b[0m",
      "\u001b[0;31mKeyboardInterrupt\u001b[0m                         Traceback (most recent call last)",
      "Cell \u001b[0;32mIn[28], line 22\u001b[0m\n\u001b[1;32m     20\u001b[0m \u001b[38;5;28;01mif\u001b[39;00m variety_id \u001b[38;5;129;01mnot\u001b[39;00m \u001b[38;5;129;01min\u001b[39;00m variety_setting: \u001b[38;5;28;01mcontinue\u001b[39;00m\n\u001b[1;32m     21\u001b[0m dominant_months \u001b[38;5;241m=\u001b[39m variety_setting[variety_id][\u001b[38;5;124m'\u001b[39m\u001b[38;5;124mDominantMonths\u001b[39m\u001b[38;5;124m'\u001b[39m]       \n\u001b[0;32m---> 22\u001b[0m df_variety \u001b[38;5;241m=\u001b[39m df_term[\u001b[43mdf_term\u001b[49m\u001b[43m[\u001b[49m\u001b[38;5;124;43m'\u001b[39;49m\u001b[38;5;124;43mvariety\u001b[39;49m\u001b[38;5;124;43m'\u001b[39;49m\u001b[43m]\u001b[49m\u001b[38;5;241;43m==\u001b[39;49m\u001b[43mvariety_id\u001b[49m]\n\u001b[1;32m     23\u001b[0m date_list \u001b[38;5;241m=\u001b[39m df_variety[\u001b[38;5;124m'\u001b[39m\u001b[38;5;124mdate\u001b[39m\u001b[38;5;124m'\u001b[39m]\u001b[38;5;241m.\u001b[39munique()\n\u001b[1;32m     24\u001b[0m \u001b[38;5;28;01mfor\u001b[39;00m trade_date \u001b[38;5;129;01min\u001b[39;00m date_list:\n\u001b[1;32m     25\u001b[0m    \u001b[38;5;66;03m# print(trade_date)\u001b[39;00m\n",
      "File \u001b[0;32m/Volumes/Repository/app/miniconda3/lib/python3.10/site-packages/pandas/core/ops/common.py:76\u001b[0m, in \u001b[0;36m_unpack_zerodim_and_defer.<locals>.new_method\u001b[0;34m(self, other)\u001b[0m\n\u001b[1;32m     72\u001b[0m             \u001b[38;5;28;01mreturn\u001b[39;00m \u001b[38;5;28mNotImplemented\u001b[39m\n\u001b[1;32m     74\u001b[0m other \u001b[38;5;241m=\u001b[39m item_from_zerodim(other)\n\u001b[0;32m---> 76\u001b[0m \u001b[38;5;28;01mreturn\u001b[39;00m \u001b[43mmethod\u001b[49m\u001b[43m(\u001b[49m\u001b[38;5;28;43mself\u001b[39;49m\u001b[43m,\u001b[49m\u001b[43m \u001b[49m\u001b[43mother\u001b[49m\u001b[43m)\u001b[49m\n",
      "File \u001b[0;32m/Volumes/Repository/app/miniconda3/lib/python3.10/site-packages/pandas/core/arraylike.py:40\u001b[0m, in \u001b[0;36mOpsMixin.__eq__\u001b[0;34m(self, other)\u001b[0m\n\u001b[1;32m     38\u001b[0m \u001b[38;5;129m@unpack_zerodim_and_defer\u001b[39m(\u001b[38;5;124m\"\u001b[39m\u001b[38;5;124m__eq__\u001b[39m\u001b[38;5;124m\"\u001b[39m)\n\u001b[1;32m     39\u001b[0m \u001b[38;5;28;01mdef\u001b[39;00m \u001b[38;5;21m__eq__\u001b[39m(\u001b[38;5;28mself\u001b[39m, other):\n\u001b[0;32m---> 40\u001b[0m     \u001b[38;5;28;01mreturn\u001b[39;00m \u001b[38;5;28;43mself\u001b[39;49m\u001b[38;5;241;43m.\u001b[39;49m\u001b[43m_cmp_method\u001b[49m\u001b[43m(\u001b[49m\u001b[43mother\u001b[49m\u001b[43m,\u001b[49m\u001b[43m \u001b[49m\u001b[43moperator\u001b[49m\u001b[38;5;241;43m.\u001b[39;49m\u001b[43meq\u001b[49m\u001b[43m)\u001b[49m\n",
      "File \u001b[0;32m/Volumes/Repository/app/miniconda3/lib/python3.10/site-packages/pandas/core/series.py:6119\u001b[0m, in \u001b[0;36mSeries._cmp_method\u001b[0;34m(self, other, op)\u001b[0m\n\u001b[1;32m   6116\u001b[0m lvalues \u001b[38;5;241m=\u001b[39m \u001b[38;5;28mself\u001b[39m\u001b[38;5;241m.\u001b[39m_values\n\u001b[1;32m   6117\u001b[0m rvalues \u001b[38;5;241m=\u001b[39m extract_array(other, extract_numpy\u001b[38;5;241m=\u001b[39m\u001b[38;5;28;01mTrue\u001b[39;00m, extract_range\u001b[38;5;241m=\u001b[39m\u001b[38;5;28;01mTrue\u001b[39;00m)\n\u001b[0;32m-> 6119\u001b[0m res_values \u001b[38;5;241m=\u001b[39m \u001b[43mops\u001b[49m\u001b[38;5;241;43m.\u001b[39;49m\u001b[43mcomparison_op\u001b[49m\u001b[43m(\u001b[49m\u001b[43mlvalues\u001b[49m\u001b[43m,\u001b[49m\u001b[43m \u001b[49m\u001b[43mrvalues\u001b[49m\u001b[43m,\u001b[49m\u001b[43m \u001b[49m\u001b[43mop\u001b[49m\u001b[43m)\u001b[49m\n\u001b[1;32m   6121\u001b[0m \u001b[38;5;28;01mreturn\u001b[39;00m \u001b[38;5;28mself\u001b[39m\u001b[38;5;241m.\u001b[39m_construct_result(res_values, name\u001b[38;5;241m=\u001b[39mres_name)\n",
      "File \u001b[0;32m/Volumes/Repository/app/miniconda3/lib/python3.10/site-packages/pandas/core/ops/array_ops.py:344\u001b[0m, in \u001b[0;36mcomparison_op\u001b[0;34m(left, right, op)\u001b[0m\n\u001b[1;32m    341\u001b[0m     \u001b[38;5;28;01mreturn\u001b[39;00m invalid_comparison(lvalues, rvalues, op)\n\u001b[1;32m    343\u001b[0m \u001b[38;5;28;01melif\u001b[39;00m lvalues\u001b[38;5;241m.\u001b[39mdtype \u001b[38;5;241m==\u001b[39m \u001b[38;5;28mobject\u001b[39m \u001b[38;5;129;01mor\u001b[39;00m \u001b[38;5;28misinstance\u001b[39m(rvalues, \u001b[38;5;28mstr\u001b[39m):\n\u001b[0;32m--> 344\u001b[0m     res_values \u001b[38;5;241m=\u001b[39m \u001b[43mcomp_method_OBJECT_ARRAY\u001b[49m\u001b[43m(\u001b[49m\u001b[43mop\u001b[49m\u001b[43m,\u001b[49m\u001b[43m \u001b[49m\u001b[43mlvalues\u001b[49m\u001b[43m,\u001b[49m\u001b[43m \u001b[49m\u001b[43mrvalues\u001b[49m\u001b[43m)\u001b[49m\n\u001b[1;32m    346\u001b[0m \u001b[38;5;28;01melse\u001b[39;00m:\n\u001b[1;32m    347\u001b[0m     res_values \u001b[38;5;241m=\u001b[39m _na_arithmetic_op(lvalues, rvalues, op, is_cmp\u001b[38;5;241m=\u001b[39m\u001b[38;5;28;01mTrue\u001b[39;00m)\n",
      "File \u001b[0;32m/Volumes/Repository/app/miniconda3/lib/python3.10/site-packages/pandas/core/ops/array_ops.py:129\u001b[0m, in \u001b[0;36mcomp_method_OBJECT_ARRAY\u001b[0;34m(op, x, y)\u001b[0m\n\u001b[1;32m    127\u001b[0m     result \u001b[38;5;241m=\u001b[39m libops\u001b[38;5;241m.\u001b[39mvec_compare(x\u001b[38;5;241m.\u001b[39mravel(), y\u001b[38;5;241m.\u001b[39mravel(), op)\n\u001b[1;32m    128\u001b[0m \u001b[38;5;28;01melse\u001b[39;00m:\n\u001b[0;32m--> 129\u001b[0m     result \u001b[38;5;241m=\u001b[39m \u001b[43mlibops\u001b[49m\u001b[38;5;241;43m.\u001b[39;49m\u001b[43mscalar_compare\u001b[49m\u001b[43m(\u001b[49m\u001b[43mx\u001b[49m\u001b[38;5;241;43m.\u001b[39;49m\u001b[43mravel\u001b[49m\u001b[43m(\u001b[49m\u001b[43m)\u001b[49m\u001b[43m,\u001b[49m\u001b[43m \u001b[49m\u001b[43my\u001b[49m\u001b[43m,\u001b[49m\u001b[43m \u001b[49m\u001b[43mop\u001b[49m\u001b[43m)\u001b[49m\n\u001b[1;32m    130\u001b[0m \u001b[38;5;28;01mreturn\u001b[39;00m result\u001b[38;5;241m.\u001b[39mreshape(x\u001b[38;5;241m.\u001b[39mshape)\n",
      "\u001b[0;31mKeyboardInterrupt\u001b[0m: "
     ]
    }
   ],
   "source": [
    "df_term_structure = pd.DataFrame(columns=['variety', 'date', 'flag', 'exchange'])\n",
    "\n",
    "variety_json = 'setting/variety.json'        \n",
    "with open(variety_json, encoding='utf-8') as variety_file:\n",
    "    variety_setting = json.load(variety_file)\n",
    "\n",
    "df_term = dws.get_data_by_sql(f\"SELECT * FROM dominant\")\n",
    "dominant_list = df_term['variety'].unique()\n",
    "\n",
    "# TODO: 增加贵金属交易所\n",
    "exchange_list = ['czce', 'dce', 'shfe']\n",
    "for exchange_id in exchange_list:\n",
    "     df_term = dws.get_data_by_sql(f\"SELECT * FROM {exchange_id}\")\n",
    "     df_term['date'] = pd.to_datetime(df_term['date'], format='ISO8601')\n",
    "     df_term['交割月'] = df_term['symbol'].str.slice(-2).astype(int)\n",
    "     variety_list = df_term['variety'].unique()\n",
    "     variety_list = set(dominant_list) & set(variety_list)\n",
    "     for variety_id in variety_list:\n",
    "         print(f'{exchange_id}: {variety_id}')\n",
    "         if variety_id not in variety_setting: continue\n",
    "         dominant_months = variety_setting[variety_id]['DominantMonths']       \n",
    "         df_variety = df_term[df_term['variety']==variety_id]\n",
    "         date_list = df_variety['date'].unique()\n",
    "         for trade_date in date_list:\n",
    "            # print(trade_date)\n",
    "            df_date = df_variety[df_variety['date']==trade_date]\n",
    "            max_open_interest_index= df_date['open_interest'].idxmax()\n",
    "            # domain_contract = df_date.loc[max_open_interest_index]['symbol']\n",
    "            df_date = df_date.loc[max_open_interest_index:]                             \n",
    "            df_dominant_contract = df_date[df_date['交割月'].isin(dominant_months)]\n",
    "            if len(df_dominant_contract)<2:\n",
    "                trade_flag = 0\n",
    "            else:\n",
    "                # print(df_dominant_contract)\n",
    "                diff = df_dominant_contract['settle'].head(len(dominant_months)+1).diff().dropna()\n",
    "                diff_trend = df_dominant_contract['settle'].iloc[-1] - df_dominant_contract['settle'].iloc[0]\n",
    "                trade_flag = -1 if all(diff>0) else 1 if all(diff<0) else -0.5 if diff_trend>0 else 0.5 if diff_trend<0 else 0 if diff_trend==0 else 0\n",
    "            new_row = {'variety': variety_id,\n",
    "                    'date': trade_date,\n",
    "                    'flag': trade_flag,\n",
    "                    'exchange': exchange_id}\n",
    "            df_term_structure = pd.concat([df_term_structure, pd.DataFrame([new_row])], ignore_index=True)"
   ]
  },
  {
   "cell_type": "code",
   "execution_count": 4,
   "metadata": {},
   "outputs": [],
   "source": [
    "df_term_structure['flag'] = df_term_structure['flag'].astype(float)\n",
    "dws.save_data(df_term_structure, 'term_structure')"
   ]
  },
  {
   "cell_type": "markdown",
   "metadata": {},
   "source": [
    "### 增量生成"
   ]
  },
  {
   "cell_type": "code",
   "execution_count": 29,
   "metadata": {},
   "outputs": [
    {
     "name": "stdout",
     "output_type": "stream",
     "text": [
      "Current Period:  2024-08-17 2024-12-06\n",
      "czce: CJ\n",
      "czce: AP\n",
      "czce: SA\n"
     ]
    },
    {
     "name": "stderr",
     "output_type": "stream",
     "text": [
      "/var/folders/hc/6dqjp7bs58s2pcb47s4xfsf80000gn/T/ipykernel_12183/2669407011.py:58: FutureWarning: The behavior of DataFrame concatenation with empty or all-NA entries is deprecated. In a future version, this will no longer exclude empty or all-NA columns when determining the result dtypes. To retain the old behavior, exclude the relevant entries before the concat operation.\n",
      "  df_term_structure = pd.concat([df_term_structure, pd.DataFrame([new_row])], ignore_index=True)\n"
     ]
    },
    {
     "name": "stdout",
     "output_type": "stream",
     "text": [
      "czce: RS\n",
      "czce: UR\n",
      "czce: CF\n",
      "czce: TA\n",
      "czce: SF\n",
      "czce: PR\n",
      "czce: PF\n",
      "czce: OI\n",
      "czce: PX\n",
      "czce: CY\n",
      "czce: MA\n",
      "czce: SR\n",
      "czce: FG\n",
      "czce: PK\n",
      "czce: SM\n",
      "czce: SH\n",
      "czce: RM\n",
      "dce: PP\n",
      "dce: EB\n",
      "dce: B\n",
      "dce: EG\n",
      "dce: L\n",
      "dce: LH\n",
      "dce: LG\n",
      "dce: I\n",
      "dce: M\n",
      "dce: A\n",
      "dce: PG\n",
      "dce: Y\n",
      "dce: JD\n",
      "dce: BB\n",
      "dce: FB\n",
      "dce: CS\n",
      "dce: P\n",
      "dce: C\n",
      "dce: RR\n",
      "dce: V\n",
      "dce: J\n",
      "dce: JM\n",
      "shfe: PB\n",
      "shfe: AO\n",
      "shfe: SN\n",
      "shfe: FU\n",
      "shfe: BU\n",
      "shfe: NI\n",
      "shfe: RB\n",
      "shfe: RU\n",
      "shfe: AG\n",
      "shfe: WR\n",
      "shfe: BR\n",
      "shfe: AL\n",
      "shfe: SP\n",
      "shfe: AU\n",
      "shfe: ZN\n",
      "shfe: CU\n",
      "shfe: HC\n",
      "shfe: SS\n"
     ]
    }
   ],
   "source": [
    "# 获取最后一次数据生成的日期，转换为datetime对象，并确定下一个开始日期\n",
    "last_date = dws.get_last_date('term_structure')\n",
    "last_date = pd.to_datetime(last_date)\n",
    "start_date = last_date + timedelta(days=1)\n",
    "end_date = datetime.now() - timedelta(days=1)\n",
    "\n",
    "# 格式化日期用于查询或文件名\n",
    "start_date_str = start_date.strftime('%Y-%m-%d')\n",
    "end_date_str = end_date.strftime('%Y-%m-%d')\n",
    "print('Current Period: ', start_date_str, end_date_str)\n",
    "\n",
    "# 准备存储期权结构数据的dataframe\n",
    "df_term_structure = pd.DataFrame(columns=['variety', 'date', 'flag', 'exchange'])\n",
    "\n",
    "# 加载品种设置\n",
    "variety_json = 'setting/variety.json'\n",
    "with open(variety_json, encoding='utf-8') as variety_file:\n",
    "    variety_setting = json.load(variety_file)\n",
    "\n",
    "# 获取主导品种数据\n",
    "df_term = dws.get_data_by_sql(f\"SELECT * FROM dominant WHERE date >= '{start_date_str}' AND date <= '{end_date_str}'\")\n",
    "dominant_list = df_term['variety'].unique()\n",
    "\n",
    "# 在列表中包括额外的交易所\n",
    "exchange_list = ['czce', 'dce', 'shfe']  # 根据需要添加新的交易所\n",
    "\n",
    "# 遍历交易所和品种填充期权结构\n",
    "for exchange_id in exchange_list:\n",
    "    df_term = dws.get_data_by_sql(f\"SELECT * FROM {exchange_id} WHERE date >= '{start_date_str}' AND date <= '{end_date_str}'\")\n",
    "    df_term['date'] = pd.to_datetime(df_term['date'], format='ISO8601')\n",
    "    df_term['交割月'] = df_term['symbol'].str.slice(-2).astype(int)\n",
    "    variety_list = df_term['variety'].unique()\n",
    "    variety_list = set(dominant_list) & set(variety_list)\n",
    "\n",
    "    for variety_id in variety_list:\n",
    "        print(f'{exchange_id}: {variety_id}')\n",
    "        if variety_id not in variety_setting:\n",
    "            continue\n",
    "\n",
    "        dominant_months = variety_setting[variety_id]['DominantMonths']\n",
    "        df_variety = df_term[df_term['variety'] == variety_id]\n",
    "        date_list = df_variety['date'].unique()\n",
    "\n",
    "        for trade_date in date_list:\n",
    "            df_date = df_variety[df_variety['date'] == trade_date]\n",
    "            max_open_interest_index = df_date['open_interest'].idxmax()\n",
    "            df_date = df_date.loc[max_open_interest_index:]\n",
    "            df_dominant_contract = df_date[df_date['交割月'].isin(dominant_months)]\n",
    "\n",
    "            if len(df_dominant_contract) < 2:\n",
    "                trade_flag = 0\n",
    "            else:\n",
    "                diff = df_dominant_contract['settle'].head(len(dominant_months)+1).diff().dropna()\n",
    "                diff_trend = df_dominant_contract['settle'].iloc[-1] - df_dominant_contract['settle'].iloc[0]\n",
    "                trade_flag = -1 if all(diff > 0) else 1 if all(diff < 0) else -0.5 if diff_trend > 0 else 0.5 if diff_trend < 0 else 0 if diff_trend == 0 else 0\n",
    "\n",
    "            new_row = {'variety': variety_id, 'date': trade_date, 'flag': trade_flag, 'exchange': exchange_id}\n",
    "            df_term_structure = pd.concat([df_term_structure, pd.DataFrame([new_row])], ignore_index=True)\n",
    "\n",
    "# 根据需要保存或处理df_term_structure\n"
   ]
  },
  {
   "cell_type": "code",
   "execution_count": 30,
   "metadata": {},
   "outputs": [],
   "source": [
    "df_term_structure['flag'] = df_term_structure['flag'].astype(float)\n",
    "dws.save_data(df_term_structure, 'term_structure', 'append')"
   ]
  },
  {
   "cell_type": "markdown",
   "metadata": {},
   "source": [
    "## 跨期价差（生成）"
   ]
  },
  {
   "cell_type": "markdown",
   "metadata": {},
   "source": [
    "### 全量生成"
   ]
  },
  {
   "cell_type": "code",
   "execution_count": 2,
   "metadata": {},
   "outputs": [
    {
     "name": "stdout",
     "output_type": "stream",
     "text": [
      "czce: RI\n"
     ]
    },
    {
     "name": "stderr",
     "output_type": "stream",
     "text": [
      "C:\\Users\\FUDIAN\\AppData\\Local\\Temp\\ipykernel_31636\\2557106275.py:57: FutureWarning: The behavior of DataFrame concatenation with empty or all-NA entries is deprecated. In a future version, this will no longer exclude empty or all-NA columns when determining the result dtypes. To retain the old behavior, exclude the relevant entries before the concat operation.\n",
      "  df_term_spread = pd.concat([df_term_spread, pd.DataFrame([new_row])], ignore_index=True)\n"
     ]
    },
    {
     "name": "stdout",
     "output_type": "stream",
     "text": [
      "czce: SR\n",
      "czce: PK\n",
      "czce: AP\n",
      "czce: SM\n",
      "czce: RM\n",
      "czce: RS\n",
      "czce: LR\n",
      "czce: UR\n",
      "czce: CF\n",
      "czce: OI\n",
      "czce: FG\n",
      "czce: WH\n",
      "czce: TA\n",
      "czce: PF\n",
      "czce: CJ\n",
      "czce: CY\n",
      "czce: JR\n",
      "czce: SA\n",
      "czce: SF\n",
      "czce: PX\n",
      "czce: SH\n",
      "czce: MA\n",
      "dce: JD\n",
      "dce: I\n",
      "dce: RR\n",
      "dce: EG\n",
      "dce: JM\n",
      "dce: LH\n",
      "dce: EB\n",
      "dce: M\n",
      "dce: Y\n",
      "dce: CS\n",
      "dce: C\n",
      "dce: FB\n",
      "dce: B\n",
      "dce: V\n",
      "dce: PG\n",
      "dce: A\n",
      "dce: L\n",
      "dce: PP\n",
      "dce: J\n",
      "dce: BB\n",
      "dce: P\n",
      "shfe: RB\n",
      "shfe: SP\n",
      "shfe: BU\n",
      "shfe: FU\n",
      "shfe: AG\n",
      "shfe: CU\n",
      "shfe: SS\n",
      "shfe: SN\n",
      "shfe: RU\n",
      "shfe: AO\n",
      "shfe: NI\n",
      "shfe: AL\n",
      "shfe: WR\n",
      "shfe: ZN\n",
      "shfe: PB\n",
      "shfe: BR\n",
      "shfe: HC\n",
      "shfe: AU\n"
     ]
    }
   ],
   "source": [
    "# last_date = dws.get_last_date('term_structure')\n",
    "# last_date = pd.to_datetime(last_date)\n",
    "# start_date = last_date + timedelta(days=1)\n",
    "# end_date = datetime.now() - timedelta(days=1)\n",
    "# start_date = start_date.strftime('%Y%m%d')\n",
    "# end_date = end_date.strftime('%Y%m%d')\n",
    "# print('Current Period: ', start_date, end_date)\n",
    "\n",
    "df_term_spread = pd.DataFrame(columns=['variety', 'date', 'primary_contract', 'primary_contract_close', 'secondary_contract', 'secondary_contract_close', 'spread', 'exchange'])\n",
    "\n",
    "variety_json = 'setting/variety.json'        \n",
    "with open(variety_json, encoding='utf-8') as variety_file:\n",
    "    variety_setting = json.load(variety_file)\n",
    "\n",
    "df_term = dws.get_data_by_sql(f\"SELECT * FROM dominant\")\n",
    "dominant_list = df_term['variety'].unique()\n",
    "\n",
    "# TODO: 增加贵金属交易所\n",
    "exchange_list = ['czce', 'dce', 'shfe']\n",
    "for exchange_id in exchange_list:\n",
    "     df_term = dws.get_data_by_sql(f\"SELECT * FROM {exchange_id}\")\n",
    "     df_term['date'] = pd.to_datetime(df_term['date'], format='ISO8601')\n",
    "     df_term['交割月'] = df_term['symbol'].str.slice(-2).astype(int)\n",
    "     variety_list = df_term['variety'].unique()\n",
    "     variety_list = set(dominant_list) & set(variety_list)\n",
    "     for variety_id in variety_list:\n",
    "         print(f'{exchange_id}: {variety_id}')\n",
    "         if variety_id not in variety_setting: continue\n",
    "         dominant_months = variety_setting[variety_id]['DominantMonths']       \n",
    "         # TODO: 如果主力合约月不大于2，使用非主力合约价差\n",
    "         if len(dominant_months)<2: continue\n",
    "         df_variety = df_term[df_term['variety']==variety_id]\n",
    "         date_list = df_variety['date'].unique()\n",
    "         for trade_date in date_list:\n",
    "            # print(trade_date)\n",
    "            df_date = df_variety[df_variety['date']==trade_date]\n",
    "            max_open_interest_index= df_date['open_interest'].idxmax()\n",
    "            # domain_contract = df_date.loc[max_open_interest_index]['symbol']\n",
    "            df_date = df_date.loc[max_open_interest_index:]                             \n",
    "            df_dominant_contract = df_date[df_date['交割月'].isin(dominant_months)]\n",
    "            if len(df_dominant_contract)<2:           \n",
    "                continue\n",
    "            else:\n",
    "                primary_contract = df_dominant_contract['symbol'].iloc[0]\n",
    "                primary_contract_close = df_dominant_contract['close'].iloc[0]\n",
    "                secondary_contract = df_dominant_contract['symbol'].iloc[1]\n",
    "                secondary_contract_close = df_dominant_contract['close'].iloc[1]              \n",
    "                spread = primary_contract_close - secondary_contract_close\n",
    "            new_row = {'variety': variety_id,\n",
    "                    'date': trade_date,\n",
    "                    'primary_contract': primary_contract,\n",
    "                    'primary_contract_close': primary_contract_close,                    \n",
    "                    'secondary_contract': secondary_contract,\n",
    "                    'secondary_contract_close': secondary_contract_close,\n",
    "                    'spread': spread,\n",
    "                    'exchange': exchange_id}\n",
    "            df_term_spread = pd.concat([df_term_spread, pd.DataFrame([new_row])], ignore_index=True)"
   ]
  },
  {
   "cell_type": "code",
   "execution_count": 3,
   "metadata": {},
   "outputs": [],
   "source": [
    "dws.save_data(df_term_spread, 'spread', 'replace')"
   ]
  },
  {
   "cell_type": "markdown",
   "metadata": {},
   "source": [
    "### 增量生成"
   ]
  },
  {
   "cell_type": "code",
   "execution_count": 31,
   "metadata": {},
   "outputs": [
    {
     "name": "stdout",
     "output_type": "stream",
     "text": [
      "Current Period:  2024-08-17 2024-12-06\n",
      "czce: CJ\n",
      "czce: AP\n",
      "czce: SA\n"
     ]
    },
    {
     "name": "stderr",
     "output_type": "stream",
     "text": [
      "/var/folders/hc/6dqjp7bs58s2pcb47s4xfsf80000gn/T/ipykernel_12183/2651163686.py:60: FutureWarning: The behavior of DataFrame concatenation with empty or all-NA entries is deprecated. In a future version, this will no longer exclude empty or all-NA columns when determining the result dtypes. To retain the old behavior, exclude the relevant entries before the concat operation.\n",
      "  df_term_spread = pd.concat([df_term_spread, pd.DataFrame([new_row])], ignore_index=True)\n"
     ]
    },
    {
     "name": "stdout",
     "output_type": "stream",
     "text": [
      "czce: RS\n",
      "czce: UR\n",
      "czce: CF\n",
      "czce: TA\n",
      "czce: SF\n",
      "czce: PR\n",
      "czce: PF\n",
      "czce: OI\n",
      "czce: PX\n",
      "czce: CY\n",
      "czce: MA\n",
      "czce: SR\n",
      "czce: FG\n",
      "czce: PK\n",
      "czce: SM\n",
      "czce: SH\n",
      "czce: RM\n",
      "dce: PP\n",
      "dce: EB\n",
      "dce: B\n",
      "dce: EG\n",
      "dce: L\n",
      "dce: LH\n",
      "dce: LG\n",
      "dce: I\n",
      "dce: M\n",
      "dce: A\n",
      "dce: PG\n",
      "dce: Y\n",
      "dce: JD\n",
      "dce: BB\n",
      "dce: FB\n",
      "dce: CS\n",
      "dce: P\n",
      "dce: C\n",
      "dce: RR\n",
      "dce: V\n",
      "dce: J\n",
      "dce: JM\n",
      "shfe: PB\n",
      "shfe: AO\n",
      "shfe: SN\n",
      "shfe: FU\n",
      "shfe: BU\n",
      "shfe: NI\n",
      "shfe: RB\n",
      "shfe: RU\n",
      "shfe: AG\n",
      "shfe: WR\n",
      "shfe: BR\n",
      "shfe: AL\n",
      "shfe: SP\n",
      "shfe: AU\n",
      "shfe: ZN\n",
      "shfe: CU\n",
      "shfe: HC\n",
      "shfe: SS\n"
     ]
    }
   ],
   "source": [
    "# 获取最后一次数据生成的日期，转换为datetime对象，并确定下一个开始日期\n",
    "last_date = dws.get_last_date('spread')\n",
    "last_date = pd.to_datetime(last_date)\n",
    "start_date = last_date + timedelta(days=1)\n",
    "end_date = datetime.now() - timedelta(days=1)\n",
    "\n",
    "# 格式化日期用于查询或文件名\n",
    "start_date_str = start_date.strftime('%Y-%m-%d')\n",
    "end_date_str = end_date.strftime('%Y-%m-%d')\n",
    "print('Current Period: ', start_date_str, end_date_str)\n",
    "\n",
    "df_term_spread = pd.DataFrame(columns=['variety', 'date', 'primary_contract', 'primary_contract_close', 'secondary_contract', 'secondary_contract_close', 'spread', 'exchange'])\n",
    "\n",
    "variety_json = 'setting/variety.json'        \n",
    "with open(variety_json, encoding='utf-8') as variety_file:\n",
    "    variety_setting = json.load(variety_file)\n",
    "\n",
    "df_term = dws.get_data_by_sql(f\"SELECT * FROM dominant WHERE date >= '{start_date_str}' AND date <= '{end_date_str}'\")\n",
    "dominant_list = df_term['variety'].unique()\n",
    "\n",
    "# TODO: 增加贵金属交易所\n",
    "exchange_list = ['czce', 'dce', 'shfe']\n",
    "for exchange_id in exchange_list:\n",
    "     df_term = dws.get_data_by_sql(f\"SELECT * FROM {exchange_id} WHERE date >= '{start_date_str}' AND date <= '{end_date_str}'\")\n",
    "     df_term['date'] = pd.to_datetime(df_term['date'])\n",
    "     df_term['交割月'] = df_term['symbol'].str.slice(-2).astype(int)\n",
    "     variety_list = df_term['variety'].unique()\n",
    "     variety_list = set(dominant_list) & set(variety_list)\n",
    "     for variety_id in variety_list:\n",
    "         print(f'{exchange_id}: {variety_id}')\n",
    "         if variety_id not in variety_setting: continue\n",
    "         dominant_months = variety_setting[variety_id]['DominantMonths']       \n",
    "         # TODO: 如果主力合约月不大于2，使用非主力合约价差\n",
    "         if len(dominant_months)<2: continue\n",
    "         df_variety = df_term[df_term['variety']==variety_id]\n",
    "         date_list = df_variety['date'].unique()\n",
    "         for trade_date in date_list:\n",
    "            # print(trade_date)\n",
    "            df_date = df_variety[df_variety['date']==trade_date]\n",
    "            max_open_interest_index= df_date['open_interest'].idxmax()\n",
    "            # domain_contract = df_date.loc[max_open_interest_index]['symbol']\n",
    "            df_date = df_date.loc[max_open_interest_index:]                             \n",
    "            df_dominant_contract = df_date[df_date['交割月'].isin(dominant_months)]\n",
    "            if len(df_dominant_contract)<2:           \n",
    "                continue\n",
    "            else:\n",
    "                primary_contract = df_dominant_contract['symbol'].iloc[0]\n",
    "                primary_contract_close = df_dominant_contract['close'].iloc[0]\n",
    "                secondary_contract = df_dominant_contract['symbol'].iloc[1]\n",
    "                secondary_contract_close = df_dominant_contract['close'].iloc[1]              \n",
    "                spread = primary_contract_close - secondary_contract_close\n",
    "            new_row = {'variety': variety_id,\n",
    "                    'date': trade_date,\n",
    "                    'primary_contract': primary_contract,\n",
    "                    'primary_contract_close': primary_contract_close,                    \n",
    "                    'secondary_contract': secondary_contract,\n",
    "                    'secondary_contract_close': secondary_contract_close,\n",
    "                    'spread': spread,\n",
    "                    'exchange': exchange_id}\n",
    "            df_term_spread = pd.concat([df_term_spread, pd.DataFrame([new_row])], ignore_index=True)"
   ]
  },
  {
   "cell_type": "code",
   "execution_count": 32,
   "metadata": {},
   "outputs": [],
   "source": [
    "dws.save_data(df_term_spread, 'spread', 'append')"
   ]
  },
  {
   "cell_type": "code",
   "execution_count": 33,
   "metadata": {},
   "outputs": [],
   "source": [
    "dws.close()"
   ]
  },
  {
   "cell_type": "markdown",
   "metadata": {},
   "source": [
    "## 通用设置"
   ]
  },
  {
   "cell_type": "code",
   "execution_count": null,
   "metadata": {},
   "outputs": [],
   "source": [
    "# 公共数据索引\n",
    "data_index = {\n",
    "            #   '主力合约': {'Name': \"dominant_contract\", 'Source':'SQLite', 'Path': 'basis', 'Field':'dominant_contract', 'DataFrame': \"df_basis\"},\n",
    "            #   '近月合约': {'Name': \"near_contract\", 'Source':'SQLite', 'Path': 'basis', 'Field':'near_contract', 'DataFrame': \"df_basis\"},\n",
    "              '主力合约收盘价': {'Name': \"dominant_close_price\", 'Source':'SQLite', 'Path': 'dominant', 'Field':'收盘价', 'DataFrame': \"df_dominant\"},\n",
    "              '主力合约结算价': {'Name': \"dominant_settle_price\", 'Source':'SQLite', 'Path': 'dominant', 'Field':'动态结算价', 'DataFrame': \"df_dominant\"},\n",
    "              '主力合约持仓量': {'Name': \"dominant_open_interest\", 'Source':'SQLite', 'Path': 'dominant', 'Field':'持仓量', 'DataFrame': \"df_dominant\"},\n",
    "              '近月合约收盘价': {'Name': \"near_close_price\", 'Source':'SQLite', 'Path': 'near', 'Field':'close', 'DataFrame': \"df_near\"},\n",
    "              '近月合约结算价': {'Name': \"near_settle_price\", 'Source':'SQLite', 'Path': 'near', 'Field':'settle', 'DataFrame': \"df_near\"},\n",
    "              '近月合约持仓量': {'Name': \"near_open_interest\", 'Source':'SQLite', 'Path': 'near', 'Field':'open_interest', 'DataFrame': \"df_near\"},\n",
    "              '现货价格': {'Name': \"spot_price\", 'Source':'SQLite', 'Path': 'basis', 'Field':'spot_price', 'DataFrame': \"df_basis\"},\n",
    "              # '基差': {'Name': \"basis\", 'Source':'SQLite', 'Path':'‘basis', 'Field':'dom_basis', 'DataFrame': \"df_basis\"},\n",
    "              # '基差率': {'Name': \"basis_rate\", 'Source':'SQLite', 'Path': 'basis', 'Field':'dom_basis_rate', 'DataFrame': \"df_basis\"},          \n",
    "             }\n",
    "common_setting = {'DataIndex': data_index,\n",
    "                  }"
   ]
  },
  {
   "cell_type": "code",
   "execution_count": null,
   "metadata": {},
   "outputs": [],
   "source": [
    "# dws.save_json_setting('setting/common.json', common_setting)"
   ]
  },
  {
   "cell_type": "markdown",
   "metadata": {},
   "source": [
    "## 将xlsx文件转换为csv文件"
   ]
  },
  {
   "cell_type": "code",
   "execution_count": 24,
   "metadata": {},
   "outputs": [
    {
     "name": "stdout",
     "output_type": "stream",
     "text": [
      "Converted ./black_metals/data/不锈钢经济数据.xlsx to ./black_metals/data/不锈钢经济数据.csv\n",
      "Converted ./black_metals/data/热卷经济数据.xlsx to ./black_metals/data/热卷经济数据.csv\n",
      "Converted ./black_metals/data/螺纹钢经济数据.xlsx to ./black_metals/data/螺纹钢经济数据.csv\n",
      "Converted ./black_metals/data/铁矿石经济数据.xlsx to ./black_metals/data/铁矿石经济数据.csv\n",
      "Converted ./black_metals/data/焦炭经济数据.xlsx to ./black_metals/data/焦炭经济数据.csv\n",
      "Converted ./precious_metals/data/白银经济数据.xlsx to ./precious_metals/data/白银经济数据.csv\n",
      "Converted ./precious_metals/data/黄金经济数据.xlsx to ./precious_metals/data/黄金经济数据.csv\n"
     ]
    }
   ],
   "source": [
    "import os\n",
    "import pandas as pd\n",
    "\n",
    "def convert_xlsx_to_csv(directory):\n",
    "    # 遍历指定目录及其子目录下的所有文件\n",
    "    for root, dirs, files in os.walk(directory):\n",
    "        for filename in files:\n",
    "            if filename.endswith('.xlsx'):\n",
    "                # 构建完整的文件路径\n",
    "                xlsx_path = os.path.join(root, filename)\n",
    "                # 构建对应的 csv 文件路径\n",
    "                csv_filename = filename.replace('.xlsx', '.csv')\n",
    "                csv_path = os.path.join(root, csv_filename)\n",
    "                \n",
    "                # 读取 xlsx 文件\n",
    "                df = pd.read_excel(xlsx_path, engine='openpyxl')\n",
    "                # 保存为 csv 文件\n",
    "                df.to_csv(csv_path, index=False)\n",
    "                print(f\"Converted {xlsx_path} to {csv_path}\")\n",
    "\n",
    "# 指定目录路径\n",
    "path = '.'\n",
    "convert_xlsx_to_csv(path)"
   ]
  },
  {
   "cell_type": "markdown",
   "metadata": {},
   "source": [
    "## 全品种信息"
   ]
  },
  {
   "cell_type": "code",
   "execution_count": 99,
   "metadata": {},
   "outputs": [],
   "source": [
    "symbol_list = ak.futures_index_symbol_table_nh()\n",
    "symbol_list = symbol_list[symbol_list['exchange'].isin(['郑州商品交易所', '大连商品交易所', '上海期货交易所'])]\n",
    "symbol_list = symbol_list.drop('indexcategory', axis=1)\n",
    "exchange_replace_dict = {'郑州商品交易所': 'czce',\n",
    "                         '大连商品交易所': 'dce',\n",
    "                         '上海期货交易所': 'shfe'}\n",
    "symbol_list['exchange'] = symbol_list['exchange'].apply(lambda x: exchange_replace_dict.get(x, x))"
   ]
  },
  {
   "cell_type": "code",
   "execution_count": 100,
   "metadata": {},
   "outputs": [],
   "source": [
    "dws.save_data(symbol_list, 'symbols')"
   ]
  },
  {
   "cell_type": "markdown",
   "metadata": {},
   "source": [
    "## 合约基础信息"
   ]
  },
  {
   "cell_type": "code",
   "execution_count": null,
   "metadata": {},
   "outputs": [],
   "source": [
    "futures_comm_info_df = ak.futures_comm_info(symbol=\"所有\")\n",
    "dws.save_data(futures_comm_info_df, 'common')"
   ]
  },
  {
   "cell_type": "markdown",
   "metadata": {},
   "source": [
    "## 商品ID-名称字典"
   ]
  },
  {
   "cell_type": "code",
   "execution_count": null,
   "metadata": {},
   "outputs": [],
   "source": [
    "id_name_map, name_id_map = dws.get_variety_map()\n",
    "variety_data = dws.get_variety_setting()\n",
    "for product_id, product_info in variety_data.items():\n",
    "    product_name = id_name_map.get(product_id, 'Unknown')\n",
    "    product_info['Name'] = product_name\n",
    "dws.save_json_setting('setting/variety.json', variety_data)"
   ]
  },
  {
   "cell_type": "markdown",
   "metadata": {},
   "source": [
    "## 手续费和保证金"
   ]
  },
  {
   "cell_type": "code",
   "execution_count": 24,
   "metadata": {},
   "outputs": [],
   "source": [
    "futures_fees_info_df = ak.futures_fees_info()\n",
    "futures_fees_info_df = futures_fees_info_df[futures_fees_info_df['交易所'].isin(['SHFE', 'DCE', 'CZCE'])]\n",
    "futures_fees_info_df.columns = [col.replace('（', '_').replace('）', '') for col in futures_fees_info_df.columns]\n",
    "df_fees = dws.get_data('fees')\n",
    "df_fees_merge = pd.concat([df_fees, futures_fees_info_df], ignore_index=True)\n",
    "df_fees_merge.drop_duplicates(subset=['合约代码'], inplace=True, keep='last')\n",
    "dws.save_data(df_fees_merge, 'fees', 'replace')"
   ]
  },
  {
   "cell_type": "code",
   "execution_count": 16,
   "metadata": {},
   "outputs": [
    {
     "data": {
      "text/html": [
       "<div>\n",
       "<style scoped>\n",
       "    .dataframe tbody tr th:only-of-type {\n",
       "        vertical-align: middle;\n",
       "    }\n",
       "\n",
       "    .dataframe tbody tr th {\n",
       "        vertical-align: top;\n",
       "    }\n",
       "\n",
       "    .dataframe thead th {\n",
       "        text-align: right;\n",
       "    }\n",
       "</style>\n",
       "<table border=\"1\" class=\"dataframe\">\n",
       "  <thead>\n",
       "    <tr style=\"text-align: right;\">\n",
       "      <th></th>\n",
       "      <th>交易所</th>\n",
       "      <th>品种</th>\n",
       "      <th>代码</th>\n",
       "      <th>交易保证金比例</th>\n",
       "      <th>涨跌停板幅度</th>\n",
       "      <th>合约乘数</th>\n",
       "      <th>最小变动价位</th>\n",
       "      <th>限价单每笔最大下单手数</th>\n",
       "      <th>特殊合约参数调整</th>\n",
       "      <th>调整备注</th>\n",
       "    </tr>\n",
       "  </thead>\n",
       "  <tbody>\n",
       "    <tr>\n",
       "      <th>0</th>\n",
       "      <td>上期所</td>\n",
       "      <td>铜</td>\n",
       "      <td>CU</td>\n",
       "      <td>16.0</td>\n",
       "      <td>7.0</td>\n",
       "      <td>5</td>\n",
       "      <td>10.000</td>\n",
       "      <td>500</td>\n",
       "      <td>CU2407合约交易保证金比例为22.0%; CU2408合约交易保证金比例为17.0%</td>\n",
       "      <td>NaN</td>\n",
       "    </tr>\n",
       "    <tr>\n",
       "      <th>1</th>\n",
       "      <td>上期所</td>\n",
       "      <td>铜期权</td>\n",
       "      <td>CU_O</td>\n",
       "      <td>NaN</td>\n",
       "      <td>NaN</td>\n",
       "      <td>5</td>\n",
       "      <td>2.000</td>\n",
       "      <td>100</td>\n",
       "      <td>期权卖方交易保证金中涉及标的期货合约的公司交易保证金按照对应的期货合约保证金标准收取</td>\n",
       "      <td>NaN</td>\n",
       "    </tr>\n",
       "    <tr>\n",
       "      <th>2</th>\n",
       "      <td>上期所</td>\n",
       "      <td>铝</td>\n",
       "      <td>AL</td>\n",
       "      <td>16.0</td>\n",
       "      <td>7.0</td>\n",
       "      <td>5</td>\n",
       "      <td>5.000</td>\n",
       "      <td>500</td>\n",
       "      <td>AL2407合约交易保证金比例为22.0%; AL2408合约交易保证金比例为17.0%</td>\n",
       "      <td>NaN</td>\n",
       "    </tr>\n",
       "    <tr>\n",
       "      <th>3</th>\n",
       "      <td>上期所</td>\n",
       "      <td>铝期权</td>\n",
       "      <td>AL_O</td>\n",
       "      <td>NaN</td>\n",
       "      <td>NaN</td>\n",
       "      <td>5</td>\n",
       "      <td>1.000</td>\n",
       "      <td>100</td>\n",
       "      <td>期权卖方交易保证金中涉及标的期货合约的公司交易保证金按照对应的期货合约保证金标准收取</td>\n",
       "      <td>NaN</td>\n",
       "    </tr>\n",
       "    <tr>\n",
       "      <th>4</th>\n",
       "      <td>上期所</td>\n",
       "      <td>锌</td>\n",
       "      <td>ZN</td>\n",
       "      <td>15.0</td>\n",
       "      <td>6.0</td>\n",
       "      <td>5</td>\n",
       "      <td>5.000</td>\n",
       "      <td>500</td>\n",
       "      <td>ZN2407合约交易保证金比例为22.0%; ZN2408合约交易保证金比例为17.0%</td>\n",
       "      <td>NaN</td>\n",
       "    </tr>\n",
       "    <tr>\n",
       "      <th>...</th>\n",
       "      <td>...</td>\n",
       "      <td>...</td>\n",
       "      <td>...</td>\n",
       "      <td>...</td>\n",
       "      <td>...</td>\n",
       "      <td>...</td>\n",
       "      <td>...</td>\n",
       "      <td>...</td>\n",
       "      <td>...</td>\n",
       "      <td>...</td>\n",
       "    </tr>\n",
       "    <tr>\n",
       "      <th>119</th>\n",
       "      <td>中金所</td>\n",
       "      <td>中证1000股指期权</td>\n",
       "      <td>MO</td>\n",
       "      <td>NaN</td>\n",
       "      <td>NaN</td>\n",
       "      <td>100</td>\n",
       "      <td>0.200</td>\n",
       "      <td>20</td>\n",
       "      <td>保证金调整系数为14%，最低保障系数为0.50</td>\n",
       "      <td>NaN</td>\n",
       "    </tr>\n",
       "    <tr>\n",
       "      <th>120</th>\n",
       "      <td>中金所</td>\n",
       "      <td>2年期国债</td>\n",
       "      <td>TS</td>\n",
       "      <td>0.8</td>\n",
       "      <td>0.5</td>\n",
       "      <td>20000</td>\n",
       "      <td>0.002</td>\n",
       "      <td>50</td>\n",
       "      <td>NaN</td>\n",
       "      <td>NaN</td>\n",
       "    </tr>\n",
       "    <tr>\n",
       "      <th>121</th>\n",
       "      <td>中金所</td>\n",
       "      <td>5年期国债</td>\n",
       "      <td>TF</td>\n",
       "      <td>1.7</td>\n",
       "      <td>1.2</td>\n",
       "      <td>10000</td>\n",
       "      <td>0.005</td>\n",
       "      <td>50</td>\n",
       "      <td>NaN</td>\n",
       "      <td>NaN</td>\n",
       "    </tr>\n",
       "    <tr>\n",
       "      <th>122</th>\n",
       "      <td>中金所</td>\n",
       "      <td>30年期国债</td>\n",
       "      <td>TL</td>\n",
       "      <td>5.0</td>\n",
       "      <td>3.5</td>\n",
       "      <td>10000</td>\n",
       "      <td>0.010</td>\n",
       "      <td>50</td>\n",
       "      <td>NaN</td>\n",
       "      <td>NaN</td>\n",
       "    </tr>\n",
       "    <tr>\n",
       "      <th>123</th>\n",
       "      <td>中金所</td>\n",
       "      <td>10年期国债</td>\n",
       "      <td>T</td>\n",
       "      <td>2.5</td>\n",
       "      <td>2.0</td>\n",
       "      <td>10000</td>\n",
       "      <td>0.005</td>\n",
       "      <td>50</td>\n",
       "      <td>NaN</td>\n",
       "      <td>NaN</td>\n",
       "    </tr>\n",
       "  </tbody>\n",
       "</table>\n",
       "<p>124 rows × 10 columns</p>\n",
       "</div>"
      ],
      "text/plain": [
       "     交易所          品种    代码  交易保证金比例  涨跌停板幅度   合约乘数  最小变动价位  限价单每笔最大下单手数  \\\n",
       "0    上期所           铜    CU     16.0     7.0      5  10.000          500   \n",
       "1    上期所         铜期权  CU_O      NaN     NaN      5   2.000          100   \n",
       "2    上期所           铝    AL     16.0     7.0      5   5.000          500   \n",
       "3    上期所         铝期权  AL_O      NaN     NaN      5   1.000          100   \n",
       "4    上期所           锌    ZN     15.0     6.0      5   5.000          500   \n",
       "..   ...         ...   ...      ...     ...    ...     ...          ...   \n",
       "119  中金所  中证1000股指期权    MO      NaN     NaN    100   0.200           20   \n",
       "120  中金所       2年期国债    TS      0.8     0.5  20000   0.002           50   \n",
       "121  中金所       5年期国债    TF      1.7     1.2  10000   0.005           50   \n",
       "122  中金所      30年期国债    TL      5.0     3.5  10000   0.010           50   \n",
       "123  中金所      10年期国债     T      2.5     2.0  10000   0.005           50   \n",
       "\n",
       "                                         特殊合约参数调整  调整备注  \n",
       "0    CU2407合约交易保证金比例为22.0%; CU2408合约交易保证金比例为17.0%   NaN  \n",
       "1      期权卖方交易保证金中涉及标的期货合约的公司交易保证金按照对应的期货合约保证金标准收取   NaN  \n",
       "2    AL2407合约交易保证金比例为22.0%; AL2408合约交易保证金比例为17.0%   NaN  \n",
       "3      期权卖方交易保证金中涉及标的期货合约的公司交易保证金按照对应的期货合约保证金标准收取   NaN  \n",
       "4    ZN2407合约交易保证金比例为22.0%; ZN2408合约交易保证金比例为17.0%   NaN  \n",
       "..                                            ...   ...  \n",
       "119                       保证金调整系数为14%，最低保障系数为0.50   NaN  \n",
       "120                                           NaN   NaN  \n",
       "121                                           NaN   NaN  \n",
       "122                                           NaN   NaN  \n",
       "123                                           NaN   NaN  \n",
       "\n",
       "[124 rows x 10 columns]"
      ]
     },
     "execution_count": 16,
     "metadata": {},
     "output_type": "execute_result"
    }
   ],
   "source": [
    "futures_rule_df = ak.futures_rule(date=\"20240703\")\n",
    "futures_rule_df"
   ]
  },
  {
   "cell_type": "code",
   "execution_count": 20,
   "metadata": {},
   "outputs": [
    {
     "name": "stdout",
     "output_type": "stream",
     "text": [
      "<re.Match object; span=(12, 22), match='｜01A 基本术语｜'>\n",
      "Renamed: 01A-价格行为交易课1｜01A 基本术语｜ 2024方方土官方中文配音版.mp4 -> 价格行为交易课.S1E01.01A基本术语.chn.mp4\n",
      "<re.Match object; span=(11, 29), match='｜02A  图表基础知识和价格行为｜'>\n",
      "Renamed: 02A-价格行为交易课｜02A  图表基础知识和价格行为｜ 2024方方土官方中文配音版_new.mp4 -> 价格行为交易课.S1E02.02A图表基础知识和价格行为.chn.mp4\n",
      "<re.Match object; span=(11, 29), match='｜02B  图表基础知识和价格行为｜'>\n",
      "Renamed: 02B-价格行为交易课｜02B  图表基础知识和价格行为｜ 2024方方土官方中文配音版_new.mp4 -> 价格行为交易课.S1E03.02B图表基础知识和价格行为.chn.mp4\n",
      "<re.Match object; span=(11, 28), match='｜02C 图表基础知识和价格行为｜'>\n",
      "Renamed: 02C-价格行为交易课｜02C 图表基础知识和价格行为｜ 2024方方土官方中文配音版.mp4 -> 价格行为交易课.S1E04.02C图表基础知识和价格行为.chn.mp4\n",
      "<re.Match object; span=(11, 28), match='｜02D 图表基础知识和价格行为｜'>\n",
      "Renamed: 02D-价格行为交易课｜02D 图表基础知识和价格行为｜ 2024方方土官方中文配音版.mp4 -> 价格行为交易课.S1E05.02D图表基础知识和价格行为.chn.mp4\n",
      "<re.Match object; span=(11, 23), match='｜03A 外汇基本知识｜'>\n",
      "Renamed: 03A-价格行为交易课｜03A 外汇基本知识｜ 2024方方土官方中文配音版_new.mp4 -> 价格行为交易课.S1E06.03A外汇基本知识.chn.mp4\n",
      "<re.Match object; span=(11, 23), match='｜03B 外汇基本知识｜'>\n",
      "Renamed: 03B-价格行为交易课｜03B 外汇基本知识｜ 2024方方土官方中文配音版_new.mp4 -> 价格行为交易课.S1E07.03B外汇基本知识.chn.mp4\n",
      "<re.Match object; span=(11, 23), match='｜03C 外汇基本知识｜'>\n",
      "Renamed: 03C-价格行为交易课｜03C 外汇基本知识｜ 2024方方土官方中文配音版_new.mp4 -> 价格行为交易课.S1E08.03C外汇基本知识.chn.mp4\n",
      "<re.Match object; span=(11, 23), match='｜03D 外汇基本知识｜'>\n",
      "Renamed: 03D-价格行为交易课｜03D 外汇基本知识｜ 2024方方土官方中文配音版_new.mp4 -> 价格行为交易课.S1E09.03D外汇基本知识.chn.mp4\n",
      "<re.Match object; span=(11, 23), match='｜03E 外汇基本知识｜'>\n",
      "Renamed: 03E-价格行为交易课｜03E 外汇基本知识｜ 2024方方土官方中文配音版_new.mp4 -> 价格行为交易课.S1E10.03E外汇基本知识.chn.mp4\n",
      "<re.Match object; span=(10, 20), match='｜04  我的设置｜'>\n",
      "Renamed: 04-价格行为交易课｜04  我的设置｜ 2024方方土官方中文配音版.mp4 -> 价格行为交易课.S1E11.04我的设置.chn.mp4\n",
      "<re.Match object; span=(10, 19), match='｜05 交易计划｜'>\n",
      "Renamed: 05-价格行为交易课｜05 交易计划｜ 2024方方土官方中文配音版.mp4 -> 价格行为交易课.S1E12.05交易计划.chn.mp4\n",
      "<re.Match object; span=(10, 25), match='｜06 成功交易者的个性特征｜'>\n",
      "Renamed: 06-价格行为交易课｜06 成功交易者的个性特征｜ 2024方方土官方中文配音版.mp4 -> 价格行为交易课.S1E13.06成功交易者的个性特征.chn.mp4\n",
      "<re.Match object; span=(11, 21), match='｜07A 起步阶段｜'>\n",
      "Renamed: 07A-价格行为交易课｜07A 起步阶段｜ 2024方方土官方中文配音版.mp4 -> 价格行为交易课.S1E14.07A起步阶段.chn.mp4\n",
      "<re.Match object; span=(11, 21), match='｜07B 起步阶段｜'>\n",
      "Renamed: 07B-价格行为交易课｜07B 起步阶段｜ 2024方方土官方中文配音版.mp4 -> 价格行为交易课.S1E15.07B起步阶段.chn.mp4\n",
      "<re.Match object; span=(11, 27), match='｜ 08A 蜡烛、设置和信号条｜'>\n",
      "Renamed: 08A-价格行为交易课｜ 08A 蜡烛、设置和信号条｜ 2024方方土官方中文配音版.mp4 -> 价格行为交易课.S1E16.08A蜡烛、设置和信号条.chn.mp4\n",
      "<re.Match object; span=(11, 27), match='｜ 08B 蜡烛、设置和信号条｜'>\n",
      "Renamed: 08B-价格行为交易课｜ 08B 蜡烛、设置和信号条｜ 2024方方土官方中文配音版.mp4 -> 价格行为交易课.S1E17.08B蜡烛、设置和信号条.chn.mp4\n",
      "<re.Match object; span=(11, 27), match='｜ 08C 蜡烛、设置和信号条｜'>\n",
      "Renamed: 08C-价格行为交易课｜ 08C 蜡烛、设置和信号条｜ 2024方方土官方中文配音版.mp4 -> 价格行为交易课.S1E18.08C蜡烛、设置和信号条.chn.mp4\n",
      "<re.Match object; span=(11, 27), match='｜ 08D 蜡烛、设置和信号条｜'>\n",
      "Renamed: 08D-价格行为交易课｜ 08D 蜡烛、设置和信号条｜ 2024方方土官方中文配音版.mp4 -> 价格行为交易课.S1E19.08D蜡烛、设置和信号条.chn.mp4\n",
      "<re.Match object; span=(11, 23), match='｜09A 回调和数K线｜'>\n",
      "Renamed: 09A-价格行为交易课｜09A 回调和数K线｜ 2024方方土官方中文配音版.mp4 -> 价格行为交易课.S1E20.09A回调和数K线.chn.mp4\n",
      "<re.Match object; span=(11, 23), match='｜09B 回调和数K线｜'>\n",
      "Renamed: 09B-价格行为交易课｜09B 回调和数K线｜ 2024方方土官方中文配音版.mp4 -> 价格行为交易课.S1E21.09B回调和数K线.chn.mp4\n",
      "<re.Match object; span=(11, 23), match='｜09C 回调和数K线｜'>\n",
      "Renamed: 09C-价格行为交易课｜09C 回调和数K线｜ 2024方方土官方中文配音版.mp4 -> 价格行为交易课.S1E22.09C回调和数K线.chn.mp4\n",
      "<re.Match object; span=(11, 21), match='｜10A 买卖压力｜'>\n",
      "Renamed: 10A-价格行为交易课｜10A 买卖压力｜ 2024方方土官方中文配音版.mp4 -> 价格行为交易课.S1E23.10A买卖压力.chn.mp4\n",
      "<re.Match object; span=(11, 21), match='｜10B 买卖压力｜'>\n",
      "Renamed: 10B-价格行为交易课｜10B 买卖压力｜ 2024方方土官方中文配音版.mp4 -> 价格行为交易课.S1E24.10B买卖压力.chn.mp4\n",
      "<re.Match object; span=(11, 23), match='｜11A 关于跳空缺口｜'>\n",
      "Renamed: 11A-价格行为交易课｜11A 关于跳空缺口｜ 2024方方土官方中文配音版.mp4 -> 价格行为交易课.S1E25.11A关于跳空缺口.chn.mp4\n",
      "<re.Match object; span=(11, 23), match='｜11B 关于跳空缺口｜'>\n",
      "Renamed: 11B-价格行为交易课｜11B 关于跳空缺口｜ 2024方方土官方中文配音版.mp4 -> 价格行为交易课.S1E26.11B关于跳空缺口.chn.mp4\n",
      "<re.Match object; span=(11, 23), match='｜11C 关于跳空缺口｜'>\n",
      "Renamed: 11C-价格行为交易课｜11C 关于跳空缺口｜ 2024方方土官方中文配音版.mp4 -> 价格行为交易课.S1E27.11C关于跳空缺口.chn.mp4\n",
      "<re.Match object; span=(11, 23), match='｜11D 关于跳空缺口｜'>\n",
      "Renamed: 11D-价格行为交易课｜11D 关于跳空缺口｜ 2024方方土官方中文配音版.mp4 -> 价格行为交易课.S1E28.11D关于跳空缺口.chn.mp4\n",
      "<re.Match object; span=(11, 21), match='｜12A 市场周期｜'>\n",
      "Renamed: 12A-价格行为交易课｜12A 市场周期｜ 2024方方土官方中文配音版.mp4 -> 价格行为交易课.S1E29.12A市场周期.chn.mp4\n",
      "<re.Match object; span=(11, 21), match='｜12B 市场周期｜'>\n",
      "Renamed: 12B-价格行为交易课｜12B 市场周期｜ 2024方方土官方中文配音版.mp4 -> 价格行为交易课.S1E30.12B市场周期.chn.mp4\n",
      "<re.Match object; span=(11, 21), match='｜12C 市场周期｜'>\n",
      "Renamed: 12C-价格行为交易课｜12C 市场周期｜ 2024方方土官方中文配音版.mp4 -> 价格行为交易课.S1E31.12C市场周期.chn.mp4\n",
      "<re.Match object; span=(11, 21), match='｜13A 单边趋势｜'>\n",
      "Renamed: 13A-价格行为交易课｜13A 单边趋势｜ 2024方方土官方中文配音版.mp4 -> 价格行为交易课.S1E32.13A单边趋势.chn.mp4\n",
      "<re.Match object; span=(11, 21), match='｜13B 单边趋势｜'>\n",
      "Renamed: 13B-价格行为交易课｜13B 单边趋势｜ 2024方方土官方中文配音版.mp4 -> 价格行为交易课.S1E33.13B单边趋势.chn.mp4\n",
      "<re.Match object; span=(11, 21), match='｜13C 单边趋势｜'>\n",
      "Renamed: 13C-价格行为交易课｜13C 单边趋势｜ 2024方方土官方中文配音版.mp4 -> 价格行为交易课.S1E34.13C单边趋势.chn.mp4\n",
      "<re.Match object; span=(11, 21), match='｜14A 发展趋势｜'>\n",
      "Renamed: 14A-价格行为交易课｜14A 发展趋势｜ 2024方方土官方中文配音版.mp4 -> 价格行为交易课.S1E35.14A发展趋势.chn.mp4\n",
      "<re.Match object; span=(11, 21), match='｜14B 发展趋势｜'>\n",
      "Renamed: 14B-价格行为交易课｜14B 发展趋势｜ 2024方方土官方中文配音版.mp4 -> 价格行为交易课.S1E36.14B发展趋势.chn.mp4\n",
      "<re.Match object; span=(11, 21), match='｜14C 发展趋势｜'>\n",
      "Renamed: 14C-价格行为交易课｜14C 发展趋势｜ 2024方方土官方中文配音版.mp4 -> 价格行为交易课.S1E37.14C发展趋势.chn.mp4\n",
      "<re.Match object; span=(11, 21), match='｜14D 发展趋势｜'>\n",
      "Renamed: 14D-价格行为交易课｜14D 发展趋势｜ 2024方方土官方中文配音版.mp4 -> 价格行为交易课.S1E38.14D发展趋势.chn.mp4\n",
      "<re.Match object; span=(11, 21), match='｜14E 发展趋势｜'>\n",
      "Renamed: 14E-价格行为交易课｜14E 发展趋势｜ 2024方方土官方中文配音版.mp4 -> 价格行为交易课.S1E39.14E发展趋势.chn.mp4\n",
      "<re.Match object; span=(11, 19), match='｜15A 突破｜'>\n",
      "Renamed: 15A-价格行为交易课｜15A 突破｜ 2024方方土官方中文配音版.mp4.mp4 -> 价格行为交易课.S1E40.15A突破.chn.mp4\n",
      "<re.Match object; span=(11, 19), match='｜15B 突破｜'>\n",
      "Renamed: 15B-价格行为交易课｜15B 突破｜ 2024方方土官方中文配音版.mp4 -> 价格行为交易课.S1E41.15B突破.chn.mp4\n",
      "<re.Match object; span=(11, 19), match='｜15C 突破｜'>\n",
      "Renamed: 15C-价格行为交易课｜15C 突破｜ 2024方方土官方中文配音版.mp4 -> 价格行为交易课.S1E42.15C突破.chn.mp4\n",
      "<re.Match object; span=(11, 19), match='｜15D 突破｜'>\n",
      "Renamed: 15D-价格行为交易课｜15D 突破｜ 2024方方土官方中文配音版.mp4 -> 价格行为交易课.S1E43.15D突破.chn.mp4\n",
      "<re.Match object; span=(11, 19), match='｜15E 突破｜'>\n",
      "Renamed: 15E-价格行为交易课｜15E 突破｜ 2024方方土官方中文配音版.mp4 -> 价格行为交易课.S1E44.15E突破.chn.mp4\n",
      "<re.Match object; span=(11, 19), match='｜15F 突破｜'>\n",
      "Renamed: 15F-价格行为交易课｜15F 突破｜ 2024方方土官方中文配音版.mp4 -> 价格行为交易课.S1E45.15F突破.chn.mp4\n",
      "<re.Match object; span=(11, 19), match='｜15G 突破｜'>\n",
      "Renamed: 15G-价格行为交易课｜15G 突破｜ 2024方方土官方中文配音版.mp4 -> 价格行为交易课.S1E46.15G突破.chn.mp4\n",
      "<re.Match object; span=(11, 19), match='｜15H 突破｜'>\n",
      "Renamed: 15H-价格行为交易课｜15H 突破｜ 2024方方土官方中文配音版.mp4 -> 价格行为交易课.S1E47.15H突破.chn.mp4\n",
      "<re.Match object; span=(11, 20), match='｜ 16A 通道｜'>\n",
      "Renamed: 16A-价格行为交易课｜ 16A 通道｜ 2024方方土官方中文配音版.mp4 -> 价格行为交易课.S1E48.16A通道.chn.mp4\n",
      "<re.Match object; span=(11, 20), match='｜ 16B 通道｜'>\n",
      "Renamed: 16B-价格行为交易课｜ 16B 通道｜ 2024方方土官方中文配音版.mp4 -> 价格行为交易课.S1E49.16B通道.chn.mp4\n",
      "<re.Match object; span=(11, 20), match='｜ 16C 通道｜'>\n",
      "Renamed: 16C-价格行为交易课｜ 16C 通道｜ 2024方方土官方中文配音版.mp4 -> 价格行为交易课.S1E50.16C通道.chn.mp4\n",
      "<re.Match object; span=(11, 20), match='｜ 16D 通道｜'>\n",
      "Renamed: 16D-价格行为交易课｜ 16D 通道｜ 2024方方土官方中文配音版.mp4 -> 价格行为交易课.S1E51.16D通道.chn.mp4\n",
      "<re.Match object; span=(11, 20), match='｜ 16E 通道｜'>\n",
      "Renamed: 16E-价格行为交易课｜ 16E 通道｜ 2024方方土官方中文配音版.mp4 -> 价格行为交易课.S1E52.16E通道.chn.mp4\n",
      "<re.Match object; span=(11, 20), match='｜ 16F 通道｜'>\n",
      "Renamed: 16F-价格行为交易课｜ 16F 通道｜ 2024方方土官方中文配音版.mp4 -> 价格行为交易课.S1E53.16F通道.chn.mp4\n",
      "<re.Match object; span=(11, 26), match='｜ 17A 紧密通道和微通道｜'>\n",
      "Renamed: 17A-价格行为交易课｜ 17A 紧密通道和微通道｜ 2024方方土官方中文配音版.mp4 -> 价格行为交易课.S1E54.17A紧密通道和微通道.chn.mp4\n",
      "<re.Match object; span=(11, 26), match='｜ 17B 紧密通道和微通道｜'>\n",
      "Renamed: 17B-价格行为交易课｜ 17B 紧密通道和微通道｜ 2024方方土官方中文配音版.mp4 -> 价格行为交易课.S1E55.17B紧密通道和微通道.chn.mp4\n",
      "<re.Match object; span=(11, 21), match='｜18A 震荡区间｜'>\n",
      "Renamed: 18A-价格行为交易课｜18A 震荡区间｜ 2024方方土官方中文配音版.mp4 -> 价格行为交易课.S1E56.18A震荡区间.chn.mp4\n",
      "<re.Match object; span=(11, 21), match='｜18B 震荡区间｜'>\n",
      "Renamed: 18B-价格行为交易课｜18B 震荡区间｜ 2024方方土官方中文配音版.mp4 -> 价格行为交易课.S1E57.18B震荡区间.chn.mp4\n",
      "<re.Match object; span=(11, 21), match='｜18C 震荡区间｜'>\n",
      "Renamed: 18C-价格行为交易课｜18C 震荡区间｜ 2024方方土官方中文配音版.mp4 -> 价格行为交易课.S1E58.18C震荡区间.chn.mp4\n",
      "<re.Match object; span=(11, 21), match='｜18D 震荡区间｜'>\n",
      "Renamed: 18D-价格行为交易课｜18D 震荡区间｜ 2024方方土官方中文配音版.mp4 -> 价格行为交易课.S1E59.18D震荡区间.chn.mp4\n"
     ]
    }
   ],
   "source": [
    "import os\n",
    "import re\n",
    "\n",
    "# 假设视频文件存储在 'video_folder' 文件夹中\n",
    "video_folder = \"/Volumes/Media/TV/Al-Brooks.Price.Action.Trading.Course.方方土中文配音版\"\n",
    "\n",
    "\n",
    "def normalize_filenames(folder_path):\n",
    "    # 获取所有文件并按名称排序\n",
    "    files = sorted(os.listdir(folder_path))\n",
    "\n",
    "    for idx, file in enumerate(files, start=1):\n",
    "        # 提取文件扩展名\n",
    "        extension = os.path.splitext(file)[1]\n",
    "\n",
    "        # 提取内容标题（使用 ｜ 分隔，获取中间部分）\n",
    "        match_title = re.search(r'｜(.*?)｜', file)\n",
    "        content_title = match_title.group(1).replace(' ', '') if match_title else \"Unknown_Title\"\n",
    "\n",
    "        print(match_title)\n",
    "        # 替换文件名前面的序号（如 01A）并保留为标题一部分\n",
    "        # match_number = re.match(r\"(\\d+[A-Z])\", file)\n",
    "        # if match_number:\n",
    "        #     content_title = f\"{match_number.group(1)} {content_title}\"\n",
    "\n",
    "        # 创建新文件名\n",
    "        new_name = f\"价格行为交易课.S1E{idx:02}.{content_title}.chn{extension}\"\n",
    "\n",
    "        # 拼接原路径和新路径\n",
    "        old_path = os.path.join(folder_path, file)\n",
    "        new_path = os.path.join(folder_path, new_name)\n",
    "\n",
    "        # 重命名文件\n",
    "        os.rename(old_path, new_path)\n",
    "        print(f\"Renamed: {file} -> {new_name}\")\n",
    "\n",
    "# 调用函数，替换 '/path/to/your/video_folder' 为实际路径\n",
    "normalize_filenames(video_folder)"
   ]
  }
 ],
 "metadata": {
  "kernelspec": {
   "display_name": "base",
   "language": "python",
   "name": "python3"
  },
  "language_info": {
   "codemirror_mode": {
    "name": "ipython",
    "version": 3
   },
   "file_extension": ".py",
   "mimetype": "text/x-python",
   "name": "python",
   "nbconvert_exporter": "python",
   "pygments_lexer": "ipython3",
   "version": "3.10.10"
  }
 },
 "nbformat": 4,
 "nbformat_minor": 2
}
