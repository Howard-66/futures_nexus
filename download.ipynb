{
 "cells": [
  {
   "cell_type": "code",
   "execution_count": 1,
   "metadata": {},
   "outputs": [],
   "source": [
    "import pandas as pd\n",
    "import numpy as np\n",
    "import akshare as ak\n",
    "from dateutil.relativedelta import relativedelta\n",
    "from datetime import datetime, date, timedelta\n",
    "import dataworks as dw"
   ]
  },
  {
   "cell_type": "code",
   "execution_count": 2,
   "metadata": {},
   "outputs": [],
   "source": [
    "dws = dw.DataWorks()"
   ]
  },
  {
   "cell_type": "markdown",
   "metadata": {},
   "source": [
    "## 期货历史合约数据"
   ]
  },
  {
   "cell_type": "markdown",
   "metadata": {},
   "source": [
    "### 大连商品交易所"
   ]
  },
  {
   "cell_type": "markdown",
   "metadata": {},
   "source": [
    "#### 按时间段下载"
   ]
  },
  {
   "cell_type": "code",
   "execution_count": 62,
   "metadata": {},
   "outputs": [
    {
     "data": {
      "text/html": [
       "<div>\n",
       "<style scoped>\n",
       "    .dataframe tbody tr th:only-of-type {\n",
       "        vertical-align: middle;\n",
       "    }\n",
       "\n",
       "    .dataframe tbody tr th {\n",
       "        vertical-align: top;\n",
       "    }\n",
       "\n",
       "    .dataframe thead th {\n",
       "        text-align: right;\n",
       "    }\n",
       "</style>\n",
       "<table border=\"1\" class=\"dataframe\">\n",
       "  <thead>\n",
       "    <tr style=\"text-align: right;\">\n",
       "      <th></th>\n",
       "      <th>symbol</th>\n",
       "      <th>date</th>\n",
       "      <th>open</th>\n",
       "      <th>high</th>\n",
       "      <th>low</th>\n",
       "      <th>close</th>\n",
       "      <th>volume</th>\n",
       "      <th>open_interest</th>\n",
       "      <th>turnover</th>\n",
       "      <th>settle</th>\n",
       "      <th>pre_settle</th>\n",
       "      <th>variety</th>\n",
       "    </tr>\n",
       "  </thead>\n",
       "  <tbody>\n",
       "    <tr>\n",
       "      <th>518765</th>\n",
       "      <td>y2408</td>\n",
       "      <td>2024-01-19</td>\n",
       "      <td>7394.0</td>\n",
       "      <td>7492.0</td>\n",
       "      <td>7358.0</td>\n",
       "      <td>7476.0</td>\n",
       "      <td>869.0</td>\n",
       "      <td>12473.0</td>\n",
       "      <td>6467.09</td>\n",
       "      <td>7440.0</td>\n",
       "      <td>7344.0</td>\n",
       "      <td>Y</td>\n",
       "    </tr>\n",
       "    <tr>\n",
       "      <th>518766</th>\n",
       "      <td>y2409</td>\n",
       "      <td>2024-01-19</td>\n",
       "      <td>7360.0</td>\n",
       "      <td>7456.0</td>\n",
       "      <td>7324.0</td>\n",
       "      <td>7446.0</td>\n",
       "      <td>54968.0</td>\n",
       "      <td>97191.0</td>\n",
       "      <td>406812.41</td>\n",
       "      <td>7400.0</td>\n",
       "      <td>7310.0</td>\n",
       "      <td>Y</td>\n",
       "    </tr>\n",
       "    <tr>\n",
       "      <th>518767</th>\n",
       "      <td>y2411</td>\n",
       "      <td>2024-01-19</td>\n",
       "      <td>7342.0</td>\n",
       "      <td>7418.0</td>\n",
       "      <td>7302.0</td>\n",
       "      <td>7410.0</td>\n",
       "      <td>1139.0</td>\n",
       "      <td>4268.0</td>\n",
       "      <td>8409.33</td>\n",
       "      <td>7382.0</td>\n",
       "      <td>7280.0</td>\n",
       "      <td>Y</td>\n",
       "    </tr>\n",
       "    <tr>\n",
       "      <th>518768</th>\n",
       "      <td>y2412</td>\n",
       "      <td>2024-01-19</td>\n",
       "      <td>7350.0</td>\n",
       "      <td>7432.0</td>\n",
       "      <td>7332.0</td>\n",
       "      <td>7420.0</td>\n",
       "      <td>90.0</td>\n",
       "      <td>1214.0</td>\n",
       "      <td>665.66</td>\n",
       "      <td>7396.0</td>\n",
       "      <td>7338.0</td>\n",
       "      <td>Y</td>\n",
       "    </tr>\n",
       "    <tr>\n",
       "      <th>518769</th>\n",
       "      <td>y2501</td>\n",
       "      <td>2024-01-19</td>\n",
       "      <td>7306.0</td>\n",
       "      <td>7368.0</td>\n",
       "      <td>7292.0</td>\n",
       "      <td>7360.0</td>\n",
       "      <td>172.0</td>\n",
       "      <td>314.0</td>\n",
       "      <td>1261.37</td>\n",
       "      <td>7332.0</td>\n",
       "      <td>7282.0</td>\n",
       "      <td>Y</td>\n",
       "    </tr>\n",
       "  </tbody>\n",
       "</table>\n",
       "</div>"
      ],
      "text/plain": [
       "       symbol       date    open    high     low   close   volume  \\\n",
       "518765  y2408 2024-01-19  7394.0  7492.0  7358.0  7476.0    869.0   \n",
       "518766  y2409 2024-01-19  7360.0  7456.0  7324.0  7446.0  54968.0   \n",
       "518767  y2411 2024-01-19  7342.0  7418.0  7302.0  7410.0   1139.0   \n",
       "518768  y2412 2024-01-19  7350.0  7432.0  7332.0  7420.0     90.0   \n",
       "518769  y2501 2024-01-19  7306.0  7368.0  7292.0  7360.0    172.0   \n",
       "\n",
       "        open_interest   turnover  settle  pre_settle variety  \n",
       "518765        12473.0    6467.09  7440.0      7344.0       Y  \n",
       "518766        97191.0  406812.41  7400.0      7310.0       Y  \n",
       "518767         4268.0    8409.33  7382.0      7280.0       Y  \n",
       "518768         1214.0     665.66  7396.0      7338.0       Y  \n",
       "518769          314.0    1261.37  7332.0      7282.0       Y  "
      ]
     },
     "execution_count": 62,
     "metadata": {},
     "output_type": "execute_result"
    }
   ],
   "source": [
    "df_futures_daily_dce = dws.get_data_by_sql('SELECT * FROM dce')\n",
    "df_futures_daily_dce['date'] = pd.to_datetime(df_futures_daily_dce['date'])\n",
    "df_futures_daily_dce.tail()"
   ]
  },
  {
   "cell_type": "code",
   "execution_count": 61,
   "metadata": {},
   "outputs": [
    {
     "data": {
      "text/plain": [
       "436762"
      ]
     },
     "execution_count": 61,
     "metadata": {},
     "output_type": "execute_result"
    }
   ],
   "source": [
    "len(df_futures_daily_dce)"
   ]
  },
  {
   "cell_type": "code",
   "execution_count": null,
   "metadata": {},
   "outputs": [],
   "source": [
    "start_date = '20240104'\n",
    "end_date = '20240119'\n",
    "print('Last Period: ', start_date, end_date)\n",
    "start_date = datetime.strptime(start_date, '%Y%m%d')\n",
    "end_date = datetime.strptime(end_date, '%Y%m%d')\n",
    "start_date = (start_date + relativedelta(months=1)).replace(day=1)\n",
    "end_date = (end_date + relativedelta(months=2)).replace(day=1) - relativedelta(days=1)\n",
    "start_date = start_date.strftime('%Y%m%d')\n",
    "end_date = end_date.strftime('%Y%m%d')\n",
    "print('Current Period: ', start_date, end_date)"
   ]
  },
  {
   "cell_type": "code",
   "execution_count": 63,
   "metadata": {},
   "outputs": [],
   "source": [
    "df_futures_daily_dce_append = ak.get_futures_daily(start_date='20110112', end_date='20110113', market=\"DCE\")"
   ]
  },
  {
   "cell_type": "code",
   "execution_count": null,
   "metadata": {},
   "outputs": [],
   "source": [
    "for i in range(12):  \n",
    "    df_futures_daily_dce_append = ak.get_futures_daily(start_date=start_date, end_date=end_date, market=\"DCE\")\n",
    "    df_futures_daily_dce = pd.concat([df_futures_daily_dce, df_futures_daily_dce_append], ignore_index=True)\n",
    "    print('Last Period: ', start_date, end_date)\n",
    "    start_date = datetime.strptime(start_date, '%Y%m%d')\n",
    "    end_date = datetime.strptime(end_date, '%Y%m%d')\n",
    "    start_date = (start_date + relativedelta(months=1)).replace(day=1)\n",
    "    end_date = (end_date + relativedelta(months=2)).replace(day=1) - relativedelta(days=1)\n",
    "    start_date = start_date.strftime('%Y%m%d')\n",
    "    end_date = end_date.strftime('%Y%m%d')\n",
    "    print('Current Period: ', start_date, end_date)"
   ]
  },
  {
   "cell_type": "code",
   "execution_count": 9,
   "metadata": {},
   "outputs": [],
   "source": [
    "dws.load_from_dataframe(df_futures_daily_dce, 'dce')"
   ]
  },
  {
   "cell_type": "code",
   "execution_count": 7,
   "metadata": {},
   "outputs": [],
   "source": [
    "start_date = df_futures_daily_dce.iloc[-1]['date'] + timedelta(days=1)\n",
    "start_date = start_date.strftime('%Y%m%d')\n",
    "end_date = datetime.now() - timedelta(days=1)\n",
    "end_date = end_date.strftime('%Y%m%d')\n",
    "df_futures_daily_dce_append = ak.get_futures_daily(start_date=start_date, end_date=end_date, market=\"DCE\")\n",
    "df_futures_daily_dce_append['date'] = pd.to_datetime(df_futures_daily_dce_append['date'], format='%Y%m%d')\n",
    "# df_futures_daily_dce = pd.concat([df_futures_daily_dce, df_futures_daily_dce_append], ignore_index=True)"
   ]
  },
  {
   "cell_type": "markdown",
   "metadata": {},
   "source": [
    "#### 自动补全下载"
   ]
  },
  {
   "cell_type": "code",
   "execution_count": 11,
   "metadata": {},
   "outputs": [
    {
     "name": "stdout",
     "output_type": "stream",
     "text": [
      "Current Period:  20240104 20240119\n"
     ]
    }
   ],
   "source": [
    "last_date = dws.get_last_date('dce')\n",
    "last_date = pd.to_datetime(last_date)\n",
    "start_date = last_date + timedelta(days=1)\n",
    "end_date = datetime.now() - timedelta(days=1)\n",
    "start_date = start_date.strftime('%Y%m%d')\n",
    "end_date = end_date.strftime('%Y%m%d')\n",
    "print('Current Period: ', start_date, end_date)\n",
    "df_futures_daily_dce_append = ak.get_futures_daily(start_date=start_date, end_date=end_date, market=\"DCE\")\n",
    "df_futures_daily_dce_append['date'] = pd.to_datetime(df_futures_daily_dce_append['date'], format='%Y%m%d')"
   ]
  },
  {
   "cell_type": "code",
   "execution_count": 12,
   "metadata": {},
   "outputs": [],
   "source": [
    "dws.load_from_dataframe(df_futures_daily_dce_append, 'dce', 'append')"
   ]
  },
  {
   "cell_type": "markdown",
   "metadata": {},
   "source": [
    "### 郑州商品交易所"
   ]
  },
  {
   "cell_type": "markdown",
   "metadata": {},
   "source": [
    "#### 按时间段下载"
   ]
  },
  {
   "cell_type": "code",
   "execution_count": null,
   "metadata": {},
   "outputs": [],
   "source": [
    "df_futures_daily_czce = dws.get_data_by_sql('SELECT * FROM czce')\n",
    "df_futures_daily_czce['date'] = pd.to_datetime(df_futures_daily_czce['date'])\n",
    "df_futures_daily_czce.tail()"
   ]
  },
  {
   "cell_type": "code",
   "execution_count": null,
   "metadata": {},
   "outputs": [],
   "source": [
    "start_date = '20231101'\n",
    "end_date = '20231130'\n",
    "print('Last Period: ', start_date, end_date)\n",
    "start_date = datetime.strptime(start_date, '%Y%m%d')\n",
    "end_date = datetime.strptime(end_date, '%Y%m%d')\n",
    "start_date = (start_date + relativedelta(months=1)).replace(day=1)\n",
    "end_date = (end_date + relativedelta(months=2)).replace(day=1) - relativedelta(days=1)\n",
    "start_date = start_date.strftime('%Y%m%d')\n",
    "end_date = end_date.strftime('%Y%m%d')\n",
    "print('Current Period: ', start_date, end_date)"
   ]
  },
  {
   "cell_type": "code",
   "execution_count": null,
   "metadata": {},
   "outputs": [],
   "source": [
    "for i in range(12):  \n",
    "    df_futures_daily_czce_append = ak.get_futures_daily(start_date=start_date, end_date=end_date, market=\"CZCE\")\n",
    "    df_futures_daily_czce = pd.concat([df_futures_daily_czce, df_futures_daily_czce_append], ignore_index=True)\n",
    "    print('Last Period: ', start_date, end_date)\n",
    "    start_date = datetime.strptime(start_date, '%Y%m%d')\n",
    "    end_date = datetime.strptime(end_date, '%Y%m%d')\n",
    "    start_date = (start_date + relativedelta(months=1)).replace(day=1)\n",
    "    end_date = (end_date + relativedelta(months=2)).replace(day=1) - relativedelta(days=1)\n",
    "    start_date = start_date.strftime('%Y%m%d')\n",
    "    end_date = end_date.strftime('%Y%m%d')\n",
    "    print('Current Period: ', start_date, end_date)"
   ]
  },
  {
   "cell_type": "code",
   "execution_count": 172,
   "metadata": {},
   "outputs": [],
   "source": [
    "dws.load_from_dataframe(df_futures_daily_czce, 'czce')"
   ]
  },
  {
   "cell_type": "code",
   "execution_count": 12,
   "metadata": {},
   "outputs": [],
   "source": [
    "start_date = df_futures_daily_czce.iloc[-1]['date'] + timedelta(days=1)\n",
    "start_date = start_date.strftime('%Y%m%d')\n",
    "end_date = datetime.now() - timedelta(days=1)\n",
    "end_date = end_date.strftime('%Y%m%d')\n",
    "df_futures_daily_czce_append = ak.get_futures_daily(start_date=start_date, end_date=end_date, market=\"CZCE\")\n",
    "df_futures_daily_czce_append['date'] = pd.to_datetime(df_futures_daily_czce_append['date'], format='%Y%m%d')\n",
    "# df_futures_daily_czce = pd.concat([df_futures_daily_czce, df_futures_daily_czce_append], ignore_index=True)"
   ]
  },
  {
   "cell_type": "markdown",
   "metadata": {},
   "source": [
    "#### 自动补全下载"
   ]
  },
  {
   "cell_type": "code",
   "execution_count": 14,
   "metadata": {},
   "outputs": [
    {
     "name": "stdout",
     "output_type": "stream",
     "text": [
      "Current Period:  20240104 20240119\n"
     ]
    }
   ],
   "source": [
    "last_date = dws.get_last_date('czce')\n",
    "last_date = pd.to_datetime(last_date)\n",
    "start_date = last_date + timedelta(days=1)\n",
    "end_date = datetime.now() - timedelta(days=1)\n",
    "start_date = start_date.strftime('%Y%m%d')\n",
    "end_date = end_date.strftime('%Y%m%d')\n",
    "print('Current Period: ', start_date, end_date)\n",
    "df_futures_daily_czce_append = ak.get_futures_daily(start_date=start_date, end_date=end_date, market=\"CZCE\")\n",
    "df_futures_daily_czce_append['date'] = pd.to_datetime(df_futures_daily_czce_append['date'], format='%Y%m%d')"
   ]
  },
  {
   "cell_type": "code",
   "execution_count": 15,
   "metadata": {},
   "outputs": [],
   "source": [
    "dws.load_from_dataframe(df_futures_daily_czce_append, 'czce', 'append')"
   ]
  },
  {
   "cell_type": "markdown",
   "metadata": {},
   "source": [
    "### 上海商品交易所"
   ]
  },
  {
   "cell_type": "markdown",
   "metadata": {},
   "source": [
    "#### 按时间段下载"
   ]
  },
  {
   "cell_type": "code",
   "execution_count": null,
   "metadata": {},
   "outputs": [],
   "source": [
    "df_futures_daily_shfe = dws.get_data_by_sql('SELECT * FROM shfe')\n",
    "df_futures_daily_shfe['date'] = pd.to_datetime(df_futures_daily_shfe['date'])\n",
    "df_futures_daily_shfe.tail()"
   ]
  },
  {
   "cell_type": "code",
   "execution_count": null,
   "metadata": {},
   "outputs": [],
   "source": [
    "start_date = '20231101'\n",
    "end_date = '20231130'\n",
    "print('Last Period: ', start_date, end_date)\n",
    "start_date = datetime.strptime(start_date, '%Y%m%d')\n",
    "end_date = datetime.strptime(end_date, '%Y%m%d')\n",
    "start_date = (start_date + relativedelta(months=1)).replace(day=1)\n",
    "end_date = (end_date + relativedelta(months=2)).replace(day=1) - relativedelta(days=1)\n",
    "start_date = start_date.strftime('%Y%m%d')\n",
    "end_date = end_date.strftime('%Y%m%d')\n",
    "print('Current Period: ', start_date, end_date)"
   ]
  },
  {
   "cell_type": "code",
   "execution_count": 11,
   "metadata": {},
   "outputs": [],
   "source": [
    "df_futures_daily_shfe_append = ak.get_futures_daily(start_date=start_date, end_date=end_date, market=\"SHFE\")\n",
    "df_futures_daily_shfe = pd.concat([df_futures_daily_shfe, df_futures_daily_shfe_append], ignore_index=True)"
   ]
  },
  {
   "cell_type": "code",
   "execution_count": 176,
   "metadata": {},
   "outputs": [],
   "source": [
    "dws.load_from_dataframe(df_futures_daily_shfe, 'shfe')"
   ]
  },
  {
   "cell_type": "code",
   "execution_count": 17,
   "metadata": {},
   "outputs": [],
   "source": [
    "start_date = df_futures_daily_shfe.iloc[-1]['date'] + timedelta(days=1)\n",
    "start_date = start_date.strftime('%Y%m%d')\n",
    "end_date = datetime.now() - timedelta(days=1)\n",
    "end_date = end_date.strftime('%Y%m%d')\n",
    "df_futures_daily_shfe_append = ak.get_futures_daily(start_date=start_date, end_date=end_date, market=\"SHFE\")\n",
    "df_futures_daily_shfe_append['date'] = pd.to_datetime(df_futures_daily_shfe_append['date'], format='%Y%m%d')\n",
    "# df_futures_daily_shfe = pd.concat([df_futures_daily_shfe, df_futures_daily_czce_append], ignore_index=True)"
   ]
  },
  {
   "cell_type": "markdown",
   "metadata": {},
   "source": [
    "#### 自动补全下载"
   ]
  },
  {
   "cell_type": "code",
   "execution_count": 16,
   "metadata": {},
   "outputs": [
    {
     "name": "stdout",
     "output_type": "stream",
     "text": [
      "Current Period:  20240104 20240119\n"
     ]
    }
   ],
   "source": [
    "last_date = dws.get_last_date('shfe')\n",
    "last_date = pd.to_datetime(last_date)\n",
    "start_date = last_date + timedelta(days=1)\n",
    "end_date = datetime.now() - timedelta(days=1)\n",
    "start_date = start_date.strftime('%Y%m%d')\n",
    "end_date = end_date.strftime('%Y%m%d')\n",
    "print('Current Period: ', start_date, end_date)\n",
    "df_futures_daily_shfe_append = ak.get_futures_daily(start_date=start_date, end_date=end_date, market=\"SHFE\")\n",
    "df_futures_daily_shfe_append['date'] = pd.to_datetime(df_futures_daily_shfe_append['date'], format='%Y%m%d')"
   ]
  },
  {
   "cell_type": "code",
   "execution_count": 17,
   "metadata": {},
   "outputs": [],
   "source": [
    "dws.load_from_dataframe(df_futures_daily_shfe_append, 'shfe', 'append')"
   ]
  },
  {
   "cell_type": "markdown",
   "metadata": {},
   "source": [
    "## 期货合约基础信息"
   ]
  },
  {
   "cell_type": "markdown",
   "metadata": {},
   "source": [
    "### 合约基础信息"
   ]
  },
  {
   "cell_type": "code",
   "execution_count": null,
   "metadata": {},
   "outputs": [],
   "source": [
    "futures_comm_info_df = ak.futures_comm_info(symbol=\"所有\")\n",
    "futures_comm_info_df"
   ]
  },
  {
   "cell_type": "code",
   "execution_count": 5,
   "metadata": {},
   "outputs": [],
   "source": [
    "dws.load_from_dataframe(futures_comm_info_df, 'common')"
   ]
  },
  {
   "cell_type": "markdown",
   "metadata": {},
   "source": [
    "### 全品种信息"
   ]
  },
  {
   "cell_type": "code",
   "execution_count": 115,
   "metadata": {},
   "outputs": [],
   "source": [
    "symbol_list = ak.futures_index_symbol_table_nh()\n",
    "symbol_list = symbol_list[symbol_list['exchange'].isin(['郑州商品交易所', '大连商品交易所', '上海期货交易所'])]\n",
    "symbol_list = symbol_list.drop('indexcategory', axis=1)\n",
    "exchange_replace_dict = {'郑州商品交易所': 'czce',\n",
    "                         '大连商品交易所': 'dce',\n",
    "                         '上海期货交易所': 'shfe'}\n",
    "symbol_list['exchange'] = symbol_list['exchange'].apply(lambda x: exchange_replace_dict.get(x, x))"
   ]
  },
  {
   "cell_type": "code",
   "execution_count": 116,
   "metadata": {},
   "outputs": [],
   "source": [
    "dws.load_from_dataframe(symbol_list, 'symbols')"
   ]
  },
  {
   "cell_type": "code",
   "execution_count": 117,
   "metadata": {},
   "outputs": [],
   "source": [
    "symbol_list = dws.get_data_by_sql('SELECT * FROM symbols')"
   ]
  },
  {
   "cell_type": "markdown",
   "metadata": {},
   "source": [
    "### 主力合约"
   ]
  },
  {
   "cell_type": "code",
   "execution_count": null,
   "metadata": {},
   "outputs": [],
   "source": [
    "domain_contract_list = ak.match_main_contract(symbol='shfe')\n",
    "domain_contract_list"
   ]
  },
  {
   "cell_type": "code",
   "execution_count": 20,
   "metadata": {},
   "outputs": [
    {
     "data": {
      "text/html": [
       "<div>\n",
       "<style scoped>\n",
       "    .dataframe tbody tr th:only-of-type {\n",
       "        vertical-align: middle;\n",
       "    }\n",
       "\n",
       "    .dataframe tbody tr th {\n",
       "        vertical-align: top;\n",
       "    }\n",
       "\n",
       "    .dataframe thead th {\n",
       "        text-align: right;\n",
       "    }\n",
       "</style>\n",
       "<table border=\"1\" class=\"dataframe\">\n",
       "  <thead>\n",
       "    <tr style=\"text-align: right;\">\n",
       "      <th></th>\n",
       "      <th>symbol</th>\n",
       "      <th>exchange</th>\n",
       "      <th>name</th>\n",
       "    </tr>\n",
       "  </thead>\n",
       "  <tbody>\n",
       "    <tr>\n",
       "      <th>0</th>\n",
       "      <td>V0</td>\n",
       "      <td>dce</td>\n",
       "      <td>PVC连续</td>\n",
       "    </tr>\n",
       "    <tr>\n",
       "      <th>1</th>\n",
       "      <td>P0</td>\n",
       "      <td>dce</td>\n",
       "      <td>棕榈油连续</td>\n",
       "    </tr>\n",
       "    <tr>\n",
       "      <th>2</th>\n",
       "      <td>B0</td>\n",
       "      <td>dce</td>\n",
       "      <td>豆二连续</td>\n",
       "    </tr>\n",
       "    <tr>\n",
       "      <th>3</th>\n",
       "      <td>M0</td>\n",
       "      <td>dce</td>\n",
       "      <td>豆粕连续</td>\n",
       "    </tr>\n",
       "    <tr>\n",
       "      <th>4</th>\n",
       "      <td>I0</td>\n",
       "      <td>dce</td>\n",
       "      <td>铁矿石连续</td>\n",
       "    </tr>\n",
       "    <tr>\n",
       "      <th>...</th>\n",
       "      <td>...</td>\n",
       "      <td>...</td>\n",
       "      <td>...</td>\n",
       "    </tr>\n",
       "    <tr>\n",
       "      <th>57</th>\n",
       "      <td>NI0</td>\n",
       "      <td>shfe</td>\n",
       "      <td>镍连续</td>\n",
       "    </tr>\n",
       "    <tr>\n",
       "      <th>58</th>\n",
       "      <td>SP0</td>\n",
       "      <td>shfe</td>\n",
       "      <td>纸浆连续</td>\n",
       "    </tr>\n",
       "    <tr>\n",
       "      <th>60</th>\n",
       "      <td>SS0</td>\n",
       "      <td>shfe</td>\n",
       "      <td>不锈钢连续</td>\n",
       "    </tr>\n",
       "    <tr>\n",
       "      <th>63</th>\n",
       "      <td>AO0</td>\n",
       "      <td>shfe</td>\n",
       "      <td>氧化铝连续</td>\n",
       "    </tr>\n",
       "    <tr>\n",
       "      <th>64</th>\n",
       "      <td>BR0</td>\n",
       "      <td>shfe</td>\n",
       "      <td>丁二烯橡胶连续</td>\n",
       "    </tr>\n",
       "  </tbody>\n",
       "</table>\n",
       "<p>61 rows × 3 columns</p>\n",
       "</div>"
      ],
      "text/plain": [
       "   symbol exchange     name\n",
       "0      V0      dce    PVC连续\n",
       "1      P0      dce    棕榈油连续\n",
       "2      B0      dce     豆二连续\n",
       "3      M0      dce     豆粕连续\n",
       "4      I0      dce    铁矿石连续\n",
       "..    ...      ...      ...\n",
       "57    NI0     shfe      镍连续\n",
       "58    SP0     shfe     纸浆连续\n",
       "60    SS0     shfe    不锈钢连续\n",
       "63    AO0     shfe    氧化铝连续\n",
       "64    BR0     shfe  丁二烯橡胶连续\n",
       "\n",
       "[61 rows x 3 columns]"
      ]
     },
     "execution_count": 20,
     "metadata": {},
     "output_type": "execute_result"
    }
   ],
   "source": [
    "contract_list = ak.futures_display_main_sina()\n",
    "contract_list = contract_list[contract_list['exchange'].isin(['czce', 'dce', 'shfe'])]\n",
    "contract_list"
   ]
  },
  {
   "cell_type": "markdown",
   "metadata": {},
   "source": [
    "#### 全量/时间段下载"
   ]
  },
  {
   "cell_type": "code",
   "execution_count": 20,
   "metadata": {},
   "outputs": [],
   "source": [
    "main_contract_data = []\n",
    "for _, contract in contract_list.iterrows():\n",
    "    symbol_hist = ak.futures_main_sina(symbol=contract['symbol'], start_date=\"20110101\", end_date=\"20231231\")\n",
    "    symbol_hist['variety'] = contract['symbol']\n",
    "    main_contract_data.append(symbol_hist)\n",
    "merged_main_contracts = pd.concat(main_contract_data)\n",
    "merged_main_contracts.rename(columns={'日期': 'date'}, inplace=True)"
   ]
  },
  {
   "cell_type": "code",
   "execution_count": 21,
   "metadata": {},
   "outputs": [],
   "source": [
    "combined_main = merged_main_contracts.drop_duplicates(subset=['date', 'variety'], keep='last')\n",
    "merged_main_contracts['date'] = pd.to_datetime(merged_main_contracts['date'])\n",
    "merged_main_contracts['variety'] = merged_main_contracts['variety'].str.rstrip('0')"
   ]
  },
  {
   "cell_type": "code",
   "execution_count": 147,
   "metadata": {},
   "outputs": [],
   "source": [
    "# 注意调整mode参数，全量下载使用‘replace’，增量下载使用‘append’\n",
    "dws.load_from_dataframe(combined_main, 'dominant')"
   ]
  },
  {
   "cell_type": "markdown",
   "metadata": {},
   "source": [
    "#### 自动补齐下载"
   ]
  },
  {
   "cell_type": "code",
   "execution_count": 14,
   "metadata": {},
   "outputs": [],
   "source": [
    "existed_contract_data = dws.get_data_by_sql('SELECT * FROM dominant')"
   ]
  },
  {
   "cell_type": "code",
   "execution_count": 23,
   "metadata": {},
   "outputs": [
    {
     "name": "stdout",
     "output_type": "stream",
     "text": [
      "Current Period:  20240104 20240119\n"
     ]
    }
   ],
   "source": [
    "last_date = dws.get_last_date('dominant')\n",
    "last_date = pd.to_datetime(last_date)\n",
    "start_date = last_date + timedelta(days=1)\n",
    "end_date = datetime.now() - timedelta(days=1)\n",
    "start_date = start_date.strftime('%Y%m%d')\n",
    "end_date = end_date.strftime('%Y%m%d')\n",
    "print('Current Period: ', start_date, end_date)\n",
    "main_contract_data = []\n",
    "for symbol in contract_list['symbol']:\n",
    "    symbol_hist = ak.futures_main_sina(symbol=symbol, start_date=start_date, end_date=end_date)\n",
    "    symbol_hist['variety'] = symbol\n",
    "    main_contract_data.append(symbol_hist)\n",
    "merged_main_contracts = pd.concat(main_contract_data)\n",
    "merged_main_contracts.rename(columns={'日期': 'date'}, inplace=True)\n",
    "merged_main_contracts['date'] = pd.to_datetime(merged_main_contracts['date'])\n",
    "merged_main_contracts['variety'] = merged_main_contracts['variety'].str.rstrip('0')\n",
    "# combined_main = merged_main_contracts.drop_duplicates(subset=['日期', 'variety'], keep='last')"
   ]
  },
  {
   "cell_type": "code",
   "execution_count": 24,
   "metadata": {},
   "outputs": [],
   "source": [
    "dws.load_from_dataframe(merged_main_contracts, 'dominant', 'append')"
   ]
  },
  {
   "cell_type": "markdown",
   "metadata": {},
   "source": [
    "## 库存数据"
   ]
  },
  {
   "cell_type": "code",
   "execution_count": 25,
   "metadata": {},
   "outputs": [],
   "source": [
    "# 库存数据来源于“东方财富网”，商品名称与常规命名有出入，通过字典映射\n",
    "symbol_replace_dict = {'鲜苹果': '苹果',\n",
    "                       '棉花': '郑棉',\n",
    "                       '动力煤': '郑煤',\n",
    "                       '早籼稻': '早籼',\n",
    "                       '烧碱': '纯碱',\n",
    "                       '郑醇': '甲醇',\n",
    "                       '晚籼稻': '晚籼',\n",
    "                       'PP': '聚丙烯',\n",
    "                       '大豆': '豆一',\n",
    "                       '铝': '沪铝',\n",
    "                       '铜': '沪铜',\n",
    "                       '锌': '沪锌',\n",
    "                       '棕榈油': '棕榈',\n",
    "                       '黄金': '沪金',\n",
    "                       '铅': '沪铅',\n",
    "                       '白银': '沪银',\n",
    "                       '菜籽油': '菜油',\n",
    "                       '油菜籽': '菜籽',\n",
    "                       '菜籽粕': '菜粕',\n",
    "                       '热轧卷板': '热卷',\n",
    "                       '沪锡': '锡',\n",
    "                       '沪镍': '镍',\n",
    "                       }\n",
    "symbol_list['name'] = symbol_list['name'].apply(lambda x: symbol_replace_dict.get(x, x))"
   ]
  },
  {
   "cell_type": "code",
   "execution_count": null,
   "metadata": {},
   "outputs": [],
   "source": [
    "inventory_data = []\n",
    "ignore_symbol = ['线材', '胶合板', '纤维板', '郑煤']\n",
    "# ignore_symbol = []\n",
    "for symbol in symbol_list['name']:\n",
    "   print(symbol)\n",
    "   if symbol in ignore_symbol:\n",
    "      continue\n",
    "   symbol_data = ak.futures_inventory_em(symbol=symbol)\n",
    "   symbol_data['variety'] = symbol\n",
    "   inventory_data.append(symbol_data)\n",
    "merged_data = pd.concat(inventory_data)\n",
    "symbol_mapping_dict = dict(zip(symbol_list['name'], symbol_list['code']))\n",
    "merged_data['variety'] = merged_data['variety'].apply(lambda x: symbol_mapping_dict.get(x, x))\n",
    "merged_data.rename(columns={'日期': 'date'}, inplace=True)\n",
    "merged_data['date'] = pd.to_datetime(merged_data['date'])"
   ]
  },
  {
   "cell_type": "code",
   "execution_count": 27,
   "metadata": {},
   "outputs": [],
   "source": [
    "# 更新时按日期去重\n",
    "old_inventory_data = dws.get_data_by_sql('SELECT * FROM inventory')\n",
    "old_inventory_data['date'] = pd.to_datetime(old_inventory_data['date'])\n",
    "combined_df = pd.concat([old_inventory_data, merged_data])\n",
    "combined_df = combined_df.drop_duplicates(subset=['date', 'variety'], keep='last')"
   ]
  },
  {
   "cell_type": "code",
   "execution_count": 28,
   "metadata": {},
   "outputs": [],
   "source": [
    "dws.load_from_dataframe(combined_df, 'inventory')"
   ]
  },
  {
   "cell_type": "code",
   "execution_count": null,
   "metadata": {},
   "outputs": [],
   "source": [
    "futures_inventory_em_df = ak.futures_inventory_em(symbol=\"郑煤\")\n",
    "futures_inventory_em_df"
   ]
  },
  {
   "cell_type": "code",
   "execution_count": null,
   "metadata": {},
   "outputs": [],
   "source": [
    "from variety import SymbolData\n",
    "symbol = SymbolData('RB', '螺纹钢')\n",
    "df_inventory_rb = symbol.load_choice_file('black_metals/data/mid-stream/螺纹钢/螺纹钢库存.xlsx')\n"
   ]
  },
  {
   "cell_type": "markdown",
   "metadata": {},
   "source": [
    "### 注册仓单"
   ]
  },
  {
   "cell_type": "code",
   "execution_count": 29,
   "metadata": {},
   "outputs": [],
   "source": [
    "code_list = list(symbol_list['code'])"
   ]
  },
  {
   "cell_type": "code",
   "execution_count": 30,
   "metadata": {},
   "outputs": [],
   "source": [
    "dce =  ['C', 'CS', 'A', 'B', 'M', 'Y', 'P', 'FB', 'BB', 'JD', 'L', 'V', 'PP', 'J', 'JM', 'I', 'EG', 'RR', 'EB', 'PG', 'LH'] \n",
    "dce_in = ['A', 'M', 'C', 'Y', 'L', 'P', 'V', 'J', 'JM', 'I', 'JD', 'BB', 'FB', 'PP', 'CS', 'EG', 'RR', 'B', 'EB']\n",
    "czce = ['WH', 'PM', 'CF', 'SR', 'TA', 'OI', 'RI', 'MA', 'ME', 'FG', 'RS', 'RM', 'ZC', 'JR', 'LR', 'SF', 'SM', 'WT', 'TC', 'GN', 'RO', 'ER', 'SRX', 'SRY', 'WSX', 'WSY', 'CY', 'AP', 'UR', 'CJ', 'SA', 'PK', 'PF', 'PX', 'SH'] \n",
    "czce_in = ['CF', 'SR', 'TA', 'PM', 'RO', 'ER', 'FG', 'RS', 'RM', 'JR', 'LR', 'SM', 'SF', 'ME', 'TC', 'CY', 'AP', 'CJ', 'UR', 'SA']\n",
    "shfe = ['CU', 'AL', 'ZN', 'PB', 'NI', 'SN', 'AU', 'AG', 'RB', 'WR', 'HC', 'FU', 'BU', 'RU', 'SC', 'NR', 'SP', 'SS', 'LU', 'BC', 'AO', 'BR', 'EC']"
   ]
  },
  {
   "cell_type": "code",
   "execution_count": 15,
   "metadata": {},
   "outputs": [
    {
     "name": "stdout",
     "output_type": "stream",
     "text": [
      "21 19 0 []\n"
     ]
    }
   ],
   "source": [
    "set1 = set(dce)\n",
    "set2 = set(dce_in)\n",
    "diff = set2 - set1\n",
    "result = list(diff)\n",
    "print(len(dce), len(dce_in), len(result), result)"
   ]
  },
  {
   "cell_type": "code",
   "execution_count": 24,
   "metadata": {},
   "outputs": [
    {
     "data": {
      "text/html": [
       "<div>\n",
       "<style scoped>\n",
       "    .dataframe tbody tr th:only-of-type {\n",
       "        vertical-align: middle;\n",
       "    }\n",
       "\n",
       "    .dataframe tbody tr th {\n",
       "        vertical-align: top;\n",
       "    }\n",
       "\n",
       "    .dataframe thead th {\n",
       "        text-align: right;\n",
       "    }\n",
       "</style>\n",
       "<table border=\"1\" class=\"dataframe\">\n",
       "  <thead>\n",
       "    <tr style=\"text-align: right;\">\n",
       "      <th></th>\n",
       "      <th>variety</th>\n",
       "      <th>receipt</th>\n",
       "      <th>receipt_chg</th>\n",
       "      <th>date</th>\n",
       "    </tr>\n",
       "  </thead>\n",
       "  <tbody>\n",
       "    <tr>\n",
       "      <th>0</th>\n",
       "      <td>C</td>\n",
       "      <td>1350</td>\n",
       "      <td>0</td>\n",
       "      <td>2011-01-04 00:00:00</td>\n",
       "    </tr>\n",
       "    <tr>\n",
       "      <th>1</th>\n",
       "      <td>A</td>\n",
       "      <td>12586</td>\n",
       "      <td>0</td>\n",
       "      <td>2011-01-04 00:00:00</td>\n",
       "    </tr>\n",
       "    <tr>\n",
       "      <th>2</th>\n",
       "      <td>Y</td>\n",
       "      <td>745</td>\n",
       "      <td>745</td>\n",
       "      <td>2011-01-04 00:00:00</td>\n",
       "    </tr>\n",
       "    <tr>\n",
       "      <th>3</th>\n",
       "      <td>L</td>\n",
       "      <td>27743</td>\n",
       "      <td>95</td>\n",
       "      <td>2011-01-04 00:00:00</td>\n",
       "    </tr>\n",
       "    <tr>\n",
       "      <th>4</th>\n",
       "      <td>V</td>\n",
       "      <td>3784</td>\n",
       "      <td>0</td>\n",
       "      <td>2011-01-04 00:00:00</td>\n",
       "    </tr>\n",
       "    <tr>\n",
       "      <th>...</th>\n",
       "      <td>...</td>\n",
       "      <td>...</td>\n",
       "      <td>...</td>\n",
       "      <td>...</td>\n",
       "    </tr>\n",
       "    <tr>\n",
       "      <th>111286</th>\n",
       "      <td>CJ</td>\n",
       "      <td>15124</td>\n",
       "      <td>1006</td>\n",
       "      <td>20240104</td>\n",
       "    </tr>\n",
       "    <tr>\n",
       "      <th>111287</th>\n",
       "      <td>SA</td>\n",
       "      <td>0</td>\n",
       "      <td>0</td>\n",
       "      <td>20240104</td>\n",
       "    </tr>\n",
       "    <tr>\n",
       "      <th>111288</th>\n",
       "      <td>PK</td>\n",
       "      <td>0</td>\n",
       "      <td>0</td>\n",
       "      <td>20240104</td>\n",
       "    </tr>\n",
       "    <tr>\n",
       "      <th>111289</th>\n",
       "      <td>PK</td>\n",
       "      <td>1030</td>\n",
       "      <td>0</td>\n",
       "      <td>20240104</td>\n",
       "    </tr>\n",
       "    <tr>\n",
       "      <th>111290</th>\n",
       "      <td>PF</td>\n",
       "      <td>6936</td>\n",
       "      <td>0</td>\n",
       "      <td>20240104</td>\n",
       "    </tr>\n",
       "  </tbody>\n",
       "</table>\n",
       "<p>111291 rows × 4 columns</p>\n",
       "</div>"
      ],
      "text/plain": [
       "       variety  receipt  receipt_chg                 date\n",
       "0            C     1350            0  2011-01-04 00:00:00\n",
       "1            A    12586            0  2011-01-04 00:00:00\n",
       "2            Y      745          745  2011-01-04 00:00:00\n",
       "3            L    27743           95  2011-01-04 00:00:00\n",
       "4            V     3784            0  2011-01-04 00:00:00\n",
       "...        ...      ...          ...                  ...\n",
       "111286      CJ    15124         1006             20240104\n",
       "111287      SA        0            0             20240104\n",
       "111288      PK        0            0             20240104\n",
       "111289      PK     1030            0             20240104\n",
       "111290      PF     6936            0             20240104\n",
       "\n",
       "[111291 rows x 4 columns]"
      ]
     },
     "execution_count": 24,
     "metadata": {},
     "output_type": "execute_result"
    }
   ],
   "source": [
    "# 查看数据库中的仓单数据\n",
    "df_receipt = dws.get_data_by_sql('SELECT * FROM receipt')\n",
    "df_receipt['date'] = pd.to_datetime(df_receipt['date'], format='%Y%m%d')\n",
    "df_receipt"
   ]
  },
  {
   "cell_type": "markdown",
   "metadata": {},
   "source": [
    "#### DCE注册仓单下载"
   ]
  },
  {
   "cell_type": "code",
   "execution_count": 31,
   "metadata": {},
   "outputs": [],
   "source": [
    "df_receipt_dce = pd.DataFrame()"
   ]
  },
  {
   "cell_type": "code",
   "execution_count": 253,
   "metadata": {},
   "outputs": [],
   "source": [
    "start_date=\"20150307\"\n",
    "end_date=\"20150310\""
   ]
  },
  {
   "cell_type": "code",
   "execution_count": null,
   "metadata": {},
   "outputs": [],
   "source": [
    "df_receipt_dce_append = ak.get_receipt(start_day=start_date, end_day=end_date, vars_list=dce)\n",
    "df_receipt_dce = pd.concat([df_receipt_dce, df_receipt_dce_append], ignore_index=True)"
   ]
  },
  {
   "cell_type": "code",
   "execution_count": 301,
   "metadata": {},
   "outputs": [],
   "source": [
    "# 按时间去重\n",
    "combined_df = df_receipt_dce.drop_duplicates(subset=['date', 'var'], keep='first')"
   ]
  },
  {
   "cell_type": "code",
   "execution_count": 106,
   "metadata": {},
   "outputs": [],
   "source": [
    "df_receipt_dce = combined_df"
   ]
  },
  {
   "cell_type": "code",
   "execution_count": null,
   "metadata": {},
   "outputs": [],
   "source": [
    "# 按月下载\n",
    "for i in range(12):  \n",
    "    df_receipt_dce_append = ak.get_receipt(start_day=start_date, end_day=end_date, vars_list=dce)\n",
    "    df_receipt_dce = pd.concat([df_receipt_dce, df_receipt_dce_append], ignore_index=True)\n",
    "    print('Last Period: ', start_date, end_date)\n",
    "    start_date = datetime.strptime(start_date, '%Y%m%d')\n",
    "    end_date = datetime.strptime(end_date, '%Y%m%d')\n",
    "    start_date = (start_date + relativedelta(months=1)).replace(day=1)\n",
    "    end_date = (end_date + relativedelta(months=2)).replace(day=1) - relativedelta(days=1)\n",
    "    start_date = start_date.strftime('%Y%m%d')\n",
    "    end_date = end_date.strftime('%Y%m%d')\n",
    "    print('Current Period: ', start_date, end_date)"
   ]
  },
  {
   "cell_type": "code",
   "execution_count": null,
   "metadata": {},
   "outputs": [],
   "source": [
    "# 每3天下载\n",
    "for i in range(360): \n",
    "   df_receipt_dce_append = ak.get_receipt(start_day=start_date, end_day=end_date, vars_list=dce)\n",
    "   df_receipt_dce = pd.concat([df_receipt_dce, df_receipt_dce_append], ignore_index=True)\n",
    "   print('Last Period: ', start_date, end_date)\n",
    "   start_date = datetime.strptime(start_date, '%Y%m%d')\n",
    "   end_date = datetime.strptime(end_date, '%Y%m%d')\n",
    "   start_date = (end_date + relativedelta(days=1)).strftime('%Y%m%d')\n",
    "   end_date = (end_date + relativedelta(days=3)).strftime('%Y%m%d')\n",
    "   # start_date = start_date.strftime('%Y%m%d')\n",
    "   # end_date = end_date.strftime('%Y%m%d')   \n",
    "   print('Current Period: ', start_date, end_date)"
   ]
  },
  {
   "cell_type": "code",
   "execution_count": 248,
   "metadata": {},
   "outputs": [],
   "source": [
    "dws.load_from_dataframe(df_receipt_dce, 'receipt')"
   ]
  },
  {
   "cell_type": "markdown",
   "metadata": {},
   "source": [
    "#### 自动补全下载"
   ]
  },
  {
   "cell_type": "code",
   "execution_count": 32,
   "metadata": {},
   "outputs": [
    {
     "name": "stdout",
     "output_type": "stream",
     "text": [
      "Current Period:  20240106 20240119\n",
      "2024-01-08\n"
     ]
    },
    {
     "name": "stderr",
     "output_type": "stream",
     "text": [
      "/Volumes/Repository/app/miniconda3/lib/python3.10/site-packages/akshare/futures/receipt.py:418: UserWarning: 20240106 非交易日\n",
      "  warnings.warn(f\"{start_day.strftime('%Y%m%d')} 非交易日\")\n",
      "/Volumes/Repository/app/miniconda3/lib/python3.10/site-packages/akshare/futures/receipt.py:418: UserWarning: 20240107 非交易日\n",
      "  warnings.warn(f\"{start_day.strftime('%Y%m%d')} 非交易日\")\n"
     ]
    },
    {
     "name": "stdout",
     "output_type": "stream",
     "text": [
      "2024-01-09\n",
      "2024-01-10\n",
      "2024-01-11\n",
      "2024-01-12\n"
     ]
    },
    {
     "name": "stderr",
     "output_type": "stream",
     "text": [
      "/Volumes/Repository/app/miniconda3/lib/python3.10/site-packages/akshare/futures/receipt.py:418: UserWarning: 20240113 非交易日\n",
      "  warnings.warn(f\"{start_day.strftime('%Y%m%d')} 非交易日\")\n",
      "/Volumes/Repository/app/miniconda3/lib/python3.10/site-packages/akshare/futures/receipt.py:418: UserWarning: 20240114 非交易日\n",
      "  warnings.warn(f\"{start_day.strftime('%Y%m%d')} 非交易日\")\n"
     ]
    },
    {
     "name": "stdout",
     "output_type": "stream",
     "text": [
      "2024-01-15\n",
      "2024-01-16\n",
      "2024-01-17\n",
      "2024-01-18\n",
      "2024-01-19\n"
     ]
    }
   ],
   "source": [
    "last_date = dws.get_last_date('receipt')\n",
    "last_date = pd.to_datetime(last_date)\n",
    "start_date = last_date + timedelta(days=1)\n",
    "end_date = datetime.now() - timedelta(days=1)\n",
    "start_date = start_date.strftime('%Y%m%d')\n",
    "end_date = end_date.strftime('%Y%m%d')\n",
    "print('Current Period: ', start_date, end_date)\n",
    "df_receipt_dce_append = ak.get_receipt(start_day=start_date, end_day=end_date, vars_list=dce)\n",
    "df_receipt_dce = pd.concat([df_receipt_dce, df_receipt_dce_append], ignore_index=True)"
   ]
  },
  {
   "cell_type": "code",
   "execution_count": 33,
   "metadata": {},
   "outputs": [],
   "source": [
    "df_receipt_dce.rename(columns={'var': 'variety'}, inplace=True)\n",
    "dws.load_from_dataframe(df_receipt_dce, 'receipt', 'append')"
   ]
  },
  {
   "cell_type": "markdown",
   "metadata": {},
   "source": [
    "#### CZCE注册仓单下载"
   ]
  },
  {
   "cell_type": "code",
   "execution_count": null,
   "metadata": {},
   "outputs": [],
   "source": [
    "df_receipt_czce = ak.get_receipt(start_day=\"20151112\", end_day=\"20151231\", vars_list=czce)"
   ]
  },
  {
   "cell_type": "code",
   "execution_count": null,
   "metadata": {},
   "outputs": [],
   "source": [
    "df_receipt_czce_append = ak.get_receipt(start_day=\"20220101\", end_day=\"20240104\", vars_list=czce)\n",
    "df_receipt_czce = pd.concat([df_receipt_czce, df_receipt_czce_append], ignore_index=True)"
   ]
  },
  {
   "cell_type": "markdown",
   "metadata": {},
   "source": [
    "#### 自动补全下载"
   ]
  },
  {
   "cell_type": "code",
   "execution_count": 34,
   "metadata": {},
   "outputs": [
    {
     "name": "stderr",
     "output_type": "stream",
     "text": [
      "/Volumes/Repository/app/miniconda3/lib/python3.10/site-packages/akshare/futures/receipt.py:418: UserWarning: 20240106 非交易日\n",
      "  warnings.warn(f\"{start_day.strftime('%Y%m%d')} 非交易日\")\n",
      "/Volumes/Repository/app/miniconda3/lib/python3.10/site-packages/akshare/futures/receipt.py:418: UserWarning: 20240107 非交易日\n",
      "  warnings.warn(f\"{start_day.strftime('%Y%m%d')} 非交易日\")\n"
     ]
    },
    {
     "name": "stdout",
     "output_type": "stream",
     "text": [
      "2024-01-08\n",
      "2024-01-09\n",
      "2024-01-10\n",
      "2024-01-11\n",
      "2024-01-12\n"
     ]
    },
    {
     "name": "stderr",
     "output_type": "stream",
     "text": [
      "/Volumes/Repository/app/miniconda3/lib/python3.10/site-packages/akshare/futures/receipt.py:418: UserWarning: 20240113 非交易日\n",
      "  warnings.warn(f\"{start_day.strftime('%Y%m%d')} 非交易日\")\n",
      "/Volumes/Repository/app/miniconda3/lib/python3.10/site-packages/akshare/futures/receipt.py:418: UserWarning: 20240114 非交易日\n",
      "  warnings.warn(f\"{start_day.strftime('%Y%m%d')} 非交易日\")\n"
     ]
    },
    {
     "name": "stdout",
     "output_type": "stream",
     "text": [
      "2024-01-15\n",
      "2024-01-16\n",
      "2024-01-17\n",
      "2024-01-18\n",
      "2024-01-19\n"
     ]
    }
   ],
   "source": [
    "df_receipt_czce_append = ak.get_receipt(start_day=start_date, end_day=end_date, vars_list=czce)\n",
    "# df_receipt_czce = pd.concat([df_receipt_czce, df_receipt_czce_append], ignore_index=True)"
   ]
  },
  {
   "cell_type": "code",
   "execution_count": 36,
   "metadata": {},
   "outputs": [],
   "source": [
    "df_receipt_czce_append.rename(columns={'var': 'variety'}, inplace=True)\n",
    "dws.load_from_dataframe(df_receipt_czce_append, 'receipt', 'append')"
   ]
  },
  {
   "cell_type": "markdown",
   "metadata": {},
   "source": [
    "#### SHFE注册仓单下载"
   ]
  },
  {
   "cell_type": "code",
   "execution_count": null,
   "metadata": {},
   "outputs": [],
   "source": [
    "df_receipt_shfe = ak.get_receipt(start_day=\"20140517\", end_day=\"20141231\", vars_list=shfe)"
   ]
  },
  {
   "cell_type": "code",
   "execution_count": null,
   "metadata": {},
   "outputs": [],
   "source": [
    "df_receipt_shfe_append = ak.get_receipt(start_day=\"20210101\", end_day=\"20240104\", vars_list=shfe)\n",
    "df_receipt_shfe = pd.concat([df_receipt_shfe, df_receipt_shfe_append], ignore_index=True)"
   ]
  },
  {
   "cell_type": "markdown",
   "metadata": {},
   "source": [
    "#### 自动补全下载"
   ]
  },
  {
   "cell_type": "code",
   "execution_count": 37,
   "metadata": {},
   "outputs": [
    {
     "name": "stderr",
     "output_type": "stream",
     "text": [
      "/Volumes/Repository/app/miniconda3/lib/python3.10/site-packages/akshare/futures/receipt.py:418: UserWarning: 20240106 非交易日\n",
      "  warnings.warn(f\"{start_day.strftime('%Y%m%d')} 非交易日\")\n",
      "/Volumes/Repository/app/miniconda3/lib/python3.10/site-packages/akshare/futures/receipt.py:418: UserWarning: 20240107 非交易日\n",
      "  warnings.warn(f\"{start_day.strftime('%Y%m%d')} 非交易日\")\n"
     ]
    },
    {
     "name": "stdout",
     "output_type": "stream",
     "text": [
      "2024-01-08\n",
      "2024-01-09\n",
      "2024-01-10\n",
      "2024-01-11\n",
      "2024-01-12\n"
     ]
    },
    {
     "name": "stderr",
     "output_type": "stream",
     "text": [
      "/Volumes/Repository/app/miniconda3/lib/python3.10/site-packages/akshare/futures/receipt.py:418: UserWarning: 20240113 非交易日\n",
      "  warnings.warn(f\"{start_day.strftime('%Y%m%d')} 非交易日\")\n",
      "/Volumes/Repository/app/miniconda3/lib/python3.10/site-packages/akshare/futures/receipt.py:418: UserWarning: 20240114 非交易日\n",
      "  warnings.warn(f\"{start_day.strftime('%Y%m%d')} 非交易日\")\n"
     ]
    },
    {
     "name": "stdout",
     "output_type": "stream",
     "text": [
      "2024-01-15\n",
      "2024-01-16\n",
      "2024-01-17\n",
      "2024-01-18\n",
      "2024-01-19\n"
     ]
    }
   ],
   "source": [
    "df_receipt_shfe_append = ak.get_receipt(start_day=start_date, end_day=end_date, vars_list=shfe)"
   ]
  },
  {
   "cell_type": "code",
   "execution_count": 38,
   "metadata": {},
   "outputs": [],
   "source": [
    "df_receipt_shfe_append.rename(columns={'var': 'variety'}, inplace=True)\n",
    "dws.load_from_dataframe(df_receipt_shfe_append, 'receipt', 'append')"
   ]
  },
  {
   "cell_type": "markdown",
   "metadata": {},
   "source": [
    "## 基差数据"
   ]
  },
  {
   "cell_type": "markdown",
   "metadata": {},
   "source": [
    "### 接口调用示例"
   ]
  },
  {
   "cell_type": "code",
   "execution_count": null,
   "metadata": {},
   "outputs": [],
   "source": [
    "futures_spot_price_df = ak.futures_spot_price(\"20211025\")\n",
    "futures_spot_price_df"
   ]
  },
  {
   "cell_type": "markdown",
   "metadata": {},
   "source": [
    "### 按时间段补充数据"
   ]
  },
  {
   "cell_type": "code",
   "execution_count": null,
   "metadata": {},
   "outputs": [],
   "source": [
    "# 创建一个日期列表，包括今年的所有日期\n",
    "start_date = date(2023, 1, 1)\n",
    "end_date = date(2023, 12, 31)\n",
    "delta = timedelta(days=1)\n",
    "dates = []\n",
    "while start_date <= end_date:\n",
    "   dates.append(start_date.strftime(\"%Y%m%d\"))\n",
    "   start_date += delta\n",
    "\n",
    "# 初始化一个空的DataFrame来存储所有的数据\n",
    "all_data = pd.DataFrame()\n",
    "\n",
    "# 对每个日期调用ak.futures_spot_price()函数，并将结果添加到all_data中\n",
    "for d in dates:\n",
    "   df = ak.futures_spot_price(d)\n",
    "   all_data = pd.concat([all_data, df], ignore_index=True)\n",
    "all_data.rename(columns={'symbol': 'variety'}, inplace=True)\n",
    "all_data['date'] = pd.to_datetime(all_data['date'], format='%Y%m%d')\n",
    "# 纠正AKShare基差/基差率计算错误（正负号）\n",
    "all_data['near_basis'] = -all_data['near_basis']\n",
    "all_data['dom_basis'] = -all_data['dom_basis']\n",
    "all_data['near_basis_rate'] = -all_data['near_basis_rate']\n",
    "all_data['dom_basis_rate'] = -all_data['dom_basis_rate']\n",
    "# 打印所有的数据\n",
    "print(all_data)"
   ]
  },
  {
   "cell_type": "code",
   "execution_count": 132,
   "metadata": {},
   "outputs": [],
   "source": [
    "dws.load_from_dataframe(all_data, 'basis', 'append')"
   ]
  },
  {
   "cell_type": "markdown",
   "metadata": {},
   "source": [
    "#### 自动补全数据"
   ]
  },
  {
   "cell_type": "code",
   "execution_count": 39,
   "metadata": {},
   "outputs": [
    {
     "name": "stderr",
     "output_type": "stream",
     "text": [
      "/Volumes/Repository/app/miniconda3/lib/python3.10/site-packages/akshare/futures/futures_basis.py:101: UserWarning: 20240106非交易日\n",
      "  warnings.warn(f\"{date.strftime('%Y%m%d')}非交易日\")\n",
      "/Volumes/Repository/app/miniconda3/lib/python3.10/site-packages/akshare/futures/futures_basis.py:101: UserWarning: 20240107非交易日\n",
      "  warnings.warn(f\"{date.strftime('%Y%m%d')}非交易日\")\n",
      "/Volumes/Repository/app/miniconda3/lib/python3.10/site-packages/akshare/futures/futures_basis.py:101: UserWarning: 20240113非交易日\n",
      "  warnings.warn(f\"{date.strftime('%Y%m%d')}非交易日\")\n",
      "/Volumes/Repository/app/miniconda3/lib/python3.10/site-packages/akshare/futures/futures_basis.py:101: UserWarning: 20240114非交易日\n",
      "  warnings.warn(f\"{date.strftime('%Y%m%d')}非交易日\")\n"
     ]
    }
   ],
   "source": [
    "last_date = dws.get_last_date('basis')\n",
    "last_date = pd.to_datetime(last_date)\n",
    "start_date = last_date + timedelta(days=1)\n",
    "end_date = datetime.now() - timedelta(days=1)\n",
    "delta = timedelta(days=1)\n",
    "dates = []\n",
    "while start_date <= end_date:\n",
    "   dates.append(start_date.strftime(\"%Y%m%d\"))\n",
    "   start_date += delta\n",
    "all_data = pd.DataFrame()\n",
    "for d in dates:\n",
    "   df = ak.futures_spot_price(d)\n",
    "   all_data = pd.concat([all_data, df], ignore_index=True)\n",
    "all_data['date'] = pd.to_datetime(all_data['date'])\n",
    "all_data.rename(columns={'symbol': 'variety'}, inplace=True)\n",
    "# 纠正AKShare基差/基差率计算错误（正负号）\n",
    "all_data['near_basis'] = -all_data['near_basis']\n",
    "all_data['dom_basis'] = -all_data['dom_basis']\n",
    "all_data['near_basis_rate'] = -all_data['near_basis_rate']\n",
    "all_data['dom_basis_rate'] = -all_data['dom_basis_rate']"
   ]
  },
  {
   "cell_type": "code",
   "execution_count": 40,
   "metadata": {},
   "outputs": [],
   "source": [
    "dws.load_from_dataframe(all_data, 'basis', 'append')"
   ]
  },
  {
   "cell_type": "markdown",
   "metadata": {},
   "source": [
    "# 全自动补全数据"
   ]
  },
  {
   "cell_type": "code",
   "execution_count": 1,
   "metadata": {},
   "outputs": [],
   "source": [
    "import pandas as pd\n",
    "import akshare as ak\n",
    "from dateutil.relativedelta import relativedelta\n",
    "from datetime import datetime, date, timedelta\n",
    "import dataworks as dw\n",
    "import json\n",
    "\n",
    "dws = dw.DataWorks()"
   ]
  },
  {
   "cell_type": "code",
   "execution_count": 2,
   "metadata": {},
   "outputs": [
    {
     "data": {
      "text/plain": [
       "<module 'dataworks' from '/Volumes/Repository/Projects/futures_nexus/dataworks.py'>"
      ]
     },
     "execution_count": 2,
     "metadata": {},
     "output_type": "execute_result"
    }
   ],
   "source": [
    "import importlib\n",
    "importlib.reload(dw)"
   ]
  },
  {
   "cell_type": "markdown",
   "metadata": {},
   "source": [
    "## 历史合约"
   ]
  },
  {
   "cell_type": "markdown",
   "metadata": {},
   "source": [
    "### DCE"
   ]
  },
  {
   "cell_type": "code",
   "execution_count": 2,
   "metadata": {},
   "outputs": [
    {
     "name": "stdout",
     "output_type": "stream",
     "text": [
      "Current Period:  20240424 20240426\n"
     ]
    }
   ],
   "source": [
    "last_date = dws.get_last_date('dce')\n",
    "last_date = pd.to_datetime(last_date)\n",
    "start_date = last_date + timedelta(days=1)\n",
    "end_date = datetime.now() - timedelta(days=1)\n",
    "start_date = start_date.strftime('%Y%m%d')\n",
    "end_date = end_date.strftime('%Y%m%d')\n",
    "print('Current Period: ', start_date, end_date)\n",
    "df_futures_daily_dce_append = ak.get_futures_daily(start_date=start_date, end_date=end_date, market=\"DCE\")\n",
    "df_futures_daily_dce_append['date'] = pd.to_datetime(df_futures_daily_dce_append['date'], format='%Y%m%d')\n",
    "dws.load_from_dataframe(df_futures_daily_dce_append, 'dce', 'append')"
   ]
  },
  {
   "cell_type": "markdown",
   "metadata": {},
   "source": [
    "### CZCE"
   ]
  },
  {
   "cell_type": "code",
   "execution_count": 3,
   "metadata": {},
   "outputs": [
    {
     "name": "stdout",
     "output_type": "stream",
     "text": [
      "Current Period:  20240424 20240426\n"
     ]
    }
   ],
   "source": [
    "last_date = dws.get_last_date('czce')\n",
    "last_date = pd.to_datetime(last_date)\n",
    "start_date = last_date + timedelta(days=1)\n",
    "end_date = datetime.now() - timedelta(days=1)\n",
    "start_date = start_date.strftime('%Y%m%d')\n",
    "end_date = end_date.strftime('%Y%m%d')\n",
    "print('Current Period: ', start_date, end_date)\n",
    "df_futures_daily_czce_append = ak.get_futures_daily(start_date=start_date, end_date=end_date, market=\"CZCE\")\n",
    "df_futures_daily_czce_append['date'] = pd.to_datetime(df_futures_daily_czce_append['date'], format='%Y%m%d')\n",
    "dws.load_from_dataframe(df_futures_daily_czce_append, 'czce', 'append')"
   ]
  },
  {
   "cell_type": "markdown",
   "metadata": {},
   "source": [
    "### SHFE"
   ]
  },
  {
   "cell_type": "code",
   "execution_count": 4,
   "metadata": {},
   "outputs": [
    {
     "name": "stdout",
     "output_type": "stream",
     "text": [
      "Current Period:  20240424 20240426\n"
     ]
    }
   ],
   "source": [
    "last_date = dws.get_last_date('shfe')\n",
    "last_date = pd.to_datetime(last_date)\n",
    "start_date = last_date + timedelta(days=1)\n",
    "end_date = datetime.now() - timedelta(days=1)\n",
    "start_date = start_date.strftime('%Y%m%d')\n",
    "end_date = end_date.strftime('%Y%m%d')\n",
    "print('Current Period: ', start_date, end_date)\n",
    "df_futures_daily_shfe_append = ak.get_futures_daily(start_date=start_date, end_date=end_date, market=\"SHFE\")\n",
    "df_futures_daily_shfe_append['date'] = pd.to_datetime(df_futures_daily_shfe_append['date'], format='%Y%m%d')\n",
    "dws.load_from_dataframe(df_futures_daily_shfe_append, 'shfe', 'append')"
   ]
  },
  {
   "cell_type": "markdown",
   "metadata": {},
   "source": [
    "## 合约信息"
   ]
  },
  {
   "cell_type": "code",
   "execution_count": 5,
   "metadata": {},
   "outputs": [],
   "source": [
    "symbol_list = ak.futures_index_symbol_table_nh()\n",
    "symbol_list = symbol_list[symbol_list['exchange'].isin(['郑州商品交易所', '大连商品交易所', '上海期货交易所'])]\n",
    "symbol_list = symbol_list.drop('indexcategory', axis=1)\n",
    "exchange_replace_dict = {'郑州商品交易所': 'czce',\n",
    "                         '大连商品交易所': 'dce',\n",
    "                         '上海期货交易所': 'shfe'}\n",
    "symbol_list['exchange'] = symbol_list['exchange'].apply(lambda x: exchange_replace_dict.get(x, x))\n",
    "dws.load_from_dataframe(symbol_list, 'symbols')"
   ]
  },
  {
   "cell_type": "markdown",
   "metadata": {},
   "source": [
    "## 主力合约"
   ]
  },
  {
   "cell_type": "code",
   "execution_count": 6,
   "metadata": {},
   "outputs": [
    {
     "name": "stdout",
     "output_type": "stream",
     "text": [
      "Current Period:  20240424 20240426\n"
     ]
    }
   ],
   "source": [
    "contract_list = ak.futures_display_main_sina()\n",
    "contract_list = contract_list[contract_list['exchange'].isin(['czce', 'dce', 'shfe'])]\n",
    "\n",
    "last_date = dws.get_last_date('dominant')\n",
    "last_date = pd.to_datetime(last_date)\n",
    "start_date = last_date + timedelta(days=1)\n",
    "end_date = datetime.now() - timedelta(days=1)\n",
    "start_date = start_date.strftime('%Y%m%d')\n",
    "end_date = end_date.strftime('%Y%m%d')\n",
    "print('Current Period: ', start_date, end_date)\n",
    "main_contract_data = []\n",
    "for symbol in contract_list['symbol']:\n",
    "    symbol_hist = ak.futures_main_sina(symbol=symbol, start_date=start_date, end_date=end_date)\n",
    "    symbol_hist['variety'] = symbol\n",
    "    main_contract_data.append(symbol_hist)\n",
    "merged_main_contracts = pd.concat(main_contract_data)\n",
    "merged_main_contracts.rename(columns={'日期': 'date'}, inplace=True)\n",
    "merged_main_contracts['date'] = pd.to_datetime(merged_main_contracts['date'])\n",
    "merged_main_contracts['variety'] = merged_main_contracts['variety'].str.rstrip('0')\n",
    "# combined_main = merged_main_contracts.drop_duplicates(subset=['日期', 'variety'], keep='last')\n",
    "dws.load_from_dataframe(merged_main_contracts, 'dominant', 'append')"
   ]
  },
  {
   "cell_type": "markdown",
   "metadata": {},
   "source": [
    "## 主力合约月（计算）"
   ]
  },
  {
   "cell_type": "code",
   "execution_count": 8,
   "metadata": {},
   "outputs": [],
   "source": [
    "# # 根据历史合约的持仓量数据获得主力合约月份(推荐使用)\n",
    "# exchanges = ['dce', 'czce', 'shfe']\n",
    "# ignore_variety = ['SC_TAS']\n",
    "# variety_setting = {}\n",
    "# for ex in exchanges:\n",
    "#     sql = 'SELECT * FROM ' + ex\n",
    "#     df_history = dws.get_data_by_sql(sql)\n",
    "#     df_history['delivery_month'] = df_history['symbol'].str.slice(-2).astype(int)\n",
    "#     df_history['date'] = pd.to_datetime(df_history['date'])\n",
    "#     start_date = '20210101'\n",
    "#     end_date = '20231231'\n",
    "#     start_date = datetime.strptime(start_date, '%Y%m%d')\n",
    "#     end_date = datetime.strptime(end_date, '%Y%m%d')\n",
    "#     df_history = df_history[(df_history['date'] >= start_date) & (df_history['date'] <= end_date)]\n",
    "#     symbol_list = df_history['variety'].unique()    \n",
    "#     for variety in symbol_list:\n",
    "#         if variety in ignore_variety:\n",
    "#             continue\n",
    "#         dominant_month = []\n",
    "#         df = df_history[df_history['variety']==variety]\n",
    "#         trading_dates = df['date']\n",
    "#         for date in trading_dates:\n",
    "#             df_current_date = df[df['date']==date]\n",
    "#             max_open_interest_index= df_current_date['open_interest'].astype(int).idxmax()\n",
    "#             delivery_month = int(df_current_date.loc[max_open_interest_index]['delivery_month'])\n",
    "#             dominant_month.append(delivery_month)\n",
    "#         dominant_month = sorted(list(set(dominant_month)))\n",
    "#         variety_setting[variety] = {'DominantMonths': dominant_month,\n",
    "#                                     'ExchangeID': ex,}\n",
    "#         print(variety_setting[variety])\n",
    "# dws.save_variety_setting(variety_setting)"
   ]
  },
  {
   "cell_type": "code",
   "execution_count": 9,
   "metadata": {},
   "outputs": [],
   "source": [
    "# 根据basis表获得主力合约月份（不推荐，因品种不全）\n",
    "# df_basis = dws.get_data_by_sql('SELECT * FROM basis')\n",
    "\n",
    "# df_basis['delivery_month'] = df_basis['dominant_contract'].str.slice(-2).astype(int)\n",
    "# dce_symbol_list = df_basis['variety'].unique()\n",
    "# dominant_contract = {}\n",
    "# for variety in dce_symbol_list:\n",
    "#     df = df_basis[df_basis['variety']==variety]\n",
    "#     dominant_contract[variety] = df['delivery_month'].unique()\n",
    "#     print(variety, dominant_contract[variety])"
   ]
  },
  {
   "cell_type": "code",
   "execution_count": 10,
   "metadata": {},
   "outputs": [],
   "source": [
    "# # 将主力合约月写入数据库symbols表中(废弃使用)\n",
    "# df_symbol = dws.get_data_by_sql('SELECT * FROM symbols')\n",
    "# existed_variety = df_symbol['code'].to_list()\n",
    "# # symbols表中如果没有dominant_contract字典中的品种，则添加对应的记录\n",
    "# for variety, domant_months in dominant_contract.items():\n",
    "#     if variety not in existed_variety:\n",
    "#         symbol_row = pd.DataFrame({\n",
    "#             'name': [''],\n",
    "#             'firstday': [pd.NaT],\n",
    "#             'code': [variety],\n",
    "#             'exchange': [variety_exchange[variety]]\n",
    "#         })\n",
    "#         df_symbol = pd.concat([df_symbol, symbol_row])        \n",
    "# df_symbol['dominant_months'] = df_symbol['code'].map(dominant_contract)\n",
    "# # 因SQLite无法将list作为字段存储，需通过json进行序列化再存储至数据，从数据库读取时需要进行反序列化处理\n",
    "# df_symbol['dominant_months'] = df_symbol['dominant_months'].apply(json.dumps)\n",
    "# dws.load_from_dataframe(df_symbol, 'symbols')"
   ]
  },
  {
   "cell_type": "markdown",
   "metadata": {},
   "source": [
    "## 近月合约（合成）"
   ]
  },
  {
   "cell_type": "code",
   "execution_count": 7,
   "metadata": {},
   "outputs": [],
   "source": [
    "import re\n",
    "variety_setting = dws.get_variety_setting()\n",
    "ignore_variety = ['SC_TAS']\n",
    "df_near_contract = pd.DataFrame()\n",
    "for variety in variety_setting:\n",
    "    dominant_months = variety_setting[variety]['DominantMonths']\n",
    "    exchange = variety_setting[variety]['ExchangeID']\n",
    "    df_history_variety = dws.get_data_by_symbol(exchange, variety)\n",
    "    df_history_variety['delivery_month'] = df_history_variety['symbol'].str.slice(-2).astype(int)\n",
    "    df_history_variety['date'] = pd.to_datetime(df_history_variety['date'])\n",
    "    df_dominant_contract = df_history_variety[df_history_variety['delivery_month'].isin(dominant_months)]\n",
    "    df_dominant_contract = df_dominant_contract.sort_values(by=['date'], ascending=[True])\n",
    "    contract_list = df_dominant_contract['symbol'].unique()\n",
    "    first_symbol = True\n",
    "    for symbol in contract_list:\n",
    "        number_count = len(re.findall(r'\\d', symbol))\n",
    "        df_cuurent_near = df_dominant_contract[df_dominant_contract['symbol']==symbol]\n",
    "        if first_symbol:\n",
    "            first_symbol = False\n",
    "            start_date = df_cuurent_near['date'].min()        \n",
    "        if number_count==4:    \n",
    "            # 假设年月编码是symbol字符串的后四位\n",
    "            year_month_code = symbol[-4:]\n",
    "            year = int(year_month_code[:2])  # 提取年份编码\n",
    "            month = int(year_month_code[2:])  # 提取月份编码\n",
    "            year += 2000 if year < 50 else 1900\n",
    "            delivery_date = datetime(year, month, 1)\n",
    "        else:\n",
    "            # TODO: 合约编码3位数字的品种处理逻辑\n",
    "            year_month_code = symbol[-3:]\n",
    "            # year = int(year_month_code[:1])  # 提取年份编码\n",
    "            month = int(year_month_code[1:])  # 提取月份编码\n",
    "            delivery_date = df_cuurent_near['date'].max()    \n",
    "            delivery_date = delivery_date.replace(month=month, day=1)\n",
    "            # year += 2020\n",
    "        end_date = delivery_date - timedelta(days=1)    \n",
    "        if start_date > end_date:\n",
    "            continue        \n",
    "        df_cuurent_near = df_cuurent_near[(df_cuurent_near['date']>= start_date) & (df_cuurent_near['date']<=end_date)]\n",
    "        df_near_contract = pd.concat([df_near_contract, df_cuurent_near])\n",
    "        start_date = end_date + timedelta(days=1)            \n",
    "dws.load_from_dataframe(df_near_contract, 'near') "
   ]
  },
  {
   "cell_type": "markdown",
   "metadata": {},
   "source": [
    "## 库存"
   ]
  },
  {
   "cell_type": "code",
   "execution_count": 8,
   "metadata": {},
   "outputs": [
    {
     "name": "stdout",
     "output_type": "stream",
     "text": [
      "豆一\n",
      "沪铝\n",
      "沪铜\n",
      "橡胶\n",
      "豆粕\n",
      "郑棉\n",
      "燃油\n",
      "玉米\n",
      "白糖\n",
      "豆油\n",
      "PTA\n",
      "沪锌\n",
      "塑料\n",
      "棕榈\n",
      "沪金\n",
      "螺纹钢\n",
      "线材\n",
      "PVC\n",
      "沪铅\n",
      "焦炭\n",
      "普麦\n",
      "沪银\n",
      "菜油\n",
      "早籼\n",
      "强麦\n",
      "玻璃\n",
      "菜籽\n",
      "菜粕\n",
      "焦煤\n",
      "沥青\n",
      "铁矿石\n",
      "鸡蛋\n",
      "粳稻\n",
      "胶合板\n",
      "纤维板\n",
      "聚丙烯\n",
      "热卷\n",
      "晚籼\n",
      "锰硅\n",
      "硅铁\n",
      "玉米淀粉\n",
      "锡\n",
      "镍\n",
      "甲醇\n",
      "郑煤\n",
      "棉纱\n",
      "棉纱\n",
      "苹果\n",
      "纸浆\n",
      "乙二醇\n",
      "红枣\n",
      "尿素\n",
      "粳米\n",
      "豆二\n",
      "不锈钢\n",
      "苯乙烯\n",
      "纯碱\n"
     ]
    }
   ],
   "source": [
    "# 库存数据来源于“东方财富网”，商品名称与常规命名有出入，通过字典映射\n",
    "symbol_replace_dict = {'鲜苹果': '苹果',\n",
    "                       '棉花': '郑棉',\n",
    "                       '动力煤': '郑煤',\n",
    "                       '早籼稻': '早籼',\n",
    "                       '烧碱': '纯碱',\n",
    "                       '郑醇': '甲醇',\n",
    "                       '晚籼稻': '晚籼',\n",
    "                       'PP': '聚丙烯',\n",
    "                       '大豆': '豆一',\n",
    "                       '铝': '沪铝',\n",
    "                       '铜': '沪铜',\n",
    "                       '锌': '沪锌',\n",
    "                       '棕榈油': '棕榈',\n",
    "                       '黄金': '沪金',\n",
    "                       '铅': '沪铅',\n",
    "                       '白银': '沪银',\n",
    "                       '菜籽油': '菜油',\n",
    "                       '油菜籽': '菜籽',\n",
    "                       '菜籽粕': '菜粕',\n",
    "                       '热轧卷板': '热卷',\n",
    "                       '沪锡': '锡',\n",
    "                       '沪镍': '镍',\n",
    "                       }\n",
    "symbol_list['name'] = symbol_list['name'].apply(lambda x: symbol_replace_dict.get(x, x))\n",
    "inventory_data = []\n",
    "ignore_symbol = ['线材', '胶合板', '纤维板', '郑煤', '普麦', '早籼', '强麦', '粳稻', '晚籼', '粳米']\n",
    "# ignore_symbol = []\n",
    "for symbol in symbol_list['name']:\n",
    "   print(symbol)\n",
    "   if symbol in ignore_symbol:\n",
    "      continue\n",
    "   symbol_data = ak.futures_inventory_em(symbol=symbol)\n",
    "   symbol_data['variety'] = symbol\n",
    "   inventory_data.append(symbol_data)\n",
    "merged_data = pd.concat(inventory_data)\n",
    "symbol_mapping_dict = dict(zip(symbol_list['name'], symbol_list['code']))\n",
    "merged_data['variety'] = merged_data['variety'].apply(lambda x: symbol_mapping_dict.get(x, x))\n",
    "merged_data.rename(columns={'日期': 'date'}, inplace=True)\n",
    "merged_data['date'] = pd.to_datetime(merged_data['date'])\n",
    "# 更新时按日期去重\n",
    "old_inventory_data = dws.get_data_by_sql('SELECT * FROM inventory')\n",
    "old_inventory_data['date'] = pd.to_datetime(old_inventory_data['date'])\n",
    "combined_df = pd.concat([old_inventory_data, merged_data])\n",
    "combined_df = combined_df.drop_duplicates(subset=['date', 'variety'], keep='last')\n",
    "dws.load_from_dataframe(combined_df, 'inventory')"
   ]
  },
  {
   "cell_type": "markdown",
   "metadata": {},
   "source": [
    "## 注册仓单"
   ]
  },
  {
   "cell_type": "code",
   "execution_count": 9,
   "metadata": {},
   "outputs": [
    {
     "name": "stdout",
     "output_type": "stream",
     "text": [
      "Current Period:  20240424 20240426\n"
     ]
    }
   ],
   "source": [
    "last_date = dws.get_last_date('receipt')\n",
    "last_date = pd.to_datetime(last_date)\n",
    "start_date = last_date + timedelta(days=1)\n",
    "end_date = datetime.now() - timedelta(days=1)\n",
    "start_date = start_date.strftime('%Y%m%d')\n",
    "end_date = end_date.strftime('%Y%m%d')\n",
    "print('Current Period: ', start_date, end_date)"
   ]
  },
  {
   "cell_type": "code",
   "execution_count": 10,
   "metadata": {},
   "outputs": [],
   "source": [
    "dce =  ['C', 'CS', 'A', 'B', 'M', 'Y', 'P', 'FB', 'BB', 'JD', 'L', 'V', 'PP', 'J', 'JM', 'I', 'EG', 'RR', 'EB', 'PG', 'LH'] \n",
    "dce_in = ['A', 'M', 'C', 'Y', 'L', 'P', 'V', 'J', 'JM', 'I', 'JD', 'BB', 'FB', 'PP', 'CS', 'EG', 'RR', 'B', 'EB']\n",
    "czce = ['WH', 'PM', 'CF', 'SR', 'TA', 'OI', 'RI', 'MA', 'ME', 'FG', 'RS', 'RM', 'ZC', 'JR', 'LR', 'SF', 'SM', 'WT', 'TC', 'GN', 'RO', 'ER', 'SRX', 'SRY', 'WSX', 'WSY', 'CY', 'AP', 'UR', 'CJ', 'SA', 'PK', 'PF', 'PX', 'SH'] \n",
    "czce_in = ['CF', 'SR', 'TA', 'PM', 'RO', 'ER', 'FG', 'RS', 'RM', 'JR', 'LR', 'SM', 'SF', 'ME', 'TC', 'CY', 'AP', 'CJ', 'UR', 'SA']\n",
    "shfe = ['CU', 'AL', 'ZN', 'PB', 'NI', 'SN', 'AU', 'AG', 'RB', 'WR', 'HC', 'FU', 'BU', 'RU', 'SC', 'NR', 'SP', 'SS', 'LU', 'BC', 'AO', 'BR', 'EC']"
   ]
  },
  {
   "cell_type": "markdown",
   "metadata": {},
   "source": [
    "### DCE"
   ]
  },
  {
   "cell_type": "code",
   "execution_count": 11,
   "metadata": {},
   "outputs": [
    {
     "name": "stdout",
     "output_type": "stream",
     "text": [
      "2024-04-24\n",
      "2024-04-25\n",
      "2024-04-26\n"
     ]
    }
   ],
   "source": [
    "df_receipt_dce_append = ak.get_receipt(start_date, end_date, vars_list=dce)\n",
    "df_receipt_dce_append['date'] = pd.to_datetime(df_receipt_dce_append['date'])\n",
    "df_receipt_dce_append.rename(columns={'var': 'variety'}, inplace=True)\n",
    "dws.load_from_dataframe(df_receipt_dce_append, 'receipt', 'append')"
   ]
  },
  {
   "cell_type": "markdown",
   "metadata": {},
   "source": [
    "### CZCE"
   ]
  },
  {
   "cell_type": "code",
   "execution_count": 12,
   "metadata": {},
   "outputs": [
    {
     "name": "stdout",
     "output_type": "stream",
     "text": [
      "2024-04-24\n",
      "2024-04-25\n",
      "2024-04-26\n"
     ]
    }
   ],
   "source": [
    "df_receipt_czce_append = ak.get_receipt(start_date, end_date, vars_list=czce)\n",
    "df_receipt_czce_append['date'] = pd.to_datetime(df_receipt_czce_append['date'])\n",
    "df_receipt_czce_append.rename(columns={'var': 'variety'}, inplace=True)\n",
    "dws.load_from_dataframe(df_receipt_czce_append, 'receipt', 'append')"
   ]
  },
  {
   "cell_type": "markdown",
   "metadata": {},
   "source": [
    "### SHFE"
   ]
  },
  {
   "cell_type": "code",
   "execution_count": 13,
   "metadata": {},
   "outputs": [
    {
     "name": "stdout",
     "output_type": "stream",
     "text": [
      "2024-04-24\n",
      "2024-04-25\n",
      "2024-04-26\n"
     ]
    }
   ],
   "source": [
    "df_receipt_shfe_append = ak.get_receipt(start_date, end_date, vars_list=shfe)\n",
    "df_receipt_shfe_append['date'] = pd.to_datetime(df_receipt_shfe_append['date'])\n",
    "df_receipt_shfe_append.rename(columns={'var': 'variety'}, inplace=True)\n",
    "dws.load_from_dataframe(df_receipt_shfe_append, 'receipt', 'append')"
   ]
  },
  {
   "cell_type": "code",
   "execution_count": 14,
   "metadata": {},
   "outputs": [],
   "source": [
    "# 按日期/品种去重\n",
    "receipt_data = dws.get_data_by_sql('SELECT * FROM receipt')\n",
    "receipt_data['date'] = pd.to_datetime(receipt_data['date'])\n",
    "receipt_data_drop_dup = receipt_data.drop_duplicates(subset=['date', 'variety'], keep='last')\n",
    "dws.load_from_dataframe(receipt_data_drop_dup, 'receipt')"
   ]
  },
  {
   "cell_type": "markdown",
   "metadata": {},
   "source": [
    "## 基差"
   ]
  },
  {
   "cell_type": "code",
   "execution_count": 15,
   "metadata": {},
   "outputs": [],
   "source": [
    "last_date = dws.get_last_date('basis')\n",
    "last_date = pd.to_datetime(last_date)\n",
    "start_date = last_date + timedelta(days=1)\n",
    "end_date = datetime.now() - timedelta(days=1)\n",
    "delta = timedelta(days=1)\n",
    "dates = []\n",
    "while start_date <= end_date:\n",
    "   dates.append(start_date.strftime(\"%Y%m%d\"))\n",
    "   start_date += delta\n",
    "all_data = pd.DataFrame()\n",
    "for d in dates:\n",
    "   df = ak.futures_spot_price(d)\n",
    "   all_data = pd.concat([all_data, df], ignore_index=True)\n",
    "all_data['date'] = pd.to_datetime(all_data['date'])\n",
    "all_data.rename(columns={'symbol': 'variety'}, inplace=True)\n",
    "# 纠正AKShare基差/基差率计算错误（正负号）\n",
    "all_data['near_basis'] = -all_data['near_basis']\n",
    "all_data['dom_basis'] = -all_data['dom_basis']\n",
    "all_data['near_basis_rate'] = -all_data['near_basis_rate']\n",
    "all_data['dom_basis_rate'] = -all_data['dom_basis_rate']\n",
    "dws.load_from_dataframe(all_data, 'basis', 'append')"
   ]
  },
  {
   "cell_type": "markdown",
   "metadata": {},
   "source": [
    "## 期限结构（合成）"
   ]
  },
  {
   "cell_type": "code",
   "execution_count": 16,
   "metadata": {},
   "outputs": [
    {
     "name": "stdout",
     "output_type": "stream",
     "text": [
      "czce: RS\n"
     ]
    },
    {
     "name": "stderr",
     "output_type": "stream",
     "text": [
      "/var/folders/hc/6dqjp7bs58s2pcb47s4xfsf80000gn/T/ipykernel_55833/293478686.py:42: FutureWarning: The behavior of DataFrame concatenation with empty or all-NA entries is deprecated. In a future version, this will no longer exclude empty or all-NA columns when determining the result dtypes. To retain the old behavior, exclude the relevant entries before the concat operation.\n",
      "  df_term_structure = pd.concat([df_term_structure, pd.DataFrame([new_row])], ignore_index=True)\n"
     ]
    },
    {
     "name": "stdout",
     "output_type": "stream",
     "text": [
      "czce: PK\n",
      "czce: SF\n",
      "czce: JR\n",
      "czce: CF\n",
      "czce: CY\n",
      "czce: SA\n",
      "czce: PX\n",
      "czce: OI\n",
      "czce: MA\n",
      "czce: SH\n",
      "czce: WH\n",
      "czce: PF\n",
      "czce: SM\n",
      "czce: TA\n",
      "czce: RI\n",
      "czce: SR\n",
      "czce: LR\n",
      "czce: UR\n",
      "czce: FG\n",
      "czce: CJ\n",
      "czce: AP\n",
      "czce: RM\n",
      "dce: V\n",
      "dce: EG\n",
      "dce: PG\n",
      "dce: A\n",
      "dce: C\n",
      "dce: B\n",
      "dce: P\n",
      "dce: JM\n",
      "dce: J\n",
      "dce: M\n",
      "dce: LH\n",
      "dce: FB\n",
      "dce: EB\n",
      "dce: L\n",
      "dce: CS\n",
      "dce: BB\n",
      "dce: Y\n",
      "dce: I\n",
      "dce: PP\n",
      "dce: JD\n",
      "dce: RR\n",
      "shfe: ZN\n",
      "shfe: SP\n",
      "shfe: CU\n",
      "shfe: RB\n",
      "shfe: AG\n",
      "shfe: RU\n",
      "shfe: PB\n",
      "shfe: NI\n",
      "shfe: AL\n",
      "shfe: AU\n",
      "shfe: AO\n",
      "shfe: BU\n",
      "shfe: BR\n",
      "shfe: WR\n",
      "shfe: SS\n",
      "shfe: HC\n",
      "shfe: SN\n",
      "shfe: FU\n"
     ]
    }
   ],
   "source": [
    "df_term_structure = pd.DataFrame(columns=['variety', 'date', 'flag', 'exchange'])\n",
    "\n",
    "variety_json = 'setting/variety.json'        \n",
    "with open(variety_json, encoding='utf-8') as variety_file:\n",
    "    variety_setting = json.load(variety_file)\n",
    "\n",
    "df_term = dws.get_data_by_sql(f\"SELECT * FROM dominant\")\n",
    "dominant_list = df_term['variety'].unique()\n",
    "\n",
    "# TODO: 增加贵金属交易所\n",
    "exchange_list = ['czce', 'dce', 'shfe']\n",
    "for exchange_id in exchange_list:\n",
    "     df_term = dws.get_data_by_sql(f\"SELECT * FROM {exchange_id}\")\n",
    "     df_term['date'] = pd.to_datetime(df_term['date'])\n",
    "     df_term['交割月'] = df_term['symbol'].str.slice(-2).astype(int)\n",
    "     variety_list = df_term['variety'].unique()\n",
    "     variety_list = set(dominant_list) & set(variety_list)\n",
    "     for variety_id in variety_list:\n",
    "         print(f'{exchange_id}: {variety_id}')\n",
    "         if variety_id not in variety_setting: continue\n",
    "         dominant_months = variety_setting[variety_id]['DominantMonths']       \n",
    "         df_variety = df_term[df_term['variety']==variety_id]\n",
    "         date_list = df_variety['date'].unique()\n",
    "         for trade_date in date_list:\n",
    "            # print(trade_date)\n",
    "            df_date = df_variety[df_variety['date']==trade_date]\n",
    "            max_open_interest_index= df_date['open_interest'].idxmax()\n",
    "            # domain_contract = df_date.loc[max_open_interest_index]['symbol']\n",
    "            df_date = df_date.loc[max_open_interest_index:]                             \n",
    "            df_dominant_contract = df_date[df_date['交割月'].isin(dominant_months)]\n",
    "            if len(df_dominant_contract)<2:\n",
    "                trade_flag = 0\n",
    "            else:\n",
    "                # print(df_dominant_contract)\n",
    "                diff = df_dominant_contract['settle'].head(len(dominant_months)+1).diff().dropna()\n",
    "                diff_trend = df_dominant_contract['settle'].iloc[-1] - df_dominant_contract['settle'].iloc[0]\n",
    "                trade_flag = -1 if all(diff>0) else 1 if all(diff<0) else -0.5 if diff_trend>0 else 0.5 if diff_trend<0 else 0 if diff_trend==0 else 0\n",
    "            new_row = {'variety': variety_id,\n",
    "                    'date': trade_date,\n",
    "                    'flag': trade_flag,\n",
    "                    'exchange': exchange_id}\n",
    "            df_term_structure = pd.concat([df_term_structure, pd.DataFrame([new_row])], ignore_index=True)"
   ]
  },
  {
   "cell_type": "code",
   "execution_count": 17,
   "metadata": {},
   "outputs": [],
   "source": [
    "# df_term_structure['flag'] = df_term_structure['flag'].astype(float)\n",
    "dws.load_from_dataframe(df_term_structure, 'term_structure')"
   ]
  },
  {
   "cell_type": "markdown",
   "metadata": {},
   "source": [
    "## 通用设置"
   ]
  },
  {
   "cell_type": "code",
   "execution_count": 21,
   "metadata": {},
   "outputs": [],
   "source": [
    "# 公共数据索引\n",
    "data_index = {\n",
    "            #   '主力合约': {'Name': \"dominant_contract\", 'Source':'SQLite', 'Path': 'basis', 'Field':'dominant_contract', 'DataFrame': \"df_basis\"},\n",
    "            #   '近月合约': {'Name': \"near_contract\", 'Source':'SQLite', 'Path': 'basis', 'Field':'near_contract', 'DataFrame': \"df_basis\"},\n",
    "              '主力合约收盘价': {'Name': \"dominant_close_price\", 'Source':'SQLite', 'Path': 'dominant', 'Field':'收盘价', 'DataFrame': \"df_dominant\"},\n",
    "              '主力合约结算价': {'Name': \"dominant_settle_price\", 'Source':'SQLite', 'Path': 'dominant', 'Field':'动态结算价', 'DataFrame': \"df_dominant\"},\n",
    "              '主力合约持仓量': {'Name': \"dominant_open_interest\", 'Source':'SQLite', 'Path': 'dominant', 'Field':'持仓量', 'DataFrame': \"df_dominant\"},\n",
    "              '近月合约收盘价': {'Name': \"near_close_price\", 'Source':'SQLite', 'Path': 'near', 'Field':'close', 'DataFrame': \"df_near\"},\n",
    "              '近月合约结算价': {'Name': \"near_settle_price\", 'Source':'SQLite', 'Path': 'near', 'Field':'settle', 'DataFrame': \"df_near\"},\n",
    "              '近月合约持仓量': {'Name': \"near_open_interest\", 'Source':'SQLite', 'Path': 'near', 'Field':'open_interest', 'DataFrame': \"df_near\"},\n",
    "              '现货价格': {'Name': \"spot_price\", 'Source':'SQLite', 'Path': 'basis', 'Field':'spot_price', 'DataFrame': \"df_basis\"},\n",
    "              # '基差': {'Name': \"basis\", 'Source':'SQLite', 'Path':'‘basis', 'Field':'dom_basis', 'DataFrame': \"df_basis\"},\n",
    "              # '基差率': {'Name': \"basis_rate\", 'Source':'SQLite', 'Path': 'basis', 'Field':'dom_basis_rate', 'DataFrame': \"df_basis\"},          \n",
    "             }\n",
    "common_setting = {'DataIndex': data_index,\n",
    "                  }"
   ]
  },
  {
   "cell_type": "code",
   "execution_count": 22,
   "metadata": {},
   "outputs": [],
   "source": [
    "# dws.save_json_setting('setting/common.json', common_setting)"
   ]
  },
  {
   "cell_type": "markdown",
   "metadata": {},
   "source": [
    "## 全品种信息"
   ]
  },
  {
   "cell_type": "code",
   "execution_count": 15,
   "metadata": {},
   "outputs": [],
   "source": [
    "symbol_list = ak.futures_index_symbol_table_nh()\n",
    "symbol_list = symbol_list[symbol_list['exchange'].isin(['郑州商品交易所', '大连商品交易所', '上海期货交易所'])]\n",
    "symbol_list = symbol_list.drop('indexcategory', axis=1)\n",
    "exchange_replace_dict = {'郑州商品交易所': 'czce',\n",
    "                         '大连商品交易所': 'dce',\n",
    "                         '上海期货交易所': 'shfe'}\n",
    "symbol_list['exchange'] = symbol_list['exchange'].apply(lambda x: exchange_replace_dict.get(x, x))"
   ]
  },
  {
   "cell_type": "code",
   "execution_count": null,
   "metadata": {},
   "outputs": [],
   "source": [
    "dws.load_from_dataframe(symbol_list, 'symbols')"
   ]
  },
  {
   "cell_type": "markdown",
   "metadata": {},
   "source": [
    "## 合约基础信息"
   ]
  },
  {
   "cell_type": "code",
   "execution_count": null,
   "metadata": {},
   "outputs": [],
   "source": [
    "futures_comm_info_df = ak.futures_comm_info(symbol=\"所有\")\n",
    "dws.load_from_dataframe(futures_comm_info_df, 'common')"
   ]
  },
  {
   "cell_type": "markdown",
   "metadata": {},
   "source": [
    "## 商品ID-名称字典"
   ]
  },
  {
   "cell_type": "code",
   "execution_count": 3,
   "metadata": {},
   "outputs": [],
   "source": [
    "id_name_map, name_id_map = dws.get_variety_map()\n",
    "variety_data = dws.get_variety_setting()\n",
    "for product_id, product_info in variety_data.items():\n",
    "    product_name = id_name_map.get(product_id, 'Unknown')\n",
    "    product_info['Name'] = product_name\n",
    "dws.save_json_setting('setting/variety.json', variety_data)"
   ]
  }
 ],
 "metadata": {
  "kernelspec": {
   "display_name": "Python 3",
   "language": "python",
   "name": "python3"
  },
  "language_info": {
   "codemirror_mode": {
    "name": "ipython",
    "version": 3
   },
   "file_extension": ".py",
   "mimetype": "text/x-python",
   "name": "python",
   "nbconvert_exporter": "python",
   "pygments_lexer": "ipython3",
   "version": "3.10.10"
  }
 },
 "nbformat": 4,
 "nbformat_minor": 2
}
