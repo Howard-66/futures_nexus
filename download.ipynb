{
 "cells": [
  {
   "cell_type": "code",
   "execution_count": 53,
   "metadata": {},
   "outputs": [],
   "source": [
    "import pandas as pd\n",
    "import numpy as np\n",
    "import akshare as ak\n",
    "from dateutil.relativedelta import relativedelta\n",
    "from datetime import datetime, date, timedelta\n",
    "import dataworks as dw"
   ]
  },
  {
   "cell_type": "code",
   "execution_count": 54,
   "metadata": {},
   "outputs": [],
   "source": [
    "dws = dw.DataWorks()"
   ]
  },
  {
   "cell_type": "markdown",
   "metadata": {},
   "source": [
    "# 期货数据下载"
   ]
  },
  {
   "cell_type": "markdown",
   "metadata": {},
   "source": [
    "## 期货历史合约数据"
   ]
  },
  {
   "cell_type": "markdown",
   "metadata": {},
   "source": [
    "### 大连商品交易所"
   ]
  },
  {
   "cell_type": "markdown",
   "metadata": {},
   "source": [
    "#### 按时间段下载"
   ]
  },
  {
   "cell_type": "code",
   "execution_count": 55,
   "metadata": {},
   "outputs": [
    {
     "data": {
      "text/html": [
       "<div>\n",
       "<style scoped>\n",
       "    .dataframe tbody tr th:only-of-type {\n",
       "        vertical-align: middle;\n",
       "    }\n",
       "\n",
       "    .dataframe tbody tr th {\n",
       "        vertical-align: top;\n",
       "    }\n",
       "\n",
       "    .dataframe thead th {\n",
       "        text-align: right;\n",
       "    }\n",
       "</style>\n",
       "<table border=\"1\" class=\"dataframe\">\n",
       "  <thead>\n",
       "    <tr style=\"text-align: right;\">\n",
       "      <th></th>\n",
       "      <th>symbol</th>\n",
       "      <th>date</th>\n",
       "      <th>open</th>\n",
       "      <th>high</th>\n",
       "      <th>low</th>\n",
       "      <th>close</th>\n",
       "      <th>volume</th>\n",
       "      <th>open_interest</th>\n",
       "      <th>turnover</th>\n",
       "      <th>settle</th>\n",
       "      <th>pre_settle</th>\n",
       "      <th>variety</th>\n",
       "    </tr>\n",
       "  </thead>\n",
       "  <tbody>\n",
       "    <tr>\n",
       "      <th>532845</th>\n",
       "      <td>y2409</td>\n",
       "      <td>2024-04-30</td>\n",
       "      <td>7662.0</td>\n",
       "      <td>7732.0</td>\n",
       "      <td>7566.0</td>\n",
       "      <td>7628.0</td>\n",
       "      <td>524891.0</td>\n",
       "      <td>689462.0</td>\n",
       "      <td>4010066.40</td>\n",
       "      <td>7638.0</td>\n",
       "      <td>7638.0</td>\n",
       "      <td>Y</td>\n",
       "    </tr>\n",
       "    <tr>\n",
       "      <th>532846</th>\n",
       "      <td>y2411</td>\n",
       "      <td>2024-04-30</td>\n",
       "      <td>7666.0</td>\n",
       "      <td>7744.0</td>\n",
       "      <td>7582.0</td>\n",
       "      <td>7644.0</td>\n",
       "      <td>1491.0</td>\n",
       "      <td>8283.0</td>\n",
       "      <td>11423.01</td>\n",
       "      <td>7660.0</td>\n",
       "      <td>7652.0</td>\n",
       "      <td>Y</td>\n",
       "    </tr>\n",
       "    <tr>\n",
       "      <th>532847</th>\n",
       "      <td>y2412</td>\n",
       "      <td>2024-04-30</td>\n",
       "      <td>7724.0</td>\n",
       "      <td>7796.0</td>\n",
       "      <td>7632.0</td>\n",
       "      <td>7692.0</td>\n",
       "      <td>164.0</td>\n",
       "      <td>1726.0</td>\n",
       "      <td>1263.49</td>\n",
       "      <td>7704.0</td>\n",
       "      <td>7698.0</td>\n",
       "      <td>Y</td>\n",
       "    </tr>\n",
       "    <tr>\n",
       "      <th>532848</th>\n",
       "      <td>y2501</td>\n",
       "      <td>2024-04-30</td>\n",
       "      <td>7698.0</td>\n",
       "      <td>7776.0</td>\n",
       "      <td>7604.0</td>\n",
       "      <td>7664.0</td>\n",
       "      <td>49711.0</td>\n",
       "      <td>112612.0</td>\n",
       "      <td>381566.14</td>\n",
       "      <td>7674.0</td>\n",
       "      <td>7678.0</td>\n",
       "      <td>Y</td>\n",
       "    </tr>\n",
       "    <tr>\n",
       "      <th>532849</th>\n",
       "      <td>y2503</td>\n",
       "      <td>2024-04-30</td>\n",
       "      <td>7618.0</td>\n",
       "      <td>7664.0</td>\n",
       "      <td>7546.0</td>\n",
       "      <td>7562.0</td>\n",
       "      <td>203.0</td>\n",
       "      <td>2290.0</td>\n",
       "      <td>1541.28</td>\n",
       "      <td>7592.0</td>\n",
       "      <td>7596.0</td>\n",
       "      <td>Y</td>\n",
       "    </tr>\n",
       "  </tbody>\n",
       "</table>\n",
       "</div>"
      ],
      "text/plain": [
       "       symbol       date    open    high     low   close    volume  \\\n",
       "532845  y2409 2024-04-30  7662.0  7732.0  7566.0  7628.0  524891.0   \n",
       "532846  y2411 2024-04-30  7666.0  7744.0  7582.0  7644.0    1491.0   \n",
       "532847  y2412 2024-04-30  7724.0  7796.0  7632.0  7692.0     164.0   \n",
       "532848  y2501 2024-04-30  7698.0  7776.0  7604.0  7664.0   49711.0   \n",
       "532849  y2503 2024-04-30  7618.0  7664.0  7546.0  7562.0     203.0   \n",
       "\n",
       "        open_interest    turnover  settle  pre_settle variety  \n",
       "532845       689462.0  4010066.40  7638.0      7638.0       Y  \n",
       "532846         8283.0    11423.01  7660.0      7652.0       Y  \n",
       "532847         1726.0     1263.49  7704.0      7698.0       Y  \n",
       "532848       112612.0   381566.14  7674.0      7678.0       Y  \n",
       "532849         2290.0     1541.28  7592.0      7596.0       Y  "
      ]
     },
     "execution_count": 55,
     "metadata": {},
     "output_type": "execute_result"
    }
   ],
   "source": [
    "df_futures_daily_dce = dws.get_data_by_sql('SELECT * FROM dce')\n",
    "df_futures_daily_dce['date'] = pd.to_datetime(df_futures_daily_dce['date'])\n",
    "df_futures_daily_dce.tail()"
   ]
  },
  {
   "cell_type": "code",
   "execution_count": 56,
   "metadata": {},
   "outputs": [
    {
     "data": {
      "text/plain": [
       "532850"
      ]
     },
     "execution_count": 56,
     "metadata": {},
     "output_type": "execute_result"
    }
   ],
   "source": [
    "len(df_futures_daily_dce)"
   ]
  },
  {
   "cell_type": "code",
   "execution_count": 57,
   "metadata": {},
   "outputs": [
    {
     "name": "stdout",
     "output_type": "stream",
     "text": [
      "Last Period:  20240104 20240119\n",
      "Current Period:  20240201 20240229\n"
     ]
    }
   ],
   "source": [
    "start_date = '20240104'\n",
    "end_date = '20240119'\n",
    "print('Last Period: ', start_date, end_date)\n",
    "start_date = datetime.strptime(start_date, '%Y%m%d')\n",
    "end_date = datetime.strptime(end_date, '%Y%m%d')\n",
    "start_date = (start_date + relativedelta(months=1)).replace(day=1)\n",
    "end_date = (end_date + relativedelta(months=2)).replace(day=1) - relativedelta(days=1)\n",
    "start_date = start_date.strftime('%Y%m%d')\n",
    "end_date = end_date.strftime('%Y%m%d')\n",
    "print('Current Period: ', start_date, end_date)"
   ]
  },
  {
   "cell_type": "code",
   "execution_count": 58,
   "metadata": {},
   "outputs": [],
   "source": [
    "df_futures_daily_dce_append = ak.get_futures_daily(start_date='20110112', end_date='20110113', market=\"DCE\")"
   ]
  },
  {
   "cell_type": "code",
   "execution_count": 59,
   "metadata": {},
   "outputs": [
    {
     "ename": "KeyboardInterrupt",
     "evalue": "",
     "output_type": "error",
     "traceback": [
      "\u001b[0;31m---------------------------------------------------------------------------\u001b[0m",
      "\u001b[0;31mKeyboardInterrupt\u001b[0m                         Traceback (most recent call last)",
      "Cell \u001b[0;32mIn[59], line 2\u001b[0m\n\u001b[1;32m      1\u001b[0m \u001b[38;5;28;01mfor\u001b[39;00m i \u001b[38;5;129;01min\u001b[39;00m \u001b[38;5;28mrange\u001b[39m(\u001b[38;5;241m12\u001b[39m):  \n\u001b[0;32m----> 2\u001b[0m     df_futures_daily_dce_append \u001b[38;5;241m=\u001b[39m \u001b[43mak\u001b[49m\u001b[38;5;241;43m.\u001b[39;49m\u001b[43mget_futures_daily\u001b[49m\u001b[43m(\u001b[49m\u001b[43mstart_date\u001b[49m\u001b[38;5;241;43m=\u001b[39;49m\u001b[43mstart_date\u001b[49m\u001b[43m,\u001b[49m\u001b[43m \u001b[49m\u001b[43mend_date\u001b[49m\u001b[38;5;241;43m=\u001b[39;49m\u001b[43mend_date\u001b[49m\u001b[43m,\u001b[49m\u001b[43m \u001b[49m\u001b[43mmarket\u001b[49m\u001b[38;5;241;43m=\u001b[39;49m\u001b[38;5;124;43m\"\u001b[39;49m\u001b[38;5;124;43mDCE\u001b[39;49m\u001b[38;5;124;43m\"\u001b[39;49m\u001b[43m)\u001b[49m\n\u001b[1;32m      3\u001b[0m     df_futures_daily_dce \u001b[38;5;241m=\u001b[39m pd\u001b[38;5;241m.\u001b[39mconcat([df_futures_daily_dce, df_futures_daily_dce_append], ignore_index\u001b[38;5;241m=\u001b[39m\u001b[38;5;28;01mTrue\u001b[39;00m)\n\u001b[1;32m      4\u001b[0m     \u001b[38;5;28mprint\u001b[39m(\u001b[38;5;124m'\u001b[39m\u001b[38;5;124mLast Period: \u001b[39m\u001b[38;5;124m'\u001b[39m, start_date, end_date)\n",
      "File \u001b[0;32m/Volumes/Repository/app/miniconda3/lib/python3.10/site-packages/akshare/futures/futures_daily_bar.py:735\u001b[0m, in \u001b[0;36mget_futures_daily\u001b[0;34m(start_date, end_date, market)\u001b[0m\n\u001b[1;32m    733\u001b[0m df_list \u001b[38;5;241m=\u001b[39m \u001b[38;5;28mlist\u001b[39m()\n\u001b[1;32m    734\u001b[0m \u001b[38;5;28;01mwhile\u001b[39;00m start_date \u001b[38;5;241m<\u001b[39m\u001b[38;5;241m=\u001b[39m end_date:\n\u001b[0;32m--> 735\u001b[0m     df \u001b[38;5;241m=\u001b[39m \u001b[43mf\u001b[49m\u001b[43m(\u001b[49m\u001b[43mdate\u001b[49m\u001b[38;5;241;43m=\u001b[39;49m\u001b[38;5;28;43mstr\u001b[39;49m\u001b[43m(\u001b[49m\u001b[43mstart_date\u001b[49m\u001b[43m)\u001b[49m\u001b[38;5;241;43m.\u001b[39;49m\u001b[43mreplace\u001b[49m\u001b[43m(\u001b[49m\u001b[38;5;124;43m\"\u001b[39;49m\u001b[38;5;124;43m-\u001b[39;49m\u001b[38;5;124;43m\"\u001b[39;49m\u001b[43m,\u001b[49m\u001b[43m \u001b[49m\u001b[38;5;124;43m\"\u001b[39;49m\u001b[38;5;124;43m\"\u001b[39;49m\u001b[43m)\u001b[49m\u001b[43m)\u001b[49m\n\u001b[1;32m    736\u001b[0m     \u001b[38;5;28;01mif\u001b[39;00m df \u001b[38;5;129;01mis\u001b[39;00m \u001b[38;5;129;01mnot\u001b[39;00m \u001b[38;5;28;01mNone\u001b[39;00m:\n\u001b[1;32m    737\u001b[0m         df_list\u001b[38;5;241m.\u001b[39mappend(df)\n",
      "File \u001b[0;32m/Volumes/Repository/app/miniconda3/lib/python3.10/site-packages/akshare/futures/futures_daily_bar.py:623\u001b[0m, in \u001b[0;36mget_dce_daily\u001b[0;34m(date)\u001b[0m\n\u001b[1;32m    600\u001b[0m headers \u001b[38;5;241m=\u001b[39m {\n\u001b[1;32m    601\u001b[0m     \u001b[38;5;124m\"\u001b[39m\u001b[38;5;124mAccept\u001b[39m\u001b[38;5;124m\"\u001b[39m: \u001b[38;5;124m\"\u001b[39m\u001b[38;5;124mtext/html,application/xhtml+xml,application/xml;q=0.9,image/webp,image/apng,*/*;q=0.8,application/signed-exchange;v=b3;q=0.9\u001b[39m\u001b[38;5;124m\"\u001b[39m,\n\u001b[1;32m    602\u001b[0m     \u001b[38;5;124m\"\u001b[39m\u001b[38;5;124mAccept-Encoding\u001b[39m\u001b[38;5;124m\"\u001b[39m: \u001b[38;5;124m\"\u001b[39m\u001b[38;5;124mgzip, deflate\u001b[39m\u001b[38;5;124m\"\u001b[39m,\n\u001b[0;32m   (...)\u001b[0m\n\u001b[1;32m    613\u001b[0m     \u001b[38;5;124m\"\u001b[39m\u001b[38;5;124mUser-Agent\u001b[39m\u001b[38;5;124m\"\u001b[39m: \u001b[38;5;124m\"\u001b[39m\u001b[38;5;124mMozilla/5.0 (Windows NT 10.0; Win64; x64) AppleWebKit/537.36 (KHTML, like Gecko) Chrome/84.0.4147.105 Safari/537.36\u001b[39m\u001b[38;5;124m\"\u001b[39m,\n\u001b[1;32m    614\u001b[0m }\n\u001b[1;32m    615\u001b[0m params \u001b[38;5;241m=\u001b[39m {\n\u001b[1;32m    616\u001b[0m     \u001b[38;5;124m\"\u001b[39m\u001b[38;5;124mdayQuotes.variety\u001b[39m\u001b[38;5;124m\"\u001b[39m: \u001b[38;5;124m\"\u001b[39m\u001b[38;5;124mall\u001b[39m\u001b[38;5;124m\"\u001b[39m,\n\u001b[1;32m    617\u001b[0m     \u001b[38;5;124m\"\u001b[39m\u001b[38;5;124mdayQuotes.trade_type\u001b[39m\u001b[38;5;124m\"\u001b[39m: \u001b[38;5;124m\"\u001b[39m\u001b[38;5;124m0\u001b[39m\u001b[38;5;124m\"\u001b[39m,\n\u001b[0;32m   (...)\u001b[0m\n\u001b[1;32m    621\u001b[0m     \u001b[38;5;124m\"\u001b[39m\u001b[38;5;124mexportFlag\u001b[39m\u001b[38;5;124m\"\u001b[39m: \u001b[38;5;124m\"\u001b[39m\u001b[38;5;124mexcel\u001b[39m\u001b[38;5;124m\"\u001b[39m,\n\u001b[1;32m    622\u001b[0m }\n\u001b[0;32m--> 623\u001b[0m r \u001b[38;5;241m=\u001b[39m \u001b[43mrequests\u001b[49m\u001b[38;5;241;43m.\u001b[39;49m\u001b[43mpost\u001b[49m\u001b[43m(\u001b[49m\u001b[43murl\u001b[49m\u001b[43m,\u001b[49m\u001b[43m \u001b[49m\u001b[43mdata\u001b[49m\u001b[38;5;241;43m=\u001b[39;49m\u001b[43mparams\u001b[49m\u001b[43m,\u001b[49m\u001b[43m \u001b[49m\u001b[43mheaders\u001b[49m\u001b[38;5;241;43m=\u001b[39;49m\u001b[43mheaders\u001b[49m\u001b[43m)\u001b[49m\n\u001b[1;32m    624\u001b[0m data_df \u001b[38;5;241m=\u001b[39m pd\u001b[38;5;241m.\u001b[39mread_excel(BytesIO(r\u001b[38;5;241m.\u001b[39mcontent), header\u001b[38;5;241m=\u001b[39m\u001b[38;5;241m1\u001b[39m)\n\u001b[1;32m    626\u001b[0m data_df \u001b[38;5;241m=\u001b[39m data_df[\u001b[38;5;241m~\u001b[39mdata_df[\u001b[38;5;124m\"\u001b[39m\u001b[38;5;124m商品名称\u001b[39m\u001b[38;5;124m\"\u001b[39m]\u001b[38;5;241m.\u001b[39mstr\u001b[38;5;241m.\u001b[39mcontains(\u001b[38;5;124m\"\u001b[39m\u001b[38;5;124m小计\u001b[39m\u001b[38;5;124m\"\u001b[39m)]\n",
      "File \u001b[0;32m/Volumes/Repository/app/miniconda3/lib/python3.10/site-packages/requests/api.py:115\u001b[0m, in \u001b[0;36mpost\u001b[0;34m(url, data, json, **kwargs)\u001b[0m\n\u001b[1;32m    103\u001b[0m \u001b[38;5;28;01mdef\u001b[39;00m \u001b[38;5;21mpost\u001b[39m(url, data\u001b[38;5;241m=\u001b[39m\u001b[38;5;28;01mNone\u001b[39;00m, json\u001b[38;5;241m=\u001b[39m\u001b[38;5;28;01mNone\u001b[39;00m, \u001b[38;5;241m*\u001b[39m\u001b[38;5;241m*\u001b[39mkwargs):\n\u001b[1;32m    104\u001b[0m \u001b[38;5;250m    \u001b[39m\u001b[38;5;124mr\u001b[39m\u001b[38;5;124;03m\"\"\"Sends a POST request.\u001b[39;00m\n\u001b[1;32m    105\u001b[0m \n\u001b[1;32m    106\u001b[0m \u001b[38;5;124;03m    :param url: URL for the new :class:`Request` object.\u001b[39;00m\n\u001b[0;32m   (...)\u001b[0m\n\u001b[1;32m    112\u001b[0m \u001b[38;5;124;03m    :rtype: requests.Response\u001b[39;00m\n\u001b[1;32m    113\u001b[0m \u001b[38;5;124;03m    \"\"\"\u001b[39;00m\n\u001b[0;32m--> 115\u001b[0m     \u001b[38;5;28;01mreturn\u001b[39;00m \u001b[43mrequest\u001b[49m\u001b[43m(\u001b[49m\u001b[38;5;124;43m\"\u001b[39;49m\u001b[38;5;124;43mpost\u001b[39;49m\u001b[38;5;124;43m\"\u001b[39;49m\u001b[43m,\u001b[49m\u001b[43m \u001b[49m\u001b[43murl\u001b[49m\u001b[43m,\u001b[49m\u001b[43m \u001b[49m\u001b[43mdata\u001b[49m\u001b[38;5;241;43m=\u001b[39;49m\u001b[43mdata\u001b[49m\u001b[43m,\u001b[49m\u001b[43m \u001b[49m\u001b[43mjson\u001b[49m\u001b[38;5;241;43m=\u001b[39;49m\u001b[43mjson\u001b[49m\u001b[43m,\u001b[49m\u001b[43m \u001b[49m\u001b[38;5;241;43m*\u001b[39;49m\u001b[38;5;241;43m*\u001b[39;49m\u001b[43mkwargs\u001b[49m\u001b[43m)\u001b[49m\n",
      "File \u001b[0;32m/Volumes/Repository/app/miniconda3/lib/python3.10/site-packages/requests/api.py:59\u001b[0m, in \u001b[0;36mrequest\u001b[0;34m(method, url, **kwargs)\u001b[0m\n\u001b[1;32m     55\u001b[0m \u001b[38;5;66;03m# By using the 'with' statement we are sure the session is closed, thus we\u001b[39;00m\n\u001b[1;32m     56\u001b[0m \u001b[38;5;66;03m# avoid leaving sockets open which can trigger a ResourceWarning in some\u001b[39;00m\n\u001b[1;32m     57\u001b[0m \u001b[38;5;66;03m# cases, and look like a memory leak in others.\u001b[39;00m\n\u001b[1;32m     58\u001b[0m \u001b[38;5;28;01mwith\u001b[39;00m sessions\u001b[38;5;241m.\u001b[39mSession() \u001b[38;5;28;01mas\u001b[39;00m session:\n\u001b[0;32m---> 59\u001b[0m     \u001b[38;5;28;01mreturn\u001b[39;00m \u001b[43msession\u001b[49m\u001b[38;5;241;43m.\u001b[39;49m\u001b[43mrequest\u001b[49m\u001b[43m(\u001b[49m\u001b[43mmethod\u001b[49m\u001b[38;5;241;43m=\u001b[39;49m\u001b[43mmethod\u001b[49m\u001b[43m,\u001b[49m\u001b[43m \u001b[49m\u001b[43murl\u001b[49m\u001b[38;5;241;43m=\u001b[39;49m\u001b[43murl\u001b[49m\u001b[43m,\u001b[49m\u001b[43m \u001b[49m\u001b[38;5;241;43m*\u001b[39;49m\u001b[38;5;241;43m*\u001b[39;49m\u001b[43mkwargs\u001b[49m\u001b[43m)\u001b[49m\n",
      "File \u001b[0;32m/Volumes/Repository/app/miniconda3/lib/python3.10/site-packages/requests/sessions.py:589\u001b[0m, in \u001b[0;36mSession.request\u001b[0;34m(self, method, url, params, data, headers, cookies, files, auth, timeout, allow_redirects, proxies, hooks, stream, verify, cert, json)\u001b[0m\n\u001b[1;32m    584\u001b[0m send_kwargs \u001b[38;5;241m=\u001b[39m {\n\u001b[1;32m    585\u001b[0m     \u001b[38;5;124m\"\u001b[39m\u001b[38;5;124mtimeout\u001b[39m\u001b[38;5;124m\"\u001b[39m: timeout,\n\u001b[1;32m    586\u001b[0m     \u001b[38;5;124m\"\u001b[39m\u001b[38;5;124mallow_redirects\u001b[39m\u001b[38;5;124m\"\u001b[39m: allow_redirects,\n\u001b[1;32m    587\u001b[0m }\n\u001b[1;32m    588\u001b[0m send_kwargs\u001b[38;5;241m.\u001b[39mupdate(settings)\n\u001b[0;32m--> 589\u001b[0m resp \u001b[38;5;241m=\u001b[39m \u001b[38;5;28;43mself\u001b[39;49m\u001b[38;5;241;43m.\u001b[39;49m\u001b[43msend\u001b[49m\u001b[43m(\u001b[49m\u001b[43mprep\u001b[49m\u001b[43m,\u001b[49m\u001b[43m \u001b[49m\u001b[38;5;241;43m*\u001b[39;49m\u001b[38;5;241;43m*\u001b[39;49m\u001b[43msend_kwargs\u001b[49m\u001b[43m)\u001b[49m\n\u001b[1;32m    591\u001b[0m \u001b[38;5;28;01mreturn\u001b[39;00m resp\n",
      "File \u001b[0;32m/Volumes/Repository/app/miniconda3/lib/python3.10/site-packages/requests/sessions.py:747\u001b[0m, in \u001b[0;36mSession.send\u001b[0;34m(self, request, **kwargs)\u001b[0m\n\u001b[1;32m    744\u001b[0m         \u001b[38;5;28;01mpass\u001b[39;00m\n\u001b[1;32m    746\u001b[0m \u001b[38;5;28;01mif\u001b[39;00m \u001b[38;5;129;01mnot\u001b[39;00m stream:\n\u001b[0;32m--> 747\u001b[0m     \u001b[43mr\u001b[49m\u001b[38;5;241;43m.\u001b[39;49m\u001b[43mcontent\u001b[49m\n\u001b[1;32m    749\u001b[0m \u001b[38;5;28;01mreturn\u001b[39;00m r\n",
      "File \u001b[0;32m/Volumes/Repository/app/miniconda3/lib/python3.10/site-packages/requests/models.py:899\u001b[0m, in \u001b[0;36mResponse.content\u001b[0;34m(self)\u001b[0m\n\u001b[1;32m    897\u001b[0m         \u001b[38;5;28mself\u001b[39m\u001b[38;5;241m.\u001b[39m_content \u001b[38;5;241m=\u001b[39m \u001b[38;5;28;01mNone\u001b[39;00m\n\u001b[1;32m    898\u001b[0m     \u001b[38;5;28;01melse\u001b[39;00m:\n\u001b[0;32m--> 899\u001b[0m         \u001b[38;5;28mself\u001b[39m\u001b[38;5;241m.\u001b[39m_content \u001b[38;5;241m=\u001b[39m \u001b[38;5;124;43mb\u001b[39;49m\u001b[38;5;124;43m\"\u001b[39;49m\u001b[38;5;124;43m\"\u001b[39;49m\u001b[38;5;241;43m.\u001b[39;49m\u001b[43mjoin\u001b[49m\u001b[43m(\u001b[49m\u001b[38;5;28;43mself\u001b[39;49m\u001b[38;5;241;43m.\u001b[39;49m\u001b[43miter_content\u001b[49m\u001b[43m(\u001b[49m\u001b[43mCONTENT_CHUNK_SIZE\u001b[49m\u001b[43m)\u001b[49m\u001b[43m)\u001b[49m \u001b[38;5;129;01mor\u001b[39;00m \u001b[38;5;124mb\u001b[39m\u001b[38;5;124m\"\u001b[39m\u001b[38;5;124m\"\u001b[39m\n\u001b[1;32m    901\u001b[0m \u001b[38;5;28mself\u001b[39m\u001b[38;5;241m.\u001b[39m_content_consumed \u001b[38;5;241m=\u001b[39m \u001b[38;5;28;01mTrue\u001b[39;00m\n\u001b[1;32m    902\u001b[0m \u001b[38;5;66;03m# don't need to release the connection; that's been handled by urllib3\u001b[39;00m\n\u001b[1;32m    903\u001b[0m \u001b[38;5;66;03m# since we exhausted the data.\u001b[39;00m\n",
      "File \u001b[0;32m/Volumes/Repository/app/miniconda3/lib/python3.10/site-packages/requests/models.py:816\u001b[0m, in \u001b[0;36mResponse.iter_content.<locals>.generate\u001b[0;34m()\u001b[0m\n\u001b[1;32m    814\u001b[0m \u001b[38;5;28;01mif\u001b[39;00m \u001b[38;5;28mhasattr\u001b[39m(\u001b[38;5;28mself\u001b[39m\u001b[38;5;241m.\u001b[39mraw, \u001b[38;5;124m\"\u001b[39m\u001b[38;5;124mstream\u001b[39m\u001b[38;5;124m\"\u001b[39m):\n\u001b[1;32m    815\u001b[0m     \u001b[38;5;28;01mtry\u001b[39;00m:\n\u001b[0;32m--> 816\u001b[0m         \u001b[38;5;28;01myield from\u001b[39;00m \u001b[38;5;28mself\u001b[39m\u001b[38;5;241m.\u001b[39mraw\u001b[38;5;241m.\u001b[39mstream(chunk_size, decode_content\u001b[38;5;241m=\u001b[39m\u001b[38;5;28;01mTrue\u001b[39;00m)\n\u001b[1;32m    817\u001b[0m     \u001b[38;5;28;01mexcept\u001b[39;00m ProtocolError \u001b[38;5;28;01mas\u001b[39;00m e:\n\u001b[1;32m    818\u001b[0m         \u001b[38;5;28;01mraise\u001b[39;00m ChunkedEncodingError(e)\n",
      "File \u001b[0;32m/Volumes/Repository/app/miniconda3/lib/python3.10/site-packages/urllib3/response.py:624\u001b[0m, in \u001b[0;36mHTTPResponse.stream\u001b[0;34m(self, amt, decode_content)\u001b[0m\n\u001b[1;32m    608\u001b[0m \u001b[38;5;250m\u001b[39m\u001b[38;5;124;03m\"\"\"\u001b[39;00m\n\u001b[1;32m    609\u001b[0m \u001b[38;5;124;03mA generator wrapper for the read() method. A call will block until\u001b[39;00m\n\u001b[1;32m    610\u001b[0m \u001b[38;5;124;03m``amt`` bytes have been read from the connection or until the\u001b[39;00m\n\u001b[0;32m   (...)\u001b[0m\n\u001b[1;32m    621\u001b[0m \u001b[38;5;124;03m    'content-encoding' header.\u001b[39;00m\n\u001b[1;32m    622\u001b[0m \u001b[38;5;124;03m\"\"\"\u001b[39;00m\n\u001b[1;32m    623\u001b[0m \u001b[38;5;28;01mif\u001b[39;00m \u001b[38;5;28mself\u001b[39m\u001b[38;5;241m.\u001b[39mchunked \u001b[38;5;129;01mand\u001b[39;00m \u001b[38;5;28mself\u001b[39m\u001b[38;5;241m.\u001b[39msupports_chunked_reads():\n\u001b[0;32m--> 624\u001b[0m     \u001b[38;5;28;01mfor\u001b[39;00m line \u001b[38;5;129;01min\u001b[39;00m \u001b[38;5;28mself\u001b[39m\u001b[38;5;241m.\u001b[39mread_chunked(amt, decode_content\u001b[38;5;241m=\u001b[39mdecode_content):\n\u001b[1;32m    625\u001b[0m         \u001b[38;5;28;01myield\u001b[39;00m line\n\u001b[1;32m    626\u001b[0m \u001b[38;5;28;01melse\u001b[39;00m:\n",
      "File \u001b[0;32m/Volumes/Repository/app/miniconda3/lib/python3.10/site-packages/urllib3/response.py:831\u001b[0m, in \u001b[0;36mHTTPResponse.read_chunked\u001b[0;34m(self, amt, decode_content)\u001b[0m\n\u001b[1;32m    829\u001b[0m \u001b[38;5;28;01mif\u001b[39;00m \u001b[38;5;28mself\u001b[39m\u001b[38;5;241m.\u001b[39mchunk_left \u001b[38;5;241m==\u001b[39m \u001b[38;5;241m0\u001b[39m:\n\u001b[1;32m    830\u001b[0m     \u001b[38;5;28;01mbreak\u001b[39;00m\n\u001b[0;32m--> 831\u001b[0m chunk \u001b[38;5;241m=\u001b[39m \u001b[38;5;28;43mself\u001b[39;49m\u001b[38;5;241;43m.\u001b[39;49m\u001b[43m_handle_chunk\u001b[49m\u001b[43m(\u001b[49m\u001b[43mamt\u001b[49m\u001b[43m)\u001b[49m\n\u001b[1;32m    832\u001b[0m decoded \u001b[38;5;241m=\u001b[39m \u001b[38;5;28mself\u001b[39m\u001b[38;5;241m.\u001b[39m_decode(\n\u001b[1;32m    833\u001b[0m     chunk, decode_content\u001b[38;5;241m=\u001b[39mdecode_content, flush_decoder\u001b[38;5;241m=\u001b[39m\u001b[38;5;28;01mFalse\u001b[39;00m\n\u001b[1;32m    834\u001b[0m )\n\u001b[1;32m    835\u001b[0m \u001b[38;5;28;01mif\u001b[39;00m decoded:\n",
      "File \u001b[0;32m/Volumes/Repository/app/miniconda3/lib/python3.10/site-packages/urllib3/response.py:784\u001b[0m, in \u001b[0;36mHTTPResponse._handle_chunk\u001b[0;34m(self, amt)\u001b[0m\n\u001b[1;32m    782\u001b[0m     returned_chunk \u001b[38;5;241m=\u001b[39m value\n\u001b[1;32m    783\u001b[0m \u001b[38;5;28;01melse\u001b[39;00m:  \u001b[38;5;66;03m# amt > self.chunk_left\u001b[39;00m\n\u001b[0;32m--> 784\u001b[0m     returned_chunk \u001b[38;5;241m=\u001b[39m \u001b[38;5;28;43mself\u001b[39;49m\u001b[38;5;241;43m.\u001b[39;49m\u001b[43m_fp\u001b[49m\u001b[38;5;241;43m.\u001b[39;49m\u001b[43m_safe_read\u001b[49m\u001b[43m(\u001b[49m\u001b[38;5;28;43mself\u001b[39;49m\u001b[38;5;241;43m.\u001b[39;49m\u001b[43mchunk_left\u001b[49m\u001b[43m)\u001b[49m\n\u001b[1;32m    785\u001b[0m     \u001b[38;5;28mself\u001b[39m\u001b[38;5;241m.\u001b[39m_fp\u001b[38;5;241m.\u001b[39m_safe_read(\u001b[38;5;241m2\u001b[39m)  \u001b[38;5;66;03m# Toss the CRLF at the end of the chunk.\u001b[39;00m\n\u001b[1;32m    786\u001b[0m     \u001b[38;5;28mself\u001b[39m\u001b[38;5;241m.\u001b[39mchunk_left \u001b[38;5;241m=\u001b[39m \u001b[38;5;28;01mNone\u001b[39;00m\n",
      "File \u001b[0;32m/Volumes/Repository/app/miniconda3/lib/python3.10/http/client.py:630\u001b[0m, in \u001b[0;36mHTTPResponse._safe_read\u001b[0;34m(self, amt)\u001b[0m\n\u001b[1;32m    623\u001b[0m \u001b[38;5;28;01mdef\u001b[39;00m \u001b[38;5;21m_safe_read\u001b[39m(\u001b[38;5;28mself\u001b[39m, amt):\n\u001b[1;32m    624\u001b[0m \u001b[38;5;250m    \u001b[39m\u001b[38;5;124;03m\"\"\"Read the number of bytes requested.\u001b[39;00m\n\u001b[1;32m    625\u001b[0m \n\u001b[1;32m    626\u001b[0m \u001b[38;5;124;03m    This function should be used when <amt> bytes \"should\" be present for\u001b[39;00m\n\u001b[1;32m    627\u001b[0m \u001b[38;5;124;03m    reading. If the bytes are truly not available (due to EOF), then the\u001b[39;00m\n\u001b[1;32m    628\u001b[0m \u001b[38;5;124;03m    IncompleteRead exception can be used to detect the problem.\u001b[39;00m\n\u001b[1;32m    629\u001b[0m \u001b[38;5;124;03m    \"\"\"\u001b[39;00m\n\u001b[0;32m--> 630\u001b[0m     data \u001b[38;5;241m=\u001b[39m \u001b[38;5;28;43mself\u001b[39;49m\u001b[38;5;241;43m.\u001b[39;49m\u001b[43mfp\u001b[49m\u001b[38;5;241;43m.\u001b[39;49m\u001b[43mread\u001b[49m\u001b[43m(\u001b[49m\u001b[43mamt\u001b[49m\u001b[43m)\u001b[49m\n\u001b[1;32m    631\u001b[0m     \u001b[38;5;28;01mif\u001b[39;00m \u001b[38;5;28mlen\u001b[39m(data) \u001b[38;5;241m<\u001b[39m amt:\n\u001b[1;32m    632\u001b[0m         \u001b[38;5;28;01mraise\u001b[39;00m IncompleteRead(data, amt\u001b[38;5;241m-\u001b[39m\u001b[38;5;28mlen\u001b[39m(data))\n",
      "File \u001b[0;32m/Volumes/Repository/app/miniconda3/lib/python3.10/socket.py:705\u001b[0m, in \u001b[0;36mSocketIO.readinto\u001b[0;34m(self, b)\u001b[0m\n\u001b[1;32m    703\u001b[0m \u001b[38;5;28;01mwhile\u001b[39;00m \u001b[38;5;28;01mTrue\u001b[39;00m:\n\u001b[1;32m    704\u001b[0m     \u001b[38;5;28;01mtry\u001b[39;00m:\n\u001b[0;32m--> 705\u001b[0m         \u001b[38;5;28;01mreturn\u001b[39;00m \u001b[38;5;28;43mself\u001b[39;49m\u001b[38;5;241;43m.\u001b[39;49m\u001b[43m_sock\u001b[49m\u001b[38;5;241;43m.\u001b[39;49m\u001b[43mrecv_into\u001b[49m\u001b[43m(\u001b[49m\u001b[43mb\u001b[49m\u001b[43m)\u001b[49m\n\u001b[1;32m    706\u001b[0m     \u001b[38;5;28;01mexcept\u001b[39;00m timeout:\n\u001b[1;32m    707\u001b[0m         \u001b[38;5;28mself\u001b[39m\u001b[38;5;241m.\u001b[39m_timeout_occurred \u001b[38;5;241m=\u001b[39m \u001b[38;5;28;01mTrue\u001b[39;00m\n",
      "\u001b[0;31mKeyboardInterrupt\u001b[0m: "
     ]
    }
   ],
   "source": [
    "for i in range(12):  \n",
    "    df_futures_daily_dce_append = ak.get_futures_daily(start_date=start_date, end_date=end_date, market=\"DCE\")\n",
    "    df_futures_daily_dce = pd.concat([df_futures_daily_dce, df_futures_daily_dce_append], ignore_index=True)\n",
    "    print('Last Period: ', start_date, end_date)\n",
    "    start_date = datetime.strptime(start_date, '%Y%m%d')\n",
    "    end_date = datetime.strptime(end_date, '%Y%m%d')\n",
    "    start_date = (start_date + relativedelta(months=1)).replace(day=1)\n",
    "    end_date = (end_date + relativedelta(months=2)).replace(day=1) - relativedelta(days=1)\n",
    "    start_date = start_date.strftime('%Y%m%d')\n",
    "    end_date = end_date.strftime('%Y%m%d')\n",
    "    print('Current Period: ', start_date, end_date)"
   ]
  },
  {
   "cell_type": "code",
   "execution_count": null,
   "metadata": {},
   "outputs": [],
   "source": [
    "dws.save_data(df_futures_daily_dce, 'dce')"
   ]
  },
  {
   "cell_type": "code",
   "execution_count": null,
   "metadata": {},
   "outputs": [],
   "source": [
    "start_date = df_futures_daily_dce.iloc[-1]['date'] + timedelta(days=1)\n",
    "start_date = start_date.strftime('%Y%m%d')\n",
    "end_date = datetime.now() - timedelta(days=1)\n",
    "end_date = end_date.strftime('%Y%m%d')\n",
    "df_futures_daily_dce_append = ak.get_futures_daily(start_date=start_date, end_date=end_date, market=\"DCE\")\n",
    "df_futures_daily_dce_append['date'] = pd.to_datetime(df_futures_daily_dce_append['date'], format='%Y%m%d')\n",
    "# df_futures_daily_dce = pd.concat([df_futures_daily_dce, df_futures_daily_dce_append], ignore_index=True)"
   ]
  },
  {
   "cell_type": "markdown",
   "metadata": {},
   "source": [
    "#### 自动补全下载"
   ]
  },
  {
   "cell_type": "code",
   "execution_count": null,
   "metadata": {},
   "outputs": [
    {
     "name": "stdout",
     "output_type": "stream",
     "text": [
      "Current Period:  20240104 20240119\n"
     ]
    }
   ],
   "source": [
    "last_date = dws.get_last_date('dce')\n",
    "last_date = pd.to_datetime(last_date)\n",
    "start_date = last_date + timedelta(days=1)\n",
    "end_date = datetime.now() - timedelta(days=1)\n",
    "start_date = start_date.strftime('%Y%m%d')\n",
    "end_date = end_date.strftime('%Y%m%d')\n",
    "print('Current Period: ', start_date, end_date)\n",
    "df_futures_daily_dce_append = ak.get_futures_daily(start_date=start_date, end_date=end_date, market=\"DCE\")\n",
    "df_futures_daily_dce_append['date'] = pd.to_datetime(df_futures_daily_dce_append['date'], format='%Y%m%d')"
   ]
  },
  {
   "cell_type": "code",
   "execution_count": null,
   "metadata": {},
   "outputs": [],
   "source": [
    "dws.save_data(df_futures_daily_dce_append, 'dce', 'append')"
   ]
  },
  {
   "cell_type": "markdown",
   "metadata": {},
   "source": [
    "### 郑州商品交易所"
   ]
  },
  {
   "cell_type": "markdown",
   "metadata": {},
   "source": [
    "#### 按时间段下载"
   ]
  },
  {
   "cell_type": "code",
   "execution_count": null,
   "metadata": {},
   "outputs": [],
   "source": [
    "df_futures_daily_czce = dws.get_data_by_sql('SELECT * FROM czce')\n",
    "df_futures_daily_czce['date'] = pd.to_datetime(df_futures_daily_czce['date'])\n",
    "df_futures_daily_czce.tail()"
   ]
  },
  {
   "cell_type": "code",
   "execution_count": null,
   "metadata": {},
   "outputs": [],
   "source": [
    "start_date = '20231101'\n",
    "end_date = '20231130'\n",
    "print('Last Period: ', start_date, end_date)\n",
    "start_date = datetime.strptime(start_date, '%Y%m%d')\n",
    "end_date = datetime.strptime(end_date, '%Y%m%d')\n",
    "start_date = (start_date + relativedelta(months=1)).replace(day=1)\n",
    "end_date = (end_date + relativedelta(months=2)).replace(day=1) - relativedelta(days=1)\n",
    "start_date = start_date.strftime('%Y%m%d')\n",
    "end_date = end_date.strftime('%Y%m%d')\n",
    "print('Current Period: ', start_date, end_date)"
   ]
  },
  {
   "cell_type": "code",
   "execution_count": null,
   "metadata": {},
   "outputs": [],
   "source": [
    "for i in range(12):  \n",
    "    df_futures_daily_czce_append = ak.get_futures_daily(start_date=start_date, end_date=end_date, market=\"CZCE\")\n",
    "    df_futures_daily_czce = pd.concat([df_futures_daily_czce, df_futures_daily_czce_append], ignore_index=True)\n",
    "    print('Last Period: ', start_date, end_date)\n",
    "    start_date = datetime.strptime(start_date, '%Y%m%d')\n",
    "    end_date = datetime.strptime(end_date, '%Y%m%d')\n",
    "    start_date = (start_date + relativedelta(months=1)).replace(day=1)\n",
    "    end_date = (end_date + relativedelta(months=2)).replace(day=1) - relativedelta(days=1)\n",
    "    start_date = start_date.strftime('%Y%m%d')\n",
    "    end_date = end_date.strftime('%Y%m%d')\n",
    "    print('Current Period: ', start_date, end_date)"
   ]
  },
  {
   "cell_type": "code",
   "execution_count": null,
   "metadata": {},
   "outputs": [],
   "source": [
    "dws.save_data(df_futures_daily_czce, 'czce')"
   ]
  },
  {
   "cell_type": "code",
   "execution_count": null,
   "metadata": {},
   "outputs": [],
   "source": [
    "start_date = df_futures_daily_czce.iloc[-1]['date'] + timedelta(days=1)\n",
    "start_date = start_date.strftime('%Y%m%d')\n",
    "end_date = datetime.now() - timedelta(days=1)\n",
    "end_date = end_date.strftime('%Y%m%d')\n",
    "df_futures_daily_czce_append = ak.get_futures_daily(start_date=start_date, end_date=end_date, market=\"CZCE\")\n",
    "df_futures_daily_czce_append['date'] = pd.to_datetime(df_futures_daily_czce_append['date'], format='%Y%m%d')\n",
    "# df_futures_daily_czce = pd.concat([df_futures_daily_czce, df_futures_daily_czce_append], ignore_index=True)"
   ]
  },
  {
   "cell_type": "markdown",
   "metadata": {},
   "source": [
    "#### 自动补全下载"
   ]
  },
  {
   "cell_type": "code",
   "execution_count": null,
   "metadata": {},
   "outputs": [
    {
     "name": "stdout",
     "output_type": "stream",
     "text": [
      "Current Period:  20240104 20240119\n"
     ]
    }
   ],
   "source": [
    "last_date = dws.get_last_date('czce')\n",
    "last_date = pd.to_datetime(last_date)\n",
    "start_date = last_date + timedelta(days=1)\n",
    "end_date = datetime.now() - timedelta(days=1)\n",
    "start_date = start_date.strftime('%Y%m%d')\n",
    "end_date = end_date.strftime('%Y%m%d')\n",
    "print('Current Period: ', start_date, end_date)\n",
    "df_futures_daily_czce_append = ak.get_futures_daily(start_date=start_date, end_date=end_date, market=\"CZCE\")\n",
    "df_futures_daily_czce_append['date'] = pd.to_datetime(df_futures_daily_czce_append['date'], format='%Y%m%d')"
   ]
  },
  {
   "cell_type": "code",
   "execution_count": null,
   "metadata": {},
   "outputs": [],
   "source": [
    "dws.save_data(df_futures_daily_czce_append, 'czce', 'append')"
   ]
  },
  {
   "cell_type": "markdown",
   "metadata": {},
   "source": [
    "### 上海商品交易所"
   ]
  },
  {
   "cell_type": "markdown",
   "metadata": {},
   "source": [
    "#### 按时间段下载"
   ]
  },
  {
   "cell_type": "code",
   "execution_count": null,
   "metadata": {},
   "outputs": [],
   "source": [
    "df_futures_daily_shfe = dws.get_data_by_sql('SELECT * FROM shfe')\n",
    "df_futures_daily_shfe['date'] = pd.to_datetime(df_futures_daily_shfe['date'])\n",
    "df_futures_daily_shfe.tail()"
   ]
  },
  {
   "cell_type": "code",
   "execution_count": null,
   "metadata": {},
   "outputs": [],
   "source": [
    "start_date = '20231101'\n",
    "end_date = '20231130'\n",
    "print('Last Period: ', start_date, end_date)\n",
    "start_date = datetime.strptime(start_date, '%Y%m%d')\n",
    "end_date = datetime.strptime(end_date, '%Y%m%d')\n",
    "start_date = (start_date + relativedelta(months=1)).replace(day=1)\n",
    "end_date = (end_date + relativedelta(months=2)).replace(day=1) - relativedelta(days=1)\n",
    "start_date = start_date.strftime('%Y%m%d')\n",
    "end_date = end_date.strftime('%Y%m%d')\n",
    "print('Current Period: ', start_date, end_date)"
   ]
  },
  {
   "cell_type": "code",
   "execution_count": null,
   "metadata": {},
   "outputs": [],
   "source": [
    "df_futures_daily_shfe_append = ak.get_futures_daily(start_date=start_date, end_date=end_date, market=\"SHFE\")\n",
    "df_futures_daily_shfe = pd.concat([df_futures_daily_shfe, df_futures_daily_shfe_append], ignore_index=True)"
   ]
  },
  {
   "cell_type": "code",
   "execution_count": null,
   "metadata": {},
   "outputs": [],
   "source": [
    "dws.save_data(df_futures_daily_shfe, 'shfe')"
   ]
  },
  {
   "cell_type": "code",
   "execution_count": null,
   "metadata": {},
   "outputs": [],
   "source": [
    "start_date = df_futures_daily_shfe.iloc[-1]['date'] + timedelta(days=1)\n",
    "start_date = start_date.strftime('%Y%m%d')\n",
    "end_date = datetime.now() - timedelta(days=1)\n",
    "end_date = end_date.strftime('%Y%m%d')\n",
    "df_futures_daily_shfe_append = ak.get_futures_daily(start_date=start_date, end_date=end_date, market=\"SHFE\")\n",
    "df_futures_daily_shfe_append['date'] = pd.to_datetime(df_futures_daily_shfe_append['date'], format='%Y%m%d')\n",
    "# df_futures_daily_shfe = pd.concat([df_futures_daily_shfe, df_futures_daily_czce_append], ignore_index=True)"
   ]
  },
  {
   "cell_type": "markdown",
   "metadata": {},
   "source": [
    "#### 自动补全下载"
   ]
  },
  {
   "cell_type": "code",
   "execution_count": null,
   "metadata": {},
   "outputs": [
    {
     "name": "stdout",
     "output_type": "stream",
     "text": [
      "Current Period:  20240104 20240119\n"
     ]
    }
   ],
   "source": [
    "last_date = dws.get_last_date('shfe')\n",
    "last_date = pd.to_datetime(last_date)\n",
    "start_date = last_date + timedelta(days=1)\n",
    "end_date = datetime.now() - timedelta(days=1)\n",
    "start_date = start_date.strftime('%Y%m%d')\n",
    "end_date = end_date.strftime('%Y%m%d')\n",
    "print('Current Period: ', start_date, end_date)\n",
    "df_futures_daily_shfe_append = ak.get_futures_daily(start_date=start_date, end_date=end_date, market=\"SHFE\")\n",
    "df_futures_daily_shfe_append['date'] = pd.to_datetime(df_futures_daily_shfe_append['date'], format='%Y%m%d')"
   ]
  },
  {
   "cell_type": "code",
   "execution_count": null,
   "metadata": {},
   "outputs": [],
   "source": [
    "dws.save_data(df_futures_daily_shfe_append, 'shfe', 'append')"
   ]
  },
  {
   "cell_type": "markdown",
   "metadata": {},
   "source": [
    "## 期货合约基础信息"
   ]
  },
  {
   "cell_type": "markdown",
   "metadata": {},
   "source": [
    "### 合约基础信息"
   ]
  },
  {
   "cell_type": "code",
   "execution_count": null,
   "metadata": {},
   "outputs": [],
   "source": [
    "futures_comm_info_df = ak.futures_comm_info(symbol=\"所有\")\n",
    "futures_comm_info_df"
   ]
  },
  {
   "cell_type": "code",
   "execution_count": null,
   "metadata": {},
   "outputs": [],
   "source": [
    "dws.save_data(futures_comm_info_df, 'common')"
   ]
  },
  {
   "cell_type": "markdown",
   "metadata": {},
   "source": [
    "### 全品种信息"
   ]
  },
  {
   "cell_type": "code",
   "execution_count": null,
   "metadata": {},
   "outputs": [],
   "source": [
    "symbol_list = ak.futures_index_symbol_table_nh()\n",
    "symbol_list = symbol_list[symbol_list['exchange'].isin(['郑州商品交易所', '大连商品交易所', '上海期货交易所'])]\n",
    "symbol_list = symbol_list.drop('indexcategory', axis=1)\n",
    "exchange_replace_dict = {'郑州商品交易所': 'czce',\n",
    "                         '大连商品交易所': 'dce',\n",
    "                         '上海期货交易所': 'shfe'}\n",
    "symbol_list['exchange'] = symbol_list['exchange'].apply(lambda x: exchange_replace_dict.get(x, x))"
   ]
  },
  {
   "cell_type": "code",
   "execution_count": null,
   "metadata": {},
   "outputs": [],
   "source": [
    "dws.save_data(symbol_list, 'symbols')"
   ]
  },
  {
   "cell_type": "code",
   "execution_count": null,
   "metadata": {},
   "outputs": [],
   "source": [
    "symbol_list = dws.get_data_by_sql('SELECT * FROM symbols')"
   ]
  },
  {
   "cell_type": "markdown",
   "metadata": {},
   "source": [
    "### 主力合约"
   ]
  },
  {
   "cell_type": "code",
   "execution_count": null,
   "metadata": {},
   "outputs": [],
   "source": [
    "domain_contract_list = ak.match_main_contract(symbol='shfe')\n",
    "domain_contract_list"
   ]
  },
  {
   "cell_type": "code",
   "execution_count": null,
   "metadata": {},
   "outputs": [
    {
     "data": {
      "text/html": [
       "<div>\n",
       "<style scoped>\n",
       "    .dataframe tbody tr th:only-of-type {\n",
       "        vertical-align: middle;\n",
       "    }\n",
       "\n",
       "    .dataframe tbody tr th {\n",
       "        vertical-align: top;\n",
       "    }\n",
       "\n",
       "    .dataframe thead th {\n",
       "        text-align: right;\n",
       "    }\n",
       "</style>\n",
       "<table border=\"1\" class=\"dataframe\">\n",
       "  <thead>\n",
       "    <tr style=\"text-align: right;\">\n",
       "      <th></th>\n",
       "      <th>symbol</th>\n",
       "      <th>exchange</th>\n",
       "      <th>name</th>\n",
       "    </tr>\n",
       "  </thead>\n",
       "  <tbody>\n",
       "    <tr>\n",
       "      <th>0</th>\n",
       "      <td>V0</td>\n",
       "      <td>dce</td>\n",
       "      <td>PVC连续</td>\n",
       "    </tr>\n",
       "    <tr>\n",
       "      <th>1</th>\n",
       "      <td>P0</td>\n",
       "      <td>dce</td>\n",
       "      <td>棕榈油连续</td>\n",
       "    </tr>\n",
       "    <tr>\n",
       "      <th>2</th>\n",
       "      <td>B0</td>\n",
       "      <td>dce</td>\n",
       "      <td>豆二连续</td>\n",
       "    </tr>\n",
       "    <tr>\n",
       "      <th>3</th>\n",
       "      <td>M0</td>\n",
       "      <td>dce</td>\n",
       "      <td>豆粕连续</td>\n",
       "    </tr>\n",
       "    <tr>\n",
       "      <th>4</th>\n",
       "      <td>I0</td>\n",
       "      <td>dce</td>\n",
       "      <td>铁矿石连续</td>\n",
       "    </tr>\n",
       "    <tr>\n",
       "      <th>...</th>\n",
       "      <td>...</td>\n",
       "      <td>...</td>\n",
       "      <td>...</td>\n",
       "    </tr>\n",
       "    <tr>\n",
       "      <th>57</th>\n",
       "      <td>NI0</td>\n",
       "      <td>shfe</td>\n",
       "      <td>镍连续</td>\n",
       "    </tr>\n",
       "    <tr>\n",
       "      <th>58</th>\n",
       "      <td>SP0</td>\n",
       "      <td>shfe</td>\n",
       "      <td>纸浆连续</td>\n",
       "    </tr>\n",
       "    <tr>\n",
       "      <th>60</th>\n",
       "      <td>SS0</td>\n",
       "      <td>shfe</td>\n",
       "      <td>不锈钢连续</td>\n",
       "    </tr>\n",
       "    <tr>\n",
       "      <th>63</th>\n",
       "      <td>AO0</td>\n",
       "      <td>shfe</td>\n",
       "      <td>氧化铝连续</td>\n",
       "    </tr>\n",
       "    <tr>\n",
       "      <th>64</th>\n",
       "      <td>BR0</td>\n",
       "      <td>shfe</td>\n",
       "      <td>丁二烯橡胶连续</td>\n",
       "    </tr>\n",
       "  </tbody>\n",
       "</table>\n",
       "<p>61 rows × 3 columns</p>\n",
       "</div>"
      ],
      "text/plain": [
       "   symbol exchange     name\n",
       "0      V0      dce    PVC连续\n",
       "1      P0      dce    棕榈油连续\n",
       "2      B0      dce     豆二连续\n",
       "3      M0      dce     豆粕连续\n",
       "4      I0      dce    铁矿石连续\n",
       "..    ...      ...      ...\n",
       "57    NI0     shfe      镍连续\n",
       "58    SP0     shfe     纸浆连续\n",
       "60    SS0     shfe    不锈钢连续\n",
       "63    AO0     shfe    氧化铝连续\n",
       "64    BR0     shfe  丁二烯橡胶连续\n",
       "\n",
       "[61 rows x 3 columns]"
      ]
     },
     "execution_count": 20,
     "metadata": {},
     "output_type": "execute_result"
    }
   ],
   "source": [
    "contract_list = ak.futures_display_main_sina()\n",
    "contract_list = contract_list[contract_list['exchange'].isin(['czce', 'dce', 'shfe'])]\n",
    "contract_list"
   ]
  },
  {
   "cell_type": "markdown",
   "metadata": {},
   "source": [
    "#### 全量/时间段下载"
   ]
  },
  {
   "cell_type": "code",
   "execution_count": null,
   "metadata": {},
   "outputs": [],
   "source": [
    "main_contract_data = []\n",
    "for _, contract in contract_list.iterrows():\n",
    "    symbol_hist = ak.futures_main_sina(symbol=contract['symbol'], start_date=\"20110101\", end_date=\"20231231\")\n",
    "    symbol_hist['variety'] = contract['symbol']\n",
    "    main_contract_data.append(symbol_hist)\n",
    "merged_main_contracts = pd.concat(main_contract_data)\n",
    "merged_main_contracts.rename(columns={'日期': 'date'}, inplace=True)"
   ]
  },
  {
   "cell_type": "code",
   "execution_count": null,
   "metadata": {},
   "outputs": [],
   "source": [
    "combined_main = merged_main_contracts.drop_duplicates(subset=['date', 'variety'], keep='last')\n",
    "merged_main_contracts['date'] = pd.to_datetime(merged_main_contracts['date'])\n",
    "merged_main_contracts['variety'] = merged_main_contracts['variety'].str.rstrip('0')"
   ]
  },
  {
   "cell_type": "code",
   "execution_count": null,
   "metadata": {},
   "outputs": [],
   "source": [
    "# 注意调整mode参数，全量下载使用‘replace’，增量下载使用‘append’\n",
    "dws.save_data(combined_main, 'dominant')"
   ]
  },
  {
   "cell_type": "markdown",
   "metadata": {},
   "source": [
    "#### 自动补齐下载"
   ]
  },
  {
   "cell_type": "code",
   "execution_count": null,
   "metadata": {},
   "outputs": [],
   "source": [
    "existed_contract_data = dws.get_data_by_sql('SELECT * FROM dominant')"
   ]
  },
  {
   "cell_type": "code",
   "execution_count": null,
   "metadata": {},
   "outputs": [
    {
     "name": "stdout",
     "output_type": "stream",
     "text": [
      "Current Period:  20240104 20240119\n"
     ]
    }
   ],
   "source": [
    "last_date = dws.get_last_date('dominant')\n",
    "last_date = pd.to_datetime(last_date)\n",
    "start_date = last_date + timedelta(days=1)\n",
    "end_date = datetime.now() - timedelta(days=1)\n",
    "start_date = start_date.strftime('%Y%m%d')\n",
    "end_date = end_date.strftime('%Y%m%d')\n",
    "print('Current Period: ', start_date, end_date)\n",
    "main_contract_data = []\n",
    "for symbol in contract_list['symbol']:\n",
    "    symbol_hist = ak.futures_main_sina(symbol=symbol, start_date=start_date, end_date=end_date)\n",
    "    symbol_hist['variety'] = symbol\n",
    "    main_contract_data.append(symbol_hist)\n",
    "merged_main_contracts = pd.concat(main_contract_data)\n",
    "merged_main_contracts.rename(columns={'日期': 'date'}, inplace=True)\n",
    "merged_main_contracts['date'] = pd.to_datetime(merged_main_contracts['date'])\n",
    "merged_main_contracts['variety'] = merged_main_contracts['variety'].str.rstrip('0')\n",
    "# combined_main = merged_main_contracts.drop_duplicates(subset=['日期', 'variety'], keep='last')"
   ]
  },
  {
   "cell_type": "code",
   "execution_count": null,
   "metadata": {},
   "outputs": [],
   "source": [
    "dws.save_data(merged_main_contracts, 'dominant', 'append')"
   ]
  },
  {
   "cell_type": "markdown",
   "metadata": {},
   "source": [
    "## 库存数据"
   ]
  },
  {
   "cell_type": "code",
   "execution_count": null,
   "metadata": {},
   "outputs": [],
   "source": [
    "# 库存数据来源于“东方财富网”，商品名称与常规命名有出入，通过字典映射\n",
    "symbol_replace_dict = {'鲜苹果': '苹果',\n",
    "                       '棉花': '郑棉',\n",
    "                       '动力煤': '郑煤',\n",
    "                       '早籼稻': '早籼',\n",
    "                       '烧碱': '纯碱',\n",
    "                       '郑醇': '甲醇',\n",
    "                       '晚籼稻': '晚籼',\n",
    "                       'PP': '聚丙烯',\n",
    "                       '大豆': '豆一',\n",
    "                       '铝': '沪铝',\n",
    "                       '铜': '沪铜',\n",
    "                       '锌': '沪锌',\n",
    "                       '棕榈油': '棕榈',\n",
    "                       '黄金': '沪金',\n",
    "                       '铅': '沪铅',\n",
    "                       '白银': '沪银',\n",
    "                       '菜籽油': '菜油',\n",
    "                       '油菜籽': '菜籽',\n",
    "                       '菜籽粕': '菜粕',\n",
    "                       '热轧卷板': '热卷',\n",
    "                       '沪锡': '锡',\n",
    "                       '沪镍': '镍',\n",
    "                       }\n",
    "symbol_list['name'] = symbol_list['name'].apply(lambda x: symbol_replace_dict.get(x, x))"
   ]
  },
  {
   "cell_type": "code",
   "execution_count": null,
   "metadata": {},
   "outputs": [],
   "source": [
    "inventory_data = []\n",
    "ignore_symbol = ['线材', '胶合板', '纤维板', '郑煤']\n",
    "# ignore_symbol = []\n",
    "for symbol in symbol_list['name']:\n",
    "   print(symbol)\n",
    "   if symbol in ignore_symbol:\n",
    "      continue\n",
    "   symbol_data = ak.futures_inventory_em(symbol=symbol)\n",
    "   symbol_data['variety'] = symbol\n",
    "   inventory_data.append(symbol_data)\n",
    "merged_data = pd.concat(inventory_data)\n",
    "symbol_mapping_dict = dict(zip(symbol_list['name'], symbol_list['code']))\n",
    "merged_data['variety'] = merged_data['variety'].apply(lambda x: symbol_mapping_dict.get(x, x))\n",
    "merged_data.rename(columns={'日期': 'date'}, inplace=True)\n",
    "merged_data['date'] = pd.to_datetime(merged_data['date'])"
   ]
  },
  {
   "cell_type": "code",
   "execution_count": null,
   "metadata": {},
   "outputs": [],
   "source": [
    "# 更新时按日期去重\n",
    "old_inventory_data = dws.get_data_by_sql('SELECT * FROM inventory')\n",
    "old_inventory_data['date'] = pd.to_datetime(old_inventory_data['date'])\n",
    "combined_df = pd.concat([old_inventory_data, merged_data])\n",
    "combined_df = combined_df.drop_duplicates(subset=['date', 'variety'], keep='last')"
   ]
  },
  {
   "cell_type": "code",
   "execution_count": null,
   "metadata": {},
   "outputs": [],
   "source": [
    "dws.save_data(combined_df, 'inventory')"
   ]
  },
  {
   "cell_type": "code",
   "execution_count": null,
   "metadata": {},
   "outputs": [],
   "source": [
    "futures_inventory_em_df = ak.futures_inventory_em(symbol=\"郑煤\")\n",
    "futures_inventory_em_df"
   ]
  },
  {
   "cell_type": "code",
   "execution_count": null,
   "metadata": {},
   "outputs": [],
   "source": [
    "from variety import SymbolData\n",
    "symbol = SymbolData('RB', '螺纹钢')\n",
    "df_inventory_rb = symbol.load_choice_file('black_metals/data/mid-stream/螺纹钢/螺纹钢库存.xlsx')\n"
   ]
  },
  {
   "cell_type": "markdown",
   "metadata": {},
   "source": [
    "### 注册仓单"
   ]
  },
  {
   "cell_type": "code",
   "execution_count": null,
   "metadata": {},
   "outputs": [],
   "source": [
    "code_list = list(symbol_list['code'])"
   ]
  },
  {
   "cell_type": "code",
   "execution_count": null,
   "metadata": {},
   "outputs": [],
   "source": [
    "dce =  ['C', 'CS', 'A', 'B', 'M', 'Y', 'P', 'FB', 'BB', 'JD', 'L', 'V', 'PP', 'J', 'JM', 'I', 'EG', 'RR', 'EB', 'PG', 'LH'] \n",
    "dce_in = ['A', 'M', 'C', 'Y', 'L', 'P', 'V', 'J', 'JM', 'I', 'JD', 'BB', 'FB', 'PP', 'CS', 'EG', 'RR', 'B', 'EB']\n",
    "czce = ['WH', 'PM', 'CF', 'SR', 'TA', 'OI', 'RI', 'MA', 'ME', 'FG', 'RS', 'RM', 'ZC', 'JR', 'LR', 'SF', 'SM', 'WT', 'TC', 'GN', 'RO', 'ER', 'SRX', 'SRY', 'WSX', 'WSY', 'CY', 'AP', 'UR', 'CJ', 'SA', 'PK', 'PF', 'PX', 'SH'] \n",
    "czce_in = ['CF', 'SR', 'TA', 'PM', 'RO', 'ER', 'FG', 'RS', 'RM', 'JR', 'LR', 'SM', 'SF', 'ME', 'TC', 'CY', 'AP', 'CJ', 'UR', 'SA']\n",
    "shfe = ['CU', 'AL', 'ZN', 'PB', 'NI', 'SN', 'AU', 'AG', 'RB', 'WR', 'HC', 'FU', 'BU', 'RU', 'SC', 'NR', 'SP', 'SS', 'LU', 'BC', 'AO', 'BR', 'EC']"
   ]
  },
  {
   "cell_type": "code",
   "execution_count": null,
   "metadata": {},
   "outputs": [
    {
     "name": "stdout",
     "output_type": "stream",
     "text": [
      "21 19 0 []\n"
     ]
    }
   ],
   "source": [
    "set1 = set(dce)\n",
    "set2 = set(dce_in)\n",
    "diff = set2 - set1\n",
    "result = list(diff)\n",
    "print(len(dce), len(dce_in), len(result), result)"
   ]
  },
  {
   "cell_type": "code",
   "execution_count": null,
   "metadata": {},
   "outputs": [
    {
     "data": {
      "text/html": [
       "<div>\n",
       "<style scoped>\n",
       "    .dataframe tbody tr th:only-of-type {\n",
       "        vertical-align: middle;\n",
       "    }\n",
       "\n",
       "    .dataframe tbody tr th {\n",
       "        vertical-align: top;\n",
       "    }\n",
       "\n",
       "    .dataframe thead th {\n",
       "        text-align: right;\n",
       "    }\n",
       "</style>\n",
       "<table border=\"1\" class=\"dataframe\">\n",
       "  <thead>\n",
       "    <tr style=\"text-align: right;\">\n",
       "      <th></th>\n",
       "      <th>variety</th>\n",
       "      <th>receipt</th>\n",
       "      <th>receipt_chg</th>\n",
       "      <th>date</th>\n",
       "    </tr>\n",
       "  </thead>\n",
       "  <tbody>\n",
       "    <tr>\n",
       "      <th>0</th>\n",
       "      <td>C</td>\n",
       "      <td>1350</td>\n",
       "      <td>0</td>\n",
       "      <td>2011-01-04 00:00:00</td>\n",
       "    </tr>\n",
       "    <tr>\n",
       "      <th>1</th>\n",
       "      <td>A</td>\n",
       "      <td>12586</td>\n",
       "      <td>0</td>\n",
       "      <td>2011-01-04 00:00:00</td>\n",
       "    </tr>\n",
       "    <tr>\n",
       "      <th>2</th>\n",
       "      <td>Y</td>\n",
       "      <td>745</td>\n",
       "      <td>745</td>\n",
       "      <td>2011-01-04 00:00:00</td>\n",
       "    </tr>\n",
       "    <tr>\n",
       "      <th>3</th>\n",
       "      <td>L</td>\n",
       "      <td>27743</td>\n",
       "      <td>95</td>\n",
       "      <td>2011-01-04 00:00:00</td>\n",
       "    </tr>\n",
       "    <tr>\n",
       "      <th>4</th>\n",
       "      <td>V</td>\n",
       "      <td>3784</td>\n",
       "      <td>0</td>\n",
       "      <td>2011-01-04 00:00:00</td>\n",
       "    </tr>\n",
       "    <tr>\n",
       "      <th>...</th>\n",
       "      <td>...</td>\n",
       "      <td>...</td>\n",
       "      <td>...</td>\n",
       "      <td>...</td>\n",
       "    </tr>\n",
       "    <tr>\n",
       "      <th>111286</th>\n",
       "      <td>CJ</td>\n",
       "      <td>15124</td>\n",
       "      <td>1006</td>\n",
       "      <td>20240104</td>\n",
       "    </tr>\n",
       "    <tr>\n",
       "      <th>111287</th>\n",
       "      <td>SA</td>\n",
       "      <td>0</td>\n",
       "      <td>0</td>\n",
       "      <td>20240104</td>\n",
       "    </tr>\n",
       "    <tr>\n",
       "      <th>111288</th>\n",
       "      <td>PK</td>\n",
       "      <td>0</td>\n",
       "      <td>0</td>\n",
       "      <td>20240104</td>\n",
       "    </tr>\n",
       "    <tr>\n",
       "      <th>111289</th>\n",
       "      <td>PK</td>\n",
       "      <td>1030</td>\n",
       "      <td>0</td>\n",
       "      <td>20240104</td>\n",
       "    </tr>\n",
       "    <tr>\n",
       "      <th>111290</th>\n",
       "      <td>PF</td>\n",
       "      <td>6936</td>\n",
       "      <td>0</td>\n",
       "      <td>20240104</td>\n",
       "    </tr>\n",
       "  </tbody>\n",
       "</table>\n",
       "<p>111291 rows × 4 columns</p>\n",
       "</div>"
      ],
      "text/plain": [
       "       variety  receipt  receipt_chg                 date\n",
       "0            C     1350            0  2011-01-04 00:00:00\n",
       "1            A    12586            0  2011-01-04 00:00:00\n",
       "2            Y      745          745  2011-01-04 00:00:00\n",
       "3            L    27743           95  2011-01-04 00:00:00\n",
       "4            V     3784            0  2011-01-04 00:00:00\n",
       "...        ...      ...          ...                  ...\n",
       "111286      CJ    15124         1006             20240104\n",
       "111287      SA        0            0             20240104\n",
       "111288      PK        0            0             20240104\n",
       "111289      PK     1030            0             20240104\n",
       "111290      PF     6936            0             20240104\n",
       "\n",
       "[111291 rows x 4 columns]"
      ]
     },
     "execution_count": 24,
     "metadata": {},
     "output_type": "execute_result"
    }
   ],
   "source": [
    "# 查看数据库中的仓单数据\n",
    "df_receipt = dws.get_data_by_sql('SELECT * FROM receipt')\n",
    "df_receipt['date'] = pd.to_datetime(df_receipt['date'], format='%Y%m%d')\n",
    "df_receipt"
   ]
  },
  {
   "cell_type": "markdown",
   "metadata": {},
   "source": [
    "#### DCE注册仓单下载"
   ]
  },
  {
   "cell_type": "code",
   "execution_count": null,
   "metadata": {},
   "outputs": [],
   "source": [
    "df_receipt_dce = pd.DataFrame()"
   ]
  },
  {
   "cell_type": "code",
   "execution_count": null,
   "metadata": {},
   "outputs": [],
   "source": [
    "start_date=\"20150307\"\n",
    "end_date=\"20150310\""
   ]
  },
  {
   "cell_type": "code",
   "execution_count": null,
   "metadata": {},
   "outputs": [],
   "source": [
    "df_receipt_dce_append = ak.get_receipt(start_day=start_date, end_day=end_date, vars_list=dce)\n",
    "df_receipt_dce = pd.concat([df_receipt_dce, df_receipt_dce_append], ignore_index=True)"
   ]
  },
  {
   "cell_type": "code",
   "execution_count": null,
   "metadata": {},
   "outputs": [],
   "source": [
    "# 按时间去重\n",
    "combined_df = df_receipt_dce.drop_duplicates(subset=['date', 'var'], keep='first')"
   ]
  },
  {
   "cell_type": "code",
   "execution_count": null,
   "metadata": {},
   "outputs": [],
   "source": [
    "df_receipt_dce = combined_df"
   ]
  },
  {
   "cell_type": "code",
   "execution_count": null,
   "metadata": {},
   "outputs": [],
   "source": [
    "# 按月下载\n",
    "for i in range(12):  \n",
    "    df_receipt_dce_append = ak.get_receipt(start_day=start_date, end_day=end_date, vars_list=dce)\n",
    "    df_receipt_dce = pd.concat([df_receipt_dce, df_receipt_dce_append], ignore_index=True)\n",
    "    print('Last Period: ', start_date, end_date)\n",
    "    start_date = datetime.strptime(start_date, '%Y%m%d')\n",
    "    end_date = datetime.strptime(end_date, '%Y%m%d')\n",
    "    start_date = (start_date + relativedelta(months=1)).replace(day=1)\n",
    "    end_date = (end_date + relativedelta(months=2)).replace(day=1) - relativedelta(days=1)\n",
    "    start_date = start_date.strftime('%Y%m%d')\n",
    "    end_date = end_date.strftime('%Y%m%d')\n",
    "    print('Current Period: ', start_date, end_date)"
   ]
  },
  {
   "cell_type": "code",
   "execution_count": null,
   "metadata": {},
   "outputs": [],
   "source": [
    "# 每3天下载\n",
    "for i in range(360): \n",
    "   df_receipt_dce_append = ak.get_receipt(start_day=start_date, end_day=end_date, vars_list=dce)\n",
    "   df_receipt_dce = pd.concat([df_receipt_dce, df_receipt_dce_append], ignore_index=True)\n",
    "   print('Last Period: ', start_date, end_date)\n",
    "   start_date = datetime.strptime(start_date, '%Y%m%d')\n",
    "   end_date = datetime.strptime(end_date, '%Y%m%d')\n",
    "   start_date = (end_date + relativedelta(days=1)).strftime('%Y%m%d')\n",
    "   end_date = (end_date + relativedelta(days=3)).strftime('%Y%m%d')\n",
    "   # start_date = start_date.strftime('%Y%m%d')\n",
    "   # end_date = end_date.strftime('%Y%m%d')   \n",
    "   print('Current Period: ', start_date, end_date)"
   ]
  },
  {
   "cell_type": "code",
   "execution_count": null,
   "metadata": {},
   "outputs": [],
   "source": [
    "dws.save_data(df_receipt_dce, 'receipt')"
   ]
  },
  {
   "cell_type": "markdown",
   "metadata": {},
   "source": [
    "#### 自动补全下载"
   ]
  },
  {
   "cell_type": "code",
   "execution_count": null,
   "metadata": {},
   "outputs": [
    {
     "name": "stdout",
     "output_type": "stream",
     "text": [
      "Current Period:  20240106 20240119\n",
      "2024-01-08\n"
     ]
    },
    {
     "name": "stderr",
     "output_type": "stream",
     "text": [
      "/Volumes/Repository/app/miniconda3/lib/python3.10/site-packages/akshare/futures/receipt.py:418: UserWarning: 20240106 非交易日\n",
      "  warnings.warn(f\"{start_day.strftime('%Y%m%d')} 非交易日\")\n",
      "/Volumes/Repository/app/miniconda3/lib/python3.10/site-packages/akshare/futures/receipt.py:418: UserWarning: 20240107 非交易日\n",
      "  warnings.warn(f\"{start_day.strftime('%Y%m%d')} 非交易日\")\n"
     ]
    },
    {
     "name": "stdout",
     "output_type": "stream",
     "text": [
      "2024-01-09\n",
      "2024-01-10\n",
      "2024-01-11\n",
      "2024-01-12\n"
     ]
    },
    {
     "name": "stderr",
     "output_type": "stream",
     "text": [
      "/Volumes/Repository/app/miniconda3/lib/python3.10/site-packages/akshare/futures/receipt.py:418: UserWarning: 20240113 非交易日\n",
      "  warnings.warn(f\"{start_day.strftime('%Y%m%d')} 非交易日\")\n",
      "/Volumes/Repository/app/miniconda3/lib/python3.10/site-packages/akshare/futures/receipt.py:418: UserWarning: 20240114 非交易日\n",
      "  warnings.warn(f\"{start_day.strftime('%Y%m%d')} 非交易日\")\n"
     ]
    },
    {
     "name": "stdout",
     "output_type": "stream",
     "text": [
      "2024-01-15\n",
      "2024-01-16\n",
      "2024-01-17\n",
      "2024-01-18\n",
      "2024-01-19\n"
     ]
    }
   ],
   "source": [
    "last_date = dws.get_last_date('receipt')\n",
    "last_date = pd.to_datetime(last_date)\n",
    "start_date = last_date + timedelta(days=1)\n",
    "end_date = datetime.now() - timedelta(days=1)\n",
    "start_date = start_date.strftime('%Y%m%d')\n",
    "end_date = end_date.strftime('%Y%m%d')\n",
    "print('Current Period: ', start_date, end_date)\n",
    "df_receipt_dce_append = ak.get_receipt(start_day=start_date, end_day=end_date, vars_list=dce)\n",
    "df_receipt_dce = pd.concat([df_receipt_dce, df_receipt_dce_append], ignore_index=True)"
   ]
  },
  {
   "cell_type": "code",
   "execution_count": null,
   "metadata": {},
   "outputs": [],
   "source": [
    "df_receipt_dce.rename(columns={'var': 'variety'}, inplace=True)\n",
    "dws.save_data(df_receipt_dce, 'receipt', 'append')"
   ]
  },
  {
   "cell_type": "markdown",
   "metadata": {},
   "source": [
    "#### CZCE注册仓单下载"
   ]
  },
  {
   "cell_type": "code",
   "execution_count": null,
   "metadata": {},
   "outputs": [],
   "source": [
    "df_receipt_czce = ak.get_receipt(start_day=\"20151112\", end_day=\"20151231\", vars_list=czce)"
   ]
  },
  {
   "cell_type": "code",
   "execution_count": null,
   "metadata": {},
   "outputs": [],
   "source": [
    "df_receipt_czce_append = ak.get_receipt(start_day=\"20220101\", end_day=\"20240104\", vars_list=czce)\n",
    "df_receipt_czce = pd.concat([df_receipt_czce, df_receipt_czce_append], ignore_index=True)"
   ]
  },
  {
   "cell_type": "markdown",
   "metadata": {},
   "source": [
    "#### 自动补全下载"
   ]
  },
  {
   "cell_type": "code",
   "execution_count": null,
   "metadata": {},
   "outputs": [
    {
     "name": "stderr",
     "output_type": "stream",
     "text": [
      "/Volumes/Repository/app/miniconda3/lib/python3.10/site-packages/akshare/futures/receipt.py:418: UserWarning: 20240106 非交易日\n",
      "  warnings.warn(f\"{start_day.strftime('%Y%m%d')} 非交易日\")\n",
      "/Volumes/Repository/app/miniconda3/lib/python3.10/site-packages/akshare/futures/receipt.py:418: UserWarning: 20240107 非交易日\n",
      "  warnings.warn(f\"{start_day.strftime('%Y%m%d')} 非交易日\")\n"
     ]
    },
    {
     "name": "stdout",
     "output_type": "stream",
     "text": [
      "2024-01-08\n",
      "2024-01-09\n",
      "2024-01-10\n",
      "2024-01-11\n",
      "2024-01-12\n"
     ]
    },
    {
     "name": "stderr",
     "output_type": "stream",
     "text": [
      "/Volumes/Repository/app/miniconda3/lib/python3.10/site-packages/akshare/futures/receipt.py:418: UserWarning: 20240113 非交易日\n",
      "  warnings.warn(f\"{start_day.strftime('%Y%m%d')} 非交易日\")\n",
      "/Volumes/Repository/app/miniconda3/lib/python3.10/site-packages/akshare/futures/receipt.py:418: UserWarning: 20240114 非交易日\n",
      "  warnings.warn(f\"{start_day.strftime('%Y%m%d')} 非交易日\")\n"
     ]
    },
    {
     "name": "stdout",
     "output_type": "stream",
     "text": [
      "2024-01-15\n",
      "2024-01-16\n",
      "2024-01-17\n",
      "2024-01-18\n",
      "2024-01-19\n"
     ]
    }
   ],
   "source": [
    "df_receipt_czce_append = ak.get_receipt(start_day=start_date, end_day=end_date, vars_list=czce)\n",
    "# df_receipt_czce = pd.concat([df_receipt_czce, df_receipt_czce_append], ignore_index=True)"
   ]
  },
  {
   "cell_type": "code",
   "execution_count": null,
   "metadata": {},
   "outputs": [],
   "source": [
    "df_receipt_czce_append.rename(columns={'var': 'variety'}, inplace=True)\n",
    "dws.save_data(df_receipt_czce_append, 'receipt', 'append')"
   ]
  },
  {
   "cell_type": "markdown",
   "metadata": {},
   "source": [
    "#### SHFE注册仓单下载"
   ]
  },
  {
   "cell_type": "code",
   "execution_count": null,
   "metadata": {},
   "outputs": [],
   "source": [
    "df_receipt_shfe = ak.get_receipt(start_day=\"20140517\", end_day=\"20141231\", vars_list=shfe)"
   ]
  },
  {
   "cell_type": "code",
   "execution_count": null,
   "metadata": {},
   "outputs": [],
   "source": [
    "df_receipt_shfe_append = ak.get_receipt(start_day=\"20210101\", end_day=\"20240104\", vars_list=shfe)\n",
    "df_receipt_shfe = pd.concat([df_receipt_shfe, df_receipt_shfe_append], ignore_index=True)"
   ]
  },
  {
   "cell_type": "markdown",
   "metadata": {},
   "source": [
    "#### 自动补全下载"
   ]
  },
  {
   "cell_type": "code",
   "execution_count": null,
   "metadata": {},
   "outputs": [
    {
     "name": "stderr",
     "output_type": "stream",
     "text": [
      "/Volumes/Repository/app/miniconda3/lib/python3.10/site-packages/akshare/futures/receipt.py:418: UserWarning: 20240106 非交易日\n",
      "  warnings.warn(f\"{start_day.strftime('%Y%m%d')} 非交易日\")\n",
      "/Volumes/Repository/app/miniconda3/lib/python3.10/site-packages/akshare/futures/receipt.py:418: UserWarning: 20240107 非交易日\n",
      "  warnings.warn(f\"{start_day.strftime('%Y%m%d')} 非交易日\")\n"
     ]
    },
    {
     "name": "stdout",
     "output_type": "stream",
     "text": [
      "2024-01-08\n",
      "2024-01-09\n",
      "2024-01-10\n",
      "2024-01-11\n",
      "2024-01-12\n"
     ]
    },
    {
     "name": "stderr",
     "output_type": "stream",
     "text": [
      "/Volumes/Repository/app/miniconda3/lib/python3.10/site-packages/akshare/futures/receipt.py:418: UserWarning: 20240113 非交易日\n",
      "  warnings.warn(f\"{start_day.strftime('%Y%m%d')} 非交易日\")\n",
      "/Volumes/Repository/app/miniconda3/lib/python3.10/site-packages/akshare/futures/receipt.py:418: UserWarning: 20240114 非交易日\n",
      "  warnings.warn(f\"{start_day.strftime('%Y%m%d')} 非交易日\")\n"
     ]
    },
    {
     "name": "stdout",
     "output_type": "stream",
     "text": [
      "2024-01-15\n",
      "2024-01-16\n",
      "2024-01-17\n",
      "2024-01-18\n",
      "2024-01-19\n"
     ]
    }
   ],
   "source": [
    "df_receipt_shfe_append = ak.get_receipt(start_day=start_date, end_day=end_date, vars_list=shfe)"
   ]
  },
  {
   "cell_type": "code",
   "execution_count": null,
   "metadata": {},
   "outputs": [],
   "source": [
    "df_receipt_shfe_append.rename(columns={'var': 'variety'}, inplace=True)\n",
    "dws.save_data(df_receipt_shfe_append, 'receipt', 'append')"
   ]
  },
  {
   "cell_type": "markdown",
   "metadata": {},
   "source": [
    "## 基差数据"
   ]
  },
  {
   "cell_type": "markdown",
   "metadata": {},
   "source": [
    "### 接口调用示例"
   ]
  },
  {
   "cell_type": "code",
   "execution_count": null,
   "metadata": {},
   "outputs": [],
   "source": [
    "futures_spot_price_df = ak.futures_spot_price(\"20211025\")\n",
    "futures_spot_price_df"
   ]
  },
  {
   "cell_type": "markdown",
   "metadata": {},
   "source": [
    "### 按时间段补充数据"
   ]
  },
  {
   "cell_type": "code",
   "execution_count": null,
   "metadata": {},
   "outputs": [],
   "source": [
    "# 创建一个日期列表，包括今年的所有日期\n",
    "start_date = date(2023, 1, 1)\n",
    "end_date = date(2023, 12, 31)\n",
    "delta = timedelta(days=1)\n",
    "dates = []\n",
    "while start_date <= end_date:\n",
    "   dates.append(start_date.strftime(\"%Y%m%d\"))\n",
    "   start_date += delta\n",
    "\n",
    "# 初始化一个空的DataFrame来存储所有的数据\n",
    "all_data = pd.DataFrame()\n",
    "\n",
    "# 对每个日期调用ak.futures_spot_price()函数，并将结果添加到all_data中\n",
    "for d in dates:\n",
    "   df = ak.futures_spot_price(d)\n",
    "   all_data = pd.concat([all_data, df], ignore_index=True)\n",
    "all_data.rename(columns={'symbol': 'variety'}, inplace=True)\n",
    "all_data['date'] = pd.to_datetime(all_data['date'], format='%Y%m%d')\n",
    "# 纠正AKShare基差/基差率计算错误（正负号）\n",
    "all_data['near_basis'] = -all_data['near_basis']\n",
    "all_data['dom_basis'] = -all_data['dom_basis']\n",
    "all_data['near_basis_rate'] = -all_data['near_basis_rate']\n",
    "all_data['dom_basis_rate'] = -all_data['dom_basis_rate']\n",
    "# 打印所有的数据\n",
    "print(all_data)"
   ]
  },
  {
   "cell_type": "code",
   "execution_count": null,
   "metadata": {},
   "outputs": [],
   "source": [
    "dws.save_data(all_data, 'basis', 'append')"
   ]
  },
  {
   "cell_type": "markdown",
   "metadata": {},
   "source": [
    "#### 自动补全数据"
   ]
  },
  {
   "cell_type": "code",
   "execution_count": null,
   "metadata": {},
   "outputs": [
    {
     "name": "stderr",
     "output_type": "stream",
     "text": [
      "/Volumes/Repository/app/miniconda3/lib/python3.10/site-packages/akshare/futures/futures_basis.py:101: UserWarning: 20240106非交易日\n",
      "  warnings.warn(f\"{date.strftime('%Y%m%d')}非交易日\")\n",
      "/Volumes/Repository/app/miniconda3/lib/python3.10/site-packages/akshare/futures/futures_basis.py:101: UserWarning: 20240107非交易日\n",
      "  warnings.warn(f\"{date.strftime('%Y%m%d')}非交易日\")\n",
      "/Volumes/Repository/app/miniconda3/lib/python3.10/site-packages/akshare/futures/futures_basis.py:101: UserWarning: 20240113非交易日\n",
      "  warnings.warn(f\"{date.strftime('%Y%m%d')}非交易日\")\n",
      "/Volumes/Repository/app/miniconda3/lib/python3.10/site-packages/akshare/futures/futures_basis.py:101: UserWarning: 20240114非交易日\n",
      "  warnings.warn(f\"{date.strftime('%Y%m%d')}非交易日\")\n"
     ]
    }
   ],
   "source": [
    "last_date = dws.get_last_date('basis')\n",
    "last_date = pd.to_datetime(last_date)\n",
    "start_date = last_date + timedelta(days=1)\n",
    "end_date = datetime.now() - timedelta(days=1)\n",
    "delta = timedelta(days=1)\n",
    "dates = []\n",
    "while start_date <= end_date:\n",
    "   dates.append(start_date.strftime(\"%Y%m%d\"))\n",
    "   start_date += delta\n",
    "all_data = pd.DataFrame()\n",
    "for d in dates:\n",
    "   df = ak.futures_spot_price(d)\n",
    "   all_data = pd.concat([all_data, df], ignore_index=True)\n",
    "all_data['date'] = pd.to_datetime(all_data['date'])\n",
    "all_data.rename(columns={'symbol': 'variety'}, inplace=True)\n",
    "# 纠正AKShare基差/基差率计算错误（正负号）\n",
    "all_data['near_basis'] = -all_data['near_basis']\n",
    "all_data['dom_basis'] = -all_data['dom_basis']\n",
    "all_data['near_basis_rate'] = -all_data['near_basis_rate']\n",
    "all_data['dom_basis_rate'] = -all_data['dom_basis_rate']"
   ]
  },
  {
   "cell_type": "code",
   "execution_count": null,
   "metadata": {},
   "outputs": [],
   "source": [
    "dws.save_data(all_data, 'basis', 'append')"
   ]
  },
  {
   "cell_type": "markdown",
   "metadata": {},
   "source": [
    "# 全自动补全数据"
   ]
  },
  {
   "cell_type": "code",
   "execution_count": 1,
   "metadata": {},
   "outputs": [],
   "source": [
    "import pandas as pd\n",
    "import akshare as ak\n",
    "from dateutil.relativedelta import relativedelta\n",
    "from datetime import datetime, date, timedelta\n",
    "import dataworks as dw\n",
    "import json\n",
    "\n",
    "dws = dw.DataWorks()"
   ]
  },
  {
   "cell_type": "code",
   "execution_count": 16,
   "metadata": {},
   "outputs": [
    {
     "data": {
      "text/plain": [
       "<module 'dataworks' from '/Volumes/Repository/Projects/futures_nexus/dataworks.py'>"
      ]
     },
     "execution_count": 16,
     "metadata": {},
     "output_type": "execute_result"
    }
   ],
   "source": [
    "import importlib\n",
    "importlib.reload(dw)"
   ]
  },
  {
   "cell_type": "markdown",
   "metadata": {},
   "source": [
    "## 历史合约"
   ]
  },
  {
   "cell_type": "markdown",
   "metadata": {},
   "source": [
    "### DCE"
   ]
  },
  {
   "cell_type": "code",
   "execution_count": 13,
   "metadata": {},
   "outputs": [
    {
     "name": "stdout",
     "output_type": "stream",
     "text": [
      "Current Period:  20240509 20240514\n",
      "new save\n"
     ]
    }
   ],
   "source": [
    "last_date = dws.get_last_date('dce')\n",
    "last_date = pd.to_datetime(last_date)\n",
    "start_date = last_date + timedelta(days=1)\n",
    "end_date = datetime.now() - timedelta(days=1)\n",
    "start_date = start_date.strftime('%Y%m%d')\n",
    "end_date = end_date.strftime('%Y%m%d')\n",
    "print('Current Period: ', start_date, end_date)\n",
    "df_futures_daily_dce_append = ak.get_futures_daily(start_date=start_date, end_date=end_date, market=\"DCE\")\n",
    "df_futures_daily_dce_append['date'] = pd.to_datetime(df_futures_daily_dce_append['date'], format='%Y%m%d')\n",
    "dws.save_data(df_futures_daily_dce_append, 'dce', 'append')"
   ]
  },
  {
   "cell_type": "markdown",
   "metadata": {},
   "source": [
    "### CZCE"
   ]
  },
  {
   "cell_type": "code",
   "execution_count": 14,
   "metadata": {},
   "outputs": [
    {
     "name": "stdout",
     "output_type": "stream",
     "text": [
      "Current Period:  20240509 20240514\n",
      "new save\n"
     ]
    }
   ],
   "source": [
    "last_date = dws.get_last_date('czce')\n",
    "last_date = pd.to_datetime(last_date)\n",
    "start_date = last_date + timedelta(days=1)\n",
    "end_date = datetime.now() - timedelta(days=1)\n",
    "start_date = start_date.strftime('%Y%m%d')\n",
    "end_date = end_date.strftime('%Y%m%d')\n",
    "print('Current Period: ', start_date, end_date)\n",
    "df_futures_daily_czce_append = ak.get_futures_daily(start_date=start_date, end_date=end_date, market=\"CZCE\")\n",
    "df_futures_daily_czce_append['date'] = pd.to_datetime(df_futures_daily_czce_append['date'], format='%Y%m%d')\n",
    "dws.save_data(df_futures_daily_czce_append, 'czce', 'append')"
   ]
  },
  {
   "cell_type": "markdown",
   "metadata": {},
   "source": [
    "### SHFE"
   ]
  },
  {
   "cell_type": "code",
   "execution_count": 6,
   "metadata": {},
   "outputs": [
    {
     "name": "stdout",
     "output_type": "stream",
     "text": [
      "Current Period:  20240530 20240531\n"
     ]
    }
   ],
   "source": [
    "last_date = dws.get_last_date('shfe')\n",
    "last_date = pd.to_datetime(last_date)\n",
    "start_date = last_date + timedelta(days=1)\n",
    "end_date = datetime.now() - timedelta(days=1)\n",
    "start_date = start_date.strftime('%Y%m%d')\n",
    "end_date = end_date.strftime('%Y%m%d')\n",
    "print('Current Period: ', start_date, end_date)\n",
    "df_futures_daily_shfe_append = ak.get_futures_daily(start_date=start_date, end_date=end_date, market=\"SHFE\")\n",
    "df_futures_daily_shfe_append['date'] = pd.to_datetime(df_futures_daily_shfe_append['date'], format='%Y%m%d')\n",
    "df_futures_daily_shfe_append = df_futures_daily_shfe_append.drop('index', axis=1)\n",
    "dws.save_data(df_futures_daily_shfe_append, 'shfe', 'append')"
   ]
  },
  {
   "cell_type": "code",
   "execution_count": 7,
   "metadata": {},
   "outputs": [
    {
     "data": {
      "text/html": [
       "<div>\n",
       "<style scoped>\n",
       "    .dataframe tbody tr th:only-of-type {\n",
       "        vertical-align: middle;\n",
       "    }\n",
       "\n",
       "    .dataframe tbody tr th {\n",
       "        vertical-align: top;\n",
       "    }\n",
       "\n",
       "    .dataframe thead th {\n",
       "        text-align: right;\n",
       "    }\n",
       "</style>\n",
       "<table border=\"1\" class=\"dataframe\">\n",
       "  <thead>\n",
       "    <tr style=\"text-align: right;\">\n",
       "      <th></th>\n",
       "      <th>symbol</th>\n",
       "      <th>date</th>\n",
       "      <th>open</th>\n",
       "      <th>high</th>\n",
       "      <th>low</th>\n",
       "      <th>close</th>\n",
       "      <th>volume</th>\n",
       "      <th>open_interest</th>\n",
       "      <th>turnover</th>\n",
       "      <th>settle</th>\n",
       "      <th>pre_settle</th>\n",
       "      <th>variety</th>\n",
       "    </tr>\n",
       "  </thead>\n",
       "  <tbody>\n",
       "    <tr>\n",
       "      <th>0</th>\n",
       "      <td>CU2406</td>\n",
       "      <td>2024-05-30</td>\n",
       "      <td>84300</td>\n",
       "      <td>84540</td>\n",
       "      <td>82210</td>\n",
       "      <td>82630</td>\n",
       "      <td>43847</td>\n",
       "      <td>69119</td>\n",
       "      <td>1.827444e+06</td>\n",
       "      <td>83350</td>\n",
       "      <td>84590</td>\n",
       "      <td>CU</td>\n",
       "    </tr>\n",
       "    <tr>\n",
       "      <th>1</th>\n",
       "      <td>CU2407</td>\n",
       "      <td>2024-05-30</td>\n",
       "      <td>84180</td>\n",
       "      <td>84870</td>\n",
       "      <td>82440</td>\n",
       "      <td>82860</td>\n",
       "      <td>214119</td>\n",
       "      <td>202769</td>\n",
       "      <td>8.973961e+06</td>\n",
       "      <td>83820</td>\n",
       "      <td>84910</td>\n",
       "      <td>CU</td>\n",
       "    </tr>\n",
       "    <tr>\n",
       "      <th>2</th>\n",
       "      <td>CU2408</td>\n",
       "      <td>2024-05-30</td>\n",
       "      <td>84830</td>\n",
       "      <td>85150</td>\n",
       "      <td>82680</td>\n",
       "      <td>83150</td>\n",
       "      <td>96094</td>\n",
       "      <td>137092</td>\n",
       "      <td>4.038545e+06</td>\n",
       "      <td>84050</td>\n",
       "      <td>85190</td>\n",
       "      <td>CU</td>\n",
       "    </tr>\n",
       "    <tr>\n",
       "      <th>3</th>\n",
       "      <td>CU2409</td>\n",
       "      <td>2024-05-30</td>\n",
       "      <td>85140</td>\n",
       "      <td>85320</td>\n",
       "      <td>82890</td>\n",
       "      <td>83340</td>\n",
       "      <td>55608</td>\n",
       "      <td>86549</td>\n",
       "      <td>2.341923e+06</td>\n",
       "      <td>84220</td>\n",
       "      <td>85360</td>\n",
       "      <td>CU</td>\n",
       "    </tr>\n",
       "    <tr>\n",
       "      <th>4</th>\n",
       "      <td>CU2410</td>\n",
       "      <td>2024-05-30</td>\n",
       "      <td>85170</td>\n",
       "      <td>85450</td>\n",
       "      <td>83080</td>\n",
       "      <td>83520</td>\n",
       "      <td>16046</td>\n",
       "      <td>35694</td>\n",
       "      <td>6.769412e+05</td>\n",
       "      <td>84370</td>\n",
       "      <td>85540</td>\n",
       "      <td>CU</td>\n",
       "    </tr>\n",
       "    <tr>\n",
       "      <th>...</th>\n",
       "      <td>...</td>\n",
       "      <td>...</td>\n",
       "      <td>...</td>\n",
       "      <td>...</td>\n",
       "      <td>...</td>\n",
       "      <td>...</td>\n",
       "      <td>...</td>\n",
       "      <td>...</td>\n",
       "      <td>...</td>\n",
       "      <td>...</td>\n",
       "      <td>...</td>\n",
       "      <td>...</td>\n",
       "    </tr>\n",
       "    <tr>\n",
       "      <th>553</th>\n",
       "      <td>EC2502</td>\n",
       "      <td>2024-05-31</td>\n",
       "      <td>2016</td>\n",
       "      <td>2217.8</td>\n",
       "      <td>1922</td>\n",
       "      <td>2145.0</td>\n",
       "      <td>2898</td>\n",
       "      <td>3899</td>\n",
       "      <td>3.020256e+04</td>\n",
       "      <td>2084.3</td>\n",
       "      <td>2027.3</td>\n",
       "      <td>EC</td>\n",
       "    </tr>\n",
       "    <tr>\n",
       "      <th>554</th>\n",
       "      <td>EC2504</td>\n",
       "      <td>2024-05-31</td>\n",
       "      <td>1710</td>\n",
       "      <td>1940</td>\n",
       "      <td>1680</td>\n",
       "      <td>1887.6</td>\n",
       "      <td>3244</td>\n",
       "      <td>3675</td>\n",
       "      <td>2.974546e+04</td>\n",
       "      <td>1833.8</td>\n",
       "      <td>1720.2</td>\n",
       "      <td>EC</td>\n",
       "    </tr>\n",
       "    <tr>\n",
       "      <th>555</th>\n",
       "      <td>SC_TAS2407</td>\n",
       "      <td>2024-05-31</td>\n",
       "      <td></td>\n",
       "      <td></td>\n",
       "      <td></td>\n",
       "      <td>0.0</td>\n",
       "      <td>0</td>\n",
       "      <td></td>\n",
       "      <td>0.000000e+00</td>\n",
       "      <td></td>\n",
       "      <td></td>\n",
       "      <td>SC_TAS</td>\n",
       "    </tr>\n",
       "    <tr>\n",
       "      <th>556</th>\n",
       "      <td>SC_TAS2408</td>\n",
       "      <td>2024-05-31</td>\n",
       "      <td></td>\n",
       "      <td></td>\n",
       "      <td></td>\n",
       "      <td>0.0</td>\n",
       "      <td>0</td>\n",
       "      <td></td>\n",
       "      <td>0.000000e+00</td>\n",
       "      <td></td>\n",
       "      <td></td>\n",
       "      <td>SC_TAS</td>\n",
       "    </tr>\n",
       "    <tr>\n",
       "      <th>557</th>\n",
       "      <td>SC_TAS2409</td>\n",
       "      <td>2024-05-31</td>\n",
       "      <td></td>\n",
       "      <td></td>\n",
       "      <td></td>\n",
       "      <td>0.0</td>\n",
       "      <td>0</td>\n",
       "      <td></td>\n",
       "      <td>0.000000e+00</td>\n",
       "      <td></td>\n",
       "      <td></td>\n",
       "      <td>SC_TAS</td>\n",
       "    </tr>\n",
       "  </tbody>\n",
       "</table>\n",
       "<p>558 rows × 12 columns</p>\n",
       "</div>"
      ],
      "text/plain": [
       "         symbol       date   open    high    low   close  volume  \\\n",
       "0        CU2406 2024-05-30  84300   84540  82210   82630   43847   \n",
       "1        CU2407 2024-05-30  84180   84870  82440   82860  214119   \n",
       "2        CU2408 2024-05-30  84830   85150  82680   83150   96094   \n",
       "3        CU2409 2024-05-30  85140   85320  82890   83340   55608   \n",
       "4        CU2410 2024-05-30  85170   85450  83080   83520   16046   \n",
       "..          ...        ...    ...     ...    ...     ...     ...   \n",
       "553      EC2502 2024-05-31   2016  2217.8   1922  2145.0    2898   \n",
       "554      EC2504 2024-05-31   1710    1940   1680  1887.6    3244   \n",
       "555  SC_TAS2407 2024-05-31                           0.0       0   \n",
       "556  SC_TAS2408 2024-05-31                           0.0       0   \n",
       "557  SC_TAS2409 2024-05-31                           0.0       0   \n",
       "\n",
       "    open_interest      turnover  settle pre_settle variety  \n",
       "0           69119  1.827444e+06   83350      84590      CU  \n",
       "1          202769  8.973961e+06   83820      84910      CU  \n",
       "2          137092  4.038545e+06   84050      85190      CU  \n",
       "3           86549  2.341923e+06   84220      85360      CU  \n",
       "4           35694  6.769412e+05   84370      85540      CU  \n",
       "..            ...           ...     ...        ...     ...  \n",
       "553          3899  3.020256e+04  2084.3     2027.3      EC  \n",
       "554          3675  2.974546e+04  1833.8     1720.2      EC  \n",
       "555                0.000000e+00                     SC_TAS  \n",
       "556                0.000000e+00                     SC_TAS  \n",
       "557                0.000000e+00                     SC_TAS  \n",
       "\n",
       "[558 rows x 12 columns]"
      ]
     },
     "execution_count": 7,
     "metadata": {},
     "output_type": "execute_result"
    }
   ],
   "source": [
    "df_futures_daily_shfe_append"
   ]
  },
  {
   "cell_type": "markdown",
   "metadata": {},
   "source": [
    "## 合约信息"
   ]
  },
  {
   "cell_type": "code",
   "execution_count": 1,
   "metadata": {},
   "outputs": [
    {
     "ename": "NameError",
     "evalue": "name 'ak' is not defined",
     "output_type": "error",
     "traceback": [
      "\u001b[0;31m---------------------------------------------------------------------------\u001b[0m",
      "\u001b[0;31mNameError\u001b[0m                                 Traceback (most recent call last)",
      "Cell \u001b[0;32mIn[1], line 1\u001b[0m\n\u001b[0;32m----> 1\u001b[0m symbol_list \u001b[38;5;241m=\u001b[39m \u001b[43mak\u001b[49m\u001b[38;5;241m.\u001b[39mfutures_index_symbol_table_nh()\n\u001b[1;32m      2\u001b[0m symbol_list \u001b[38;5;241m=\u001b[39m symbol_list[symbol_list[\u001b[38;5;124m'\u001b[39m\u001b[38;5;124mexchange\u001b[39m\u001b[38;5;124m'\u001b[39m]\u001b[38;5;241m.\u001b[39misin([\u001b[38;5;124m'\u001b[39m\u001b[38;5;124m郑州商品交易所\u001b[39m\u001b[38;5;124m'\u001b[39m, \u001b[38;5;124m'\u001b[39m\u001b[38;5;124m大连商品交易所\u001b[39m\u001b[38;5;124m'\u001b[39m, \u001b[38;5;124m'\u001b[39m\u001b[38;5;124m上海期货交易所\u001b[39m\u001b[38;5;124m'\u001b[39m])]\n\u001b[1;32m      3\u001b[0m symbol_list \u001b[38;5;241m=\u001b[39m symbol_list\u001b[38;5;241m.\u001b[39mdrop(\u001b[38;5;124m'\u001b[39m\u001b[38;5;124mindexcategory\u001b[39m\u001b[38;5;124m'\u001b[39m, axis\u001b[38;5;241m=\u001b[39m\u001b[38;5;241m1\u001b[39m)\n",
      "\u001b[0;31mNameError\u001b[0m: name 'ak' is not defined"
     ]
    }
   ],
   "source": [
    "symbol_list = ak.futures_index_symbol_table_nh()\n",
    "symbol_list = symbol_list[symbol_list['exchange'].isin(['郑州商品交易所', '大连商品交易所', '上海期货交易所'])]\n",
    "symbol_list = symbol_list.drop('indexcategory', axis=1)\n",
    "exchange_replace_dict = {'郑州商品交易所': 'czce',\n",
    "                         '大连商品交易所': 'dce',\n",
    "                         '上海期货交易所': 'shfe'}\n",
    "symbol_list['exchange'] = symbol_list['exchange'].apply(lambda x: exchange_replace_dict.get(x, x))\n",
    "dws.save_data(symbol_list, 'symbols')"
   ]
  },
  {
   "cell_type": "markdown",
   "metadata": {},
   "source": [
    "## 主力合约"
   ]
  },
  {
   "cell_type": "code",
   "execution_count": 16,
   "metadata": {},
   "outputs": [
    {
     "name": "stdout",
     "output_type": "stream",
     "text": [
      "Current Period:  20240509 20240514\n",
      "new save\n"
     ]
    }
   ],
   "source": [
    "contract_list = ak.futures_display_main_sina()\n",
    "contract_list = contract_list[contract_list['exchange'].isin(['czce', 'dce', 'shfe'])]\n",
    "\n",
    "last_date = dws.get_last_date('dominant')\n",
    "last_date = pd.to_datetime(last_date)\n",
    "start_date = last_date + timedelta(days=1)\n",
    "end_date = datetime.now() - timedelta(days=1)\n",
    "start_date = start_date.strftime('%Y%m%d')\n",
    "end_date = end_date.strftime('%Y%m%d')\n",
    "print('Current Period: ', start_date, end_date)\n",
    "main_contract_data = []\n",
    "for symbol in contract_list['symbol']:\n",
    "    symbol_hist = ak.futures_main_sina(symbol=symbol, start_date=start_date, end_date=end_date)\n",
    "    symbol_hist['variety'] = symbol\n",
    "    main_contract_data.append(symbol_hist)\n",
    "merged_main_contracts = pd.concat(main_contract_data)\n",
    "merged_main_contracts.rename(columns={'日期': 'date'}, inplace=True)\n",
    "merged_main_contracts['date'] = pd.to_datetime(merged_main_contracts['date'])\n",
    "merged_main_contracts['variety'] = merged_main_contracts['variety'].str.rstrip('0')\n",
    "# combined_main = merged_main_contracts.drop_duplicates(subset=['日期', 'variety'], keep='last')\n",
    "dws.save_data(merged_main_contracts, 'dominant', 'append')"
   ]
  },
  {
   "cell_type": "markdown",
   "metadata": {},
   "source": [
    "## 主力合约月（计算）"
   ]
  },
  {
   "cell_type": "code",
   "execution_count": null,
   "metadata": {},
   "outputs": [],
   "source": [
    "# # 根据历史合约的持仓量数据获得主力合约月份(推荐使用)\n",
    "# exchanges = ['dce', 'czce', 'shfe']\n",
    "# ignore_variety = ['SC_TAS']\n",
    "# variety_setting = {}\n",
    "# for ex in exchanges:\n",
    "#     sql = 'SELECT * FROM ' + ex\n",
    "#     df_history = dws.get_data_by_sql(sql)\n",
    "#     df_history['delivery_month'] = df_history['symbol'].str.slice(-2).astype(int)\n",
    "#     df_history['date'] = pd.to_datetime(df_history['date'])\n",
    "#     start_date = '20210101'\n",
    "#     end_date = '20231231'\n",
    "#     start_date = datetime.strptime(start_date, '%Y%m%d')\n",
    "#     end_date = datetime.strptime(end_date, '%Y%m%d')\n",
    "#     df_history = df_history[(df_history['date'] >= start_date) & (df_history['date'] <= end_date)]\n",
    "#     symbol_list = df_history['variety'].unique()    \n",
    "#     for variety in symbol_list:\n",
    "#         if variety in ignore_variety:\n",
    "#             continue\n",
    "#         dominant_month = []\n",
    "#         df = df_history[df_history['variety']==variety]\n",
    "#         trading_dates = df['date']\n",
    "#         for date in trading_dates:\n",
    "#             df_current_date = df[df['date']==date]\n",
    "#             max_open_interest_index= df_current_date['open_interest'].astype(int).idxmax()\n",
    "#             delivery_month = int(df_current_date.loc[max_open_interest_index]['delivery_month'])\n",
    "#             dominant_month.append(delivery_month)\n",
    "#         dominant_month = sorted(list(set(dominant_month)))\n",
    "#         variety_setting[variety] = {'DominantMonths': dominant_month,\n",
    "#                                     'ExchangeID': ex,}\n",
    "#         print(variety_setting[variety])\n",
    "# dws.save_variety_setting(variety_setting)"
   ]
  },
  {
   "cell_type": "code",
   "execution_count": null,
   "metadata": {},
   "outputs": [],
   "source": [
    "# 根据basis表获得主力合约月份（不推荐，因品种不全）\n",
    "# df_basis = dws.get_data_by_sql('SELECT * FROM basis')\n",
    "\n",
    "# df_basis['delivery_month'] = df_basis['dominant_contract'].str.slice(-2).astype(int)\n",
    "# dce_symbol_list = df_basis['variety'].unique()\n",
    "# dominant_contract = {}\n",
    "# for variety in dce_symbol_list:\n",
    "#     df = df_basis[df_basis['variety']==variety]\n",
    "#     dominant_contract[variety] = df['delivery_month'].unique()\n",
    "#     print(variety, dominant_contract[variety])"
   ]
  },
  {
   "cell_type": "code",
   "execution_count": null,
   "metadata": {},
   "outputs": [],
   "source": [
    "# # 将主力合约月写入数据库symbols表中(废弃使用)\n",
    "# df_symbol = dws.get_data_by_sql('SELECT * FROM symbols')\n",
    "# existed_variety = df_symbol['code'].to_list()\n",
    "# # symbols表中如果没有dominant_contract字典中的品种，则添加对应的记录\n",
    "# for variety, domant_months in dominant_contract.items():\n",
    "#     if variety not in existed_variety:\n",
    "#         symbol_row = pd.DataFrame({\n",
    "#             'name': [''],\n",
    "#             'firstday': [pd.NaT],\n",
    "#             'code': [variety],\n",
    "#             'exchange': [variety_exchange[variety]]\n",
    "#         })\n",
    "#         df_symbol = pd.concat([df_symbol, symbol_row])        \n",
    "# df_symbol['dominant_months'] = df_symbol['code'].map(dominant_contract)\n",
    "# # 因SQLite无法将list作为字段存储，需通过json进行序列化再存储至数据，从数据库读取时需要进行反序列化处理\n",
    "# df_symbol['dominant_months'] = df_symbol['dominant_months'].apply(json.dumps)\n",
    "# dws.save_data(df_symbol, 'symbols')"
   ]
  },
  {
   "cell_type": "markdown",
   "metadata": {},
   "source": [
    "## 近月合约（合成）"
   ]
  },
  {
   "cell_type": "code",
   "execution_count": 17,
   "metadata": {},
   "outputs": [
    {
     "name": "stdout",
     "output_type": "stream",
     "text": [
      "A dce\n",
      "B dce\n",
      "BB dce\n",
      "C dce\n",
      "CS dce\n",
      "EB dce\n",
      "EG dce\n",
      "FB dce\n",
      "I dce\n",
      "J dce\n",
      "JD dce\n",
      "JM dce\n",
      "L dce\n",
      "M dce\n",
      "P dce\n",
      "PG dce\n",
      "PP dce\n",
      "RR dce\n",
      "V dce\n",
      "Y dce\n",
      "LH dce\n",
      "AP czce\n",
      "CF czce\n",
      "CJ czce\n",
      "CY czce\n",
      "FG czce\n",
      "JR czce\n",
      "LR czce\n",
      "MA czce\n",
      "OI czce\n",
      "PF czce\n",
      "PM czce\n",
      "RI czce\n",
      "RM czce\n",
      "RS czce\n",
      "SA czce\n",
      "SF czce\n",
      "SM czce\n",
      "SR czce\n",
      "TA czce\n",
      "UR czce\n",
      "WH czce\n",
      "ZC czce\n",
      "PK czce\n",
      "PX czce\n",
      "SH czce\n",
      "CU shfe\n",
      "BC shfe\n",
      "AL shfe\n",
      "ZN shfe\n",
      "PB shfe\n",
      "NI shfe\n",
      "SN shfe\n",
      "AU shfe\n",
      "AG shfe\n",
      "RB shfe\n",
      "WR shfe\n",
      "HC shfe\n",
      "SS shfe\n",
      "SC shfe\n",
      "LU shfe\n",
      "FU shfe\n",
      "BU shfe\n",
      "RU shfe\n",
      "NR shfe\n",
      "SP shfe\n",
      "AO shfe\n",
      "BR shfe\n",
      "EC shfe\n",
      "new save\n"
     ]
    }
   ],
   "source": [
    "import re\n",
    "variety_setting = dws.get_variety_setting()\n",
    "ignore_variety = ['SC_TAS']\n",
    "df_near_contract = pd.DataFrame()\n",
    "for variety in variety_setting:\n",
    "    dominant_months = variety_setting[variety]['DominantMonths']\n",
    "    exchange = variety_setting[variety]['ExchangeID']\n",
    "    df_history_variety = dws.get_data_by_symbol(exchange, variety)\n",
    "    df_history_variety['delivery_month'] = df_history_variety['symbol'].str.slice(-2).astype(int)\n",
    "    print(variety, exchange)\n",
    "    df_history_variety['date'] = pd.to_datetime(df_history_variety['date'], format='ISO8601')\n",
    "    df_dominant_contract = df_history_variety[df_history_variety['delivery_month'].isin(dominant_months)]\n",
    "    df_dominant_contract = df_dominant_contract.sort_values(by=['date'], ascending=[True])\n",
    "    contract_list = df_dominant_contract['symbol'].unique()\n",
    "    first_symbol = True\n",
    "    for symbol in contract_list:\n",
    "        number_count = len(re.findall(r'\\d', symbol))\n",
    "        df_cuurent_near = df_dominant_contract[df_dominant_contract['symbol']==symbol]\n",
    "        if first_symbol:\n",
    "            first_symbol = False\n",
    "            start_date = df_cuurent_near['date'].min()        \n",
    "        if number_count==4:    \n",
    "            # 假设年月编码是symbol字符串的后四位\n",
    "            year_month_code = symbol[-4:]\n",
    "            year = int(year_month_code[:2])  # 提取年份编码\n",
    "            month = int(year_month_code[2:])  # 提取月份编码\n",
    "            year += 2000 if year < 50 else 1900\n",
    "            delivery_date = datetime(year, month, 1)\n",
    "        else:\n",
    "            # TODO: 合约编码3位数字的品种处理逻辑\n",
    "            year_month_code = symbol[-3:]\n",
    "            # year = int(year_month_code[:1])  # 提取年份编码\n",
    "            month = int(year_month_code[1:])  # 提取月份编码\n",
    "            delivery_date = df_cuurent_near['date'].max()    \n",
    "            delivery_date = delivery_date.replace(month=month, day=1)\n",
    "            # year += 2020\n",
    "        end_date = delivery_date - timedelta(days=1)    \n",
    "        if start_date > end_date:\n",
    "            continue        \n",
    "        df_cuurent_near = df_cuurent_near[(df_cuurent_near['date']>= start_date) & (df_cuurent_near['date']<=end_date)]\n",
    "        df_near_contract = pd.concat([df_near_contract, df_cuurent_near])\n",
    "        start_date = end_date + timedelta(days=1)            \n",
    "dws.save_data(df_near_contract, 'near') "
   ]
  },
  {
   "cell_type": "markdown",
   "metadata": {},
   "source": [
    "## 库存"
   ]
  },
  {
   "cell_type": "code",
   "execution_count": 18,
   "metadata": {},
   "outputs": [
    {
     "name": "stdout",
     "output_type": "stream",
     "text": [
      "豆一\n",
      "沪铝\n",
      "沪铜\n",
      "橡胶\n",
      "豆粕\n",
      "郑棉\n",
      "燃油\n",
      "玉米\n",
      "白糖\n",
      "豆油\n",
      "PTA\n",
      "沪锌\n",
      "塑料\n",
      "棕榈\n",
      "沪金\n",
      "螺纹钢\n",
      "线材\n",
      "PVC\n",
      "沪铅\n",
      "焦炭\n",
      "普麦\n",
      "沪银\n",
      "菜油\n",
      "早籼\n",
      "强麦\n",
      "玻璃\n",
      "菜籽\n",
      "菜粕\n",
      "焦煤\n",
      "沥青\n",
      "铁矿石\n",
      "鸡蛋\n",
      "粳稻\n",
      "胶合板\n",
      "纤维板\n",
      "聚丙烯\n",
      "热卷\n",
      "晚籼\n",
      "锰硅\n",
      "硅铁\n",
      "玉米淀粉\n",
      "锡\n",
      "镍\n",
      "甲醇\n",
      "郑煤\n",
      "棉纱\n",
      "棉纱\n",
      "苹果\n",
      "纸浆\n",
      "乙二醇\n",
      "红枣\n",
      "尿素\n",
      "粳米\n",
      "豆二\n",
      "不锈钢\n",
      "苯乙烯\n",
      "纯碱\n",
      "new save\n"
     ]
    }
   ],
   "source": [
    "# 库存数据来源于“东方财富网”，商品名称与常规命名有出入，通过字典映射\n",
    "symbol_replace_dict = {'鲜苹果': '苹果',\n",
    "                       '棉花': '郑棉',\n",
    "                       '动力煤': '郑煤',\n",
    "                       '早籼稻': '早籼',\n",
    "                       '烧碱': '纯碱',\n",
    "                       '郑醇': '甲醇',\n",
    "                       '晚籼稻': '晚籼',\n",
    "                       'PP': '聚丙烯',\n",
    "                       '大豆': '豆一',\n",
    "                       '铝': '沪铝',\n",
    "                       '铜': '沪铜',\n",
    "                       '锌': '沪锌',\n",
    "                       '棕榈油': '棕榈',\n",
    "                       '黄金': '沪金',\n",
    "                       '铅': '沪铅',\n",
    "                       '白银': '沪银',\n",
    "                       '菜籽油': '菜油',\n",
    "                       '油菜籽': '菜籽',\n",
    "                       '菜籽粕': '菜粕',\n",
    "                       '热轧卷板': '热卷',\n",
    "                       '沪锡': '锡',\n",
    "                       '沪镍': '镍',\n",
    "                       }\n",
    "symbol_list['name'] = symbol_list['name'].apply(lambda x: symbol_replace_dict.get(x, x))\n",
    "inventory_data = []\n",
    "ignore_symbol = ['线材', '胶合板', '纤维板', '郑煤', '普麦', '早籼', '强麦', '粳稻', '晚籼', '粳米']\n",
    "# ignore_symbol = []\n",
    "for symbol in symbol_list['name']:\n",
    "   print(symbol)\n",
    "   if symbol in ignore_symbol:\n",
    "      continue\n",
    "   symbol_data = ak.futures_inventory_em(symbol=symbol)\n",
    "   symbol_data['variety'] = symbol\n",
    "   inventory_data.append(symbol_data)\n",
    "merged_data = pd.concat(inventory_data)\n",
    "symbol_mapping_dict = dict(zip(symbol_list['name'], symbol_list['code']))\n",
    "merged_data['variety'] = merged_data['variety'].apply(lambda x: symbol_mapping_dict.get(x, x))\n",
    "merged_data.rename(columns={'日期': 'date'}, inplace=True)\n",
    "merged_data['date'] = pd.to_datetime(merged_data['date'])\n",
    "# 更新时按日期去重\n",
    "old_inventory_data = dws.get_data_by_sql('SELECT * FROM inventory')\n",
    "old_inventory_data['date'] = pd.to_datetime(old_inventory_data['date'])\n",
    "combined_df = pd.concat([old_inventory_data, merged_data])\n",
    "combined_df = combined_df.drop_duplicates(subset=['date', 'variety'], keep='last')\n",
    "dws.save_data(combined_df, 'inventory')"
   ]
  },
  {
   "cell_type": "markdown",
   "metadata": {},
   "source": [
    "## 注册仓单"
   ]
  },
  {
   "cell_type": "code",
   "execution_count": 19,
   "metadata": {},
   "outputs": [
    {
     "name": "stdout",
     "output_type": "stream",
     "text": [
      "Current Period:  20240509 20240514\n"
     ]
    }
   ],
   "source": [
    "last_date = dws.get_last_date('receipt')\n",
    "last_date = pd.to_datetime(last_date)\n",
    "start_date = last_date + timedelta(days=1)\n",
    "end_date = datetime.now() - timedelta(days=1)\n",
    "start_date = start_date.strftime('%Y%m%d')\n",
    "end_date = end_date.strftime('%Y%m%d')\n",
    "print('Current Period: ', start_date, end_date)"
   ]
  },
  {
   "cell_type": "code",
   "execution_count": 20,
   "metadata": {},
   "outputs": [],
   "source": [
    "dce =  ['C', 'CS', 'A', 'B', 'M', 'Y', 'P', 'FB', 'BB', 'JD', 'L', 'V', 'PP', 'J', 'JM', 'I', 'EG', 'RR', 'EB', 'PG', 'LH'] \n",
    "dce_in = ['A', 'M', 'C', 'Y', 'L', 'P', 'V', 'J', 'JM', 'I', 'JD', 'BB', 'FB', 'PP', 'CS', 'EG', 'RR', 'B', 'EB']\n",
    "czce = ['WH', 'PM', 'CF', 'SR', 'TA', 'OI', 'RI', 'MA', 'ME', 'FG', 'RS', 'RM', 'ZC', 'JR', 'LR', 'SF', 'SM', 'WT', 'TC', 'GN', 'RO', 'ER', 'SRX', 'SRY', 'WSX', 'WSY', 'CY', 'AP', 'UR', 'CJ', 'SA', 'PK', 'PF', 'PX', 'SH'] \n",
    "czce_in = ['CF', 'SR', 'TA', 'PM', 'RO', 'ER', 'FG', 'RS', 'RM', 'JR', 'LR', 'SM', 'SF', 'ME', 'TC', 'CY', 'AP', 'CJ', 'UR', 'SA']\n",
    "shfe = ['CU', 'AL', 'ZN', 'PB', 'NI', 'SN', 'AU', 'AG', 'RB', 'WR', 'HC', 'FU', 'BU', 'RU', 'SC', 'NR', 'SP', 'SS', 'LU', 'BC', 'AO', 'BR', 'EC']"
   ]
  },
  {
   "cell_type": "markdown",
   "metadata": {},
   "source": [
    "### DCE"
   ]
  },
  {
   "cell_type": "code",
   "execution_count": 21,
   "metadata": {},
   "outputs": [
    {
     "name": "stdout",
     "output_type": "stream",
     "text": [
      "2024-05-09\n",
      "2024-05-10\n"
     ]
    },
    {
     "name": "stderr",
     "output_type": "stream",
     "text": [
      "/Volumes/Repository/app/miniconda3/lib/python3.10/site-packages/akshare/futures/receipt.py:429: UserWarning: 20240511 非交易日\n",
      "  warnings.warn(f\"{start_date.strftime('%Y%m%d')} 非交易日\")\n",
      "/Volumes/Repository/app/miniconda3/lib/python3.10/site-packages/akshare/futures/receipt.py:429: UserWarning: 20240512 非交易日\n",
      "  warnings.warn(f\"{start_date.strftime('%Y%m%d')} 非交易日\")\n"
     ]
    },
    {
     "name": "stdout",
     "output_type": "stream",
     "text": [
      "2024-05-13\n",
      "2024-05-14\n",
      "new save\n"
     ]
    }
   ],
   "source": [
    "df_receipt_dce_append = ak.get_receipt(start_date, end_date, vars_list=dce)\n",
    "df_receipt_dce_append['date'] = pd.to_datetime(df_receipt_dce_append['date'])\n",
    "df_receipt_dce_append.rename(columns={'var': 'variety'}, inplace=True)\n",
    "dws.save_data(df_receipt_dce_append, 'receipt', 'append')"
   ]
  },
  {
   "cell_type": "markdown",
   "metadata": {},
   "source": [
    "### CZCE"
   ]
  },
  {
   "cell_type": "code",
   "execution_count": 22,
   "metadata": {},
   "outputs": [
    {
     "name": "stdout",
     "output_type": "stream",
     "text": [
      "2024-05-09\n",
      "2024-05-10\n"
     ]
    },
    {
     "name": "stderr",
     "output_type": "stream",
     "text": [
      "/Volumes/Repository/app/miniconda3/lib/python3.10/site-packages/akshare/futures/receipt.py:429: UserWarning: 20240511 非交易日\n",
      "  warnings.warn(f\"{start_date.strftime('%Y%m%d')} 非交易日\")\n",
      "/Volumes/Repository/app/miniconda3/lib/python3.10/site-packages/akshare/futures/receipt.py:429: UserWarning: 20240512 非交易日\n",
      "  warnings.warn(f\"{start_date.strftime('%Y%m%d')} 非交易日\")\n"
     ]
    },
    {
     "name": "stdout",
     "output_type": "stream",
     "text": [
      "2024-05-13\n",
      "2024-05-14\n",
      "new save\n"
     ]
    }
   ],
   "source": [
    "df_receipt_czce_append = ak.get_receipt(start_date, end_date, vars_list=czce)\n",
    "df_receipt_czce_append['date'] = pd.to_datetime(df_receipt_czce_append['date'])\n",
    "df_receipt_czce_append.rename(columns={'var': 'variety'}, inplace=True)\n",
    "dws.save_data(df_receipt_czce_append, 'receipt', 'append')"
   ]
  },
  {
   "cell_type": "markdown",
   "metadata": {},
   "source": [
    "### SHFE"
   ]
  },
  {
   "cell_type": "code",
   "execution_count": 23,
   "metadata": {},
   "outputs": [
    {
     "name": "stdout",
     "output_type": "stream",
     "text": [
      "2024-05-09\n",
      "2024-05-10\n"
     ]
    },
    {
     "name": "stderr",
     "output_type": "stream",
     "text": [
      "/Volumes/Repository/app/miniconda3/lib/python3.10/site-packages/akshare/futures/receipt.py:429: UserWarning: 20240511 非交易日\n",
      "  warnings.warn(f\"{start_date.strftime('%Y%m%d')} 非交易日\")\n",
      "/Volumes/Repository/app/miniconda3/lib/python3.10/site-packages/akshare/futures/receipt.py:429: UserWarning: 20240512 非交易日\n",
      "  warnings.warn(f\"{start_date.strftime('%Y%m%d')} 非交易日\")\n"
     ]
    },
    {
     "name": "stdout",
     "output_type": "stream",
     "text": [
      "2024-05-13\n",
      "2024-05-14\n",
      "new save\n"
     ]
    }
   ],
   "source": [
    "df_receipt_shfe_append = ak.get_receipt(start_date, end_date, vars_list=shfe)\n",
    "df_receipt_shfe_append['date'] = pd.to_datetime(df_receipt_shfe_append['date'])\n",
    "df_receipt_shfe_append.rename(columns={'var': 'variety'}, inplace=True)\n",
    "dws.save_data(df_receipt_shfe_append, 'receipt', 'append')"
   ]
  },
  {
   "cell_type": "code",
   "execution_count": 24,
   "metadata": {},
   "outputs": [
    {
     "name": "stdout",
     "output_type": "stream",
     "text": [
      "new save\n"
     ]
    }
   ],
   "source": [
    "# 按日期/品种去重\n",
    "receipt_data = dws.get_data_by_sql('SELECT * FROM receipt')\n",
    "receipt_data['date'] = pd.to_datetime(receipt_data['date'], format='ISO8601')\n",
    "receipt_data_drop_dup = receipt_data.drop_duplicates(subset=['date', 'variety'], keep='last')\n",
    "dws.save_data(receipt_data_drop_dup, 'receipt')"
   ]
  },
  {
   "cell_type": "markdown",
   "metadata": {},
   "source": [
    "## 基差"
   ]
  },
  {
   "cell_type": "code",
   "execution_count": 25,
   "metadata": {},
   "outputs": [
    {
     "name": "stderr",
     "output_type": "stream",
     "text": [
      "/Volumes/Repository/app/miniconda3/lib/python3.10/site-packages/akshare/futures/futures_basis.py:106: UserWarning: 20240511非交易日\n",
      "  warnings.warn(f\"{date.strftime('%Y%m%d')}非交易日\")\n",
      "/Volumes/Repository/app/miniconda3/lib/python3.10/site-packages/akshare/futures/futures_basis.py:106: UserWarning: 20240512非交易日\n",
      "  warnings.warn(f\"{date.strftime('%Y%m%d')}非交易日\")\n"
     ]
    },
    {
     "name": "stdout",
     "output_type": "stream",
     "text": [
      "new save\n"
     ]
    }
   ],
   "source": [
    "last_date = dws.get_last_date('basis')\n",
    "last_date = pd.to_datetime(last_date)\n",
    "start_date = last_date + timedelta(days=1)\n",
    "end_date = datetime.now() - timedelta(days=1)\n",
    "delta = timedelta(days=1)\n",
    "dates = []\n",
    "while start_date <= end_date:\n",
    "   dates.append(start_date.strftime(\"%Y%m%d\"))\n",
    "   start_date += delta\n",
    "all_data = pd.DataFrame()\n",
    "for d in dates:\n",
    "   df = ak.futures_spot_price(d)\n",
    "   all_data = pd.concat([all_data, df], ignore_index=True)\n",
    "all_data['date'] = pd.to_datetime(all_data['date'])\n",
    "all_data.rename(columns={'symbol': 'variety'}, inplace=True)\n",
    "# 纠正AKShare基差/基差率计算错误（正负号）\n",
    "all_data['near_basis'] = -all_data['near_basis']\n",
    "all_data['dom_basis'] = -all_data['dom_basis']\n",
    "all_data['near_basis_rate'] = -all_data['near_basis_rate']\n",
    "all_data['dom_basis_rate'] = -all_data['dom_basis_rate']\n",
    "dws.save_data(all_data, 'basis', 'append')"
   ]
  },
  {
   "cell_type": "markdown",
   "metadata": {},
   "source": [
    "## 期限结构（合成）"
   ]
  },
  {
   "cell_type": "markdown",
   "metadata": {},
   "source": [
    "### 全量生成"
   ]
  },
  {
   "cell_type": "code",
   "execution_count": 3,
   "metadata": {},
   "outputs": [
    {
     "name": "stdout",
     "output_type": "stream",
     "text": [
      "czce: JR\n"
     ]
    },
    {
     "name": "stderr",
     "output_type": "stream",
     "text": [
      "C:\\Users\\FUDIAN\\AppData\\Local\\Temp\\ipykernel_39852\\4277855255.py:42: FutureWarning: The behavior of DataFrame concatenation with empty or all-NA entries is deprecated. In a future version, this will no longer exclude empty or all-NA columns when determining the result dtypes. To retain the old behavior, exclude the relevant entries before the concat operation.\n",
      "  df_term_structure = pd.concat([df_term_structure, pd.DataFrame([new_row])], ignore_index=True)\n"
     ]
    },
    {
     "name": "stdout",
     "output_type": "stream",
     "text": [
      "czce: RM\n",
      "czce: SA\n",
      "czce: PK\n",
      "czce: RI\n",
      "czce: SR\n",
      "czce: PX\n",
      "czce: SH\n",
      "czce: AP\n",
      "czce: LR\n",
      "czce: MA\n",
      "czce: FG\n",
      "czce: CY\n",
      "czce: RS\n",
      "czce: UR\n",
      "czce: SM\n",
      "czce: PF\n",
      "czce: WH\n",
      "czce: SF\n",
      "czce: TA\n",
      "czce: CJ\n",
      "czce: OI\n",
      "czce: CF\n",
      "dce: J\n",
      "dce: P\n",
      "dce: C\n",
      "dce: M\n",
      "dce: EB\n",
      "dce: PG\n",
      "dce: JM\n",
      "dce: RR\n",
      "dce: BB\n",
      "dce: Y\n",
      "dce: I\n",
      "dce: EG\n",
      "dce: LH\n",
      "dce: CS\n",
      "dce: B\n",
      "dce: JD\n",
      "dce: FB\n",
      "dce: A\n",
      "dce: V\n",
      "dce: PP\n",
      "dce: L\n",
      "shfe: CU\n",
      "shfe: WR\n",
      "shfe: HC\n",
      "shfe: PB\n",
      "shfe: ZN\n",
      "shfe: AG\n",
      "shfe: SN\n",
      "shfe: BU\n",
      "shfe: RU\n",
      "shfe: BR\n",
      "shfe: RB\n",
      "shfe: AU\n",
      "shfe: NI\n",
      "shfe: AO\n",
      "shfe: SP\n",
      "shfe: SS\n",
      "shfe: FU\n",
      "shfe: AL\n"
     ]
    }
   ],
   "source": [
    "df_term_structure = pd.DataFrame(columns=['variety', 'date', 'flag', 'exchange'])\n",
    "\n",
    "variety_json = 'setting/variety.json'        \n",
    "with open(variety_json, encoding='utf-8') as variety_file:\n",
    "    variety_setting = json.load(variety_file)\n",
    "\n",
    "df_term = dws.get_data_by_sql(f\"SELECT * FROM dominant\")\n",
    "dominant_list = df_term['variety'].unique()\n",
    "\n",
    "# TODO: 增加贵金属交易所\n",
    "exchange_list = ['czce', 'dce', 'shfe']\n",
    "for exchange_id in exchange_list:\n",
    "     df_term = dws.get_data_by_sql(f\"SELECT * FROM {exchange_id}\")\n",
    "     df_term['date'] = pd.to_datetime(df_term['date'], format='ISO8601')\n",
    "     df_term['交割月'] = df_term['symbol'].str.slice(-2).astype(int)\n",
    "     variety_list = df_term['variety'].unique()\n",
    "     variety_list = set(dominant_list) & set(variety_list)\n",
    "     for variety_id in variety_list:\n",
    "         print(f'{exchange_id}: {variety_id}')\n",
    "         if variety_id not in variety_setting: continue\n",
    "         dominant_months = variety_setting[variety_id]['DominantMonths']       \n",
    "         df_variety = df_term[df_term['variety']==variety_id]\n",
    "         date_list = df_variety['date'].unique()\n",
    "         for trade_date in date_list:\n",
    "            # print(trade_date)\n",
    "            df_date = df_variety[df_variety['date']==trade_date]\n",
    "            max_open_interest_index= df_date['open_interest'].idxmax()\n",
    "            # domain_contract = df_date.loc[max_open_interest_index]['symbol']\n",
    "            df_date = df_date.loc[max_open_interest_index:]                             \n",
    "            df_dominant_contract = df_date[df_date['交割月'].isin(dominant_months)]\n",
    "            if len(df_dominant_contract)<2:\n",
    "                trade_flag = 0\n",
    "            else:\n",
    "                # print(df_dominant_contract)\n",
    "                diff = df_dominant_contract['settle'].head(len(dominant_months)+1).diff().dropna()\n",
    "                diff_trend = df_dominant_contract['settle'].iloc[-1] - df_dominant_contract['settle'].iloc[0]\n",
    "                trade_flag = -1 if all(diff>0) else 1 if all(diff<0) else -0.5 if diff_trend>0 else 0.5 if diff_trend<0 else 0 if diff_trend==0 else 0\n",
    "            new_row = {'variety': variety_id,\n",
    "                    'date': trade_date,\n",
    "                    'flag': trade_flag,\n",
    "                    'exchange': exchange_id}\n",
    "            df_term_structure = pd.concat([df_term_structure, pd.DataFrame([new_row])], ignore_index=True)"
   ]
  },
  {
   "cell_type": "code",
   "execution_count": 4,
   "metadata": {},
   "outputs": [],
   "source": [
    "df_term_structure['flag'] = df_term_structure['flag'].astype(float)\n",
    "dws.save_data(df_term_structure, 'term_structure')"
   ]
  },
  {
   "cell_type": "markdown",
   "metadata": {},
   "source": [
    "### 增量生成"
   ]
  },
  {
   "cell_type": "code",
   "execution_count": 26,
   "metadata": {},
   "outputs": [
    {
     "name": "stdout",
     "output_type": "stream",
     "text": [
      "Current Period:  2024-05-08 2024-05-14\n",
      "czce: PK\n",
      "czce: UR\n",
      "czce: PX\n",
      "czce: SR\n",
      "czce: AP\n",
      "czce: SF\n",
      "czce: TA\n",
      "czce: PF\n",
      "czce: RS\n",
      "czce: CF\n",
      "czce: RM\n",
      "czce: SA\n",
      "czce: SH\n",
      "czce: MA\n",
      "czce: CJ\n",
      "czce: SM\n",
      "czce: OI\n",
      "czce: FG\n",
      "czce: CY\n",
      "dce: LH\n",
      "dce: M\n",
      "dce: A\n",
      "dce: JD\n",
      "dce: PG\n",
      "dce: C\n",
      "dce: BB\n",
      "dce: L\n",
      "dce: EG\n",
      "dce: RR\n",
      "dce: FB\n",
      "dce: Y\n",
      "dce: J\n",
      "dce: B\n",
      "dce: I\n",
      "dce: JM\n",
      "dce: P\n",
      "dce: EB\n",
      "dce: V\n",
      "dce: PP\n",
      "dce: CS\n"
     ]
    },
    {
     "name": "stderr",
     "output_type": "stream",
     "text": [
      "/var/folders/hc/6dqjp7bs58s2pcb47s4xfsf80000gn/T/ipykernel_78311/2669407011.py:58: FutureWarning: The behavior of DataFrame concatenation with empty or all-NA entries is deprecated. In a future version, this will no longer exclude empty or all-NA columns when determining the result dtypes. To retain the old behavior, exclude the relevant entries before the concat operation.\n",
      "  df_term_structure = pd.concat([df_term_structure, pd.DataFrame([new_row])], ignore_index=True)\n"
     ]
    },
    {
     "name": "stdout",
     "output_type": "stream",
     "text": [
      "shfe: FU\n",
      "shfe: CU\n",
      "shfe: WR\n",
      "shfe: SN\n",
      "shfe: AO\n",
      "shfe: AL\n",
      "shfe: PB\n",
      "shfe: SP\n",
      "shfe: RB\n",
      "shfe: ZN\n",
      "shfe: AU\n",
      "shfe: RU\n",
      "shfe: AG\n",
      "shfe: SS\n",
      "shfe: BU\n",
      "shfe: NI\n",
      "shfe: BR\n",
      "shfe: HC\n"
     ]
    }
   ],
   "source": [
    "# 获取最后一次数据生成的日期，转换为datetime对象，并确定下一个开始日期\n",
    "last_date = dws.get_last_date('term_structure')\n",
    "last_date = pd.to_datetime(last_date)\n",
    "start_date = last_date + timedelta(days=1)\n",
    "end_date = datetime.now() - timedelta(days=1)\n",
    "\n",
    "# 格式化日期用于查询或文件名\n",
    "start_date_str = start_date.strftime('%Y-%m-%d')\n",
    "end_date_str = end_date.strftime('%Y-%m-%d')\n",
    "print('Current Period: ', start_date_str, end_date_str)\n",
    "\n",
    "# 准备存储期权结构数据的dataframe\n",
    "df_term_structure = pd.DataFrame(columns=['variety', 'date', 'flag', 'exchange'])\n",
    "\n",
    "# 加载品种设置\n",
    "variety_json = 'setting/variety.json'\n",
    "with open(variety_json, encoding='utf-8') as variety_file:\n",
    "    variety_setting = json.load(variety_file)\n",
    "\n",
    "# 获取主导品种数据\n",
    "df_term = dws.get_data_by_sql(f\"SELECT * FROM dominant WHERE date >= '{start_date_str}' AND date <= '{end_date_str}'\")\n",
    "dominant_list = df_term['variety'].unique()\n",
    "\n",
    "# 在列表中包括额外的交易所\n",
    "exchange_list = ['czce', 'dce', 'shfe']  # 根据需要添加新的交易所\n",
    "\n",
    "# 遍历交易所和品种填充期权结构\n",
    "for exchange_id in exchange_list:\n",
    "    df_term = dws.get_data_by_sql(f\"SELECT * FROM {exchange_id} WHERE date >= '{start_date_str}' AND date <= '{end_date_str}'\")\n",
    "    df_term['date'] = pd.to_datetime(df_term['date'], format='ISO8601')\n",
    "    df_term['交割月'] = df_term['symbol'].str.slice(-2).astype(int)\n",
    "    variety_list = df_term['variety'].unique()\n",
    "    variety_list = set(dominant_list) & set(variety_list)\n",
    "\n",
    "    for variety_id in variety_list:\n",
    "        print(f'{exchange_id}: {variety_id}')\n",
    "        if variety_id not in variety_setting:\n",
    "            continue\n",
    "\n",
    "        dominant_months = variety_setting[variety_id]['DominantMonths']\n",
    "        df_variety = df_term[df_term['variety'] == variety_id]\n",
    "        date_list = df_variety['date'].unique()\n",
    "\n",
    "        for trade_date in date_list:\n",
    "            df_date = df_variety[df_variety['date'] == trade_date]\n",
    "            max_open_interest_index = df_date['open_interest'].idxmax()\n",
    "            df_date = df_date.loc[max_open_interest_index:]\n",
    "            df_dominant_contract = df_date[df_date['交割月'].isin(dominant_months)]\n",
    "\n",
    "            if len(df_dominant_contract) < 2:\n",
    "                trade_flag = 0\n",
    "            else:\n",
    "                diff = df_dominant_contract['settle'].head(len(dominant_months)+1).diff().dropna()\n",
    "                diff_trend = df_dominant_contract['settle'].iloc[-1] - df_dominant_contract['settle'].iloc[0]\n",
    "                trade_flag = -1 if all(diff > 0) else 1 if all(diff < 0) else -0.5 if diff_trend > 0 else 0.5 if diff_trend < 0 else 0 if diff_trend == 0 else 0\n",
    "\n",
    "            new_row = {'variety': variety_id, 'date': trade_date, 'flag': trade_flag, 'exchange': exchange_id}\n",
    "            df_term_structure = pd.concat([df_term_structure, pd.DataFrame([new_row])], ignore_index=True)\n",
    "\n",
    "# 根据需要保存或处理df_term_structure\n"
   ]
  },
  {
   "cell_type": "code",
   "execution_count": 27,
   "metadata": {},
   "outputs": [
    {
     "name": "stdout",
     "output_type": "stream",
     "text": [
      "new save\n"
     ]
    }
   ],
   "source": [
    "df_term_structure['flag'] = df_term_structure['flag'].astype(float)\n",
    "dws.save_data(df_term_structure, 'term_structure', 'append')"
   ]
  },
  {
   "cell_type": "markdown",
   "metadata": {},
   "source": [
    "## 跨期价差（生成）"
   ]
  },
  {
   "cell_type": "markdown",
   "metadata": {},
   "source": [
    "### 全量生成"
   ]
  },
  {
   "cell_type": "code",
   "execution_count": 2,
   "metadata": {},
   "outputs": [
    {
     "name": "stdout",
     "output_type": "stream",
     "text": [
      "czce: RI\n"
     ]
    },
    {
     "name": "stderr",
     "output_type": "stream",
     "text": [
      "C:\\Users\\FUDIAN\\AppData\\Local\\Temp\\ipykernel_31636\\2557106275.py:57: FutureWarning: The behavior of DataFrame concatenation with empty or all-NA entries is deprecated. In a future version, this will no longer exclude empty or all-NA columns when determining the result dtypes. To retain the old behavior, exclude the relevant entries before the concat operation.\n",
      "  df_term_spread = pd.concat([df_term_spread, pd.DataFrame([new_row])], ignore_index=True)\n"
     ]
    },
    {
     "name": "stdout",
     "output_type": "stream",
     "text": [
      "czce: SR\n",
      "czce: PK\n",
      "czce: AP\n",
      "czce: SM\n",
      "czce: RM\n",
      "czce: RS\n",
      "czce: LR\n",
      "czce: UR\n",
      "czce: CF\n",
      "czce: OI\n",
      "czce: FG\n",
      "czce: WH\n",
      "czce: TA\n",
      "czce: PF\n",
      "czce: CJ\n",
      "czce: CY\n",
      "czce: JR\n",
      "czce: SA\n",
      "czce: SF\n",
      "czce: PX\n",
      "czce: SH\n",
      "czce: MA\n",
      "dce: JD\n",
      "dce: I\n",
      "dce: RR\n",
      "dce: EG\n",
      "dce: JM\n",
      "dce: LH\n",
      "dce: EB\n",
      "dce: M\n",
      "dce: Y\n",
      "dce: CS\n",
      "dce: C\n",
      "dce: FB\n",
      "dce: B\n",
      "dce: V\n",
      "dce: PG\n",
      "dce: A\n",
      "dce: L\n",
      "dce: PP\n",
      "dce: J\n",
      "dce: BB\n",
      "dce: P\n",
      "shfe: RB\n",
      "shfe: SP\n",
      "shfe: BU\n",
      "shfe: FU\n",
      "shfe: AG\n",
      "shfe: CU\n",
      "shfe: SS\n",
      "shfe: SN\n",
      "shfe: RU\n",
      "shfe: AO\n",
      "shfe: NI\n",
      "shfe: AL\n",
      "shfe: WR\n",
      "shfe: ZN\n",
      "shfe: PB\n",
      "shfe: BR\n",
      "shfe: HC\n",
      "shfe: AU\n"
     ]
    }
   ],
   "source": [
    "# last_date = dws.get_last_date('term_structure')\n",
    "# last_date = pd.to_datetime(last_date)\n",
    "# start_date = last_date + timedelta(days=1)\n",
    "# end_date = datetime.now() - timedelta(days=1)\n",
    "# start_date = start_date.strftime('%Y%m%d')\n",
    "# end_date = end_date.strftime('%Y%m%d')\n",
    "# print('Current Period: ', start_date, end_date)\n",
    "\n",
    "df_term_spread = pd.DataFrame(columns=['variety', 'date', 'primary_contract', 'primary_contract_close', 'secondary_contract', 'secondary_contract_close', 'spread', 'exchange'])\n",
    "\n",
    "variety_json = 'setting/variety.json'        \n",
    "with open(variety_json, encoding='utf-8') as variety_file:\n",
    "    variety_setting = json.load(variety_file)\n",
    "\n",
    "df_term = dws.get_data_by_sql(f\"SELECT * FROM dominant\")\n",
    "dominant_list = df_term['variety'].unique()\n",
    "\n",
    "# TODO: 增加贵金属交易所\n",
    "exchange_list = ['czce', 'dce', 'shfe']\n",
    "for exchange_id in exchange_list:\n",
    "     df_term = dws.get_data_by_sql(f\"SELECT * FROM {exchange_id}\")\n",
    "     df_term['date'] = pd.to_datetime(df_term['date'], format='ISO8601')\n",
    "     df_term['交割月'] = df_term['symbol'].str.slice(-2).astype(int)\n",
    "     variety_list = df_term['variety'].unique()\n",
    "     variety_list = set(dominant_list) & set(variety_list)\n",
    "     for variety_id in variety_list:\n",
    "         print(f'{exchange_id}: {variety_id}')\n",
    "         if variety_id not in variety_setting: continue\n",
    "         dominant_months = variety_setting[variety_id]['DominantMonths']       \n",
    "         # TODO: 如果主力合约月不大于2，使用非主力合约价差\n",
    "         if len(dominant_months)<2: continue\n",
    "         df_variety = df_term[df_term['variety']==variety_id]\n",
    "         date_list = df_variety['date'].unique()\n",
    "         for trade_date in date_list:\n",
    "            # print(trade_date)\n",
    "            df_date = df_variety[df_variety['date']==trade_date]\n",
    "            max_open_interest_index= df_date['open_interest'].idxmax()\n",
    "            # domain_contract = df_date.loc[max_open_interest_index]['symbol']\n",
    "            df_date = df_date.loc[max_open_interest_index:]                             \n",
    "            df_dominant_contract = df_date[df_date['交割月'].isin(dominant_months)]\n",
    "            if len(df_dominant_contract)<2:           \n",
    "                continue\n",
    "            else:\n",
    "                primary_contract = df_dominant_contract['symbol'].iloc[0]\n",
    "                primary_contract_close = df_dominant_contract['close'].iloc[0]\n",
    "                secondary_contract = df_dominant_contract['symbol'].iloc[1]\n",
    "                secondary_contract_close = df_dominant_contract['close'].iloc[1]              \n",
    "                spread = primary_contract_close - secondary_contract_close\n",
    "            new_row = {'variety': variety_id,\n",
    "                    'date': trade_date,\n",
    "                    'primary_contract': primary_contract,\n",
    "                    'primary_contract_close': primary_contract_close,                    \n",
    "                    'secondary_contract': secondary_contract,\n",
    "                    'secondary_contract_close': secondary_contract_close,\n",
    "                    'spread': spread,\n",
    "                    'exchange': exchange_id}\n",
    "            df_term_spread = pd.concat([df_term_spread, pd.DataFrame([new_row])], ignore_index=True)"
   ]
  },
  {
   "cell_type": "code",
   "execution_count": 3,
   "metadata": {},
   "outputs": [],
   "source": [
    "dws.save_data(df_term_spread, 'spread', 'replace')"
   ]
  },
  {
   "cell_type": "markdown",
   "metadata": {},
   "source": [
    "### 增量生成"
   ]
  },
  {
   "cell_type": "code",
   "execution_count": 28,
   "metadata": {},
   "outputs": [
    {
     "name": "stdout",
     "output_type": "stream",
     "text": [
      "Current Period:  2024-05-08 2024-05-14\n",
      "czce: PK\n",
      "czce: UR\n",
      "czce: PX\n",
      "czce: SR\n",
      "czce: AP\n",
      "czce: SF\n",
      "czce: TA\n",
      "czce: PF\n",
      "czce: RS\n",
      "czce: CF\n",
      "czce: RM\n",
      "czce: SA\n",
      "czce: SH\n",
      "czce: MA\n",
      "czce: CJ\n",
      "czce: SM\n",
      "czce: OI\n",
      "czce: FG\n",
      "czce: CY\n",
      "dce: LH\n",
      "dce: M\n",
      "dce: A\n",
      "dce: JD\n",
      "dce: PG\n",
      "dce: C\n",
      "dce: BB\n",
      "dce: L\n",
      "dce: EG\n",
      "dce: RR\n",
      "dce: FB\n",
      "dce: Y\n",
      "dce: J\n",
      "dce: B\n",
      "dce: I\n",
      "dce: JM\n",
      "dce: P\n",
      "dce: EB\n",
      "dce: V\n",
      "dce: PP\n",
      "dce: CS\n",
      "shfe: FU\n",
      "shfe: CU\n",
      "shfe: WR\n",
      "shfe: SN\n",
      "shfe: AO\n",
      "shfe: AL\n",
      "shfe: PB\n",
      "shfe: SP\n",
      "shfe: RB\n",
      "shfe: ZN\n",
      "shfe: AU\n",
      "shfe: RU\n",
      "shfe: AG\n",
      "shfe: SS\n",
      "shfe: BU\n",
      "shfe: NI\n",
      "shfe: BR\n",
      "shfe: HC\n"
     ]
    },
    {
     "name": "stderr",
     "output_type": "stream",
     "text": [
      "/var/folders/hc/6dqjp7bs58s2pcb47s4xfsf80000gn/T/ipykernel_78311/2651163686.py:60: FutureWarning: The behavior of DataFrame concatenation with empty or all-NA entries is deprecated. In a future version, this will no longer exclude empty or all-NA columns when determining the result dtypes. To retain the old behavior, exclude the relevant entries before the concat operation.\n",
      "  df_term_spread = pd.concat([df_term_spread, pd.DataFrame([new_row])], ignore_index=True)\n"
     ]
    }
   ],
   "source": [
    "# 获取最后一次数据生成的日期，转换为datetime对象，并确定下一个开始日期\n",
    "last_date = dws.get_last_date('spread')\n",
    "last_date = pd.to_datetime(last_date)\n",
    "start_date = last_date + timedelta(days=1)\n",
    "end_date = datetime.now() - timedelta(days=1)\n",
    "\n",
    "# 格式化日期用于查询或文件名\n",
    "start_date_str = start_date.strftime('%Y-%m-%d')\n",
    "end_date_str = end_date.strftime('%Y-%m-%d')\n",
    "print('Current Period: ', start_date_str, end_date_str)\n",
    "\n",
    "df_term_spread = pd.DataFrame(columns=['variety', 'date', 'primary_contract', 'primary_contract_close', 'secondary_contract', 'secondary_contract_close', 'spread', 'exchange'])\n",
    "\n",
    "variety_json = 'setting/variety.json'        \n",
    "with open(variety_json, encoding='utf-8') as variety_file:\n",
    "    variety_setting = json.load(variety_file)\n",
    "\n",
    "df_term = dws.get_data_by_sql(f\"SELECT * FROM dominant WHERE date >= '{start_date_str}' AND date <= '{end_date_str}'\")\n",
    "dominant_list = df_term['variety'].unique()\n",
    "\n",
    "# TODO: 增加贵金属交易所\n",
    "exchange_list = ['czce', 'dce', 'shfe']\n",
    "for exchange_id in exchange_list:\n",
    "     df_term = dws.get_data_by_sql(f\"SELECT * FROM {exchange_id} WHERE date >= '{start_date_str}' AND date <= '{end_date_str}'\")\n",
    "     df_term['date'] = pd.to_datetime(df_term['date'])\n",
    "     df_term['交割月'] = df_term['symbol'].str.slice(-2).astype(int)\n",
    "     variety_list = df_term['variety'].unique()\n",
    "     variety_list = set(dominant_list) & set(variety_list)\n",
    "     for variety_id in variety_list:\n",
    "         print(f'{exchange_id}: {variety_id}')\n",
    "         if variety_id not in variety_setting: continue\n",
    "         dominant_months = variety_setting[variety_id]['DominantMonths']       \n",
    "         # TODO: 如果主力合约月不大于2，使用非主力合约价差\n",
    "         if len(dominant_months)<2: continue\n",
    "         df_variety = df_term[df_term['variety']==variety_id]\n",
    "         date_list = df_variety['date'].unique()\n",
    "         for trade_date in date_list:\n",
    "            # print(trade_date)\n",
    "            df_date = df_variety[df_variety['date']==trade_date]\n",
    "            max_open_interest_index= df_date['open_interest'].idxmax()\n",
    "            # domain_contract = df_date.loc[max_open_interest_index]['symbol']\n",
    "            df_date = df_date.loc[max_open_interest_index:]                             \n",
    "            df_dominant_contract = df_date[df_date['交割月'].isin(dominant_months)]\n",
    "            if len(df_dominant_contract)<2:           \n",
    "                continue\n",
    "            else:\n",
    "                primary_contract = df_dominant_contract['symbol'].iloc[0]\n",
    "                primary_contract_close = df_dominant_contract['close'].iloc[0]\n",
    "                secondary_contract = df_dominant_contract['symbol'].iloc[1]\n",
    "                secondary_contract_close = df_dominant_contract['close'].iloc[1]              \n",
    "                spread = primary_contract_close - secondary_contract_close\n",
    "            new_row = {'variety': variety_id,\n",
    "                    'date': trade_date,\n",
    "                    'primary_contract': primary_contract,\n",
    "                    'primary_contract_close': primary_contract_close,                    \n",
    "                    'secondary_contract': secondary_contract,\n",
    "                    'secondary_contract_close': secondary_contract_close,\n",
    "                    'spread': spread,\n",
    "                    'exchange': exchange_id}\n",
    "            df_term_spread = pd.concat([df_term_spread, pd.DataFrame([new_row])], ignore_index=True)"
   ]
  },
  {
   "cell_type": "code",
   "execution_count": 29,
   "metadata": {},
   "outputs": [
    {
     "name": "stdout",
     "output_type": "stream",
     "text": [
      "new save\n"
     ]
    }
   ],
   "source": [
    "dws.save_data(df_term_spread, 'spread', 'append')"
   ]
  },
  {
   "cell_type": "code",
   "execution_count": 30,
   "metadata": {},
   "outputs": [],
   "source": [
    "dws.close()"
   ]
  },
  {
   "cell_type": "markdown",
   "metadata": {},
   "source": [
    "## 通用设置"
   ]
  },
  {
   "cell_type": "code",
   "execution_count": null,
   "metadata": {},
   "outputs": [],
   "source": [
    "# 公共数据索引\n",
    "data_index = {\n",
    "            #   '主力合约': {'Name': \"dominant_contract\", 'Source':'SQLite', 'Path': 'basis', 'Field':'dominant_contract', 'DataFrame': \"df_basis\"},\n",
    "            #   '近月合约': {'Name': \"near_contract\", 'Source':'SQLite', 'Path': 'basis', 'Field':'near_contract', 'DataFrame': \"df_basis\"},\n",
    "              '主力合约收盘价': {'Name': \"dominant_close_price\", 'Source':'SQLite', 'Path': 'dominant', 'Field':'收盘价', 'DataFrame': \"df_dominant\"},\n",
    "              '主力合约结算价': {'Name': \"dominant_settle_price\", 'Source':'SQLite', 'Path': 'dominant', 'Field':'动态结算价', 'DataFrame': \"df_dominant\"},\n",
    "              '主力合约持仓量': {'Name': \"dominant_open_interest\", 'Source':'SQLite', 'Path': 'dominant', 'Field':'持仓量', 'DataFrame': \"df_dominant\"},\n",
    "              '近月合约收盘价': {'Name': \"near_close_price\", 'Source':'SQLite', 'Path': 'near', 'Field':'close', 'DataFrame': \"df_near\"},\n",
    "              '近月合约结算价': {'Name': \"near_settle_price\", 'Source':'SQLite', 'Path': 'near', 'Field':'settle', 'DataFrame': \"df_near\"},\n",
    "              '近月合约持仓量': {'Name': \"near_open_interest\", 'Source':'SQLite', 'Path': 'near', 'Field':'open_interest', 'DataFrame': \"df_near\"},\n",
    "              '现货价格': {'Name': \"spot_price\", 'Source':'SQLite', 'Path': 'basis', 'Field':'spot_price', 'DataFrame': \"df_basis\"},\n",
    "              # '基差': {'Name': \"basis\", 'Source':'SQLite', 'Path':'‘basis', 'Field':'dom_basis', 'DataFrame': \"df_basis\"},\n",
    "              # '基差率': {'Name': \"basis_rate\", 'Source':'SQLite', 'Path': 'basis', 'Field':'dom_basis_rate', 'DataFrame': \"df_basis\"},          \n",
    "             }\n",
    "common_setting = {'DataIndex': data_index,\n",
    "                  }"
   ]
  },
  {
   "cell_type": "code",
   "execution_count": null,
   "metadata": {},
   "outputs": [],
   "source": [
    "# dws.save_json_setting('setting/common.json', common_setting)"
   ]
  },
  {
   "cell_type": "markdown",
   "metadata": {},
   "source": [
    "## 将xlsx文件转换为csv文件"
   ]
  },
  {
   "cell_type": "code",
   "execution_count": 24,
   "metadata": {},
   "outputs": [
    {
     "name": "stdout",
     "output_type": "stream",
     "text": [
      "Converted ./black_metals/data/不锈钢经济数据.xlsx to ./black_metals/data/不锈钢经济数据.csv\n",
      "Converted ./black_metals/data/热卷经济数据.xlsx to ./black_metals/data/热卷经济数据.csv\n",
      "Converted ./black_metals/data/螺纹钢经济数据.xlsx to ./black_metals/data/螺纹钢经济数据.csv\n",
      "Converted ./black_metals/data/铁矿石经济数据.xlsx to ./black_metals/data/铁矿石经济数据.csv\n",
      "Converted ./black_metals/data/焦炭经济数据.xlsx to ./black_metals/data/焦炭经济数据.csv\n",
      "Converted ./precious_metals/data/白银经济数据.xlsx to ./precious_metals/data/白银经济数据.csv\n",
      "Converted ./precious_metals/data/黄金经济数据.xlsx to ./precious_metals/data/黄金经济数据.csv\n"
     ]
    }
   ],
   "source": [
    "import os\n",
    "import pandas as pd\n",
    "\n",
    "def convert_xlsx_to_csv(directory):\n",
    "    # 遍历指定目录及其子目录下的所有文件\n",
    "    for root, dirs, files in os.walk(directory):\n",
    "        for filename in files:\n",
    "            if filename.endswith('.xlsx'):\n",
    "                # 构建完整的文件路径\n",
    "                xlsx_path = os.path.join(root, filename)\n",
    "                # 构建对应的 csv 文件路径\n",
    "                csv_filename = filename.replace('.xlsx', '.csv')\n",
    "                csv_path = os.path.join(root, csv_filename)\n",
    "                \n",
    "                # 读取 xlsx 文件\n",
    "                df = pd.read_excel(xlsx_path, engine='openpyxl')\n",
    "                # 保存为 csv 文件\n",
    "                df.to_csv(csv_path, index=False)\n",
    "                print(f\"Converted {xlsx_path} to {csv_path}\")\n",
    "\n",
    "# 指定目录路径\n",
    "path = '.'\n",
    "convert_xlsx_to_csv(path)"
   ]
  },
  {
   "cell_type": "markdown",
   "metadata": {},
   "source": [
    "## 全品种信息"
   ]
  },
  {
   "cell_type": "code",
   "execution_count": 99,
   "metadata": {},
   "outputs": [],
   "source": [
    "symbol_list = ak.futures_index_symbol_table_nh()\n",
    "symbol_list = symbol_list[symbol_list['exchange'].isin(['郑州商品交易所', '大连商品交易所', '上海期货交易所'])]\n",
    "symbol_list = symbol_list.drop('indexcategory', axis=1)\n",
    "exchange_replace_dict = {'郑州商品交易所': 'czce',\n",
    "                         '大连商品交易所': 'dce',\n",
    "                         '上海期货交易所': 'shfe'}\n",
    "symbol_list['exchange'] = symbol_list['exchange'].apply(lambda x: exchange_replace_dict.get(x, x))"
   ]
  },
  {
   "cell_type": "code",
   "execution_count": 100,
   "metadata": {},
   "outputs": [],
   "source": [
    "dws.save_data(symbol_list, 'symbols')"
   ]
  },
  {
   "cell_type": "markdown",
   "metadata": {},
   "source": [
    "## 合约基础信息"
   ]
  },
  {
   "cell_type": "code",
   "execution_count": null,
   "metadata": {},
   "outputs": [],
   "source": [
    "futures_comm_info_df = ak.futures_comm_info(symbol=\"所有\")\n",
    "dws.save_data(futures_comm_info_df, 'common')"
   ]
  },
  {
   "cell_type": "markdown",
   "metadata": {},
   "source": [
    "## 商品ID-名称字典"
   ]
  },
  {
   "cell_type": "code",
   "execution_count": null,
   "metadata": {},
   "outputs": [],
   "source": [
    "id_name_map, name_id_map = dws.get_variety_map()\n",
    "variety_data = dws.get_variety_setting()\n",
    "for product_id, product_info in variety_data.items():\n",
    "    product_name = id_name_map.get(product_id, 'Unknown')\n",
    "    product_info['Name'] = product_name\n",
    "dws.save_json_setting('setting/variety.json', variety_data)"
   ]
  }
 ],
 "metadata": {
  "kernelspec": {
   "display_name": "Python 3",
   "language": "python",
   "name": "python3"
  },
  "language_info": {
   "codemirror_mode": {
    "name": "ipython",
    "version": 3
   },
   "file_extension": ".py",
   "mimetype": "text/x-python",
   "name": "python",
   "nbconvert_exporter": "python",
   "pygments_lexer": "ipython3",
   "version": "3.10.13"
  }
 },
 "nbformat": 4,
 "nbformat_minor": 2
}
