{
 "cells": [
  {
   "cell_type": "markdown",
   "metadata": {},
   "source": [
    "## Profiling分析"
   ]
  },
  {
   "cell_type": "code",
   "execution_count": null,
   "metadata": {},
   "outputs": [],
   "source": [
    "import dataworks as dw\n",
    "import ydata_profiling\n",
    "dws = dw.DataWorks()\n",
    "db_tables = ['basis', 'common', 'czce', 'dce', 'shfe', 'dominant', 'inventory', 'receipt', 'near', 'symbols']\n",
    "for table in db_tables:\n",
    "    data = dws.get_data_by_sql(f'SELECT * FROM {table}')\n",
    "    profile = ydata_profiling.ProfileReport(data, title=f'{table} Dataset Profile', explorative=True)\n",
    "    profile.to_file(output_file=f\"reports/{table}_report.html\")"
   ]
  }
 ],
 "metadata": {
  "kernelspec": {
   "display_name": "Python 3",
   "language": "python",
   "name": "python3"
  },
  "language_info": {
   "name": "python",
   "version": "3.10.13"
  }
 },
 "nbformat": 4,
 "nbformat_minor": 2
}
